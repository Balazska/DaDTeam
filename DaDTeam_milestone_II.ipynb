{
 "cells": [
  {
   "cell_type": "markdown",
   "metadata": {},
   "source": [
    "# Milestone II.\n",
    "\n",
    "Basic training and evaluation process"
   ]
  },
  {
   "cell_type": "code",
   "execution_count": 1,
   "metadata": {},
   "outputs": [
    {
     "name": "stdout",
     "output_type": "stream",
     "text": [
      "Sat Nov 21 19:46:38 2020       \r\n",
      "+-----------------------------------------------------------------------------+\r\n",
      "| NVIDIA-SMI 450.51.06    Driver Version: 450.51.06    CUDA Version: 11.0     |\r\n",
      "|-------------------------------+----------------------+----------------------+\r\n",
      "| GPU  Name        Persistence-M| Bus-Id        Disp.A | Volatile Uncorr. ECC |\r\n",
      "| Fan  Temp  Perf  Pwr:Usage/Cap|         Memory-Usage | GPU-Util  Compute M. |\r\n",
      "|                               |                      |               MIG M. |\r\n",
      "|===============================+======================+======================|\r\n",
      "|   0  Tesla V100-PCIE...  On   | 00000000:3B:00.0 Off |                    0 |\r\n",
      "| N/A   30C    P0    36W / 250W |   1211MiB / 16160MiB |      8%      Default |\r\n",
      "|                               |                      |                  N/A |\r\n",
      "+-------------------------------+----------------------+----------------------+\r\n",
      "                                                                               \r\n",
      "+-----------------------------------------------------------------------------+\r\n",
      "| Processes:                                                                  |\r\n",
      "|  GPU   GI   CI        PID   Type   Process name                  GPU Memory |\r\n",
      "|        ID   ID                                                   Usage      |\r\n",
      "|=============================================================================|\r\n",
      "+-----------------------------------------------------------------------------+\r\n"
     ]
    }
   ],
   "source": [
    "!nvidia-smi"
   ]
  },
  {
   "cell_type": "code",
   "execution_count": 5,
   "metadata": {},
   "outputs": [],
   "source": [
    "import matplotlib.pyplot as plt\n",
    "import tensorflow as tf\n",
    "import seaborn as sns\n",
    "import numpy as np\n",
    "import json\n",
    "import pprint"
   ]
  },
  {
   "cell_type": "code",
   "execution_count": 6,
   "metadata": {},
   "outputs": [
    {
     "data": {
      "text/plain": [
       "True"
      ]
     },
     "execution_count": 6,
     "metadata": {},
     "output_type": "execute_result"
    }
   ],
   "source": [
    "tf.test.is_gpu_available()"
   ]
  },
  {
   "cell_type": "code",
   "execution_count": 7,
   "metadata": {},
   "outputs": [
    {
     "data": {
      "text/plain": [
       "[PhysicalDevice(name='/physical_device:GPU:0', device_type='GPU')]"
      ]
     },
     "execution_count": 7,
     "metadata": {},
     "output_type": "execute_result"
    }
   ],
   "source": [
    "tf.config.list_physical_devices('GPU')"
   ]
  },
  {
   "cell_type": "markdown",
   "metadata": {},
   "source": [
    "## Data preprocessing"
   ]
  },
  {
   "cell_type": "code",
   "execution_count": 8,
   "metadata": {},
   "outputs": [],
   "source": [
    "# load train dataset\n",
    "train = []\n",
    "with open(\"data/train.dataflow_dialogues.jsonl\") as trainfile:\n",
    "    content = trainfile.read()\n",
    "    train = [json.loads(line) for line in content.splitlines()]\n",
    "\n",
    "# load validation data\n",
    "valid = []\n",
    "with open(\"data/valid.dataflow_dialogues.jsonl\") as validfile:\n",
    "    content = validfile.read()\n",
    "    valid = [json.loads(line) for line in content.splitlines()]"
   ]
  },
  {
   "cell_type": "code",
   "execution_count": 9,
   "metadata": {},
   "outputs": [],
   "source": [
    "# add begin of sentence and end of sentence tokens for the seq2seq model\n",
    "for dialog in train:\n",
    "    for turn in dialog[\"turns\"]:\n",
    "        turn.update({\"lispress_cleaned\":\"<bos> \"+turn[\"lispress\"]+\" <eos>\"})\n",
    "\n",
    "for dialog in valid:\n",
    "    for turn in dialog[\"turns\"]:\n",
    "        turn.update({\"lispress_cleaned\":\"<bos> \"+turn[\"lispress\"]+\" <eos>\"})"
   ]
  },
  {
   "cell_type": "markdown",
   "metadata": {},
   "source": [
    "### Tokenization"
   ]
  },
  {
   "cell_type": "code",
   "execution_count": 10,
   "metadata": {},
   "outputs": [],
   "source": [
    "from tensorflow.keras.preprocessing.text import Tokenizer\n",
    "from lispress_tokenizer import tokenized_lispress"
   ]
  },
  {
   "cell_type": "code",
   "execution_count": 11,
   "metadata": {},
   "outputs": [],
   "source": [
    "# BOS and EOS indicate the beginning and ending of sentences\n",
    "def tokenizeLispressWithEndings(dataset):\n",
    "    '''\n",
    "    Tokenizes lispress of each turn in the given dataset.\n",
    "    The <bos> and <eos> tokens are appended to the token list.\n",
    "\n",
    "    Returns nothing since it modifies the dataset\n",
    "    '''\n",
    "    for dialog in dataset:\n",
    "        for turn in dialog[\"turns\"]:\n",
    "            turn['lispress_tokenized'] = ['<bos>'] + tokenized_lispress(turn['lispress']) + ['<eos>']"
   ]
  },
  {
   "cell_type": "code",
   "execution_count": 12,
   "metadata": {},
   "outputs": [
    {
     "data": {
      "text/plain": [
       "1"
      ]
     },
     "execution_count": 12,
     "metadata": {},
     "output_type": "execute_result"
    }
   ],
   "source": [
    "# create a tokenizer and fit on the sentences of the train data dialogues\n",
    "tokenizer_user = Tokenizer()\n",
    "dialogue_sent = [turn['user_utterance']['original_text'] for dialog in train for turn in dialog['turns'] ]\n",
    "tokenizer_user.fit_on_texts(dialogue_sent)\n",
    "# index of \"the\"\n",
    "tokenizer_user.word_index[\"the\"]"
   ]
  },
  {
   "cell_type": "code",
   "execution_count": 13,
   "metadata": {},
   "outputs": [],
   "source": [
    "# create a tokenizer and fit on the sentences of the train data dialogues\n",
    "lispress_tokenizer = Tokenizer()\n",
    "\n",
    "# Tokenize lispress in train and valid according to a predefined logic\n",
    "tokenizeLispressWithEndings(train)\n",
    "tokenizeLispressWithEndings(valid)\n",
    "\n",
    "# Tokenizer.fit_on_texts method can take list of list of strings as argument assuming the strings are tokens\n",
    "dialogue_sent_lispress = [turn['lispress_tokenized'] for dialog in train for turn in dialog['turns']]\n",
    "lispress_tokenizer.fit_on_texts(dialogue_sent_lispress)"
   ]
  },
  {
   "cell_type": "code",
   "execution_count": 14,
   "metadata": {},
   "outputs": [
    {
     "name": "stdout",
     "output_type": "stream",
     "text": [
      "['<bos>', '(', 'Yield', ':output', '(', ':dayOfWeek', '(', 'Tomorrow', ')', ')', ')', '<eos>']\n",
      "1243286\n",
      "2\n"
     ]
    }
   ],
   "source": [
    "# Example tokenized lispres\n",
    "print(dialogue_sent_lispress[1])\n",
    "print(lispress_tokenizer.word_counts['('])\n",
    "print(lispress_tokenizer.word_index[')'])\n"
   ]
  },
  {
   "cell_type": "code",
   "execution_count": 15,
   "metadata": {},
   "outputs": [],
   "source": [
    "def tokenizeDialogues(dataset,tokenizer):\n",
    "    \"\"\"\n",
    "    Add a tokens2 attribute to the user_utterance in each turn with the token indexes\n",
    "    Add a tokens2_readable attribute to the user_utterance with the readable tokens\n",
    "    \"\"\"\n",
    "    for dialog in dataset:\n",
    "        for turn in dialog['turns']:\n",
    "            seq = tokenizer.texts_to_sequences([turn[\"user_utterance\"][\"original_text\"]])[0]\n",
    "            turn[\"user_utterance\"].update({\"tokens2\":seq,\"tokens2_readable\":[tokenizer.index_word[index] for index in seq]})\n",
    "    tokenizedSet = [[ turn['user_utterance']['tokens2'] for turn in dialog['turns'] ]for dialog in dataset]\n",
    "    return tokenizedSet,dataset\n",
    "\n",
    "def tokenizeLispress(dataset,tokenizer):\n",
    "    \"\"\"\n",
    "    Add a tokens2 attribute to the user_utterance in each turn with the token indexes\n",
    "    Add a tokens2_readable attribute to the user_utterance with the readable tokens\n",
    "    \"\"\"\n",
    "    for dialog in dataset:\n",
    "        for turn in dialog['turns']:\n",
    "            seq = tokenizer.texts_to_sequences([turn[\"lispress_tokenized\"]])[0]\n",
    "            turn.update({\"lispress_tokens\":seq,\"lispress_tokens_readable\":[tokenizer.index_word[index] for index in seq]})\n",
    "    tokenizedSet = [[ turn['lispress_tokens'] for turn in dialog['turns'] ]for dialog in dataset]\n",
    "    return tokenizedSet,dataset"
   ]
  },
  {
   "cell_type": "code",
   "execution_count": 16,
   "metadata": {},
   "outputs": [],
   "source": [
    "train_tokenized,train = tokenizeDialogues(train,tokenizer=tokenizer_user)\n",
    "valid_tokenized,valid = tokenizeDialogues(valid,tokenizer=tokenizer_user)"
   ]
  },
  {
   "cell_type": "code",
   "execution_count": 17,
   "metadata": {},
   "outputs": [],
   "source": [
    "train_tokenized_lispress,train_lispress = tokenizeLispress(train,tokenizer=lispress_tokenizer)\n",
    "valid_tokenized_lispress,valid_lispress = tokenizeLispress(valid,tokenizer=lispress_tokenizer)"
   ]
  },
  {
   "cell_type": "code",
   "execution_count": 18,
   "metadata": {},
   "outputs": [
    {
     "name": "stdout",
     "output_type": "stream",
     "text": [
      "message: what date is tomorrow?\n",
      "tokens: [18, 101, 12, 22]\n",
      "readable tokens: ['what', 'date', 'is', 'tomorrow']\n",
      "lispress tokens: [5, 1, 7, 8, 1, 29, 12, 1, 30, 10, 1, 9, 34, 1, 62, 1, 40, 33, 1, 14, 11, 1, 17, 1, 21, 1, 27, 10, 1, 25, 2, 26, 4, 1, 28, 3, 550, 3, 2, 2, 2, 2, 2, 2, 1, 40, 33, 1, 14, 11, 1, 17, 1, 21, 1, 27, 10, 1, 25, 2, 26, 4, 1, 28, 3, 191, 3, 2, 2, 2, 2, 2, 2, 2, 78, 1, 13, 1, 89, 4, 1, 15, 58, 2, 2, 2, 74, 1, 13, 4, 1, 59, 3, 211, 423, 1095, 3, 2, 2, 18, 1, 13, 1, 45, 16, 1, 44, 41, 4, 1, 38, 3, 122, 3, 2, 2, 22, 1, 42, 32, 4, 1, 15, 99, 2, 2, 2, 2, 19, 1, 13, 4, 1, 20, 3, 500, 3, 2, 2, 2, 2, 2, 2, 6]\n",
      "lispress tokens readable: ['<bos>', '(', 'yield', ':output', '(', 'createcommiteventwrapper', ':event', '(', 'createpreflighteventwrapper', ':constraint', '(', 'constraint[event]', ':attendees', '(', 'andconstraint', '(', 'andconstraint', '(', 'attendeelisthasrecipient', ':recipient', '(', 'execute', ':intension', '(', 'refer', '(', 'extensionconstraint', '(', 'recipientwithnamelike', ':constraint', '(', 'constraint[recipient]', ')', ':name', '#', '(', 'personname', '\"', 'dennis', '\"', ')', ')', ')', ')', ')', ')', '(', 'attendeelisthasrecipient', ':recipient', '(', 'execute', ':intension', '(', 'refer', '(', 'extensionconstraint', '(', 'recipientwithnamelike', ':constraint', '(', 'constraint[recipient]', ')', ':name', '#', '(', 'personname', '\"', 'gabriel', '\"', ')', ')', ')', ')', ')', ')', ')', '(', 'attendeelisthasrecipient', ':recipient', '(', 'execute', ':intension', '(', 'refer', '(', 'extensionconstraint', '(', 'recipientwithnamelike', ':constraint', '(', 'constraint[recipient]', ')', ':name', '#', '(', 'personname', '\"', 'max', '\"', ')', ')', ')', ')', ')', ')', ')', ':location', '(', '?=', '#', '(', 'locationkeyphrase', '\"', \"chili's\", 'on', '15th', 'street', '\"', ')', ')', ':start', '(', '?=', '(', 'nexttime', ':time', '(', 'hourminutepm', ':hours', '#', '(', 'number', '12', ')', ':minutes', '#', '(', 'number', '15', ')', ')', ')', ')', ':subject', '(', '?=', '#', '(', 'string', '\"', 'lunch', 'meeting', '\"', ')', ')', ')', ')', ')', ')', '<eos>']\n"
     ]
    }
   ],
   "source": [
    "# example: tokens generated from a message\n",
    "print(\"message:\",train[0][\"turns\"][0][\"user_utterance\"][\"original_text\"])\n",
    "print(\"tokens:\",train[0][\"turns\"][0][\"user_utterance\"][\"tokens2\"])\n",
    "print(\"readable tokens:\",train[0][\"turns\"][0][\"user_utterance\"][\"tokens2_readable\"])\n",
    "print(\"lispress tokens:\",valid[0][\"turns\"][0][\"lispress_tokens\"])\n",
    "print(\"lispress tokens readable:\",valid[0][\"turns\"][2][\"lispress_tokens_readable\"])\n"
   ]
  },
  {
   "cell_type": "code",
   "execution_count": 19,
   "metadata": {},
   "outputs": [],
   "source": [
    "def flatten_nested_list(list0):\n",
    "    \"\"\"\n",
    "    Flatten the nested list's elements\n",
    "    Example:\n",
    "    [[1,2],[3]] => [1,2,3]\n",
    "    \"\"\"\n",
    "    return [element for nested in list0 for element in nested ]"
   ]
  },
  {
   "cell_type": "markdown",
   "metadata": {},
   "source": [
    "### Create train,validation,test data"
   ]
  },
  {
   "cell_type": "code",
   "execution_count": 20,
   "metadata": {},
   "outputs": [],
   "source": [
    "MAX_TRAIN_DATA=-1 #how many train data will be used from the training set\n",
    "MAX_VALID_DATA=-100 # the last 99 elements of the validation data will be used as test data\n",
    "MAX_TEST_DATA=99 "
   ]
  },
  {
   "cell_type": "code",
   "execution_count": 21,
   "metadata": {},
   "outputs": [],
   "source": [
    "from copy import deepcopy\n",
    "def create_decoder_input(data):\n",
    "    \"\"\"\n",
    "    from each dealogue -> remove the last element, and add a 0 to the beginning\n",
    "    \"\"\"\n",
    "    data_tmp = deepcopy(data)\n",
    "    for seqs in data_tmp:\n",
    "        del seqs[-1]\n",
    "        seqs.insert(0,[0])\n",
    "    return data_tmp"
   ]
  },
  {
   "cell_type": "code",
   "execution_count": 22,
   "metadata": {},
   "outputs": [],
   "source": [
    "# the user messages\n",
    "train_data = flatten_nested_list(train_tokenized)[:MAX_TRAIN_DATA]\n",
    "valid_data = flatten_nested_list(valid_tokenized)[:MAX_VALID_DATA]\n",
    "test_data = flatten_nested_list(valid_tokenized)[MAX_VALID_DATA:MAX_VALID_DATA+MAX_TEST_DATA]\n",
    "\n",
    "#the program stored in the last dialogue turn -> currently they are not taken into account\n",
    "train_data_di = flatten_nested_list(create_decoder_input(train_tokenized_lispress))[:MAX_TRAIN_DATA]\n",
    "valid_data_di = flatten_nested_list(create_decoder_input(valid_tokenized_lispress))[:MAX_VALID_DATA]\n",
    "test_data_di = flatten_nested_list(create_decoder_input(valid_tokenized_lispress))[MAX_VALID_DATA:MAX_VALID_DATA+MAX_TEST_DATA]\n",
    "\n",
    "#the current program\n",
    "train_data_y = flatten_nested_list(train_tokenized_lispress)[:MAX_TRAIN_DATA]\n",
    "valid_data_y = flatten_nested_list(valid_tokenized_lispress)[:MAX_VALID_DATA]\n",
    "test_data_y = flatten_nested_list(valid_tokenized_lispress)[MAX_VALID_DATA:MAX_VALID_DATA+MAX_TEST_DATA]\n"
   ]
  },
  {
   "cell_type": "code",
   "execution_count": 23,
   "metadata": {},
   "outputs": [],
   "source": [
    "# the length of the decoder input and output\n",
    "MAX_LEN_DEC=50\n",
    "\n",
    "# generate encoder input, decoder input and decoder target sequences\n",
    "def generate_dataset(encoder_input,previous_program,current_program):\n",
    "    data,data_di,data_y = [],[],[]\n",
    "    for i,sent in enumerate(current_program):\n",
    "        #print(sent)\n",
    "        for j in range(len(sent)-1):\n",
    "            data.append(encoder_input[i])\n",
    "            data_di.append(current_program[i][:j+1])\n",
    "            data_y.append(current_program[i][1:j+2])\n",
    "    return data,data_di,data_y"
   ]
  },
  {
   "cell_type": "code",
   "execution_count": 24,
   "metadata": {},
   "outputs": [],
   "source": [
    "train_data_new,train_data_new_di,train_data_new_y = None,None,None\n",
    "valid_data_new,valid_data_new_di,valid_data_new_y = None,None,None\n",
    "test_data_new,test_data_new_di,test_data_new_y = None,None,None"
   ]
  },
  {
   "cell_type": "code",
   "execution_count": 25,
   "metadata": {},
   "outputs": [],
   "source": [
    "train_data_new,train_data_new_di,train_data_new_y = generate_dataset(train_data,train_data_di,train_data_y)\n",
    "valid_data_new,valid_data_new_di,valid_data_new_y = generate_dataset(valid_data,valid_data_di,valid_data_y)\n",
    "test_data_new,test_data_new_di,test_data_new_y = generate_dataset(test_data,test_data_di,test_data_y)"
   ]
  },
  {
   "cell_type": "markdown",
   "metadata": {},
   "source": [
    "### Padding encoder and decoder inputs, and decoder output"
   ]
  },
  {
   "cell_type": "code",
   "execution_count": 27,
   "metadata": {},
   "outputs": [],
   "source": [
    "from tensorflow.keras.preprocessing.sequence import pad_sequences"
   ]
  },
  {
   "cell_type": "code",
   "execution_count": 28,
   "metadata": {},
   "outputs": [],
   "source": [
    "MAX_LEN=50 # length of the encoder input\n",
    "\n",
    "# pedding the encoder inputs \n",
    "\n",
    "encoder_train = pad_sequences(train_data_new,maxlen=MAX_LEN,dtype=\"int32\",padding='post', truncating='post')\n",
    "decoder_train = pad_sequences(train_data_new_y,maxlen=MAX_LEN_DEC,dtype=\"int32\",padding='pre', truncating='pre')\n",
    "decoder_train_input = pad_sequences(train_data_new_di,maxlen=MAX_LEN_DEC,dtype=\"int32\",padding='pre', truncating='pre')\n",
    "\n",
    "encoder_valid = pad_sequences(valid_data_new,maxlen=MAX_LEN,dtype=\"int32\",padding='post', truncating='post')\n",
    "decoder_valid = pad_sequences(valid_data_new_y,maxlen=MAX_LEN_DEC,dtype=\"int32\",padding='pre', truncating='pre')\n",
    "decoder_valid_input = pad_sequences(valid_data_new_di,maxlen=MAX_LEN_DEC,dtype=\"int32\",padding='pre', truncating='pre')\n",
    "\n",
    "encoder_test = pad_sequences(test_data_new,maxlen=MAX_LEN,dtype=\"int32\",padding='post', truncating='post')\n",
    "decoder_test = pad_sequences(test_data_new_y,maxlen=MAX_LEN_DEC,dtype=\"int32\",padding='pre', truncating='pre')\n",
    "decoder_test_input = pad_sequences(test_data_new_di,maxlen=MAX_LEN_DEC,dtype=\"int32\",padding='pre', truncating='pre')"
   ]
  },
  {
   "cell_type": "markdown",
   "metadata": {},
   "source": [
    "### Create embedding matrices for the embedding layers"
   ]
  },
  {
   "cell_type": "code",
   "execution_count": 29,
   "metadata": {},
   "outputs": [],
   "source": [
    "import os"
   ]
  },
  {
   "cell_type": "code",
   "execution_count": 33,
   "metadata": {},
   "outputs": [
    {
     "name": "stdout",
     "output_type": "stream",
     "text": [
      "Reading package lists... Done\n",
      "Building dependency tree       \n",
      "Reading state information... Done\n",
      "The following NEW packages will be installed:\n",
      "  wget\n",
      "0 upgraded, 1 newly installed, 0 to remove and 30 not upgraded.\n",
      "Need to get 316 kB of archives.\n",
      "After this operation, 954 kB of additional disk space will be used.\n",
      "Get:1 http://archive.ubuntu.com/ubuntu bionic-updates/main amd64 wget amd64 1.19.4-1ubuntu2.2 [316 kB]\n",
      "Fetched 316 kB in 0s (1629 kB/s)\n",
      "debconf: delaying package configuration, since apt-utils is not installed\n",
      "Selecting previously unselected package wget.\n",
      "(Reading database ... 17006 files and directories currently installed.)\n",
      "Preparing to unpack .../wget_1.19.4-1ubuntu2.2_amd64.deb ...\n",
      "Unpacking wget (1.19.4-1ubuntu2.2) ...\n",
      "Setting up wget (1.19.4-1ubuntu2.2) ...\n"
     ]
    }
   ],
   "source": [
    "!apt-get install wget"
   ]
  },
  {
   "cell_type": "code",
   "execution_count": 34,
   "metadata": {},
   "outputs": [
    {
     "name": "stdout",
     "output_type": "stream",
     "text": [
      "mkdir: cannot create directory ‘glove’: File exists\n",
      "--2020-11-21 19:58:51--  http://nlp.stanford.edu/data/glove.6B.zip\n",
      "Resolving nlp.stanford.edu (nlp.stanford.edu)... 171.64.67.140\n",
      "Connecting to nlp.stanford.edu (nlp.stanford.edu)|171.64.67.140|:80... connected.\n",
      "HTTP request sent, awaiting response... 302 Found\n",
      "Location: https://nlp.stanford.edu/data/glove.6B.zip [following]\n",
      "--2020-11-21 19:58:57--  https://nlp.stanford.edu/data/glove.6B.zip\n",
      "Connecting to nlp.stanford.edu (nlp.stanford.edu)|171.64.67.140|:443... connected.\n",
      "HTTP request sent, awaiting response... 301 Moved Permanently\n",
      "Location: http://downloads.cs.stanford.edu/nlp/data/glove.6B.zip [following]\n",
      "--2020-11-21 19:58:57--  http://downloads.cs.stanford.edu/nlp/data/glove.6B.zip\n",
      "Resolving downloads.cs.stanford.edu (downloads.cs.stanford.edu)... 171.64.64.22\n",
      "Connecting to downloads.cs.stanford.edu (downloads.cs.stanford.edu)|171.64.64.22|:80... connected.\n",
      "HTTP request sent, awaiting response... 200 OK\n",
      "Length: 862182613 (822M) [application/zip]\n",
      "Saving to: ‘temp.zip’\n",
      "\n",
      "temp.zip            100%[===================>] 822.24M  2.24MB/s    in 6m 30s  \n",
      "\n",
      "2020-11-21 20:05:28 (2.11 MB/s) - ‘temp.zip’ saved [862182613/862182613]\n",
      "\n",
      "Archive:  temp.zip\n",
      "  inflating: glove/glove.6B.50d.txt  \n",
      "  inflating: glove/glove.6B.100d.txt  \n",
      "  inflating: glove/glove.6B.200d.txt  \n",
      "  inflating: glove/glove.6B.300d.txt  \n"
     ]
    }
   ],
   "source": [
    "!mkdir glove\n",
    "!wget \"http://nlp.stanford.edu/data/glove.6B.zip\" -O temp.zip\n",
    "!unzip temp.zip -d glove\n",
    "!rm temp.zip"
   ]
  },
  {
   "cell_type": "code",
   "execution_count": 35,
   "metadata": {},
   "outputs": [],
   "source": [
    "GLOVE_DIR=\"glove\"\n",
    "embeddings_index = {}\n",
    "with open(os.path.join(GLOVE_DIR,\"glove.6B.100d.txt\"),'rb') as f:\n",
    "    for line in f.readlines():\n",
    "        values = line.split()\n",
    "        word = str(values[0],encoding=\"utf8\")\n",
    "        coefs = np.asanyarray(values[1:], dtype=\"float32\")\n",
    "        embeddings_index[word] = coefs"
   ]
  },
  {
   "cell_type": "code",
   "execution_count": 36,
   "metadata": {},
   "outputs": [],
   "source": [
    "# create embedding matrix for the encoder\n",
    "embedding_dimension = 100\n",
    "DECODING_DEPTH = len(lispress_tokenizer.word_index)+1\n",
    "embedding_matrix_encoder = np.zeros((len(tokenizer_user.word_index)+1,embedding_dimension))\n",
    "for word, i in tokenizer_user.word_index.items():\n",
    "    embedding_vector = embeddings_index.get(word)\n",
    "    if embedding_vector is not None:\n",
    "        embedding_matrix_encoder[i] = embedding_vector\n",
    "\n",
    "# create embedding matrix for the decoder\n",
    "embedding_matrix_decoder = np.zeros((DECODING_DEPTH,embedding_dimension))\n",
    "for word, i in lispress_tokenizer.word_index.items():\n",
    "    embedding_vector = embeddings_index.get(word)\n",
    "    if embedding_vector is not None and i < DECODING_DEPTH:\n",
    "        embedding_matrix_decoder[i] = embedding_vector"
   ]
  },
  {
   "cell_type": "code",
   "execution_count": 37,
   "metadata": {},
   "outputs": [],
   "source": [
    "def decoder_output_creater(decoder_input_data, num_samples, MAX_LEN, VOCAB_SIZE):  \n",
    "    decoder_output_data = np.zeros((num_samples, MAX_LEN, VOCAB_SIZE), dtype=\"float32\")\n",
    "\n",
    "    for i, seqs in enumerate(decoder_input_data):\n",
    "        for j, seq in enumerate(seqs):\n",
    "            if j > 0 and seq < VOCAB_SIZE:\n",
    "                decoder_output_data[i][j][seq] = 1.\n",
    "    #print(decoder_output_data.shape)\n",
    "\n",
    "    return decoder_output_data"
   ]
  },
  {
   "cell_type": "markdown",
   "metadata": {},
   "source": [
    "### Create seq2seq model"
   ]
  },
  {
   "cell_type": "code",
   "execution_count": 44,
   "metadata": {},
   "outputs": [],
   "source": [
    "from tensorflow.keras.layers import TimeDistributed\n",
    "from tensorflow.keras.models import Sequential,Model\n",
    "from tensorflow.keras.layers import Embedding,Dense,Activation\n",
    "from tensorflow.keras.layers import Input, LSTM, Dense"
   ]
  },
  {
   "cell_type": "code",
   "execution_count": 56,
   "metadata": {},
   "outputs": [
    {
     "name": "stdout",
     "output_type": "stream",
     "text": [
      "encoder tokens 16297\n"
     ]
    }
   ],
   "source": [
    "num_encoder_tokens = len(tokenizer_user.word_index)+1\n",
    "num_decoder_tokens = len(lispress_tokenizer.word_index)+1\n",
    "HIDDEN_DIM = 128\n",
    "\n",
    "print(\"encoder tokens\",num_encoder_tokens)\n",
    "\n",
    "# Define an input sequence and process it.\n",
    "embedding_dimension=100\n",
    "encoder_inputs = Input(shape=(MAX_LEN, ),dtype=\"int32\")\n",
    "encoder_embedding = Embedding(input_dim = num_encoder_tokens,\n",
    "                            output_dim = embedding_dimension,\n",
    "                            input_length = MAX_LEN,\n",
    "                            weights = [embedding_matrix_encoder],\n",
    "                           trainable = False)(encoder_inputs)\n",
    "\n",
    "encoder_LSTM = LSTM(HIDDEN_DIM, return_state=True)\n",
    "encoder_outputs, state_h, state_c = encoder_LSTM(encoder_embedding)\n",
    "\n",
    "# Set up the decoder, using `encoder_states` as initial state.\n",
    "decoder_inputs = Input(shape=(MAX_LEN_DEC, ),dtype=\"int32\")\n",
    "decoder_embedding = Embedding(input_dim = DECODING_DEPTH,\n",
    "                            output_dim = embedding_dimension,\n",
    "                            input_length = MAX_LEN_DEC,\n",
    "                            weights = [embedding_matrix_decoder],\n",
    "                           trainable = False)(decoder_inputs)\n",
    "decoder_LSTM = LSTM(HIDDEN_DIM, return_state=True, return_sequences=True)\n",
    "\n",
    "\n",
    "decoder_outputs, _, _ = decoder_LSTM(decoder_embedding, initial_state=[state_h, state_c])\n",
    "\n",
    "outputs = TimeDistributed(Dense(DECODING_DEPTH, activation='softmax'))(decoder_outputs)\n",
    "model = Model([encoder_inputs, decoder_inputs], outputs)"
   ]
  },
  {
   "cell_type": "code",
   "execution_count": 57,
   "metadata": {},
   "outputs": [
    {
     "name": "stdout",
     "output_type": "stream",
     "text": [
      "Model: \"functional_7\"\n",
      "__________________________________________________________________________________________________\n",
      "Layer (type)                    Output Shape         Param #     Connected to                     \n",
      "==================================================================================================\n",
      "input_7 (InputLayer)            [(None, 50)]         0                                            \n",
      "__________________________________________________________________________________________________\n",
      "input_8 (InputLayer)            [(None, 50)]         0                                            \n",
      "__________________________________________________________________________________________________\n",
      "embedding_6 (Embedding)         (None, 50, 100)      1629700     input_7[0][0]                    \n",
      "__________________________________________________________________________________________________\n",
      "embedding_7 (Embedding)         (None, 50, 100)      1260700     input_8[0][0]                    \n",
      "__________________________________________________________________________________________________\n",
      "lstm_6 (LSTM)                   [(None, 128), (None, 117248      embedding_6[0][0]                \n",
      "__________________________________________________________________________________________________\n",
      "lstm_7 (LSTM)                   [(None, 50, 128), (N 117248      embedding_7[0][0]                \n",
      "                                                                 lstm_6[0][1]                     \n",
      "                                                                 lstm_6[0][2]                     \n",
      "__________________________________________________________________________________________________\n",
      "time_distributed_3 (TimeDistrib (None, 50, 12607)    1626303     lstm_7[0][0]                     \n",
      "==================================================================================================\n",
      "Total params: 4,751,199\n",
      "Trainable params: 1,860,799\n",
      "Non-trainable params: 2,890,400\n",
      "__________________________________________________________________________________________________\n"
     ]
    }
   ],
   "source": [
    "model.summary()"
   ]
  },
  {
   "cell_type": "code",
   "execution_count": 58,
   "metadata": {},
   "outputs": [],
   "source": [
    "model.compile(optimizer=\"adam\",loss=\"categorical_crossentropy\",metrics=[\"accuracy\"])"
   ]
  },
  {
   "cell_type": "markdown",
   "metadata": {},
   "source": [
    "## Training"
   ]
  },
  {
   "cell_type": "code",
   "execution_count": 59,
   "metadata": {},
   "outputs": [],
   "source": [
    "# data loader:\n",
    "class DataGenerator(tf.keras.utils.Sequence):\n",
    "    def __init__(self, input, batch_size=32, num_classes=None, shuffle=False):\n",
    "        self.batch_size = batch_size\n",
    "        self.input = input\n",
    "        self.indices = list(range(len(input[0])))\n",
    "        self.num_classes = num_classes\n",
    "        self.shuffle = shuffle\n",
    "        self.on_epoch_end()\n",
    "\n",
    "    def __len__(self):\n",
    "        return len(self.indices) // self.batch_size\n",
    "\n",
    "    def __getitem__(self, index):\n",
    "        index = self.index[index * self.batch_size:(index + 1) * self.batch_size]\n",
    "        batch = [self.indices[k] for k in index]\n",
    "        \n",
    "        X, y = self.__get_data(batch)\n",
    "        return X, y\n",
    "\n",
    "    def on_epoch_end(self):\n",
    "        self.index = np.arange(len(self.indices))\n",
    "        if self.shuffle == True:\n",
    "            np.random.shuffle(self.index)\n",
    "\n",
    "    def __get_data(self, batch):\n",
    "        #print(batch[0],batch[-1])\n",
    "        encoder = np.array(self.input[0][batch[0]:batch[-1]+1])\n",
    "        decoder = np.array(self.input[1][batch[0]:batch[-1]+1])\n",
    "        X = [encoder,decoder]\n",
    "        #print(X)\n",
    "        y = decoder_output_creater(self.input[2][batch[0]:batch[-1]+1],len(batch),MAX_LEN_DEC,DECODING_DEPTH)\n",
    "\n",
    "        return X, y\n"
   ]
  },
  {
   "cell_type": "code",
   "execution_count": 60,
   "metadata": {},
   "outputs": [
    {
     "name": "stdout",
     "output_type": "stream",
     "text": [
      "Epoch 1/10\n",
      "41394/41394 [==============================] - 21031s 508ms/step - loss: 0.5249 - accuracy: 0.8562 - val_loss: 0.3684 - val_accuracy: 0.8868\n",
      "Epoch 2/10\n",
      "41394/41394 [==============================] - 21061s 509ms/step - loss: 0.3443 - accuracy: 0.8932 - val_loss: 0.3251 - val_accuracy: 0.8978\n",
      "Epoch 3/10\n",
      "41394/41394 [==============================] - 21319s 515ms/step - loss: 0.3055 - accuracy: 0.9052 - val_loss: 0.2947 - val_accuracy: 0.9085\n",
      "Epoch 4/10\n",
      "41394/41394 [==============================] - 21424s 518ms/step - loss: 0.2838 - accuracy: 0.9116 - val_loss: 0.2795 - val_accuracy: 0.9124\n",
      "Epoch 5/10\n",
      "41394/41394 [==============================] - 21350s 516ms/step - loss: 0.2713 - accuracy: 0.9163 - val_loss: 0.2731 - val_accuracy: 0.9161\n",
      "Epoch 6/10\n",
      "41394/41394 [==============================] - 21105s 510ms/step - loss: 0.2633 - accuracy: 0.9202 - val_loss: 0.2682 - val_accuracy: 0.9178\n",
      "Epoch 7/10\n",
      "41394/41394 [==============================] - 21031s 508ms/step - loss: 0.2573 - accuracy: 0.9219 - val_loss: 0.2673 - val_accuracy: 0.9187\n",
      "Epoch 8/10\n",
      "37470/41394 [==========================>...] - ETA: 29:55 - loss: 0.2523 - accuracy: 0.9230"
     ]
    },
    {
     "name": "stderr",
     "output_type": "stream",
     "text": [
      "IOPub message rate exceeded.\n",
      "The notebook server will temporarily stop sending output\n",
      "to the client in order to avoid crashing it.\n",
      "To change this limit, set the config variable\n",
      "`--NotebookApp.iopub_msg_rate_limit`.\n",
      "\n",
      "Current values:\n",
      "NotebookApp.iopub_msg_rate_limit=1000.0 (msgs/sec)\n",
      "NotebookApp.rate_limit_window=3.0 (secs)\n",
      "\n"
     ]
    },
    {
     "name": "stdout",
     "output_type": "stream",
     "text": [
      "41394/41394 [==============================] - 21106s 510ms/step - loss: 0.2488 - accuracy: 0.9248 - val_loss: 0.2592 - val_accuracy: 0.9224\n",
      "Epoch 10/10\n",
      "41394/41394 [==============================] - 21163s 511ms/step - loss: 0.2460 - accuracy: 0.9255 - val_loss: 0.2610 - val_accuracy: 0.9236\n"
     ]
    },
    {
     "data": {
      "text/plain": [
       "<tensorflow.python.keras.callbacks.History at 0x7fbabc42c080>"
      ]
     },
     "execution_count": 60,
     "metadata": {},
     "output_type": "execute_result"
    }
   ],
   "source": [
    "batch_size = 128\n",
    "\n",
    "model.fit(DataGenerator([encoder_train[:],decoder_train_input[:],decoder_train[:]],batch_size=batch_size),\n",
    "         batch_size=batch_size,epochs=10,validation_data=DataGenerator([encoder_valid,decoder_valid_input,decoder_valid],batch_size=batch_size))"
   ]
  },
  {
   "cell_type": "code",
   "execution_count": 61,
   "metadata": {},
   "outputs": [],
   "source": [
    "model.save('models/model20201122_DG_fullrun.h5')"
   ]
  },
  {
   "cell_type": "code",
   "execution_count": 62,
   "metadata": {},
   "outputs": [],
   "source": [
    "def extract_lispress_from_pred(pred,tokenizer):\n",
    "    lines = []\n",
    "    codes = []\n",
    "    for p in pred:\n",
    "        line = [tokenizer.index_word[np.argmax(vec)] if np.argmax(vec) > 0 else \"UNKNOWN\" for vec in p ]\n",
    "        code = [np.argmax(vec) for vec in p ]\n",
    "        #print(codes)\n",
    "        lines.append(line)\n",
    "        codes.append(code)\n",
    "    return lines,codes"
   ]
  },
  {
   "cell_type": "code",
   "execution_count": 63,
   "metadata": {},
   "outputs": [],
   "source": [
    "def make_prediction(sent,program,user_tokenizer,lispress_tokenizer,model,isText=True):\n",
    "    # create input data\n",
    "    if isText:\n",
    "        seq = user_tokenizer.texts_to_sequences([sent])[0]\n",
    "    else:\n",
    "        seq = sent\n",
    "    print(\"Question:\", [user_tokenizer.index_word[code] for code in seq])\n",
    "    decoder = [\"<bos>\"]\n",
    "    length = 0\n",
    "    MAX_LENGTH = 100\n",
    "    #decoder_seq = program\n",
    "    decoder_seq = [lispress_tokenizer.word_index[word] for word in decoder]\n",
    "    #print(decoder_seq)\n",
    "    # padding\n",
    "    #print(seq)\n",
    "    seq_pad = pad_sequences([seq],maxlen=MAX_LEN,dtype=\"int32\",padding='post', truncating='post')[0]\n",
    "    decoder_pad = pad_sequences([decoder_seq],maxlen=MAX_LEN_DEC,dtype=\"int32\",padding='pre', truncating='pre')[0]\n",
    "\n",
    "    #pred = model.predict([[seq_pad],[decoder_pad]])\n",
    "    #print(len(pred))\n",
    "    #line,code = extract_lispress_from_pred([pred],lispress_tokenizer)\n",
    "    #decoder_pad[next_index+1] = code[0][next_index]\n",
    "    #next_index += 1\n",
    "    #print([lispress_tokenizer.index_word[code0] if code0>0 else \"UNKNOWN\" for code0 in decoder_pad ][:next_index+1])\n",
    "    line = [[\"asd\"]]\n",
    "\n",
    "    while length < MAX_LENGTH and line[0][-1] != '<eos>':\n",
    "        #print([np.array([seq_pad]),np.array([decoder_pad])])\n",
    "        pred = model.predict([np.array([seq_pad]),np.array([decoder_pad])])[0]\n",
    "        #print(pred)\n",
    "        line,code = extract_lispress_from_pred([pred],lispress_tokenizer)\n",
    "        #print(code[0])\n",
    "        decoder_seq.append(code[0][-1])\n",
    "        decoder_pad = pad_sequences([decoder_seq],maxlen=MAX_LEN_DEC,dtype=\"int32\",padding='pre', truncating='pre')[0]\n",
    "        length += 1\n",
    "        #print(line[0][:next_index])\n",
    "\n",
    "    print(\"Program:\",[lispress_tokenizer.index_word[code0] if code0>0 else \"UNKNOWN\" for code0 in decoder_seq])  \n",
    "\n",
    "    return decoder_seq"
   ]
  },
  {
   "cell_type": "code",
   "execution_count": 64,
   "metadata": {},
   "outputs": [],
   "source": [
    "from tensorflow.keras.models import load_model"
   ]
  },
  {
   "cell_type": "code",
   "execution_count": 46,
   "metadata": {},
   "outputs": [],
   "source": [
    "model = load_model('models/model20201121_newtokenizer_50-50-1M.h5')"
   ]
  },
  {
   "cell_type": "markdown",
   "metadata": {},
   "source": [
    "## Evaluation"
   ]
  },
  {
   "cell_type": "code",
   "execution_count": 65,
   "metadata": {},
   "outputs": [
    {
     "name": "stdout",
     "output_type": "stream",
     "text": [
      "Question: ['what', 'are', 'my', 'upcoming', 'appointments']\n",
      "Program: ['<bos>', '(', 'yield', ':output', '(', 'findeventwrapperwithdefaults', ':constraint', '(', 'constraint[event]', ':subject', '(', '?~=', '#', '(', 'string', '\"', '(', 'nextholidayfromtoday', ')', ':range', '(', 'fullmonthofmonth', ':month', '#', '(', 'month', '\"', 'may', '\"', ')', ')', ')', ':subject', '(', '?=', '#', '(', 'string', '\"', 'lunch', '\"', ')', ')', ')', ')', ')', ')', ')', ')', ')', '<eos>']\n",
      "Expected: ['<bos>', '(', 'yield', ':output', '(', 'findeventwrapperwithdefaults', ':constraint', '(', 'constraint[event]', ')', ')', ')', '<eos>']\n",
      "Accuracy: 0.0\n",
      "Question: ['what', 'is', 'planned']\n",
      "Program: ['<bos>', '(', 'yield', ':output', '(', 'findeventwrapperwithdefaults', ':constraint', '(', 'eventondate', ':date', '(', 'negate', '(', '?=', '#', '(', 'locationkeyphrase', '\"', '(', 'execute', ':intension', '(', 'refer', '(', 'extensionconstraint', '(', 'constraint[place]', ')', ')', ')', ')', ')', ')', '<eos>']\n",
      "Expected: ['<bos>', '(', 'yield', ':output', '(', 'findeventwrapperwithdefaults', ':constraint', '(', 'constraint[event]', ')', ')', ')', '<eos>']\n",
      "Accuracy: 0.0\n",
      "Question: ['need', '6pm', 'meeting']\n",
      "Program: ['<bos>', '(', 'yield', ':output', '(', 'execute', ':intension', '(', 'choosecreateeventfromconstraint', ':constraint', '(', 'constraint[event]', ':start', '(', 'constraint[datetime]', ':time', '(', '?=', '(', 'numberpm', ':number', '#', '(', 'number', '1', ')', ')', ')', ')', ')', ':intension', '(', 'refer', '(', 'actionintensionconstraint', ')', ')', ')', ')', ')', '<eos>']\n",
      "Expected: ['<bos>', '(', 'yield', ':output', '(', 'createcommiteventwrapper', ':event', '(', 'createpreflighteventwrapper', ':constraint', '(', 'constraint[event]', ':start', '(', '?=', '(', 'nexttime', ':time', '(', 'numberpm', ':number', '#', '(', 'number', '6', ')', ')', ')', ')', ')', ')', ')', ')', '<eos>']\n",
      "Accuracy: 0.0\n",
      "Question: ['9pm', 'is', 'better']\n",
      "Program: ['<bos>', '(', 'yield', ':output', '(', 'execute', ':intension', '(', 'choosecreateeventfromconstraint', ':constraint', '(', 'constraint[event]', ':start', '(', 'constraint[datetime]', ':time', '(', '?=', '(', 'numberpm', ':number', '#', '(', 'number', '1', ')', ')', ')', ')', ')', ':intension', '(', 'refer', '(', 'actionintensionconstraint', ')', ')', ')', ')', ')', '<eos>']\n",
      "Expected: ['<bos>', '(', 'yield', ':output', '(', 'execute', ':intension', '(', 'reviseconstraint', ':rootlocation', '(', 'roleconstraint', '#', '(', 'path', '\"', 'output', '\"', ')', ')', ':oldlocation', '(', 'constraint[constraint[event]]', ')', ':new', '(', 'constraint[event]', ':start', '(', 'constraint[datetime]', ':time', '(', '?=', '(', 'numberpm', ':number', '#', '(', 'number', '9', ')', ')', ')', ')', ')', ')', ')', ')', '<eos>']\n",
      "Accuracy: 0.0\n",
      "Question: ['make', 'it', '10']\n",
      "Program: ['<bos>', '(', 'yield', ':output', '(', 'execute', ':intension', '(', 'reviseconstraint', ':rootlocation', '(', 'roleconstraint', '#', '(', 'path', '\"', 'output', '\"', ')', ')', ':oldlocation', '(', 'constraint[constraint[event]]', ')', ':new', '(', 'constraint[event]', ':start', '(', 'constraint[datetime]', ':time', '(', '?=', '(', 'numberpm', ':number', '#', '(', 'number', '4', ')', ')', ')', ')', ')', ')', ')', ')', '<eos>']\n",
      "Expected: ['<bos>', '(', 'yield', ':output', '(', 'execute', ':intension', '(', 'reviseconstraint', ':rootlocation', '(', 'roleconstraint', '#', '(', 'path', '\"', 'output', '\"', ')', ')', ':oldlocation', '(', 'constraint[constraint[event]]', ')', ':new', '(', 'constraint[event]', ':start', '(', 'constraint[datetime]', ':time', '(', '?=', '(', 'numberpm', ':number', '#', '(', 'number', '10.0', ')', ')', ')', ')', ')', ')', ')', ')', '<eos>']\n",
      "Accuracy: 0.0\n",
      "Question: ['have', 'this', 'last', 'until', '11', 'please']\n",
      "Program: ['<bos>', '(', 'yield', ':output', '(', 'execute', ':intension', '(', 'reviseconstraint', ':rootlocation', '(', 'roleconstraint', '#', '(', 'path', '\"', 'output', '\"', ')', ')', ':oldlocation', '(', 'constraint[constraint[event]]', ')', ':new', '(', 'constraint[event]', ':start', '(', 'constraint[datetime]', '(', 'dateattimewithdefaults', ':date', '(', 'md', ':day', '#', '(', 'number', '20.0', ')', ':month', '#', '(', 'month', '\"', 'may', '\"', ')', ')', ':time', '(', 'numberpm', ':number', '#', '(', 'number', '1', ')', ')', ')', ')', ')', ')', ')', ')', '<eos>']\n",
      "Expected: ['<bos>', '(', 'yield', ':output', '(', 'execute', ':intension', '(', 'reviseconstraint', ':rootlocation', '(', 'roleconstraint', '#', '(', 'path', '\"', 'output', '\"', ')', ')', ':oldlocation', '(', 'constraint[constraint[event]]', ')', ':new', '(', 'constraint[event]', ':end', '(', 'constraint[datetime]', ':time', '(', '?=', '(', 'numberpm', ':number', '#', '(', 'number', '11', ')', ')', ')', ')', ')', ')', ')', ')', '<eos>']\n",
      "Accuracy: 0.0\n",
      "Question: ['i', 'would', 'like', 'to', 'schedule', 'a', 'visit', 'from', 'my', 'in', 'laws', 'next', 'thursday', 'through', 'the', 'following', 'monday']\n",
      "Program: ['<bos>', '(', 'let', '(', 'x0', '(', 'nextdow', ':dow', '#', '(', 'dayofweek', '\"', 'monday', '\"', ')', ')', ')', '(', 'yield', ':output', '(', 'createcommiteventwrapper', ':event', '(', 'createpreflighteventwrapper', ':constraint', '(', 'eventalldayfordaterange', ':daterange', '(', 'dateandconstraint', ':date1', 'x0', ':date2', '(', 'nextdayofweek', 'x0', '#', '(', 'dayofweek', '\"', 'sunday', '\"', ')', ')', ')', ':event', '(', 'constraint[event]', ':subject', '(', '?=', '#', '(', 'string', '\"', 'lunch', '\"', ')', ')', ')', ')', ')', ')', ')', '<eos>']\n",
      "Expected: ['<bos>', '(', 'let', '(', 'x0', '(', 'nextdow', ':dow', '#', '(', 'dayofweek', '\"', 'thursday', '\"', ')', ')', ')', '(', 'yield', ':output', '(', 'createcommiteventwrapper', ':event', '(', 'createpreflighteventwrapper', ':constraint', '(', 'eventalldayfordaterange', ':daterange', '(', 'dateandconstraint', ':date1', 'x0', ':date2', '(', 'nextdayofweek', 'x0', '#', '(', 'dayofweek', '\"', 'monday', '\"', ')', ')', ')', ':event', '(', 'constraint[event]', ':subject', '(', '?=', '#', '(', 'string', '\"', 'visit', 'from', 'my', 'in-laws', '\"', ')', ')', ')', ')', ')', ')', ')', ')', '<eos>']\n",
      "Accuracy: 0.0\n",
      "Question: ['yes', 'this', 'looks', 'good']\n",
      "Program: ['<bos>', '(', 'yield', ':output', '(', 'execute', ':intension', '(', 'confirmandreturnaction', ')', ')', ')', '<eos>']\n",
      "Expected: ['<bos>', '(', 'yield', ':output', '(', 'execute', ':intension', '(', 'confirmandreturnaction', ')', ')', ')', '<eos>']\n",
      "Accuracy: 0.125\n",
      "Question: ['make', 'me', 'an', 'event', 'tomorrow', 'for', '10', 'days']\n",
      "Program: ['<bos>', '(', 'yield', ':output', '(', 'createcommiteventwrapper', ':event', '(', 'createpreflighteventwrapper', ':constraint', '(', 'eventalldaystartingdateforperiod', ':event', '(', 'constraint[event]', ':subject', '(', '?=', '#', '(', 'string', '\"', '(', 'execute', ':intension', '(', 'refer', '(', 'month', '\"', ')', ')', ')', ')', ')', ')', ')', ')', '<eos>']\n",
      "Expected: ['<bos>', '(', 'yield', ':output', '(', 'createcommiteventwrapper', ':event', '(', 'createpreflighteventwrapper', ':constraint', '(', 'eventalldaystartingdateforperiod', ':event', '(', 'constraint[event]', ')', ':period', '(', 'todays', '#', '(', 'number', '10.0', ')', ')', ':startdate', '(', 'tomorrow', ')', ')', ')', ')', ')', '<eos>']\n",
      "Accuracy: 0.1111111111111111\n",
      "Question: ['change', 'it', 'to', 'just', '7', 'days']\n",
      "Program: ['<bos>', '(', 'yield', ':output', '(', 'execute', ':intension', '(', 'reviseconstraint', ':rootlocation', '(', 'roleconstraint', '#', '(', 'path', '\"', 'output', '\"', ')', ')', ':oldlocation', '(', 'constraint[constraint[event]]', ')', ':new', '(', 'eventalldaystartingdateforperiod', ':event', '(', 'constraint[event]', ')', ':period', '(', 'todays', '#', '(', 'number', '3', ')', ')', ':startdate', '(', 'execute', ':intension', '(', 'refer', '(', 'extensionconstraint', '(', 'constraint[date]', ')', ')', ')', ')', '(', 'todays', '#', '(', 'number', '1', ')', ')', ')', ':event', '(', 'constraint[event]', ':subject', '(', '?~=', '#', '(', 'string', '\"', 'lunch', '\"', ')', ')', ')', ')', ')', ')', ')', ')', '(', 'yield', ':output', '(', 'updatecommiteventwrapper', ':event', '(', 'updatepreflighteventwrapper', ':id', '(', ':id', 'x0', ')', ':update', '(', 'constraint[event]', ':start', '(']\n",
      "Expected: ['<bos>', '(', 'yield', ':output', '(', 'execute', ':intension', '(', 'reviseconstraint', ':rootlocation', '(', 'roleconstraint', '#', '(', 'path', '\"', 'output', '\"', ')', ')', ':oldlocation', '(', 'constraint[constraint[event]]', ')', ':new', '(', 'eventalldaystartingdateforperiod', ':event', '(', 'constraint[event]', ')', ':period', '(', 'todays', '#', '(', 'number', '7', ')', ')', ':startdate', '(', 'execute', ':intension', '(', 'refer', '(', 'andconstraint', '(', 'roleconstraint', '(', 'append', '#', '(', 'list[path]', '[]', ')', '#', '(', 'path', '\"', 'start', '\"', ')', ')', ')', '(', 'extensionconstraint', '(', 'constraint[date]', ')', ')', ')', ')', ')', ')', ')', ')', ')', '<eos>']\n",
      "Accuracy: 0.1\n",
      "Question: ['yep', 'do', 'it']\n"
     ]
    },
    {
     "name": "stdout",
     "output_type": "stream",
     "text": [
      "Program: ['<bos>', '(', 'yield', ':output', '(', 'execute', ':intension', '(', 'confirmandreturnaction', ')', ')', ')', '<eos>']\n",
      "Expected: ['<bos>', '(', 'yield', ':output', '(', 'execute', ':intension', '(', 'confirmandreturnaction', ')', ')', ')', '<eos>']\n",
      "Accuracy: 0.18181818181818182\n",
      "Question: ['create', 'fortnite', 'battle', 'royale', 'contest', 'at', '8', 'on', 'friday']\n",
      "Program: ['<bos>', '(', 'yield', ':output', '(', 'createcommiteventwrapper', ':event', '(', 'createpreflighteventwrapper', ':constraint', '(', 'constraint[event]', ':location', '(', '?=', '#', '(', 'locationkeyphrase', '\"', 'the', 'park', '\"', ')', ')', ':start', '(', '?=', '(', 'dateattimewithdefaults', ':date', '(', 'nextdow', ':dow', '#', '(', 'dayofweek', '\"', 'friday', '\"', ')', ')', ':time', '(', 'numberpm', ':number', '#', '(', 'number', '4', ')', ')', ')', ')', ':subject', '(', '?=', '#', '(', 'string', '\"', 'lunch', '\"', ')', ')', ')', ')', ')', ')', '<eos>']\n",
      "Expected: ['<bos>', '(', 'yield', ':output', '(', 'createcommiteventwrapper', ':event', '(', 'createpreflighteventwrapper', ':constraint', '(', 'constraint[event]', ':start', '(', '?=', '(', 'dateattimewithdefaults', ':date', '(', 'nextdow', ':dow', '#', '(', 'dayofweek', '\"', 'friday', '\"', ')', ')', ':time', '(', 'numberpm', ':number', '#', '(', 'number', '8', ')', ')', ')', ')', ':subject', '(', '?=', '#', '(', 'string', '\"', 'fortnite', 'battle', 'royale', 'contest', '\"', ')', ')', ')', ')', ')', ')', '<eos>']\n",
      "Accuracy: 0.16666666666666666\n",
      "Question: ['yes', 'it', 'is', 'great']\n",
      "Program: ['<bos>', '(', 'yield', ':output', '(', 'execute', ':intension', '(', 'confirmandreturnaction', ')', ')', ')', '<eos>']\n",
      "Expected: ['<bos>', '(', 'yield', ':output', '(', 'execute', ':intension', '(', 'confirmandreturnaction', ')', ')', ')', '<eos>']\n",
      "Accuracy: 0.23076923076923078\n",
      "Question: ['thanks']\n",
      "Program: ['<bos>', '(', 'pleasantryanythingelsecombined', ')', '<eos>']\n",
      "Expected: ['<bos>', '(', 'pleasantryanythingelsecombined', ')', '<eos>']\n",
      "Accuracy: 0.2857142857142857\n",
      "Question: ['no', 'thanks']\n",
      "Program: ['<bos>', '(', 'pleasantryanythingelsecombined', ')', '<eos>']\n",
      "Expected: ['<bos>', '(', 'pleasantryanythingelsecombined', ')', '<eos>']\n",
      "Accuracy: 0.3333333333333333\n",
      "Question: ['when', 'is', 'my', 'last', 'meeting', 'on', 'sunday']\n",
      "Program: ['<bos>', '(', 'yield', ':output', '(', ':start', '(', 'singleton', '(', ':results', '(', 'findeventwrapperwithdefaults', ':constraint', '(', 'eventondate', ':date', '(', 'nextdow', ':dow', '#', '(', 'dayofweek', '\"', 'friday', '\"', ')', ')', ':event', '(', 'constraint[event]', ':subject', '(', '?~=', '#', '(', 'string', '\"', 'lunch', '\"', ')', ')', ')', ')', ')', ')', ')', ')', ')', ')', ')', '<eos>']\n",
      "Expected: ['<bos>', '(', 'yield', ':output', '(', ':start', '(', 'findlastevent', ':constraint', '(', 'eventondate', ':date', '(', 'nextdow', ':dow', '#', '(', 'dayofweek', '\"', 'sunday', '\"', ')', ')', ':event', '(', 'constraint[event]', ')', ')', ')', ')', ')', '<eos>']\n",
      "Accuracy: 0.3125\n",
      "Question: ['can', 'you', 'schedule', 'a', 'meditation', 'session', '30', 'minutes', 'after', 'that']\n",
      "Program: ['<bos>', '(', 'yield', ':output', '(', 'createcommiteventwrapper', ':event', '(', 'createpreflighteventwrapper', ':constraint', '(', 'constraint[event]', ':start', '(', '?=', '(', 'adjustbyperiodduration', '(', ':end', '(', 'execute', ':intension', '(', 'refer', '(', 'extensionconstraint', '(', 'constraint[event]', ')', ')', ')', ')', ')', ')', ')', ')', ')', ')', ')', '<eos>']\n",
      "Expected: ['<bos>', '(', 'yield', ':output', '(', 'createcommiteventwrapper', ':event', '(', 'createpreflighteventwrapper', ':constraint', '(', 'constraint[event]', ':start', '(', '?=', '(', 'adjustbyperiodduration', '(', ':end', '(', 'execute', ':intension', '(', 'refer', '(', 'extensionconstraint', '(', 'constraint[event]', ')', ')', ')', ')', ')', '(', 'periodduration', ':duration', '(', 'tominutes', '#', '(', 'number', '30.0', ')', ')', ')', ')', ')', ':subject', '(', '?=', '#', '(', 'string', '\"', 'meditation', 'session', '\"', ')', ')', ')', ')', ')', ')', '<eos>']\n",
      "Accuracy: 0.29411764705882354\n",
      "Question: ['yes', 'what', 'is', 'my', 'last', 'meeting', 'tomorrow']\n",
      "Program: ['<bos>', '(', 'yield', ':output', '(', 'findeventwrapperwithdefaults', ':constraint', '(', 'eventondate', ':date', '(', 'tomorrow', ')', ':event', '(', 'constraint[event]', ')', ')', ')', ')', ')', '#', '(', 'number', '0', ')', ')', ')', '<eos>']\n",
      "Expected: ['<bos>', '(', 'do', '(', 'yield', ':output', '(', 'execute', ':intension', '(', 'confirmandreturnaction', ')', ')', ')', '(', 'yield', ':output', '(', 'findlastevent', ':constraint', '(', 'eventondate', ':date', '(', 'tomorrow', ')', ':event', '(', 'constraint[event]', ')', ')', ')', ')', ')', '<eos>']\n",
      "Accuracy: 0.2777777777777778\n",
      "Question: ['cancel', 'my', 'last', 'event', 'tomorrow']\n",
      "Program: ['<bos>', '(', 'yield', ':output', '(', 'deletecommiteventwrapper', ':event', '(', 'deletepreflighteventwrapper', ':id', '(', ':id', '(', 'singleton', '(', ':results', '(', 'findeventwrapperwithdefaults', ':constraint', '(', 'eventondate', ':date', '(', 'md', ':day', '#', '(', 'number', '20.0', ')', ':month', '#', '(', 'month', '\"', 'may', '\"', ')', ')', ':event', '(', 'constraint[event]', ':subject', '(', '?~=', '#', '(', 'string', '\"', 'lunch', '\"', ')', ')', ')', ')', ')', ')', ')', ')', ')', ')', ')', '<eos>']\n",
      "Expected: ['<bos>', '(', 'yield', ':output', '(', 'deletecommiteventwrapper', ':event', '(', 'deletepreflighteventwrapper', ':id', '(', ':id', '(', 'findlastevent', ':constraint', '(', 'eventondate', ':date', '(', 'tomorrow', ')', ':event', '(', 'constraint[event]', ')', ')', ')', ')', ')', ')', ')', '<eos>']\n",
      "Accuracy: 0.2631578947368421\n",
      "Question: ['cancel', 'this', 'last', 'one', 'please']\n",
      "Program: ['<bos>', '(', 'fencemultiaction', ')', '<eos>']\n",
      "Expected: ['<bos>', '(', 'yield', ':output', '(', 'execute', ':intension', '(', 'confirmandreturnaction', ')', ')', ')', '<eos>']\n",
      "Accuracy: 0.25\n",
      "Question: ['mark', 'that', 'i', 'will', 'be', 'attending', 'a', 'conference', 'between', '13th', 'and', '15th', 'december']\n",
      "Program: ['<bos>', '(', 'let', '(', 'x0', '(', 'md', ':day', '#', '(', 'number', '5', ')', ':month', '#', '(', 'month', '\"', 'may', '\"', ')', ')', ')', '(', 'yield', ':output', '(', 'createcommiteventwrapper', ':event', '(', 'createpreflighteventwrapper', ':constraint', '(', 'eventalldayfordaterange', ':daterange', '(', 'dateandconstraint', ':date1', 'x0', ':date2', '(', 'nextmonthday', 'x0', '#', '(', 'number', '20.0', ')', ':month', '#', '(', 'month', '\"', 'may', '\"', ')', ':year', '#', '(', 'number', '2020.0', ')', ')', ':event', '(', 'constraint[event]', ':subject', '(', '?=', '#', '(', 'string', '\"', 'lunch', '\"', ')', ')', ')', ')', ')', ')', ')', ')', '(', 'yield', ':output', '(', 'createcommiteventwrapper', ':event', '(', 'createpreflighteventwrapper', ':constraint', '(', 'constraint[event]', ':end', '(', 'datetimeandconstraintbetweenevents', ':event1', 'x0', ':event2', 'x1']\n",
      "Expected: ['<bos>', '(', 'let', '(', 'x0', '(', 'md', ':day', '#', '(', 'number', '13', ')', ':month', '#', '(', 'month', '\"', 'december', '\"', ')', ')', ')', '(', 'yield', ':output', '(', 'createcommiteventwrapper', ':event', '(', 'createpreflighteventwrapper', ':constraint', '(', 'eventalldayfordaterange', ':daterange', '(', 'dateandconstraint', ':date1', 'x0', ':date2', '(', 'nextdayofmonth', 'x0', '#', '(', 'number', '15', ')', ')', ')', ':event', '(', 'constraint[event]', ':subject', '(', '?=', '#', '(', 'string', '\"', 'conference', '\"', ')', ')', ')', ')', ')', ')', ')', ')', '<eos>']\n",
      "Accuracy: 0.23809523809523808\n",
      "Question: ['it', 'for', 'four', 'days', 'please']\n",
      "Program: ['<bos>', '(', 'yield', ':output', '(', 'execute', ':intension', '(', 'reviseconstraint', ':rootlocation', '(', 'roleconstraint', '#', '(', 'path', '\"', 'output', '\"', ')', ')', ':oldlocation', '(', 'constraint[constraint[event]]', ')', ':new', '(', 'eventalldaystartingdateforperiod', ':event', '(', 'constraint[event]', ')', ':period', '(', 'todays', '#', '(', 'number', '3', ')', ')', ':startdate', '(', 'md', ':day', '#', '(', 'number', '17', ')', ':month', '#', '(', 'month', '\"', 'may', '\"', ')', ')', ')', ')', ')', ')', ')', '<eos>']\n",
      "Expected: ['<bos>', '(', 'yield', ':output', '(', 'execute', ':intension', '(', 'reviseconstraint', ':rootlocation', '(', 'roleconstraint', '#', '(', 'path', '\"', 'output', '\"', ')', ')', ':oldlocation', '(', 'constraint[constraint[event]]', ')', ':new', '(', 'eventalldaystartingdateforperiod', ':event', '(', 'constraint[event]', ')', ':period', '(', 'todays', '#', '(', 'number', '4', ')', ')', ':startdate', '(', 'execute', ':intension', '(', 'refer', '(', 'andconstraint', '(', 'roleconstraint', '(', 'append', '#', '(', 'list[path]', '[]', ')', '#', '(', 'path', '\"', 'start', '\"', ')', ')', ')', '(', 'extensionconstraint', '(', 'constraint[date]', ')', ')', ')', ')', ')', ')', ')', ')', ')', '<eos>']\n",
      "Accuracy: 0.22727272727272727\n",
      "Question: ['that', 'works']\n"
     ]
    },
    {
     "name": "stdout",
     "output_type": "stream",
     "text": [
      "Program: ['<bos>', '(', 'yield', ':output', '(', 'execute', ':intension', '(', 'confirmandreturnaction', ')', ')', ')', '<eos>']\n",
      "Expected: ['<bos>', '(', 'yield', ':output', '(', 'execute', ':intension', '(', 'confirmandreturnaction', ')', ')', ')', '<eos>']\n",
      "Accuracy: 0.2608695652173913\n",
      "Question: ['create', 'an', 'event', 'called', 'fishing', 'trip', 'and', 'have', 'it', 'last', 'for', '5', 'days', 'starting', 'on', 'may', '13th']\n",
      "Program: ['<bos>', '(', 'yield', ':output', '(', 'createcommiteventwrapper', ':event', '(', 'createpreflighteventwrapper', ':constraint', '(', 'eventalldaystartingdateforperiod', ':event', '(', 'constraint[event]', ':subject', '(', '?=', '#', '(', 'string', '\"', '(', 'execute', ':intension', '(', 'refer', '(', 'month', '\"', ')', ')', ')', ')', ')', ')', ')', ')', ')', ')', ')', ')', '<eos>']\n",
      "Expected: ['<bos>', '(', 'yield', ':output', '(', 'createcommiteventwrapper', ':event', '(', 'createpreflighteventwrapper', ':constraint', '(', 'eventalldaystartingdateforperiod', ':event', '(', 'constraint[event]', ':subject', '(', '?=', '#', '(', 'string', '\"', 'fishing', 'trip', '\"', ')', ')', ')', ':period', '(', 'todays', '#', '(', 'number', '5', ')', ')', ':startdate', '(', 'md', ':day', '#', '(', 'number', '13', ')', ':month', '#', '(', 'month', '\"', 'may', '\"', ')', ')', ')', ')', ')', ')', '<eos>']\n",
      "Accuracy: 0.25\n",
      "Question: ['yes', 'looks', 'good']\n",
      "Program: ['<bos>', '(', 'yield', ':output', '(', 'execute', ':intension', '(', 'confirmandreturnaction', ')', ')', ')', '<eos>']\n",
      "Expected: ['<bos>', '(', 'yield', ':output', '(', 'execute', ':intension', '(', 'confirmandreturnaction', ')', ')', ')', '<eos>']\n",
      "Accuracy: 0.28\n",
      "Question: ['how', 'many', 'staff', 'birthdays', 'do', 'we', 'have', 'this', 'month']\n",
      "Program: ['<bos>', '(', 'yield', ':output', '(', 'findeventwrapperwithdefaults', ':constraint', '(', 'eventduringrange', ':event', '(', 'constraint[event]', ':subject', '(', '?~=', '#', '(', 'string', '\"', 'lunch', '\"', ')', ')', ')', ':range', '(', 'fullmonthofmonth', ':month', '(', ':month', '(', 'today', ')', ')', ')', ')', ')', ')', ')', '#', '(', 'number', '0', ')', ')', ')', '<eos>']\n",
      "Expected: ['<bos>', '(', 'yield', ':output', '(', 'size', '(', ':results', '(', 'findeventwrapperwithdefaults', ':constraint', '(', 'eventduringrange', ':event', '(', 'constraint[event]', ':subject', '(', '?~=', '#', '(', 'string', '\"', 'staff', 'birthdays', '\"', ')', ')', ')', ':range', '(', 'fullmonthofmonth', ':month', '(', ':month', '(', 'today', ')', ')', ')', ')', ')', ')', ')', ')', '<eos>']\n",
      "Accuracy: 0.2692307692307692\n",
      "Question: ['what', 'is', 'the', 'other']\n",
      "Program: ['<bos>', '(', 'yield', ':output', '(', 'execute', ':intension', '(', 'refer', '(', 'cursornext', '(', 'extensionconstraint', '(', 'constraint[event]', ')', ')', ')', ')', ')', ')', ')', ')', ')', ')', '<eos>']\n",
      "Expected: ['<bos>', '(', 'yield', ':output', '(', 'execute', ':intension', '(', 'refer', '(', 'cursornext', '(', 'extensionconstraint', '(', 'constraint[event]', ')', ')', ')', ')', ')', ')', '<eos>']\n",
      "Accuracy: 0.25925925925925924\n",
      "Question: ['how', 'many', 'staff', 'birthdays', 'do', 'we', 'have', 'next', 'month']\n",
      "Program: ['<bos>', '(', 'yield', ':output', '(', 'findeventwrapperwithdefaults', ':constraint', '(', 'eventduringrange', ':event', '(', 'constraint[event]', ':subject', '(', '?~=', '#', '(', 'string', '\"', 'lunch', '\"', ')', ')', ')', ':range', '(', 'fullmonthofmonth', ':month', '(', ':month', '(', 'today', ')', ')', ')', ')', ')', ')', ')', '#', '(', 'number', '0', ')', ')', ')', '<eos>']\n",
      "Expected: ['<bos>', '(', 'yield', ':output', '(', 'size', '(', ':results', '(', 'findeventwrapperwithdefaults', ':constraint', '(', 'eventduringrange', ':event', '(', 'constraint[event]', ':subject', '(', '?~=', '#', '(', 'string', '\"', 'staff', 'birthdays', '\"', ')', ')', ')', ':range', '(', 'fullmonthofmonth', ':month', '(', 'nextmonth', ')', ')', ')', ')', ')', ')', ')', '<eos>']\n",
      "Accuracy: 0.25\n",
      "Question: ['who', 'is', 'that', 'for']\n",
      "Program: ['<bos>', '(', 'yield', ':output', '(', 'currentuser', ':recipient', '(', 'execute', ':intension', '(', 'refer', '(', 'extensionconstraint', '(', 'recipientwithnamelike', ')', ')', ')', ')', ')', ')', ')', ')', '<eos>']\n",
      "Expected: ['<bos>', '(', 'fencespecify', ')', '<eos>']\n",
      "Accuracy: 0.2413793103448276\n",
      "Question: ['and', 'in', 'november']\n",
      "Program: ['<bos>', '(', 'yield', ':output', '(', 'willrain', ':table', '(', 'execute', ':intension', '(', 'refer', '(', 'extensionconstraint', '(', 'alwaystrueconstraint[weathertable]', ')', ')', ')', ')', ')', ')', ')', ':location', '(', 'eventduringrange', ':date', '(', 'constraint[event]', ')', ':range', '(', 'fullmonthofmonth', ':month', '#', '(', 'month', '\"', 'may', '\"', ')', ')', ')', ')', ')', ')', ')', '#', '(', 'number', '0', ')', ')', ')', '<eos>']\n",
      "Expected: ['<bos>', '(', 'yield', ':output', '(', 'findeventwrapperwithdefaults', ':constraint', '(', 'eventduringrange', ':event', '(', 'constraint[event]', ')', ':range', '(', 'fullmonthofmonth', ':month', '#', '(', 'month', '\"', 'november', '\"', ')', ')', ')', ')', ')', '<eos>']\n",
      "Accuracy: 0.23333333333333334\n",
      "Question: ['create', 'an', 'event', 'on', 'monday', 'at', '3', '00', 'p', 'm']\n",
      "Program: ['<bos>', '(', 'yield', ':output', '(', 'createcommiteventwrapper', ':event', '(', 'createpreflighteventwrapper', ':constraint', '(', 'constraint[event]', ':start', '(', '?=', '(', 'dateattimewithdefaults', ':date', '(', 'nextdow', ':dow', '#', '(', 'dayofweek', '\"', 'friday', '\"', ')', ')', ':time', '(', 'numberpm', ':number', '#', '(', 'number', '4', ')', ')', ')', ')', ':subject', '(', '?=', '#', '(', 'string', '\"', 'lunch', '\"', ')', ')', ')', ')', ')', ')', '<eos>']\n",
      "Expected: ['<bos>', '(', 'yield', ':output', '(', 'createcommiteventwrapper', ':event', '(', 'createpreflighteventwrapper', ':constraint', '(', 'constraint[event]', ':start', '(', '?=', '(', 'dateattimewithdefaults', ':date', '(', 'nextdow', ':dow', '#', '(', 'dayofweek', '\"', 'monday', '\"', ')', ')', ':time', '(', 'numberpm', ':number', '#', '(', 'number', '3', ')', ')', ')', ')', ')', ')', ')', ')', '<eos>']\n",
      "Accuracy: 0.22580645161290322\n",
      "Question: ['thank', 'you']\n",
      "Program: ['<bos>', '(', 'pleasantryanythingelsecombined', ')', '<eos>']\n",
      "Expected: ['<bos>', '(', 'pleasantryanythingelsecombined', ')', '<eos>']\n",
      "Accuracy: 0.25\n",
      "Question: ['i', 'want', 'to', 'change', 'the', 'name', 'to', 'budget', 'mtg']\n",
      "Program: ['<bos>', '(', 'yield', ':output', '(', 'updatecommiteventwrapper', ':event', '(', 'updatepreflighteventwrapper', ':id', '(', ':id', '(', 'execute', ':intension', '(', 'refer', '(', 'extensionconstraint', '(', 'constraint[event]', ')', ')', ')', ')', ')', ':update', '(', 'constraint[event]', ':subject', '(', '?=', '#', '(', 'locationkeyphrase', '\"', 'the', 'park', '\"', ')', ')', ')', ')', ')', ')', ')', '#', '(', 'number', '0', ')', ')', ')', '<eos>']\n",
      "Expected: ['<bos>', '(', 'yield', ':output', '(', 'updatecommiteventwrapper', ':event', '(', 'updatepreflighteventwrapper', ':id', '(', ':id', '(', 'execute', ':intension', '(', 'refer', '(', 'extensionconstraint', '(', 'constraint[event]', ')', ')', ')', ')', ')', ':update', '(', 'constraint[event]', ':subject', '(', '?=', '#', '(', 'string', '\"', 'budget', 'mtg', '\"', ')', ')', ')', ')', ')', ')', '<eos>']\n",
      "Accuracy: 0.24242424242424243\n",
      "Question: ['change', 'the', 'duration', 'of', 'budget', 'mtg', 'to', '1', 'hour']\n",
      "Program: ['<bos>', '(', 'yield', ':output', '(', 'updatecommiteventwrapper', ':event', '(', 'updatepreflighteventwrapper', ':id', '(', ':id', '(', 'execute', ':intension', '(', 'refer', '(', 'extensionconstraint', '(', 'constraint[event]', ')', ')', ')', ')', ')', ':update', '(', 'constraint[event]', ':duration', '(', '?=', '(', 'tohours', '#', '(', 'number', '1', ')', ')', ')', ')', ')', ')', ')', '<eos>']\n",
      "Expected: ['<bos>', '(', 'yield', ':output', '(', 'updatecommiteventwrapper', ':event', '(', 'updatepreflighteventwrapper', ':id', '(', ':id', '(', 'execute', ':intension', '(', 'refer', '(', 'extensionconstraint', '(', 'constraint[event]', ')', ')', ')', ')', ')', ':update', '(', 'constraint[event]', ':duration', '(', '?=', '(', 'tohours', '#', '(', 'number', '1', ')', ')', ')', ')', ')', ')', ')', '<eos>']\n",
      "Accuracy: 0.2647058823529412\n",
      "Question: ['change', 'it', 'to', 'start', 'at', '2', 'pm']\n"
     ]
    },
    {
     "name": "stdout",
     "output_type": "stream",
     "text": [
      "Program: ['<bos>', '(', 'yield', ':output', '(', 'updatecommiteventwrapper', ':event', '(', 'updatepreflighteventwrapper', ':id', '(', ':id', '(', 'execute', ':intension', '(', 'refer', '(', 'extensionconstraint', '(', 'constraint[event]', ')', ')', ')', ')', ')', ':update', '(', 'constraint[event]', ':start', '(', 'constraint[datetime]', ':time', '(', '?=', '(', 'numberpm', ':number', '#', '(', 'number', '4', ')', ')', ')', ')', ')', ')', ')', ')', '<eos>']\n",
      "Expected: ['<bos>', '(', 'yield', ':output', '(', 'updatecommiteventwrapper', ':event', '(', 'updatepreflighteventwrapper', ':id', '(', ':id', '(', 'execute', ':intension', '(', 'refer', '(', 'extensionconstraint', '(', 'constraint[event]', ')', ')', ')', ')', ')', ':update', '(', 'constraint[event]', ':start', '(', 'constraint[datetime]', ':time', '(', '?=', '(', 'numberpm', ':number', '#', '(', 'number', '2', ')', ')', ')', ')', ')', ')', ')', ')', '<eos>']\n",
      "Accuracy: 0.2571428571428571\n",
      "Question: ['i', 'need', 'to', 'schedule', 'a', 'snack', 'between', 'board', 'meeting', 'and', 'lunch', 'with', 'abby']\n",
      "Program: ['<bos>', '(', 'yield', ':output', '(', 'createcommiteventwrapper', ':event', '(', 'createpreflighteventwrapper', ':constraint', '(', 'constraint[event]', ':attendees', '(', 'attendeelisthasrecipient', ':recipient', '(', 'execute', ':intension', '(', 'refer', '(', 'extensionconstraint', '(', 'recipientwithnamelike', ':constraint', '(', 'constraint[recipient]', ')', ':name', '#', '(', 'personname', '\"', '(', 'attendeelisthasrecipientconstraint', ')', ')', ')', ')', ')', ')', ')', ')', ')', ')', ')', '<eos>']\n",
      "Expected: ['<bos>', '(', 'let', '(', 'x0', '(', 'datetimeandconstraintbetweenevents', ':event1', '(', 'singleton', '(', ':results', '(', 'findeventwrapperwithdefaults', ':constraint', '(', 'constraint[event]', ':subject', '(', '?~=', '#', '(', 'string', '\"', 'board', 'meeting', '\"', ')', ')', ')', ')', ')', ')', ':event2', '(', 'singleton', '(', ':results', '(', 'findeventwrapperwithdefaults', ':constraint', '(', 'constraint[event]', ':attendees', '(', 'attendeelisthasrecipientconstraint', ':recipientconstraint', '(', 'recipientwithnamelike', ':constraint', '(', 'constraint[recipient]', ')', ':name', '#', '(', 'personname', '\"', 'abby', '\"', ')', ')', ')', ':subject', '(', '?~=', '#', '(', 'string', '\"', 'lunch', 'with', 'abby', '\"', ')', ')', ')', ')', ')', ')', ')', ')', '(', 'yield', ':output', '(', 'createcommiteventwrapper', ':event', '(', 'createpreflighteventwrapper', ':constraint', '(', 'constraint[event]', ':end', 'x0', ':start', 'x0', ':subject', '(', '?=', '#', '(', 'string', '\"', 'snack', '\"', ')', ')', ')', ')', ')', ')', ')', '<eos>']\n",
      "Accuracy: 0.25\n",
      "Question: ['add', 'that', 'first', 'one', 'please']\n",
      "Program: ['<bos>', '(', 'yield', ':output', '(', 'execute', ':intension', '(', 'choosecreateevent', ':index', '#', '(', 'number', '1', ')', ':intension', '(', 'refer', '(', 'actionintensionconstraint', ')', ')', ')', ')', ')', '<eos>']\n",
      "Expected: ['<bos>', '(', 'yield', ':output', '(', 'execute', ':intension', '(', 'choosecreateevent', ':index', '#', '(', 'number', '1', ')', ':intension', '(', 'refer', '(', 'actionintensionconstraint', ')', ')', ')', ')', ')', '<eos>']\n",
      "Accuracy: 0.2702702702702703\n",
      "Question: ['put', 'me', 'down', 'a', 'meeting', 'with', 'tom', 'between', 'lunch', 'and', 'the', 'corporate', 'dinner']\n",
      "Program: ['<bos>', '(', 'let', '(', 'x0', '(', 'singleton', '(', ':results', '(', 'findeventwrapperwithdefaults', ':constraint', '(', 'constraint[event]', ':subject', '(', '?~=', '#', '(', 'string', '\"', 'lunch', '\"', ')', ')', ')', ')', ')', ')', 'x1', '(', 'singleton', '(', ':results', '(', 'findeventwrapperwithdefaults', ':constraint', '(', 'constraint[event]', ':subject', '(', '?~=', '#', '(', 'string', '\"', 'lunch', '\"', ')', ')', ')', ')', ')', ')', 'x1', '(', 'singleton', '(', ':results', '(', 'findeventwrapperwithdefaults', ':constraint', '(', 'constraint[event]', ':subject', '(', '?~=', '#', '(', 'string', '\"', 'lunch', '\"', ')', ')', ')', ')', ')', ')', 'x1', '(', 'singleton', '(', ':results', '(', 'findeventwrapperwithdefaults', ':constraint', '(', 'constraint[event]', ':subject', '(', '?~=', '#', '(', 'string', '\"', 'lunch', '\"', ')', ')', ')']\n",
      "Expected: ['<bos>', '(', 'let', '(', 'x0', '(', 'datetimeandconstraintbetweenevents', ':event1', '(', 'singleton', '(', ':results', '(', 'findeventwrapperwithdefaults', ':constraint', '(', 'constraint[event]', ':subject', '(', '?~=', '#', '(', 'string', '\"', 'lunch', '\"', ')', ')', ')', ')', ')', ')', ':event2', '(', 'singleton', '(', ':results', '(', 'findeventwrapperwithdefaults', ':constraint', '(', 'constraint[event]', ':subject', '(', '?~=', '#', '(', 'string', '\"', 'corporate', 'dinner', '\"', ')', ')', ')', ')', ')', ')', ')', ')', '(', 'yield', ':output', '(', 'createcommiteventwrapper', ':event', '(', 'createpreflighteventwrapper', ':constraint', '(', 'constraint[event]', ':attendees', '(', 'attendeelisthasrecipient', ':recipient', '(', 'execute', ':intension', '(', 'refer', '(', 'extensionconstraint', '(', 'recipientwithnamelike', ':constraint', '(', 'constraint[recipient]', ')', ':name', '#', '(', 'personname', '\"', 'tom', '\"', ')', ')', ')', ')', ')', ')', ':end', 'x0', ':start', 'x0', ')', ')', ')', ')', ')', '<eos>']\n",
      "Accuracy: 0.2631578947368421\n",
      "Question: ['the', 'second', 'one', 'is', 'fine']\n",
      "Program: ['<bos>', '(', 'yield', ':output', '(', 'execute', ':intension', '(', 'choosecreateevent', ':index', '#', '(', 'number', '2', ')', ':intension', '(', 'refer', '(', 'actionintensionconstraint', ')', ')', ')', ')', ')', '<eos>']\n",
      "Expected: ['<bos>', '(', 'yield', ':output', '(', 'execute', ':intension', '(', 'choosecreateevent', ':index', '#', '(', 'number', '2', ')', ':intension', '(', 'refer', '(', 'actionintensionconstraint', ')', ')', ')', ')', ')', '<eos>']\n",
      "Accuracy: 0.28205128205128205\n",
      "Question: ['update', 'the', 'meeting', 'with', 'tom', 'to', 'make', 'it', '1', 'hour', 'long']\n",
      "Program: ['<bos>', '(', 'yield', ':output', '(', 'updatecommiteventwrapper', ':event', '(', 'updatepreflighteventwrapper', ':id', '(', ':id', '(', 'singleton', '(', ':results', '(', 'findeventwrapperwithdefaults', ':constraint', '(', 'constraint[event]', ':subject', '(', '?~=', '#', '(', 'string', '\"', 'lunch', '\"', ')', ')', ')', ')', ')', ')', ')', ':update', '(', 'constraint[event]', ':attendees', '(', 'andconstraint', '(', 'attendeelistexcludesrecipient', ':recipient', '(', 'execute', ':intension', '(', 'refer', '(', 'extensionconstraint', '(', 'recipientwithnamelike', ':constraint', '(', 'constraint[recipient]', ')', ':name', '#', '(', 'personname', '\"', '(', 'attendeelisthasrecipientconstraint', ')', ')', ')', ')', ')', ')', ')', '(', 'yield', ':output', '(', 'createcommiteventwrapper', ':event', '(', 'createpreflighteventwrapper', ':id', '(', ':id', '(', 'singleton', '(', ':results', '(', 'findeventwrapperwithdefaults', ':constraint', '(', 'constraint[event]', ':subject', '(', '?~=', '#', '(', 'string', '\"', 'lunch']\n",
      "Expected: ['<bos>', '(', 'yield', ':output', '(', 'updatecommiteventwrapper', ':event', '(', 'updatepreflighteventwrapper', ':id', '(', ':id', '(', 'singleton', '(', ':results', '(', 'findeventwrapperwithdefaults', ':constraint', '(', 'constraint[event]', ':attendees', '(', 'attendeelisthasrecipientconstraint', ':recipientconstraint', '(', 'recipientwithnamelike', ':constraint', '(', 'constraint[recipient]', ')', ':name', '#', '(', 'personname', '\"', 'tom', '\"', ')', ')', ')', ')', ')', ')', ')', ')', ':update', '(', 'constraint[event]', ':duration', '(', '?=', '(', 'tohours', '#', '(', 'number', '1', ')', ')', ')', ')', ')', ')', ')', '<eos>']\n",
      "Accuracy: 0.275\n",
      "Question: ['add', 'physical', 'therapy', 'at', '4', '00', 'pm', 'on', 'friday']\n",
      "Program: ['<bos>', '(', 'yield', ':output', '(', 'createcommiteventwrapper', ':event', '(', 'createpreflighteventwrapper', ':constraint', '(', 'constraint[event]', ':start', '(', '?=', '(', 'dateattimewithdefaults', ':date', '(', 'nextdow', ':dow', '#', '(', 'dayofweek', '\"', 'friday', '\"', ')', ')', ':time', '(', 'numberpm', ':number', '#', '(', 'number', '4', ')', ')', ')', ')', ':subject', '(', '?=', '#', '(', 'string', '\"', 'lunch', '\"', ')', ')', ')', ')', ')', ')', '<eos>']\n",
      "Expected: ['<bos>', '(', 'yield', ':output', '(', 'createcommiteventwrapper', ':event', '(', 'createpreflighteventwrapper', ':constraint', '(', 'constraint[event]', ':start', '(', '?=', '(', 'dateattimewithdefaults', ':date', '(', 'nextdow', ':dow', '#', '(', 'dayofweek', '\"', 'friday', '\"', ')', ')', ':time', '(', 'numberpm', ':number', '#', '(', 'number', '4', ')', ')', ')', ')', ':subject', '(', '?=', '#', '(', 'string', '\"', 'physical', 'therapy', '\"', ')', ')', ')', ')', ')', ')', '<eos>']\n",
      "Accuracy: 0.2682926829268293\n",
      "Question: [\"that's\", 'great']\n",
      "Program: ['<bos>', '(', 'pleasantryanythingelsecombined', ')', '<eos>']\n",
      "Expected: ['<bos>', '(', 'yield', ':output', '(', 'execute', ':intension', '(', 'confirmandreturnaction', ')', ')', ')', '<eos>']\n",
      "Accuracy: 0.2619047619047619\n",
      "Question: ['confirmed', 'thanks']\n"
     ]
    },
    {
     "name": "stdout",
     "output_type": "stream",
     "text": [
      "Program: ['<bos>', '(', 'yield', ':output', '(', 'execute', ':intension', '(', 'confirmandreturnaction', ')', ')', ')', '<eos>']\n",
      "Expected: ['<bos>', '(', 'pleasantryanythingelsecombined', ')', '<eos>']\n",
      "Accuracy: 0.2558139534883721\n",
      "Question: ['metting', 'set', 'alaram']\n",
      "Program: ['<bos>', '(', 'userpauseresponse', ')', '<eos>']\n",
      "Expected: ['<bos>', '(', 'fencereminder', ')', '<eos>']\n",
      "Accuracy: 0.25\n",
      "Question: ['who', 'manages', 'bob']\n",
      "Program: ['<bos>', '(', 'yield', ':output', '(', 'findmanager', ':recipient', '(', 'execute', ':intension', '(', 'refer', '(', 'extensionconstraint', '(', 'recipientwithnamelike', ':constraint', '(', 'constraint[recipient]', ')', ':name', '#', '(', 'personname', '\"', '(', 'constraint[recipient]', ')', ')', ')', ')', ':subject', '(', '?=', '#', '(', 'string', '\"', 'lunch', '\"', ')', ')', ')', ')', ')', ')', ')', ':response', '#', '(', 'responsestatustype', '\"', 'accepted', '\"', ')', ')', ')', '<eos>']\n",
      "Expected: ['<bos>', '(', 'yield', ':output', '(', 'findmanager', ':recipient', '(', 'execute', ':intension', '(', 'refer', '(', 'extensionconstraint', '(', 'recipientwithnamelike', ':constraint', '(', 'constraint[recipient]', ')', ':name', '#', '(', 'personname', '\"', 'bob', '\"', ')', ')', ')', ')', ')', ')', ')', '<eos>']\n",
      "Accuracy: 0.24444444444444444\n",
      "Question: ['schedule', 'a', 'planning', 'session', 'with', 'bob', 'and', 'his', 'boss', 'at', \"chili's\", 'on', 'thursday', 'at', '4', '00', 'pm', 'for', '1', 'hour']\n",
      "Program: ['<bos>', '(', 'let', '(', 'x0', '(', 'execute', ':intension', '(', 'refer', '(', 'extensionconstraint', '(', 'recipientwithnamelike', ':constraint', '(', 'constraint[recipient]', ')', ':name', '#', '(', 'personname', '\"', 'kim', '\"', ')', ')', ')', ')', ')', ')', '(', 'yield', ':output', '(', 'createcommiteventwrapper', ':event', '(', 'createpreflighteventwrapper', ':constraint', '(', 'constraint[event]', ':attendees', '(', 'andconstraint', '(', 'attendeelisthasrecipient', ':recipient', 'x0', ')', '(', 'attendeelisthasrecipient', ':recipient', '(', 'findmanager', ':recipient', 'x0', ')', ')', ')', ':start', '(', '?=', '(', 'tohours', '#', '(', 'number', '1', ')', ')', ')', ':start', '(', '?=', '(', 'dateattimewithdefaults', ':date', '(', 'nextdow', ':dow', '#', '(', 'dayofweek', '\"', 'friday', '\"', ')', ')', ':time', '(', 'numberpm', ':number', '#', '(', 'number', '1', ')', ')', ')', ')']\n",
      "Expected: ['<bos>', '(', 'let', '(', 'x0', '(', 'execute', ':intension', '(', 'refer', '(', 'extensionconstraint', '(', 'recipientwithnamelike', ':constraint', '(', 'constraint[recipient]', ')', ':name', '#', '(', 'personname', '\"', 'bob', '\"', ')', ')', ')', ')', ')', ')', '(', 'yield', ':output', '(', 'createcommiteventwrapper', ':event', '(', 'createpreflighteventwrapper', ':constraint', '(', 'constraint[event]', ':attendees', '(', 'andconstraint', '(', 'attendeelisthasrecipient', ':recipient', 'x0', ')', '(', 'attendeelisthasrecipient', ':recipient', '(', 'findmanager', ':recipient', 'x0', ')', ')', ')', ':duration', '(', '?=', '(', 'tohours', '#', '(', 'number', '1', ')', ')', ')', ':location', '(', '?=', '#', '(', 'locationkeyphrase', '\"', \"chili's\", '\"', ')', ')', ':start', '(', '?=', '(', 'dateattimewithdefaults', ':date', '(', 'nextdow', ':dow', '#', '(', 'dayofweek', '\"', 'thursday', '\"', ')', ')', ':time', '(', 'numberpm', ':number', '#', '(', 'number', '4', ')', ')', ')', ')', ':subject', '(', '?=', '#', '(', 'string', '\"', 'planning', 'session', '\"', ')', ')', ')', ')', ')', ')', ')', '<eos>']\n",
      "Accuracy: 0.2391304347826087\n",
      "Question: ['where', 'is', \"chili's\"]\n",
      "Program: ['<bos>', '(', 'yield', ':output', '(', ':location', '(', 'execute', ':intension', '(', 'refer', '(', 'extensionconstraint', '(', 'constraint[event]', ')', ')', ')', ')', ')', ')', ')', ')', '<eos>']\n",
      "Expected: ['<bos>', '(', 'yield', ':output', '(', 'placedescribablelocation', ':place', '(', 'singleton', '(', ':results', '(', 'findplacemultiresults', ':place', '#', '(', 'locationkeyphrase', '\"', \"chili's\", '\"', ')', ')', ')', ')', ')', ')', '<eos>']\n",
      "Accuracy: 0.23404255319148937\n",
      "Question: ['that', 'will', 'work']\n",
      "Program: ['<bos>', '(', 'yield', ':output', '(', 'execute', ':intension', '(', 'confirmandreturnaction', ')', ')', ')', '<eos>']\n",
      "Expected: ['<bos>', '(', 'pleasantryanythingelsecombined', ')', '<eos>']\n",
      "Accuracy: 0.22916666666666666\n",
      "Question: ['wait', 'does', \"chili's\", 'have', 'a', 'vegetarian', 'menu', 'bob', 'is', 'a', 'vegetarian']\n",
      "Program: ['<bos>', '(', 'yield', ':output', '(', 'placehasfeature', ':feature', '#', '(', 'placefeature', '\"', 'takeout', '\"', ')', ':place', '(', 'singleton', '(', ':results', '(', 'findplacemultiresults', ':place', '#', '(', 'locationkeyphrase', '\"', '\"', ')', ')', ')', ':time', '(', '?=', '(', 'now', ')', ')', ')', ')', ')', '<eos>']\n",
      "Expected: ['<bos>', '(', 'fenceother', ')', '<eos>']\n",
      "Accuracy: 0.22448979591836735\n",
      "Question: ['can', 'you', 'show', 'me', 'the', \"chili's\", 'website']\n",
      "Program: ['<bos>', '(', 'yield', ':output', '(', ':url', '(', 'singleton', '(', ':results', '(', 'findplacemultiresults', ':place', '#', '(', 'locationkeyphrase', '\"', '\"', ')', ')', ')', ':time', '(', '?=', '(', 'nexttime', ':number', '(', 'numberpm', ':number', '#', '(', 'number', '4', ')', ')', ')', ')', ')', ')', ')', ')', '<eos>']\n",
      "Expected: ['<bos>', '(', 'fencescope', ')', '<eos>']\n",
      "Accuracy: 0.22\n",
      "Question: ['bot', 'hold', 'on']\n",
      "Program: ['<bos>', '(', 'yield', ':output', '(', ':phonenumber', ':place', '(', 'execute', ':intension', '(', 'refer', '(', 'extensionconstraint', '(', 'constraint[place]', ')', ')', ')', ')', ')', ')', '<eos>']\n",
      "Expected: ['<bos>', '(', 'userpauseresponse', ')', '<eos>']\n",
      "Accuracy: 0.21568627450980393\n",
      "Question: ['update', 'my', 'planning', 'session', 'to', '3', '00', 'pm']\n",
      "Program: ['<bos>', '(', 'yield', ':output', '(', 'updatecommiteventwrapper', ':event', '(', 'updatepreflighteventwrapper', ':id', '(', ':id', '(', 'singleton', '(', ':results', '(', 'findeventwrapperwithdefaults', ':constraint', '(', 'constraint[event]', ':subject', '(', '?~=', '#', '(', 'string', '\"', 'lunch', '\"', ')', ')', ')', ')', ')', ')', ')', ':update', '(', 'constraint[event]', ':start', '(', 'constraint[datetime]', ':time', '(', '?=', '(', 'numberpm', ':number', '#', '(', 'number', '4', ')', ')', ')', ')', ')', ')', ')', ')', '<eos>']\n",
      "Expected: ['<bos>', '(', 'yield', ':output', '(', 'updatecommiteventwrapper', ':event', '(', 'updatepreflighteventwrapper', ':id', '(', ':id', '(', 'singleton', '(', ':results', '(', 'findeventwrapperwithdefaults', ':constraint', '(', 'constraint[event]', ':subject', '(', '?~=', '#', '(', 'string', '\"', 'planning', 'session', '\"', ')', ')', ')', ')', ')', ')', ')', ':update', '(', 'constraint[event]', ':start', '(', 'constraint[datetime]', ':time', '(', '?=', '(', 'numberpm', ':number', '#', '(', 'number', '3', ')', ')', ')', ')', ')', ')', ')', ')', '<eos>']\n",
      "Accuracy: 0.21153846153846154\n",
      "Question: ['remove', 'dinner', 'event']\n",
      "Program: ['<bos>', '(', 'yield', ':output', '(', 'deletecommiteventwrapper', ':event', '(', 'deletepreflighteventwrapper', ':id', '(', ':id', '(', 'singleton', '(', ':results', '(', 'findeventwrapperwithdefaults', ':constraint', '(', 'constraint[event]', ':subject', '(', '?~=', '#', '(', 'string', '\"', 'lunch', '\"', ')', ')', ')', ')', ')', ')', ')', ')', ')', ')', '<eos>']\n",
      "Expected: ['<bos>', '(', 'yield', ':output', '(', 'deletecommiteventwrapper', ':event', '(', 'deletepreflighteventwrapper', ':id', '(', ':id', '(', 'singleton', '(', ':results', '(', 'findeventwrapperwithdefaults', ':constraint', '(', 'constraint[event]', ':subject', '(', '?~=', '#', '(', 'string', '\"', 'dinner', '\"', ')', ')', ')', ')', ')', ')', ')', ')', ')', ')', '<eos>']\n",
      "Accuracy: 0.20754716981132076\n",
      "Question: ['how', 'many', 'events', 'do', 'i', 'have', 'this', 'winter']\n",
      "Program: ['<bos>', '(', 'yield', ':output', '(', 'findeventwrapperwithdefaults', ':constraint', '(', 'eventduringrange', ':event', '(', 'constraint[event]', ')', ':range', '(', 'thisweek', ')', ')', ')', ')', ')', '#', '(', 'number', '0', ')', ')', ')', '<eos>']\n",
      "Expected: ['<bos>', '(', 'yield', ':output', '(', 'size', '(', ':results', '(', 'findeventwrapperwithdefaults', ':constraint', '(', 'eventduringrange', ':event', '(', 'constraint[event]', ')', ':range', '(', 'seasonwinter', ')', ')', ')', ')', ')', ')', '<eos>']\n",
      "Accuracy: 0.2037037037037037\n",
      "Question: ['delete', 'my', 'first', 'event', 'in', 'winter']\n"
     ]
    },
    {
     "name": "stdout",
     "output_type": "stream",
     "text": [
      "Program: ['<bos>', '(', 'yield', ':output', '(', 'deletecommiteventwrapper', ':event', '(', 'deletepreflighteventwrapper', ':id', '(', ':id', '(', 'singleton', '(', ':results', '(', 'findeventwrapperwithdefaults', ':constraint', '(', 'eventduringrange', ':event', '(', 'constraint[event]', ':subject', '(', '?~=', '#', '(', 'string', '\"', 'lunch', '\"', ')', ')', ')', ':range', '(', 'fullmonthofmonth', ':month', '(', ':month', '(', 'today', ')', ')', ')', ')', ')', ')', ')', ')', '<eos>']\n",
      "Expected: ['<bos>', '(', 'yield', ':output', '(', 'deletecommiteventwrapper', ':event', '(', 'deletepreflighteventwrapper', ':id', '(', ':id', '(', 'findnumnextevent', ':constraint', '(', 'eventduringrange', ':event', '(', 'constraint[event]', ')', ':range', '(', 'seasonwinter', ')', ')', ':number', '#', '(', 'number', '1', ')', ')', ')', ')', ')', ')', '<eos>']\n",
      "Accuracy: 0.2\n",
      "Question: ['oops', 'i', 'meant', 'the', 'one', 'after', 'that']\n",
      "Program: ['<bos>', '(', 'yield', ':output', '(', 'execute', ':intension', '(', 'reviseconstraint', ':rootlocation', '(', 'roleconstraint', '#', '(', 'path', '\"', 'output', '\"', ')', ')', ':oldlocation', '(', 'constraint[constraint[event]]', ')', ':new', '(', 'constraint[event]', ':start', '(', 'md', ':day', '#', '(', 'number', '1', ')', ':month', '#', '(', 'month', '\"', 'may', '\"', ')', ')', ':event', '(', 'constraint[event]', ':subject', '(', '?~=', '#', '(', 'string', '\"', 'lunch', '\"', ')', ')', ')', ')', ')', ')', ')', ')', ':update', '(', 'constraint[event]', ':start', '(', 'constraint[datetime]', '#', '(', 'locationkeyphrase', '\"', '(', 'constraint[event]', ':place', '#', '(', 'locationkeyphrase', '\"', '15', 'of', 'lax', '\"', ')', ')', ')', ')', ')', ')', ')', '<eos>']\n",
      "Expected: ['<bos>', '(', 'yield', ':output', '(', 'execute', ':intension', '(', 'reviseconstraint', ':rootlocation', '(', 'roleconstraint', '#', '(', 'path', '\"', 'output', '\"', ')', ')', ':oldlocation', '(', 'constraint[constraint[event]]', ')', ':new', '(', 'eventafterdatetime', ':datetime', '(', ':end', '(', 'execute', ':intension', '(', 'refer', '(', 'extensionconstraint', '(', 'constraint[event]', ')', ')', ')', ')', ')', ':event', '(', 'constraint[event]', ')', ')', ')', ')', ')', '<eos>']\n",
      "Accuracy: 0.19642857142857142\n",
      "Question: ['yup', \"that's\", 'the', 'one']\n",
      "Program: ['<bos>', '(', 'yield', ':output', '(', 'execute', ':intension', '(', 'confirmandreturnaction', ')', ')', ')', '<eos>']\n",
      "Expected: ['<bos>', '(', 'yield', ':output', '(', 'execute', ':intension', '(', 'confirmandreturnaction', ')', ')', ')', '<eos>']\n",
      "Accuracy: 0.21052631578947367\n",
      "Question: ['yo', 'i', 'really', 'need', 'to', 'know', 'who', \"i'm\", 'logged', 'in', 'as']\n",
      "Program: ['<bos>', '(', 'yield', ':output', '(', 'findmanager', ':attendees', '(', 'execute', ':intension', '(', 'refer', '(', 'extensionconstraint', '(', 'recipientwithnamelike', ':constraint', '(', 'constraint[recipient]', ')', ':name', '#', '(', 'personname', '\"', '(', 'constraint[recipient]', ')', ')', ')', ')', ')', ')', ')', ')', '<eos>']\n",
      "Expected: ['<bos>', '(', 'yield', ':output', '(', 'currentuser', ')', ')', '<eos>']\n",
      "Accuracy: 0.20689655172413793\n",
      "Question: ['what', 'space', 'is', 'my', 'next', 'event', 'in', 'may', 'at']\n",
      "Program: ['<bos>', '(', 'yield', ':output', '(', ':location', '(', 'singleton', '(', ':results', '(', 'findeventwrapperwithdefaults', ':constraint', '(', 'eventduringrange', ':date', '(', 'constraint[event]', ':subject', '(', '?~=', '#', '(', 'string', '\"', 'lunch', '\"', ')', ')', ')', ':range', '(', 'fullmonthofmonth', ':month', '(', ':month', ')', ')', ')', ')', ')', ')', ')', ')', ')', ')', '<eos>']\n",
      "Expected: ['<bos>', '(', 'yield', ':output', '(', ':location', '(', 'findnumnextevent', ':constraint', '(', 'eventduringrange', ':event', '(', 'constraint[event]', ')', ':range', '(', 'fullmonthofmonth', ':month', '#', '(', 'month', '\"', 'may', '\"', ')', ')', ')', ':number', '#', '(', 'number', '1', ')', ')', ')', ')', '<eos>']\n",
      "Accuracy: 0.2033898305084746\n",
      "Question: ['remove', 'sam', 'and', 'jack', 'from', 'the', 'carnival', 'include', 'instead']\n",
      "Program: ['<bos>', '(', 'yield', ':output', '(', 'updatecommiteventwrapper', ':event', '(', 'updatepreflighteventwrapper', ':id', '(', ':id', '(', 'singleton', '(', ':results', '(', 'findeventwrapperwithdefaults', ':constraint', '(', 'constraint[event]', ':subject', '(', '?~=', '#', '(', 'string', '\"', 'lunch', '\"', ')', ')', ')', ')', ')', ')', ')', ':update', '(', 'constraint[event]', ':attendees', '(', 'andconstraint', '(', 'attendeelistexcludesrecipient', ':recipient', '(', '?=', '(', 'execute', ':intension', '(', 'refer', '(', 'extensionconstraint', '(', 'recipientwithnamelike', ':constraint', '(', 'constraint[recipient]', ')', ':name', '#', '(', 'personname', '\"', 'kim', '\"', ')', ')', ')', ')', ')', ')', ')', '(', 'attendeelistexcludesrecipient', ':recipient', '(', '?=', '(', 'execute', ':intension', '(', 'refer', '(', 'extensionconstraint', '(', 'recipientwithnamelike', ':constraint', '(', 'constraint[recipient]', ')', ':name', '#', '(', 'personname', '\"', '(', 'constraint[recipient]', ')']\n",
      "Expected: ['<bos>', '(', 'yield', ':output', '(', 'updatecommiteventwrapper', ':event', '(', 'updatepreflighteventwrapper', ':id', '(', ':id', '(', 'singleton', '(', ':results', '(', 'findeventwrapperwithdefaults', ':constraint', '(', 'constraint[event]', ':subject', '(', '?~=', '#', '(', 'string', '\"', 'carnival', '\"', ')', ')', ')', ')', ')', ')', ')', ':update', '(', 'constraint[event]', ':attendees', '(', 'andconstraint', '(', 'andconstraint', '(', 'attendeelistexcludesrecipient', ':recipient', '(', '?=', '(', 'execute', ':intension', '(', 'refer', '(', 'extensionconstraint', '(', 'recipientwithnamelike', ':constraint', '(', 'constraint[recipient]', ')', ':name', '#', '(', 'personname', '\"', 'sam', '\"', ')', ')', ')', ')', ')', ')', ')', '(', 'attendeelistexcludesrecipient', ':recipient', '(', '?=', '(', 'execute', ':intension', '(', 'refer', '(', 'extensionconstraint', '(', 'recipientwithnamelike', ':constraint', '(', 'constraint[recipient]', ')', ':name', '#', '(', 'personname', '\"', 'jack', '\"', ')', ')', ')', ')', ')', ')', ')', ')', '(', 'attendeelisthasrecipient', ':recipient', '(', 'execute', ':intension', '(', 'refer', '(', 'extensionconstraint', '(', 'recipientwithnamelike', ':constraint', '(', 'constraint[recipient]', ')', ':name', '#', '(', 'personname', '\"', '\"', ')', ')', ')', ')', ')', ')', ')', ')', ')', ')', ')', '<eos>']\n",
      "Accuracy: 0.2\n",
      "Question: ['yeah', 'fix', 'the', 'also']\n",
      "Program: ['<bos>', '(', 'yield', ':output', '(', 'execute', ':intension', '(', 'confirmandreturnaction', ')', ')', ')', '<eos>']\n",
      "Expected: ['<bos>', '(', 'yield', ':output', '(', 'execute', ':intension', '(', 'confirmandreturnaction', ')', ')', ')', '<eos>']\n",
      "Accuracy: 0.21311475409836064\n",
      "Question: [\"it's\", 'fine']\n",
      "Program: ['<bos>', '(', 'yield', ':output', '(', 'execute', ':intension', '(', 'confirmandreturnaction', ')', ')', ')', '<eos>']\n",
      "Expected: ['<bos>', '(', 'pleasantryanythingelsecombined', ')', '<eos>']\n",
      "Accuracy: 0.20967741935483872\n",
      "Question: ['please', 'make', 'a', 'meet', 'with', 'trainer']\n",
      "Program: ['<bos>', '(', 'yield', ':output', '(', 'createcommiteventwrapper', ':event', '(', 'createpreflighteventwrapper', ':constraint', '(', 'constraint[event]', ':attendees', '(', 'attendeelisthasrecipient', ':recipient', '(', 'execute', ':intension', '(', 'refer', '(', 'extensionconstraint', '(', 'recipientwithnamelike', ':constraint', '(', 'constraint[recipient]', ')', ':name', '#', '(', 'personname', '\"', '(', 'attendeelisthasrecipientconstraint', ')', ':name', '#', '(', 'personname', '\"', 'UNKNOWN', 'kim', '\"', ')', ')', ')', ')', ')', ')', ')', ')', ')', ')', ')', ')', ')', ')', ')', '<eos>']\n",
      "Expected: ['<bos>', '(', 'fenceattendee', ')', '<eos>']\n",
      "Accuracy: 0.20634920634920634\n",
      "Question: ['tom', 'and', 'sally', \"aren't\", 'coming', 'to', 'the', 'next', 'training', 'make', 'a', 'note', 'of', 'it']\n",
      "Program: ['<bos>', '(', 'yield', ':output', '(', 'updatecommiteventwrapper', ':event', '(', 'updatepreflighteventwrapper', ':id', '(', ':id', '(', 'singleton', '(', ':results', '(', 'findeventwrapperwithdefaults', ':constraint', '(', 'constraint[event]', ':subject', '(', '?~=', '#', '(', 'string', '\"', 'lunch', '\"', ')', ')', ')', ')', ')', ')', ')', ':update', '(', 'constraint[event]', ':attendees', '(', 'andconstraint', '(', 'attendeelistexcludesrecipient', ':recipient', '(', '?=', '(', 'execute', ':intension', '(', 'refer', '(', 'extensionconstraint', '(', 'recipientwithnamelike', ':constraint', '(', 'constraint[recipient]', ')', ':name', '#', '(', 'personname', '\"', 'kim', '\"', ')', ')', ')', ')', ')', ')', ')', '(', 'attendeelistexcludesrecipient', ':recipient', '(', '?=', '(', 'execute', ':intension', '(', 'refer', '(', 'extensionconstraint', '(', 'recipientwithnamelike', ':constraint', '(', 'constraint[recipient]', ')', ':name', '#', '(', 'personname', '\"', '(', 'constraint[recipient]', ')']\n",
      "Expected: ['<bos>', '(', 'yield', ':output', '(', 'updatecommiteventwrapper', ':event', '(', 'updatepreflighteventwrapper', ':id', '(', ':id', '(', 'findnumnextevent', ':constraint', '(', 'constraint[event]', ':subject', '(', '?~=', '#', '(', 'string', '\"', 'training', '\"', ')', ')', ')', ':number', '#', '(', 'number', '1', ')', ')', ')', ':update', '(', 'constraint[event]', ':attendees', '(', 'andconstraint', '(', 'attendeelistexcludesrecipient', ':recipient', '(', '?=', '(', 'execute', ':intension', '(', 'refer', '(', 'extensionconstraint', '(', 'recipientwithnamelike', ':constraint', '(', 'constraint[recipient]', ')', ':name', '#', '(', 'personname', '\"', 'tom', '\"', ')', ')', ')', ')', ')', ')', ')', '(', 'attendeelistexcludesrecipient', ':recipient', '(', '?=', '(', 'execute', ':intension', '(', 'refer', '(', 'extensionconstraint', '(', 'recipientwithnamelike', ':constraint', '(', 'constraint[recipient]', ')', ':name', '#', '(', 'personname', '\"', 'sally', '\"', ')', ')', ')', ')', ')', ')', ')', ')', ')', ')', ')', ')', '<eos>']\n",
      "Accuracy: 0.203125\n",
      "Question: ['the', 'kids', 'have', 'a', 'baseball', 'game', 'on', 'saturday', 'from', '1', 'to', '3', 'at', 'memorial', 'park', 'please', 'add', 'that']\n"
     ]
    },
    {
     "name": "stdout",
     "output_type": "stream",
     "text": [
      "Program: ['<bos>', '(', 'let', '(', 'x0', '(', 'dateattimewithdefaults', ':date', '(', 'nextdow', ':dow', '#', '(', 'dayofweek', '\"', 'friday', '\"', ')', ')', ':time', '(', 'numberpm', ':number', '#', '(', 'number', '1', ')', ')', ')', ')', '(', 'yield', ':output', '(', 'createcommiteventwrapper', ':event', '(', 'createpreflighteventwrapper', ':constraint', '(', 'constraint[event]', ':end', '(', '?=', '(', 'timeafterdatetime', ':datetime', 'x0', ':time', '(', 'numberpm', ':number', '#', '(', 'number', '4', ')', ')', ')', ')', ':start', '(', '?=', 'x0', ')', ':subject', '(', '?=', '#', '(', 'string', '\"', 'lunch', '\"', ')', ')', ')', ')', ')', ')', ')', ')', ')', ')', ')', ')', '<eos>']\n",
      "Expected: ['<bos>', '(', 'let', '(', 'x0', '(', 'dateattimewithdefaults', ':date', '(', 'nextdow', ':dow', '#', '(', 'dayofweek', '\"', 'saturday', '\"', ')', ')', ':time', '(', 'numberpm', ':number', '#', '(', 'number', '1', ')', ')', ')', ')', '(', 'yield', ':output', '(', 'createcommiteventwrapper', ':event', '(', 'createpreflighteventwrapper', ':constraint', '(', 'constraint[event]', ':end', '(', '?=', '(', 'timeafterdatetime', ':datetime', 'x0', ':time', '(', 'numberpm', ':number', '#', '(', 'number', '3', ')', ')', ')', ')', ':location', '(', '?=', '#', '(', 'locationkeyphrase', '\"', 'memorial', 'park', '\"', ')', ')', ':start', '(', '?=', 'x0', ')', ':subject', '(', '?=', '#', '(', 'string', '\"', 'baseball', 'game', '\"', ')', ')', ')', ')', ')', ')', ')', '<eos>']\n",
      "Accuracy: 0.2\n",
      "Question: ['wonderful', 'just', 'correct', 'capitalization', 'please']\n",
      "Program: ['<bos>', '(', 'yield', ':output', '(', 'execute', ':intension', '(', 'choosecreateevent', ':index', '(', 'latest', ')', ':intension', '(', 'refer', '(', 'actionintensionconstraint', ')', ')', ')', ')', ')', '<eos>']\n",
      "Expected: ['<bos>', '(', 'yield', ':output', '(', 'execute', ':intension', '(', 'confirmandreturnaction', ')', ')', ')', '<eos>']\n",
      "Accuracy: 0.19696969696969696\n",
      "Question: ['please', 'duplicate', 'this', 'baseball', 'game', 'every', 'other', 'week', 'for', 'the', 'same', 'time']\n",
      "Program: ['<bos>', '(', 'yield', ':output', '(', 'findeventwrapperwithdefaults', ':constraint', '(', 'eventduringrange', ':event', '(', 'constraint[event]', ':subject', '(', '?~=', '#', '(', 'string', '\"', 'lunch', '\"', ')', ')', ')', ':range', '(', 'fullmonthofmonth', ':month', '(', ':month', '(', 'today', ')', ')', ')', ')', ')', ')', ')', '#', '(', 'number', '0', ')', ')', ')', '<eos>']\n",
      "Expected: ['<bos>', '(', 'fencerecurring', ')', '<eos>']\n",
      "Accuracy: 0.19402985074626866\n",
      "Question: ['schedule', 'a', 'baseball', 'practice', 'for', 'saturday', 'at', 'noon', 'with', 'ryan', 'alexander', 'and', 'martin']\n",
      "Program: ['<bos>', '(', 'yield', ':output', '(', 'createcommiteventwrapper', ':event', '(', 'createpreflighteventwrapper', ':constraint', '(', 'constraint[event]', ':attendees', '(', 'andconstraint', '(', 'andconstraint', '(', 'attendeelisthasrecipient', ':recipient', '(', 'execute', ':intension', '(', 'refer', '(', 'extensionconstraint', '(', 'recipientwithnamelike', ':constraint', '(', 'constraint[recipient]', ')', ':name', '#', '(', 'personname', '\"', 'kim', '\"', ')', ')', ')', ')', ')', ')', '(', 'attendeelisthasrecipient', ':recipient', '(', 'execute', ':intension', '(', 'refer', '(', 'extensionconstraint', '(', 'recipientwithnamelike', ':constraint', '(', 'constraint[recipient]', ')', ':name', '#', '(', 'personname', '\"', '(', 'attendeelisthasrecipientconstraint', ')', ')', ')', ')', ')', ')', ')', ')', ':start', '(', '?=', '(', 'dateattimewithdefaults', ':date', '(', 'nextdow', ':dow', '#', '(', 'dayofweek', '\"', 'saturday', '\"', ')', ')', ':time', '(', 'numberpm', ':number', '#', '(', 'number']\n",
      "Expected: ['<bos>', '(', 'yield', ':output', '(', 'createcommiteventwrapper', ':event', '(', 'createpreflighteventwrapper', ':constraint', '(', 'constraint[event]', ':attendees', '(', 'andconstraint', '(', 'andconstraint', '(', 'attendeelisthasrecipient', ':recipient', '(', 'execute', ':intension', '(', 'refer', '(', 'extensionconstraint', '(', 'recipientwithnamelike', ':constraint', '(', 'constraint[recipient]', ')', ':name', '#', '(', 'personname', '\"', 'ryan', '\"', ')', ')', ')', ')', ')', ')', '(', 'attendeelisthasrecipient', ':recipient', '(', 'execute', ':intension', '(', 'refer', '(', 'extensionconstraint', '(', 'recipientwithnamelike', ':constraint', '(', 'constraint[recipient]', ')', ':name', '#', '(', 'personname', '\"', 'alexander', '\"', ')', ')', ')', ')', ')', ')', ')', '(', 'attendeelisthasrecipient', ':recipient', '(', 'execute', ':intension', '(', 'refer', '(', 'extensionconstraint', '(', 'recipientwithnamelike', ':constraint', '(', 'constraint[recipient]', ')', ':name', '#', '(', 'personname', '\"', 'martin', '\"', ')', ')', ')', ')', ')', ')', ')', ':start', '(', '?=', '(', 'dateattimewithdefaults', ':date', '(', 'nextdow', ':dow', '#', '(', 'dayofweek', '\"', 'saturday', '\"', ')', ')', ':time', '(', 'noon', ')', ')', ')', ':subject', '(', '?=', '#', '(', 'string', '\"', 'baseball', 'practice', '\"', ')', ')', ')', ')', ')', ')', '<eos>']\n",
      "Accuracy: 0.19117647058823528\n",
      "Question: ['yes', 'that', 'looks', 'good']\n",
      "Program: ['<bos>', '(', 'yield', ':output', '(', 'execute', ':intension', '(', 'confirmandreturnaction', ')', ')', ')', '<eos>']\n",
      "Expected: ['<bos>', '(', 'yield', ':output', '(', 'execute', ':intension', '(', 'confirmandreturnaction', ')', ')', ')', '<eos>']\n",
      "Accuracy: 0.2028985507246377\n",
      "Question: ['so', 'am', 'i', 'free', 'next', 'week']\n",
      "Program: ['<bos>', '(', 'yield', ':output', '(', 'isfree', ':eventcandidates', '(', 'recipientavailability', ':eventconstraint', '(', 'constraint[event]', ':attendees', '(', 'attendeelisthasrecipient', ':recipient', '(', 'torecipient', '(', 'currentuser', ')', ')', ')', ':start', '(', 'constraint[datetime]', ':date', '(', 'nextweeklist', ')', ')', ':subject', '(', '?=', '#', '(', 'string', '\"', 'lunch', '\"', ')', ')', ')', ')', ')', ')', ')', '<eos>']\n",
      "Expected: ['<bos>', '(', 'yield', ':output', '(', 'isfree', ':eventcandidates', '(', 'recipientavailability', ':eventconstraint', '(', 'constraint[event]', ':attendees', '(', 'attendeelisthasrecipient', ':recipient', '(', 'torecipient', '(', 'currentuser', ')', ')', ')', ':start', '(', 'constraint[datetime]', ':date', '(', 'nextweeklist', ')', ')', ')', ':includingme', '#', '(', 'boolean', 'true', ')', ')', ')', ')', '<eos>']\n",
      "Accuracy: 0.2\n",
      "Question: ['i', 'meant', 'to', 'ask', 'when', 'i', 'am', 'free', 'tomorrow', 'not', 'next', 'week', 'thank', 'you']\n",
      "Program: ['<bos>', '(', 'yield', ':output', '(', 'execute', ':intension', '(', 'reviseconstraint', ':rootlocation', '(', 'roleconstraint', '#', '(', 'path', '\"', 'output', '\"', ')', ')', ':oldlocation', '(', 'constraint[constraint[event]]', ')', ':new', '(', 'eventduringrange', ':event', '(', 'eventondate', ':date', '(', '?~=', '#', '(', 'string', '\"', 'lunch', '\"', ')', ')', ')', ':range', '(', 'thisweek', ')', ')', ')', ')', ')', '#', '(', 'number', '0', ')', ')', ')', '<eos>']\n",
      "Expected: ['<bos>', '(', 'yield', ':output', '(', 'execute', ':intension', '(', 'reviseconstraint', ':rootlocation', '(', 'roleconstraint', '#', '(', 'path', '\"', 'output', '\"', ')', ')', ':oldlocation', '(', 'constraint[constraint[event]]', ')', ':new', '(', 'constraint[event]', ':start', '(', 'constraint[datetime]', ':date', '(', '?=', '(', 'tomorrow', ')', ')', ')', ')', ')', ')', ')', '<eos>']\n",
      "Accuracy: 0.19718309859154928\n",
      "Question: ['good', 'now', 'tell', 'is', 'kim', 'free', 'this', 'week']\n",
      "Program: ['<bos>', '(', 'yield', ':output', '(', 'isfree', ':eventcandidates', '(', 'recipientavailability', ':eventconstraint', '(', 'constraint[event]', ':attendees', '(', 'attendeelisthasrecipient', ':recipient', '(', 'execute', ':intension', '(', 'refer', '(', 'extensionconstraint', '(', 'recipientwithnamelike', ':constraint', '(', 'constraint[recipient]', ')', ':name', '#', '(', 'personname', '\"', 'kim', '\"', ')', ')', ')', ')', ')', ')', ':start', '(', 'constraint[datetime]', ':date', '(', 'nextweeklist', ':dayofweek', '(', 'negate', '(', 'weekend', ')', ')', ')', ')', ':subject', '(', '?=', '#', '(', 'string', '\"', 'lunch', '\"', ')', ')', ')', ')', ')', ')', ')', '<eos>']\n",
      "Expected: ['<bos>', '(', 'yield', ':output', '(', 'isfree', ':eventcandidates', '(', 'recipientavailability', ':eventconstraint', '(', 'constraint[event]', ':attendees', '(', 'attendeelisthasrecipient', ':recipient', '(', 'execute', ':intension', '(', 'refer', '(', 'extensionconstraint', '(', 'recipientwithnamelike', ':constraint', '(', 'constraint[recipient]', ')', ':name', '#', '(', 'personname', '\"', 'kim', '\"', ')', ')', ')', ')', ')', ')', ':start', '(', 'constraint[datetime]', ':date', '(', 'thisweek', ')', ')', ')', ':includingme', '#', '(', 'boolean', 'false', ')', ')', ')', ')', '<eos>']\n",
      "Accuracy: 0.19444444444444445\n",
      "Question: ['what', 'about', 'in', 'the', 'next', 'ten', 'days']\n"
     ]
    },
    {
     "name": "stdout",
     "output_type": "stream",
     "text": [
      "Program: ['<bos>', '(', 'yield', ':output', '(', 'execute', ':intension', '(', 'reviseconstraint', ':rootlocation', '(', 'roleconstraint', '#', '(', 'path', '\"', 'output', '\"', ')', ')', ':oldlocation', '(', 'constraint[constraint[event]]', ')', ':new', '(', 'eventduringrange', ':event', '(', 'constraint[event]', ')', ':range', '(', 'fullmonthofmonth', ':month', '#', '(', 'month', '\"', 'may', '\"', ')', ')', ')', ':event', '(', 'constraint[event]', ':subject', '(', '?~=', '#', '(', 'string', '\"', 'lunch', '\"', ')', ')', ')', ')', ')', ')', ')', ')', ')', ')', ')', '<eos>']\n",
      "Expected: ['<bos>', '(', 'yield', ':output', '(', 'execute', ':intension', '(', 'reviseconstraint', ':rootlocation', '(', 'roleconstraint', '#', '(', 'path', '\"', 'output', '\"', ')', ')', ':oldlocation', '(', 'constraint[constraint[event]]', ')', ':new', '(', 'constraint[event]', ':start', '(', 'constraint[datetime]', ':date', '(', '?=', '(', 'adjustbyperiod', '(', 'execute', ':intension', '(', 'refer', '(', 'extensionconstraint', '(', 'constraint[date]', ')', ')', ')', ')', '(', 'todays', '#', '(', 'number', '10.0', ')', ')', ')', ')', ')', ')', ')', ')', ')', '<eos>']\n",
      "Accuracy: 0.1917808219178082\n",
      "Question: []\n",
      "Program: ['<bos>', '(', 'pleasantryanythingelsecombined', ')', '<eos>']\n",
      "Expected: ['<bos>', '(', 'fencegibberish', ')', '<eos>']\n",
      "Accuracy: 0.1891891891891892\n",
      "Question: ['no', 'thanks', 'i', \"don't\", 'need', 'any', 'help', 'just', 'leave', 'me', 'a', 'lone']\n",
      "Program: ['<bos>', '(', 'pleasantryanythingelsecombined', ')', '<eos>']\n",
      "Expected: ['<bos>', '(', 'fencegibberish', ')', '<eos>']\n",
      "Accuracy: 0.18666666666666668\n",
      "Question: []\n",
      "Program: ['<bos>', '(', 'pleasantryanythingelsecombined', ')', '<eos>']\n",
      "Expected: ['<bos>', '(', 'fencegibberish', ')', '<eos>']\n",
      "Accuracy: 0.18421052631578946\n",
      "Question: ['hi', 'tell', 'me', 'about', 'my', 'events', 'on', 'saturday', 'okay', 'what', 'about', 'sunday']\n",
      "Program: ['<bos>', '(', 'yield', ':output', '(', 'findeventwrapperwithdefaults', ':constraint', '(', 'eventondate', ':date', '(', 'nextdow', ':dow', '#', '(', 'dayofweek', '\"', 'friday', '\"', ')', ')', ':event', '(', 'constraint[event]', ')', ')', ')', ')', ')', '#', '(', 'number', '0', ')', ')', ')', '<eos>']\n",
      "Expected: ['<bos>', '(', 'fencemultiaction', ')', '<eos>']\n",
      "Accuracy: 0.18181818181818182\n",
      "Question: ['what', 'about', 'the', 'rest', 'of', 'the', 'day']\n",
      "Program: ['<bos>', '(', 'yield', ':output', '(', 'execute', ':intension', '(', 'reviseconstraint', ':rootlocation', '(', 'roleconstraint', '#', '(', 'path', '\"', 'output', '\"', ')', ')', ':oldlocation', '(', 'constraint[constraint[event]]', ')', ':new', '(', 'eventondate', ':date', '(', 'adjustbyperiod', '(', 'execute', ':intension', '(', 'refer', '(', 'extensionconstraint', '(', 'constraint[date]', ')', ')', ')', ')', '(', 'todays', '#', '(', 'number', '1', ')', ')', ')', ':event', '(', 'constraint[event]', ')', ')', ')', ')', ')', ')', ':update', '(', 'constraint[event]', ':start', '(', 'constraint[datetime]', '#', '(', 'showasstatus', '\"', 'outofoffice', '\"', ')', ')', ')', ')', ')', ')', '<eos>']\n",
      "Expected: ['<bos>', '(', 'yield', ':output', '(', 'findeventwrapperwithdefaults', ':constraint', '(', 'eventforrestoftoday', ':event', '(', 'constraint[event]', ')', ')', ')', ')', '<eos>']\n",
      "Accuracy: 0.1794871794871795\n",
      "Question: ['ok']\n",
      "Program: ['<bos>', '(', 'pleasantryanythingelsecombined', ')', '<eos>']\n",
      "Expected: ['<bos>', '(', 'pleasantryanythingelsecombined', ')', '<eos>']\n",
      "Accuracy: 0.189873417721519\n",
      "Question: ['what', 'about', 'my', 'events', 'on', 'sunday']\n",
      "Program: ['<bos>', '(', 'yield', ':output', '(', 'findeventwrapperwithdefaults', ':constraint', '(', 'eventondate', ':date', '(', 'nextdow', ':dow', '#', '(', 'dayofweek', '\"', 'friday', '\"', ')', ')', ':event', '(', 'constraint[event]', ')', ')', ')', ')', ')', '#', '(', 'number', '0', ')', ')', ')', '<eos>']\n",
      "Expected: ['<bos>', '(', 'yield', ':output', '(', 'execute', ':intension', '(', 'reviseconstraint', ':rootlocation', '(', 'roleconstraint', '#', '(', 'path', '\"', 'output', '\"', ')', ')', ':oldlocation', '(', 'constraint[constraint[event]]', ')', ':new', '(', 'eventondate', ':date', '(', 'closestdayofweek', ':date', '(', 'execute', ':intension', '(', 'refer', '(', 'extensionconstraint', '(', 'constraint[date]', ')', ')', ')', ')', ':dow', '#', '(', 'dayofweek', '\"', 'sunday', '\"', ')', ')', ':event', '(', 'constraint[event]', ')', ')', ')', ')', ')', '<eos>']\n",
      "Accuracy: 0.1875\n",
      "Question: ['what', 'meetings', 'do', 'i', 'have', 'with', 'don', 'next', 'week']\n",
      "Program: ['<bos>', '(', 'yield', ':output', '(', 'findeventwrapperwithdefaults', ':constraint', '(', 'eventduringrange', ':event', '(', 'constraint[event]', ':attendees', '(', 'attendeelisthasrecipientconstraint', ':recipientconstraint', '(', 'recipientwithnamelike', ':constraint', '(', 'constraint[recipient]', ')', ':name', '#', '(', 'personname', '\"', 'kim', '\"', ')', ')', ')', ')', ':range', '(', 'thisweek', ')', ')', ')', ')', ')', '#', '(', 'number', '0', ')', ')', ')', '<eos>']\n",
      "Expected: ['<bos>', '(', 'yield', ':output', '(', 'findeventwrapperwithdefaults', ':constraint', '(', 'eventduringrange', ':event', '(', 'constraint[event]', ':attendees', '(', 'attendeelisthasrecipientconstraint', ':recipientconstraint', '(', 'recipientwithnamelike', ':constraint', '(', 'constraint[recipient]', ')', ':name', '#', '(', 'personname', '\"', 'don', '\"', ')', ')', ')', ')', ':range', '(', 'nextweeklist', ')', ')', ')', ')', '<eos>']\n",
      "Accuracy: 0.18518518518518517\n",
      "Question: ['does', 'chuck', 'e', 'cheese', 'in', 'reno', 'have', 'takeout', 'options']\n",
      "Program: ['<bos>', '(', 'yield', ':output', '(', 'placehasfeature', ':feature', '#', '(', 'placefeature', '\"', 'takeout', '\"', ')', ':place', '(', 'singleton', '(', ':results', '(', 'findplacemultiresults', ':place', '#', '(', 'locationkeyphrase', '\"', '\"', ')', ')', ')', ':time', '(', '?=', '#', '(', 'string', '\"', 'lunch', '\"', ')', ')', ')', ')', ')', ')', ')', ')', '<eos>']\n",
      "Expected: ['<bos>', '(', 'yield', ':output', '(', 'placehasfeature', ':feature', '#', '(', 'placefeature', '\"', 'takeout', '\"', ')', ':place', '(', 'singleton', '(', ':results', '(', 'findplacemultiresults', ':place', '#', '(', 'locationkeyphrase', '\"', 'chuck', 'e', 'cheese', 'in', 'reno', '\"', ')', ')', ')', ')', ')', ')', '<eos>']\n",
      "Accuracy: 0.18292682926829268\n",
      "Question: ['does', 'in', 'n', 'out', 'in', 'carson', 'city', 'have', 'takeout']\n",
      "Program: ['<bos>', '(', 'yield', ':output', '(', 'placehasfeature', ':feature', '#', '(', 'placefeature', '\"', 'takeout', '\"', ')', ':place', '(', 'singleton', '(', ':results', '(', 'findplacemultiresults', ':place', '#', '(', 'locationkeyphrase', '\"', '\"', ')', ')', ')', ':time', '(', '?=', '(', 'now', ')', ')', ')', ')', '<eos>']\n",
      "Expected: ['<bos>', '(', 'yield', ':output', '(', 'placehasfeature', ':feature', '#', '(', 'placefeature', '\"', 'takeout', '\"', ')', ':place', '(', 'singleton', '(', ':results', '(', 'findplacemultiresults', ':place', '#', '(', 'locationkeyphrase', '\"', 'in-n-out', 'in', 'carson', 'city', '\"', ')', ')', ')', ')', ')', ')', '<eos>']\n",
      "Accuracy: 0.18072289156626506\n",
      "Question: ['does', 'the', 'nine', 'o', 'have', 'takeout']\n",
      "Program: ['<bos>', '(', 'yield', ':output', '(', ':phonenumber', '(', 'singleton', '(', ':results', '(', 'findplacemultiresults', ':place', '#', '(', 'locationkeyphrase', '\"', '\"', ')', ')', ')', ':time', '(', '?=', '#', '(', 'string', '\"', 'lunch', '\"', ')', ')', ')', ')', ')', ')', ')', ')', ')', '<eos>']\n",
      "Expected: ['<bos>', '(', 'yield', ':output', '(', 'placehasfeature', ':feature', '#', '(', 'placefeature', '\"', 'takeout', '\"', ')', ':place', '(', 'singleton', '(', ':results', '(', 'findplaceathere', ':place', '#', '(', 'locationkeyphrase', '\"', 'nine-o', '\"', ')', ':radiusconstraint', '(', 'atplace', ':place', '(', 'here', ')', ')', ')', ')', ')', ')', ')', '<eos>']\n",
      "Accuracy: 0.17857142857142858\n",
      "Question: ['when', 'was', 'the', 'fresh', 'market', 'in', 'town']\n",
      "Program: ['<bos>', '(', 'yield', ':output', '(', ':start', '(', 'singleton', '(', ':results', '(', 'findeventwrapperwithdefaults', ':constraint', '(', 'constraint[event]', ':subject', '(', '?~=', '#', '(', 'string', '\"', 'lunch', '\"', ')', ')', ')', ')', ')', ')', ')', ')', ')', ')', '<eos>']\n",
      "Expected: ['<bos>', '(', 'yield', ':output', '(', ':start', '(', 'findlastevent', ':constraint', '(', 'eventbeforedatetime', ':datetime', '(', 'now', ')', ':event', '(', 'constraint[event]', ':subject', '(', '?~=', '#', '(', 'string', '\"', 'fresh', 'market', '\"', ')', ')', ')', ')', ')', ')', ')', '<eos>']\n",
      "Accuracy: 0.17647058823529413\n",
      "Question: ['who', 'went', 'with', 'me']\n"
     ]
    },
    {
     "name": "stdout",
     "output_type": "stream",
     "text": [
      "Program: ['<bos>', '(', 'yield', ':output', '(', 'attendeeswithresponse', ':attendees', '(', ':attendees', '(', 'currentuser', ')', ')', ')', ')', '<eos>']\n",
      "Expected: ['<bos>', '(', 'yield', ':output', '(', 'attendeeswithresponse', ':attendees', '(', ':attendees', '(', 'execute', ':intension', '(', 'refer', '(', 'extensionconstraint', '(', 'constraint[event]', ')', ')', ')', ')', ')', ':response', '#', '(', 'responsestatustype', '\"', 'accepted', '\"', ')', ')', ')', '<eos>']\n",
      "Accuracy: 0.1744186046511628\n",
      "Question: ['when', 'did', 'i', 'last', 'take', 'my', 'dog', 'to', 'the', 'vet']\n",
      "Program: ['<bos>', '(', 'yield', ':output', '(', ':start', '(', 'singleton', '(', ':results', '(', 'findeventwrapperwithdefaults', ':constraint', '(', 'eventbeforedatetime', ':subject', '(', 'now', ')', ':event', '(', 'constraint[event]', ':subject', '(', '?~=', '#', '(', 'string', '\"', 'lunch', '\"', ')', ')', ')', ')', ')', ')', ')', ')', ')', ')', ')', '<eos>']\n",
      "Expected: ['<bos>', '(', 'yield', ':output', '(', ':start', '(', 'singleton', '(', ':results', '(', 'findeventwrapperwithdefaults', ':constraint', '(', 'eventbeforedatetime', ':datetime', '(', 'now', ')', ':event', '(', 'constraint[event]', ':subject', '(', '?~=', '#', '(', 'string', '\"', 'take', 'my', 'dog', 'to', 'the', 'vet', '\"', ')', ')', ')', ')', ')', ')', ')', ')', ')', '<eos>']\n",
      "Accuracy: 0.1724137931034483\n",
      "Question: ['did', 'i', 'have', 'anything', 'right', 'before', 'that']\n",
      "Program: ['<bos>', '(', 'let', '(', 'x0', '(', ':end', '(', 'execute', ':intension', '(', 'refer', '(', 'extensionconstraint', '(', 'constraint[event]', ')', ')', ')', ')', ')', ')', '(', 'yield', ':output', '(', '>', '(', 'size', '(', ':results', '(', 'findeventwrapperwithdefaults', ':constraint', '(', 'eventondatebeforetime', ':date', '(', ':date', 'x0', ')', ':event', '(', 'constraint[event]', ')', ':time', '(', ':time', 'x0', ')', ')', ')', ')', ')', '#', '(', 'number', '0', ')', ')', ')', '<eos>']\n",
      "Expected: ['<bos>', '(', 'let', '(', 'x0', '(', ':start', '(', 'execute', ':intension', '(', 'refer', '(', 'extensionconstraint', '(', 'constraint[event]', ')', ')', ')', ')', ')', ')', '(', 'yield', ':output', '(', '>', '(', 'size', '(', ':results', '(', 'findeventwrapperwithdefaults', ':constraint', '(', 'eventondatebeforetime', ':date', '(', ':date', 'x0', ')', ':event', '(', 'constraint[event]', ')', ':time', '(', ':time', 'x0', ')', ')', ')', ')', ')', '#', '(', 'number', '0', ')', ')', ')', ')', '<eos>']\n",
      "Accuracy: 0.17045454545454544\n",
      "Question: ['when', 'did', 'i', 'get', 'my', 'hair']\n",
      "Program: ['<bos>', '(', 'yield', ':output', '(', ':start', '(', 'singleton', '(', ':results', '(', 'findeventwrapperwithdefaults', ':constraint', '(', 'eventbeforedatetime', ':subject', '(', '?~=', '#', '(', 'string', '\"', 'lunch', '\"', ')', ')', ')', ')', ')', ')', ')', ')', ')', ')', '<eos>']\n",
      "Expected: ['<bos>', '(', 'yield', ':output', '(', ':start', '(', 'singleton', '(', ':results', '(', 'findeventwrapperwithdefaults', ':constraint', '(', 'eventbeforedatetime', ':datetime', '(', 'now', ')', ':event', '(', 'constraint[event]', ':subject', '(', '?~=', '#', '(', 'string', '\"', 'get', 'my', 'hair', '\"', ')', ')', ')', ')', ')', ')', ')', ')', ')', '<eos>']\n",
      "Accuracy: 0.16853932584269662\n",
      "Question: ['mark', 'my', 'calendar', 'for', 'breakfast', 'with', 'mom', 'and', 'dad', 'for', 'thursday']\n",
      "Program: ['<bos>', '(', 'yield', ':output', '(', 'createcommiteventwrapper', ':event', '(', 'createpreflighteventwrapper', ':constraint', '(', 'constraint[event]', ':start', '(', 'constraint[datetime]', ':date', '(', '?=', '(', 'nextdow', ':dow', '#', '(', 'dayofweek', '\"', 'monday', '\"', ')', ')', ')', ')', ':subject', '(', '?=', '#', '(', 'string', '\"', 'lunch', '\"', ')', ')', ')', ')', ')', ')', '<eos>']\n",
      "Expected: ['<bos>', '(', 'fenceattendee', ')', '<eos>']\n",
      "Accuracy: 0.16666666666666666\n",
      "Question: ['please', 'create', 'an', 'event', 'at', 'noon', 'next', 'tuesday', 'with', 'myself', 'and', 'amanda', 'called', 'lunch', 'date']\n",
      "Program: ['<bos>', '(', 'yield', ':output', '(', 'createcommiteventwrapper', ':event', '(', 'createpreflighteventwrapper', ':constraint', '(', 'constraint[event]', ':attendees', '(', 'attendeelisthasrecipient', ':recipient', '(', 'execute', ':intension', '(', 'refer', '(', 'extensionconstraint', '(', 'recipientwithnamelike', ':constraint', '(', 'constraint[recipient]', ')', ':name', '#', '(', 'personname', '\"', '(', 'attendeelisthasrecipientconstraint', ')', ')', ')', ')', ')', ':start', '(', '?=', '(', 'dateattimewithdefaults', ':date', '(', 'nextdow', ':dow', '#', '(', 'dayofweek', '\"', 'friday', '\"', ')', ')', ':time', '(', 'numberpm', ':number', '#', '(', 'number', '4', ')', ')', ')', ')', ':subject', '(', '?=', '#', '(', 'string', '\"', 'lunch', '\"', ')', ')', ')', ')', ')', ')', '<eos>']\n",
      "Expected: ['<bos>', '(', 'yield', ':output', '(', 'createcommiteventwrapper', ':event', '(', 'createpreflighteventwrapper', ':constraint', '(', 'constraint[event]', ':attendees', '(', 'attendeelisthasrecipient', ':recipient', '(', 'execute', ':intension', '(', 'refer', '(', 'extensionconstraint', '(', 'recipientwithnamelike', ':constraint', '(', 'constraint[recipient]', ')', ':name', '#', '(', 'personname', '\"', 'amanda', '\"', ')', ')', ')', ')', ')', ')', ':start', '(', 'datetimeconstraint', ':constraint', '(', '?=', '(', 'noon', ')', ')', ':date', '(', 'nextdow', ':dow', '#', '(', 'dayofweek', '\"', 'tuesday', '\"', ')', ')', ')', ':subject', '(', '?=', '#', '(', 'string', '\"', 'lunch', 'date', '\"', ')', ')', ')', ')', ')', ')', '<eos>']\n",
      "Accuracy: 0.16483516483516483\n",
      "Question: ['look', 'good']\n",
      "Program: ['<bos>', '(', 'yield', ':output', '(', 'execute', ':intension', '(', 'confirmandreturnaction', ')', ')', ')', '<eos>']\n",
      "Expected: ['<bos>', '(', 'yield', ':output', '(', 'execute', ':intension', '(', 'confirmandreturnaction', ')', ')', ')', '<eos>']\n",
      "Accuracy: 0.17391304347826086\n",
      "Question: ['change', 'the', 'time', 'to', '2pm']\n",
      "Program: ['<bos>', '(', 'yield', ':output', '(', 'updatecommiteventwrapper', ':event', '(', 'updatepreflighteventwrapper', ':id', '(', ':id', '(', 'execute', ':intension', '(', 'refer', '(', 'extensionconstraint', '(', 'constraint[event]', ')', ')', ')', ')', ')', ':update', '(', 'constraint[event]', ':start', '(', 'constraint[datetime]', ':time', '(', '?=', '(', 'numberpm', ':number', '#', '(', 'number', '4', ')', ')', ')', ')', ')', ')', ')', ')', '<eos>']\n",
      "Expected: ['<bos>', '(', 'yield', ':output', '(', 'createcommiteventwrapper', ':event', '(', 'createpreflighteventwrapper', ':constraint', '(', 'constraint[event]', ':start', '(', 'constraint[datetime]', ':time', '(', '?=', '(', 'numberpm', ':number', '#', '(', 'number', '2', ')', ')', ')', ')', ')', ')', ')', ')', '<eos>']\n",
      "Accuracy: 0.17204301075268819\n",
      "Question: ['july', '26', 'works']\n",
      "Program: ['<bos>', '(', 'yield', ':output', '(', 'execute', ':intension', '(', 'choosecreateeventfromconstraint', ':constraint', '(', 'constraint[event]', ':start', '(', 'constraint[datetime]', ':date', '(', '?=', '(', 'md', ':day', '#', '(', 'number', '16', ')', ':month', '#', '(', 'month', '\"', 'may', '\"', ')', ')', ')', ')', ')', ':intension', '(', 'refer', '(', 'actionintensionconstraint', ')', ')', ')', ')', ')', '<eos>']\n",
      "Expected: ['<bos>', '(', 'yield', ':output', '(', 'execute', ':intension', '(', 'choosecreateeventfromconstraint', ':constraint', '(', 'constraint[event]', ':start', '(', 'constraint[datetime]', ':date', '(', '?=', '(', 'md', ':day', '#', '(', 'number', '26', ')', ':month', '#', '(', 'month', '\"', 'july', '\"', ')', ')', ')', ')', ')', ':intension', '(', 'refer', '(', 'actionintensionconstraint', ')', ')', ')', ')', ')', '<eos>']\n",
      "Accuracy: 0.1702127659574468\n",
      "Question: ['schedule', 'a', 'meeting', 'with', 'sarah', 'at', '3', '00', 'pm']\n",
      "Program: ['<bos>', '(', 'yield', ':output', '(', 'createcommiteventwrapper', ':event', '(', 'createpreflighteventwrapper', ':constraint', '(', 'constraint[event]', ':attendees', '(', 'attendeelisthasrecipient', ':recipient', '(', 'execute', ':intension', '(', 'refer', '(', 'extensionconstraint', '(', 'recipientwithnamelike', ':constraint', '(', 'constraint[recipient]', ')', ':name', '#', '(', 'personname', '\"', 'john', '\"', ')', ')', ')', ')', ')', ')', ':start', '(', '?=', '(', 'nexttime', ':time', '(', 'numberpm', ':number', '#', '(', 'number', '4', ')', ')', ')', ')', ':subject', '(', '?=', '#', '(', 'string', '\"', 'lunch', '\"', ')', ')', ')', ')', ')', ')', '<eos>']\n",
      "Expected: ['<bos>', '(', 'yield', ':output', '(', 'createcommiteventwrapper', ':event', '(', 'createpreflighteventwrapper', ':constraint', '(', 'constraint[event]', ':attendees', '(', 'attendeelisthasrecipient', ':recipient', '(', 'execute', ':intension', '(', 'refer', '(', 'extensionconstraint', '(', 'recipientwithnamelike', ':constraint', '(', 'constraint[recipient]', ')', ':name', '#', '(', 'personname', '\"', 'sarah', '\"', ')', ')', ')', ')', ')', ')', ':start', '(', '?=', '(', 'nexttime', ':time', '(', 'numberpm', ':number', '#', '(', 'number', '3', ')', ')', ')', ')', ')', ')', ')', ')', '<eos>']\n",
      "Accuracy: 0.16842105263157894\n",
      "Question: ['great']\n"
     ]
    },
    {
     "name": "stdout",
     "output_type": "stream",
     "text": [
      "Program: ['<bos>', '(', 'yield', ':output', '(', 'execute', ':intension', '(', 'confirmandreturnaction', ')', ')', ')', '<eos>']\n",
      "Expected: ['<bos>', '(', 'yield', ':output', '(', 'execute', ':intension', '(', 'confirmandreturnaction', ')', ')', ')', '<eos>']\n",
      "Accuracy: 0.17708333333333334\n",
      "Question: ['join', 'it', 'now', 'please']\n",
      "Program: ['<bos>', '(', 'yield', ':output', '(', 'execute', ':intension', '(', 'reviseconstraint', ':rootlocation', '(', 'roleconstraint', '#', '(', 'path', '\"', 'output', '\"', ')', ')', ':oldlocation', '(', 'constraint[constraint[event]]', ')', ':new', '(', 'constraint[event]', ':subject', '(', '?~=', '#', '(', 'string', '\"', 'lunch', '\"', ')', ')', ')', ')', ')', ')', ')', ':response', '#', '(', 'responsestatustype', '\"', 'accepted', '\"', ')', ')', ')', '<eos>']\n",
      "Expected: ['<bos>', '(', 'yield', ':output', '(', 'joineventcommand', '(', ':id', '(', 'findnumnextevent', ':constraint', '(', 'constraint[event]', ')', ':number', '#', '(', 'number', '1', ')', ')', ')', ')', ')', '<eos>']\n",
      "Accuracy: 0.17525773195876287\n",
      "Question: ['i', 'need', 'to', 'finish', 'by', 'james', 'clear', 'by', 'friday', 'at', '5', 'pm']\n",
      "Program: ['<bos>', '(', 'yield', ':output', '(', 'createcommiteventwrapper', ':event', '(', 'createpreflighteventwrapper', ':constraint', '(', 'constraint[event]', ':start', '(', '?=', '(', 'dateattimewithdefaults', ':date', '(', 'tomorrow', ')', ':time', '(', 'numberpm', ':number', '#', '(', 'number', '4', ')', ')', ')', ')', ':subject', '(', '?=', '#', '(', 'string', '\"', 'lunch', '\"', ')', ')', ')', ')', ')', ')', '<eos>']\n",
      "Expected: ['<bos>', '(', 'yield', ':output', '(', 'createcommiteventwrapper', ':event', '(', 'createpreflighteventwrapper', ':constraint', '(', 'constraint[event]', ':start', '(', '?=', '(', 'dateattimewithdefaults', ':date', '(', 'nextdow', ':dow', '#', '(', 'dayofweek', '\"', 'friday', '\"', ')', ')', ':time', '(', 'numberpm', ':number', '#', '(', 'number', '5', ')', ')', ')', ')', ':subject', '(', '?=', '#', '(', 'string', '\"', 'finish', 'by', 'james', 'clear', '\"', ')', ')', ')', ')', ')', ')', '<eos>']\n",
      "Accuracy: 0.17346938775510204\n",
      "Question: ['i', 'might', 'need', 'more', 'time', 'change', 'that', 'to', 'start', 'at', '8', 'pm']\n",
      "Program: ['<bos>', '(', 'yield', ':output', '(', 'updatecommiteventwrapper', ':event', '(', 'updatepreflighteventwrapper', ':id', '(', ':id', '(', 'execute', ':intension', '(', 'refer', '(', 'extensionconstraint', '(', 'constraint[event]', ')', ')', ')', ')', ')', ':update', '(', 'constraint[event]', ':start', '(', 'constraint[datetime]', ':time', '(', '?=', '(', 'numberpm', ':number', '#', '(', 'number', '4', ')', ')', ')', ')', ')', ')', ')', ')', '<eos>']\n",
      "Expected: ['<bos>', '(', 'yield', ':output', '(', 'updatecommiteventwrapper', ':event', '(', 'updatepreflighteventwrapper', ':id', '(', ':id', '(', 'execute', ':intension', '(', 'refer', '(', 'extensionconstraint', '(', 'constraint[event]', ')', ')', ')', ')', ')', ':update', '(', 'constraint[event]', ':start', '(', 'constraint[datetime]', ':time', '(', '?=', '(', 'numberpm', ':number', '#', '(', 'number', '8', ')', ')', ')', ')', ')', ')', ')', ')', '<eos>']\n",
      "Accuracy: 0.1717171717171717\n",
      "Accuracy: 0.1717171717171717\n"
     ]
    }
   ],
   "source": [
    "TP=0\n",
    "ALL=0\n",
    "for i,test in enumerate(test_data):\n",
    "    prediction = make_prediction(test,[],user_tokenizer=tokenizer_user,lispress_tokenizer=lispress_tokenizer,model=model,isText=False)\n",
    "    print(\"Expected:\",[lispress_tokenizer.index_word[code] for code in test_data_y[i]])\n",
    "    ALL+=1\n",
    "    if len(prediction) == len(test_data_y[i]) and np.sum([ 0 if pred == expected else 1 for pred,expected in zip(prediction,test_data_y[i])] ) == 0:\n",
    "        TP+=1\n",
    "    print(\"Accuracy:\",TP/ALL)\n",
    "\n",
    "print(\"Accuracy:\",TP/ALL)"
   ]
  },
  {
   "cell_type": "code",
   "execution_count": 66,
   "metadata": {},
   "outputs": [],
   "source": [
    "def simple_pred(sent):\n",
    "    make_prediction(sent,[],tokenizer_user,lispress_tokenizer,model)"
   ]
  },
  {
   "cell_type": "code",
   "execution_count": 67,
   "metadata": {},
   "outputs": [
    {
     "name": "stdout",
     "output_type": "stream",
     "text": [
      "Question: ['add', 'a', 'task', 'to', 'my', 'calendar']\n",
      "Program: ['<bos>', '(', 'yield', ':output', '(', 'createcommiteventwrapper', ':event', '(', 'createpreflighteventwrapper', ':constraint', '(', 'constraint[event]', ':subject', '(', '?=', '#', '(', 'string', '\"', 'lunch', '\"', ')', ')', ')', ')', ')', ')', '<eos>']\n"
     ]
    }
   ],
   "source": [
    "simple_pred(\"Add a task to my calendar\")"
   ]
  }
 ],
 "metadata": {
  "kernelspec": {
   "display_name": "Python 3",
   "language": "python",
   "name": "python3"
  },
  "language_info": {
   "codemirror_mode": {
    "name": "ipython",
    "version": 3
   },
   "file_extension": ".py",
   "mimetype": "text/x-python",
   "name": "python",
   "nbconvert_exporter": "python",
   "pygments_lexer": "ipython3",
   "version": "3.6.9"
  }
 },
 "nbformat": 4,
 "nbformat_minor": 4
}
