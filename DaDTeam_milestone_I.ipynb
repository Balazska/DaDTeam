{
 "cells": [
  {
   "cell_type": "markdown",
   "metadata": {
    "id": "3zxWncqxfSe3"
   },
   "source": [
    "# <center> We are the DaDTeam! </center>\n",
    "<center> Balazs Fodor, Hodvogner Szilvia, Gergely Dobreff </center>\n",
    "\n",
    "## Goal\n",
    "We choose topic NLP2 (ChatBot based on deep learning) for the Deep Learning Course's homework. Our goal is to build a Neural Network for the [SMCalFlow challenge](https://microsoft.github.io/task_oriented_dialogue_as_dataflow_synthesis/). This competition was announced by Microsoft Semantic Machine, the motivation for this competition is that one of the central challenges in conversational AI is the design of a dialogue state representation that agents can use to reason about the information and actions available to them. They have developed a new representational framework for dialogue that enables efficient machine learning of complex conversations.\n",
    "\n",
    "## Dataset\n",
    "SMCalFlow is a large English-language dialogue dataset, featuring natural conversations about tasks involving calendars, weather, places, and people. It has 41,517 conversations annotated with dataflow programs. In contrast to existing dialogue datasets, this dialogue collection was not based on pre-specified scripts, and participants were not restricted in terms of what they could ask for and how they should accomplish their tasks. As a result, SMCalFlow is qualitatively different from existing dialogue datasets, featuring explicit discussion about agent capabilities, multi-turn error recovery, and complex goals.\n",
    "\n",
    "## Reference\n",
    "The original scientific paper about the framework, the dataset and their baseline solution can be found [here](https://www.mitpressjournals.org/doi/10.1162/tacl_a_00333), a shorter summary in the form of a blog post can be found [at this link](https://www.microsoft.com/en-us/research/blog/dialogue-as-dataflow-a-new-approach-to-conversational-ai/). \n",
    "\n",
    "Microsoft also opensourced a [github repository](https://github.com/microsoft/task_oriented_dialogue_as_dataflow_synthesis) containing codes to reproduce their results in the article. The library can be installed with pip using the following command:\n",
    "```sh\n",
    "pip install git+https://github.com/microsoft/task_oriented_dialogue_as_dataflow_synthesis.git\n",
    "```\n",
    "\n",
    "---\n",
    "\n",
    "In the following, we present this dataset and our preliminary solution proposals."
   ]
  },
  {
   "cell_type": "code",
   "execution_count": 1,
   "metadata": {
    "id": "mxckoC6rAH-Q"
   },
   "outputs": [],
   "source": [
    "import matplotlib.pyplot as plt\n",
    "import json\n",
    "import pprint"
   ]
  },
  {
   "cell_type": "code",
   "execution_count": 2,
   "metadata": {
    "id": "zHJD8WvPAH-b"
   },
   "outputs": [],
   "source": [
    "# import or install and import the github library related to the original article\n",
    "try:\n",
    "    from dataflow.core import lispress\n",
    "except ImportError as error:\n",
    "    !pip install git+https://github.com/microsoft/task_oriented_dialogue_as_dataflow_synthesis.git\n",
    "    print(error)\n",
    "    from dataflow.core import lispress"
   ]
  },
  {
   "cell_type": "code",
   "execution_count": null,
   "metadata": {
    "id": "gAcxCaEcfHh0"
   },
   "outputs": [],
   "source": []
  },
  {
   "cell_type": "markdown",
   "metadata": {
    "id": "IvWyc_cPY7Nk"
   },
   "source": [
    "Download dataset and extract it"
   ]
  },
  {
   "cell_type": "code",
   "execution_count": null,
   "metadata": {
    "colab": {
     "base_uri": "https://localhost:8080/",
     "height": 202
    },
    "id": "MwmpT8frY_nC",
    "outputId": "3f6d099e-e107-4a73-ec24-82de4e29b36a"
   },
   "outputs": [
    {
     "name": "stdout",
     "output_type": "stream",
     "text": [
      "--2020-10-24 10:02:30--  https://smresearchstorage.blob.core.windows.net/smcalflow-public/smcalflow.full.data.tgz\n",
      "Resolving smresearchstorage.blob.core.windows.net (smresearchstorage.blob.core.windows.net)... 52.191.176.36\n",
      "Connecting to smresearchstorage.blob.core.windows.net (smresearchstorage.blob.core.windows.net)|52.191.176.36|:443... connected.\n",
      "HTTP request sent, awaiting response... 200 OK\n",
      "Length: 13703288 (13M) [application/x-gzip]\n",
      "Saving to: ‘STDOUT’\n",
      "\n",
      "-                   100%[===================>]  13.07M  6.66MB/s    in 2.0s    \n",
      "\n",
      "2020-10-24 10:02:32 (6.66 MB/s) - written to stdout [13703288/13703288]\n",
      "\n"
     ]
    }
   ],
   "source": [
    "!mkdir data\n",
    "!wget -c https://smresearchstorage.blob.core.windows.net/smcalflow-public/smcalflow.full.data.tgz -O - | tar -xz -C data"
   ]
  },
  {
   "cell_type": "markdown",
   "metadata": {
    "id": "CThfS-Z4AH-e"
   },
   "source": [
    "## Dataset analysis and preparation"
   ]
  },
  {
   "cell_type": "code",
   "execution_count": null,
   "metadata": {
    "id": "D0Vq9FZrAH-e"
   },
   "outputs": [],
   "source": [
    "# wrapper class for displaying the conversations in the dataset\n",
    "class ConvWrapper:\n",
    "    def __init__(self,data):\n",
    "        self.data = data\n",
    "\n",
    "    def show_conv(self,showProgram=False):\n",
    "        for turn in self.data['turns']:\n",
    "            print('User> ',turn['user_utterance']['original_text'])\n",
    "            if(showProgram):\n",
    "                LisPress = lispress.parse_lispress(turn['lispress'])\n",
    "                print('PROGRAM: ')\n",
    "                print(lispress.render_pretty(LisPress))\n",
    "            print('Agent> ',turn['agent_utterance']['original_text'])\n",
    "    def print(self):\n",
    "        pprint.pprint(self.data)\n",
    "    "
   ]
  },
  {
   "cell_type": "code",
   "execution_count": null,
   "metadata": {
    "id": "YsUpEmiCAH-h"
   },
   "outputs": [],
   "source": [
    "# load train dataset\n",
    "train = []\n",
    "with open(\"data/train.dataflow_dialogues.jsonl\") as trainfile:\n",
    "    content = trainfile.read()\n",
    "    train = [json.loads(line) for line in content.splitlines()]"
   ]
  },
  {
   "cell_type": "code",
   "execution_count": null,
   "metadata": {
    "colab": {
     "base_uri": "https://localhost:8080/",
     "height": 118
    },
    "id": "ICHUnem0AH-k",
    "outputId": "cddf699c-683a-4433-d466-2be6ca0b9f18"
   },
   "outputs": [
    {
     "name": "stdout",
     "output_type": "stream",
     "text": [
      "User>  what date is tomorrow?\n",
      "Agent>  Tomorrow's date is February 5, 2019.\n",
      "User>  What day of the week is tomorrow?\n",
      "Agent>  Tomorrow is Wednesday.\n",
      "User>  please help me\n",
      "Agent>  I can help you create, update, and delete events on your calendar. You can also ask me about your schedule.\n"
     ]
    }
   ],
   "source": [
    "# display the first training conversation\n",
    "example = ConvWrapper(train[0])\n",
    "example.show_conv()"
   ]
  },
  {
   "cell_type": "code",
   "execution_count": null,
   "metadata": {
    "colab": {
     "base_uri": "https://localhost:8080/",
     "height": 1000
    },
    "id": "00Lq0PVzEbrq",
    "outputId": "0b430e06-1a18-4c07-eef2-5f824f450ffd"
   },
   "outputs": [
    {
     "name": "stdout",
     "output_type": "stream",
     "text": [
      "User>  what date is tomorrow?\n",
      "PROGRAM: \n",
      "(Yield :output (Tomorrow))\n",
      "Agent>  Tomorrow's date is February 5, 2019.\n",
      "User>  What day of the week is tomorrow?\n",
      "PROGRAM: \n",
      "(Yield :output (:dayOfWeek (Tomorrow)))\n",
      "Agent>  Tomorrow is Wednesday.\n",
      "User>  please help me\n",
      "PROGRAM: \n",
      "(PleasantryCalendar)\n",
      "Agent>  I can help you create, update, and delete events on your calendar. You can also ask me about your schedule.\n",
      "\n",
      "-----------------------------------------------------------------------------------\n",
      "\n",
      "User>  What time is my appointment with Jerri Skinner on Friday?\n",
      "PROGRAM: \n",
      "(Yield\n",
      "  :output (:start\n",
      "    (singleton\n",
      "      (:results\n",
      "        (FindEventWrapperWithDefaults\n",
      "          :constraint (EventOnDate\n",
      "            :date (NextDOW :dow #(DayOfWeek \"FRIDAY\"))\n",
      "            :event (Constraint[Event]\n",
      "              :attendees (AttendeeListHasRecipientConstraint\n",
      "                :recipientConstraint (RecipientWithNameLike\n",
      "                  :constraint (Constraint[Recipient])\n",
      "                  :name #(PersonName \"Jerri Skinner\"))))))))))\n",
      "Agent>  I didn't find any events with Jerri Skinner.\n",
      "User>  Can you add an appointment with Jerri Skinner at 9 am?\n",
      "PROGRAM: \n",
      "(Yield\n",
      "  :output (CreateCommitEventWrapper\n",
      "    :event (CreatePreflightEventWrapper\n",
      "      :constraint (Constraint[Event]\n",
      "        :attendees (AttendeeListHasRecipient\n",
      "          :recipient (Execute\n",
      "            :intension (refer\n",
      "              (extensionConstraint\n",
      "                (RecipientWithNameLike\n",
      "                  :constraint (Constraint[Recipient])\n",
      "                  :name #(PersonName \"Jerri Skinner\"))))))\n",
      "        :start (?= (NextTime :time (NumberAM :number #(Number 9))))))))\n",
      "Agent>  Is this good?\n",
      "User>  I need it to last 2 hours.\n",
      "PROGRAM: \n",
      "(Yield\n",
      "  :output (Execute\n",
      "    :intension (ReviseConstraint\n",
      "      :rootLocation (roleConstraint #(Path \"output\"))\n",
      "      :oldLocation (Constraint[Constraint[Event]])\n",
      "      :new (Constraint[Event] :duration (?= (toHours #(Number 2)))))))\n",
      "Agent>  How's this?\n",
      "User>  good, thanks.\n",
      "PROGRAM: \n",
      "(Yield\n",
      "  :output (Execute :intension (ConfirmAndReturnAction)))\n",
      "Agent>  I've put that on your calendar.\n"
     ]
    }
   ],
   "source": [
    "# display the first two training conversations with the corresponding lispress programs (the inner representation of the dialogue state) at each turn\n",
    "example = ConvWrapper(train[0])\n",
    "example.show_conv(True)\n",
    "print('\\n-----------------------------------------------------------------------------------\\n')\n",
    "example = ConvWrapper(train[1])\n",
    "example.show_conv(True)"
   ]
  },
  {
   "cell_type": "code",
   "execution_count": null,
   "metadata": {
    "colab": {
     "base_uri": "https://localhost:8080/",
     "height": 1000
    },
    "id": "Qa737LXIFXKm",
    "outputId": "be092d7d-ae9c-4c6c-c910-eb2dfe4fc25f"
   },
   "outputs": [
    {
     "name": "stdout",
     "output_type": "stream",
     "text": [
      "{'dialogue_id': '8c112de4-0c61-43b1-b437-8e176fed39b6',\n",
      " 'turns': [{'agent_utterance': {'described_entities': [],\n",
      "                                'original_text': \"Tomorrow's date is February \"\n",
      "                                                 '5, 2019.',\n",
      "                                'tokens': ['Tomorrow',\n",
      "                                           \"'s\",\n",
      "                                           'date',\n",
      "                                           'is',\n",
      "                                           'February',\n",
      "                                           '5',\n",
      "                                           ',',\n",
      "                                           '2019',\n",
      "                                           '.']},\n",
      "            'lispress': '(Yield :output (Tomorrow))',\n",
      "            'program_execution_oracle': {'has_exception': False,\n",
      "                                         'refer_are_correct': True},\n",
      "            'skip': True,\n",
      "            'turn_index': 0,\n",
      "            'user_utterance': {'original_text': 'what date is tomorrow?',\n",
      "                               'tokens': ['what',\n",
      "                                          'date',\n",
      "                                          'is',\n",
      "                                          'tomorrow',\n",
      "                                          '?']}},\n",
      "           {'agent_utterance': {'described_entities': [],\n",
      "                                'original_text': 'Tomorrow is Wednesday.',\n",
      "                                'tokens': ['Tomorrow', 'is', 'Wednesday', '.']},\n",
      "            'lispress': '(Yield :output (:dayOfWeek (Tomorrow)))',\n",
      "            'program_execution_oracle': {'has_exception': False,\n",
      "                                         'refer_are_correct': True},\n",
      "            'skip': True,\n",
      "            'turn_index': 1,\n",
      "            'user_utterance': {'original_text': 'What day of the week is '\n",
      "                                                'tomorrow?',\n",
      "                               'tokens': ['What',\n",
      "                                          'day',\n",
      "                                          'of',\n",
      "                                          'the',\n",
      "                                          'week',\n",
      "                                          'is',\n",
      "                                          'tomorrow',\n",
      "                                          '?']}},\n",
      "           {'agent_utterance': {'described_entities': ['entity@102333225'],\n",
      "                                'original_text': 'I can help you create, '\n",
      "                                                 'update, and delete events on '\n",
      "                                                 'your calendar. You can also '\n",
      "                                                 'ask me about your schedule.',\n",
      "                                'tokens': ['I',\n",
      "                                           'can',\n",
      "                                           'help',\n",
      "                                           'you',\n",
      "                                           'create',\n",
      "                                           ',',\n",
      "                                           'update',\n",
      "                                           ',',\n",
      "                                           'and',\n",
      "                                           'delete',\n",
      "                                           'events',\n",
      "                                           'on',\n",
      "                                           'your',\n",
      "                                           'calendar',\n",
      "                                           '.',\n",
      "                                           'You',\n",
      "                                           'can',\n",
      "                                           'also',\n",
      "                                           'ask',\n",
      "                                           'me',\n",
      "                                           'about',\n",
      "                                           'your',\n",
      "                                           'schedule',\n",
      "                                           '.']},\n",
      "            'lispress': '(PleasantryCalendar)',\n",
      "            'program_execution_oracle': {'has_exception': False,\n",
      "                                         'refer_are_correct': True},\n",
      "            'skip': True,\n",
      "            'turn_index': 2,\n",
      "            'user_utterance': {'original_text': 'please help me',\n",
      "                               'tokens': ['please', 'help', 'me']}}]}\n"
     ]
    }
   ],
   "source": [
    "# display one training data with all fields:\n",
    "example = ConvWrapper(train[0])\n",
    "example.print()"
   ]
  },
  {
   "cell_type": "markdown",
   "metadata": {
    "id": "AoDF6piaFvgV"
   },
   "source": [
    "The training data contains an id and the turns of the dialogue, each turn consists the user message, and the agent response, with the following important meta information:\n",
    "\n",
    "\n",
    "*   tokens and original text for both the user message and the agent response\n",
    "*   turn_index: the sequence number of that turn\n",
    "*   lispress\n",
    "    * the program that stores the inner state of the conversation\n",
    "    * the agent should generate a response based on this\n",
    "\n",
    "---\n",
    "\n"
   ]
  },
  {
   "cell_type": "code",
   "execution_count": null,
   "metadata": {
    "id": "rxZ7N12yAH-u"
   },
   "outputs": [],
   "source": [
    "# load validation data\n",
    "valid = []\n",
    "with open(\"data/valid.dataflow_dialogues.jsonl\") as validfile:\n",
    "    content = validfile.read()\n",
    "    valid = [json.loads(line) for line in content.splitlines()]"
   ]
  },
  {
   "cell_type": "code",
   "execution_count": null,
   "metadata": {
    "colab": {
     "base_uri": "https://localhost:8080/",
     "height": 1000
    },
    "id": "E4HoMEL8AH-x",
    "outputId": "bc49b7ff-fdc3-420b-d419-38457028fb9b"
   },
   "outputs": [
    {
     "name": "stdout",
     "output_type": "stream",
     "text": [
      "{'dialogue_id': 'f40ad346-9cb4-46a2-8d6d-13926371cffd',\n",
      " 'turns': [{'agent_utterance': {'described_entities': ['entity@1135690515'],\n",
      "                                'original_text': 'Is this good?',\n",
      "                                'tokens': ['Is', 'this', 'good', '?']},\n",
      "            'lispress': '(Yield :output (CreateCommitEventWrapper :event '\n",
      "                        '(CreatePreflightEventWrapper :constraint '\n",
      "                        '(Constraint[Event] :attendees (andConstraint '\n",
      "                        '(AttendeeListHasRecipient :recipient (Execute '\n",
      "                        ':intension (refer (extensionConstraint '\n",
      "                        '(RecipientWithNameLike :constraint '\n",
      "                        '(Constraint[Recipient]) :name #(PersonName '\n",
      "                        '\"Jeff\")))))) (AttendeeListHasRecipient :recipient '\n",
      "                        '(Execute :intension (refer (extensionConstraint '\n",
      "                        '(RecipientWithNameLike :constraint '\n",
      "                        '(Constraint[Recipient]) :name #(PersonName '\n",
      "                        '\"John\"))))))) :duration (?= (toHours #(Number 1))) '\n",
      "                        ':location (?= #(LocationKeyphrase \"Conference Room '\n",
      "                        'B\")) :start (?= (DateAtTimeWithDefaults :date '\n",
      "                        '(NextDOW :dow #(DayOfWeek \"THURSDAY\")) :time '\n",
      "                        '(NumberPM :number #(Number 4)))) :subject (?= '\n",
      "                        '#(String \"discuss analytics\"))))))',\n",
      "            'program_execution_oracle': {'has_exception': True,\n",
      "                                         'refer_are_correct': True},\n",
      "            'skip': False,\n",
      "            'turn_index': 0,\n",
      "            'user_utterance': {'original_text': 'I need you to get Conference '\n",
      "                                                'Room B booked for a meeting '\n",
      "                                                'to discuss analytics on '\n",
      "                                                'Thursday at 4PM for one hour '\n",
      "                                                '- Jeff and John will be in '\n",
      "                                                'the meeting.',\n",
      "                               'tokens': ['I',\n",
      "                                          'need',\n",
      "                                          'you',\n",
      "                                          'to',\n",
      "                                          'get',\n",
      "                                          'Conference',\n",
      "                                          'Room',\n",
      "                                          'B',\n",
      "                                          'booked',\n",
      "                                          'for',\n",
      "                                          'a',\n",
      "                                          'meeting',\n",
      "                                          'to',\n",
      "                                          'discuss',\n",
      "                                          'analytics',\n",
      "                                          'on',\n",
      "                                          'Thursday',\n",
      "                                          'at',\n",
      "                                          '4',\n",
      "                                          'PM',\n",
      "                                          'for',\n",
      "                                          'one',\n",
      "                                          'hour',\n",
      "                                          '-',\n",
      "                                          'Jeff',\n",
      "                                          'and',\n",
      "                                          'John',\n",
      "                                          'will',\n",
      "                                          'be',\n",
      "                                          'in',\n",
      "                                          'the',\n",
      "                                          'meeting',\n",
      "                                          '.']}},\n",
      "           {'agent_utterance': {'described_entities': [],\n",
      "                                'original_text': \"I've put that on your \"\n",
      "                                                 'calendar.',\n",
      "                                'tokens': ['I',\n",
      "                                           \"'ve\",\n",
      "                                           'put',\n",
      "                                           'that',\n",
      "                                           'on',\n",
      "                                           'your',\n",
      "                                           'calendar',\n",
      "                                           '.']},\n",
      "            'lispress': '(Yield :output (Execute :intension '\n",
      "                        '(ConfirmAndReturnAction)))',\n",
      "            'program_execution_oracle': {'has_exception': False,\n",
      "                                         'refer_are_correct': True},\n",
      "            'skip': False,\n",
      "            'turn_index': 1,\n",
      "            'user_utterance': {'original_text': 'Yep.',\n",
      "                               'tokens': ['Yep', '.']}},\n",
      "           {'agent_utterance': {'described_entities': ['entity@1426825340'],\n",
      "                                'original_text': \"How's this?\",\n",
      "                                'tokens': ['How', \"'s\", 'this', '?']},\n",
      "            'lispress': '(Yield :output (CreateCommitEventWrapper :event '\n",
      "                        '(CreatePreflightEventWrapper :constraint '\n",
      "                        '(Constraint[Event] :attendees (andConstraint '\n",
      "                        '(andConstraint (AttendeeListHasRecipient :recipient '\n",
      "                        '(Execute :intension (refer (extensionConstraint '\n",
      "                        '(RecipientWithNameLike :constraint '\n",
      "                        '(Constraint[Recipient]) :name #(PersonName '\n",
      "                        '\"Dennis\")))))) (AttendeeListHasRecipient :recipient '\n",
      "                        '(Execute :intension (refer (extensionConstraint '\n",
      "                        '(RecipientWithNameLike :constraint '\n",
      "                        '(Constraint[Recipient]) :name #(PersonName '\n",
      "                        '\"Gabriel\"))))))) (AttendeeListHasRecipient :recipient '\n",
      "                        '(Execute :intension (refer (extensionConstraint '\n",
      "                        '(RecipientWithNameLike :constraint '\n",
      "                        '(Constraint[Recipient]) :name #(PersonName '\n",
      "                        '\"Max\"))))))) :location (?= #(LocationKeyphrase '\n",
      "                        '\"Chili\\'s on 15th street\")) :start (?= (NextTime '\n",
      "                        ':time (HourMinutePm :hours #(Number 12) :minutes '\n",
      "                        '#(Number 15)))) :subject (?= #(String \"Lunch '\n",
      "                        'Meeting\"))))))',\n",
      "            'program_execution_oracle': {'has_exception': True,\n",
      "                                         'refer_are_correct': True},\n",
      "            'skip': False,\n",
      "            'turn_index': 2,\n",
      "            'user_utterance': {'original_text': 'Schedule a Lunch Meeting with '\n",
      "                                                'Dennis, Gabriel, and Max at '\n",
      "                                                \"the Chili's on 15th street at \"\n",
      "                                                '12:15 pm.',\n",
      "                               'tokens': ['Schedule',\n",
      "                                          'a',\n",
      "                                          'Lunch',\n",
      "                                          'Meeting',\n",
      "                                          'with',\n",
      "                                          'Dennis',\n",
      "                                          ',',\n",
      "                                          'Gabriel',\n",
      "                                          ',',\n",
      "                                          'and',\n",
      "                                          'Max',\n",
      "                                          'at',\n",
      "                                          'the',\n",
      "                                          'Chili',\n",
      "                                          \"'s\",\n",
      "                                          'on',\n",
      "                                          '15',\n",
      "                                          'th',\n",
      "                                          'street',\n",
      "                                          'at',\n",
      "                                          '12',\n",
      "                                          ':',\n",
      "                                          '15',\n",
      "                                          'pm',\n",
      "                                          '.']}},\n",
      "           {'agent_utterance': {'described_entities': [],\n",
      "                                'original_text': \"I've put that on your \"\n",
      "                                                 'calendar.',\n",
      "                                'tokens': ['I',\n",
      "                                           \"'ve\",\n",
      "                                           'put',\n",
      "                                           'that',\n",
      "                                           'on',\n",
      "                                           'your',\n",
      "                                           'calendar',\n",
      "                                           '.']},\n",
      "            'lispress': '(Yield :output (Execute :intension '\n",
      "                        '(ConfirmAndReturnAction)))',\n",
      "            'program_execution_oracle': {'has_exception': False,\n",
      "                                         'refer_are_correct': True},\n",
      "            'skip': False,\n",
      "            'turn_index': 3,\n",
      "            'user_utterance': {'original_text': 'That looks great.',\n",
      "                               'tokens': ['That', 'looks', 'great', '.']}},\n",
      "           {'agent_utterance': {'described_entities': ['entity@2032914361'],\n",
      "                                'original_text': \"Is this what you're looking \"\n",
      "                                                 'for?',\n",
      "                                'tokens': ['Is',\n",
      "                                           'this',\n",
      "                                           'what',\n",
      "                                           'you',\n",
      "                                           \"'re\",\n",
      "                                           'looking',\n",
      "                                           'for',\n",
      "                                           '?']},\n",
      "            'lispress': '(Yield :output (CreateCommitEventWrapper :event '\n",
      "                        '(CreatePreflightEventWrapper :constraint '\n",
      "                        '(Constraint[Event] :attendees '\n",
      "                        '(AttendeeListHasRecipient :recipient (Execute '\n",
      "                        ':intension (refer (extensionConstraint '\n",
      "                        '(RecipientWithNameLike :constraint '\n",
      "                        '(Constraint[Recipient]) :name #(PersonName '\n",
      "                        '\"Jane\")))))) :location (?= #(LocationKeyphrase '\n",
      "                        '\"Chili\\'s on 15th street\")) :start (?= '\n",
      "                        '(DateAtTimeWithDefaults :date (MD :day #(Number 4) '\n",
      "                        ':month #(Month \"JUNE\")) :time (HourMinutePm :hours '\n",
      "                        '#(Number 12) :minutes #(Number 15)))) :subject (?= '\n",
      "                        '#(String \"Lunch\"))))))',\n",
      "            'program_execution_oracle': {'has_exception': True,\n",
      "                                         'refer_are_correct': True},\n",
      "            'skip': False,\n",
      "            'turn_index': 4,\n",
      "            'user_utterance': {'original_text': 'Thanks, also add Jane to '\n",
      "                                                'Lunch meeting on Tuesday June '\n",
      "                                                \"4 at 12:15 pm at Chili's on \"\n",
      "                                                '15th street.',\n",
      "                               'tokens': ['Thanks',\n",
      "                                          ',',\n",
      "                                          'also',\n",
      "                                          'add',\n",
      "                                          'Jane',\n",
      "                                          'to',\n",
      "                                          'Lunch',\n",
      "                                          'meeting',\n",
      "                                          'on',\n",
      "                                          'Tuesday',\n",
      "                                          'June',\n",
      "                                          '4',\n",
      "                                          'at',\n",
      "                                          '12',\n",
      "                                          ':',\n",
      "                                          '15',\n",
      "                                          'pm',\n",
      "                                          'at',\n",
      "                                          'Chili',\n",
      "                                          \"'s\",\n",
      "                                          'on',\n",
      "                                          '15',\n",
      "                                          'th',\n",
      "                                          'street',\n",
      "                                          '.']}},\n",
      "           {'agent_utterance': {'described_entities': [],\n",
      "                                'original_text': \"I've put that on your \"\n",
      "                                                 'calendar.',\n",
      "                                'tokens': ['I',\n",
      "                                           \"'ve\",\n",
      "                                           'put',\n",
      "                                           'that',\n",
      "                                           'on',\n",
      "                                           'your',\n",
      "                                           'calendar',\n",
      "                                           '.']},\n",
      "            'lispress': '(Yield :output (Execute :intension '\n",
      "                        '(ConfirmAndReturnAction)))',\n",
      "            'program_execution_oracle': {'has_exception': False,\n",
      "                                         'refer_are_correct': True},\n",
      "            'skip': False,\n",
      "            'turn_index': 5,\n",
      "            'user_utterance': {'original_text': 'Yes, that is right.',\n",
      "                               'tokens': ['Yes',\n",
      "                                          ',',\n",
      "                                          'that',\n",
      "                                          'is',\n",
      "                                          'right',\n",
      "                                          '.']}}]}\n"
     ]
    }
   ],
   "source": [
    "# print an example\n",
    "valid_example = ConvWrapper(valid[0])\n",
    "valid_example.print()"
   ]
  },
  {
   "cell_type": "markdown",
   "metadata": {
    "id": "Yj6wbVirHnWE"
   },
   "source": [
    "The validation data consists the same structure of dialogues"
   ]
  },
  {
   "cell_type": "markdown",
   "metadata": {
    "id": "I_nn7DGyc6oW"
   },
   "source": [
    "### Tokenize texts\n",
    "Although the train and validation data are tokenized (contain a field with the tokens), but the tokens are not converted to lowercase and special characters are also included, so further data cleaning is necessary"
   ]
  },
  {
   "cell_type": "code",
   "execution_count": null,
   "metadata": {
    "id": "FbRF1gCzIobM"
   },
   "outputs": [],
   "source": [
    "from tensorflow.keras.preprocessing.text import Tokenizer"
   ]
  },
  {
   "cell_type": "code",
   "execution_count": null,
   "metadata": {
    "colab": {
     "base_uri": "https://localhost:8080/",
     "height": 34
    },
    "id": "0mILq2KPIuZ0",
    "outputId": "daa583fd-b890-4fad-e237-972590d716fd"
   },
   "outputs": [
    {
     "data": {
      "text/plain": [
       "1"
      ]
     },
     "execution_count": 13,
     "metadata": {
      "tags": []
     },
     "output_type": "execute_result"
    }
   ],
   "source": [
    "# create a tokenizer and fit on the sentences of the train data dialogues\n",
    "tokenizer = Tokenizer()\n",
    "dialogue_sent = [turn['user_utterance']['original_text'] for dialog in train for turn in dialog['turns'] ]\n",
    "tokenizer.fit_on_texts(dialogue_sent)\n",
    "# index of \"the\"\n",
    "tokenizer.word_index[\"the\"]"
   ]
  },
  {
   "cell_type": "code",
   "execution_count": null,
   "metadata": {
    "colab": {
     "base_uri": "https://localhost:8080/",
     "height": 50
    },
    "id": "kqZUy98iMDtp",
    "outputId": "b921b657-f1c0-4d8b-91e5-8b7da0e5a1b6"
   },
   "outputs": [
    {
     "data": {
      "text/plain": [
       "[['what', 'date', 'is', 'tomorrow'],\n",
       " ['what', 'day', 'of', 'the', 'week', 'is', 'tomorrow']]"
      ]
     },
     "execution_count": 16,
     "metadata": {
      "tags": []
     },
     "output_type": "execute_result"
    }
   ],
   "source": [
    "# example: tokens of the first two sentences\n",
    "[[tokenizer.index_word[code] for code in seq] for seq in tokenizer.texts_to_sequences(dialogue_sent[:2]) ]"
   ]
  },
  {
   "cell_type": "code",
   "execution_count": null,
   "metadata": {
    "id": "sdyWjL1hdAb9"
   },
   "outputs": [],
   "source": [
    "def tokenizeDialogues(dataset,tokenizer):\n",
    "    \"\"\"\n",
    "    Add a tokens2 attribute to the user_utterance in each turn with the token indexes\n",
    "    Add a tokens2_readable attribute to the user_utterance with the readable tokens\n",
    "    \"\"\"\n",
    "    for dialog in dataset:\n",
    "    for turn in dialog['turns']:\n",
    "      seq = tokenizer.texts_to_sequences([turn[\"user_utterance\"][\"original_text\"]])[0]\n",
    "      turn[\"user_utterance\"].update({\"tokens2\":seq,\"tokens2_readable\":[tokenizer.index_word[index] for index in seq]})\n",
    "    tokenizedSet = [[ turn['user_utterance']['tokens2'] for turn in dialog['turns'] ]for dialog in dataset]\n",
    "    return tokenizedSet,dataset"
   ]
  },
  {
   "cell_type": "code",
   "execution_count": null,
   "metadata": {
    "id": "1MXRnQeeefn8"
   },
   "outputs": [],
   "source": [
    "train_tokenized,train = tokenizeDialogues(train,tokenizer=tokenizer)\n",
    "valid_tokenized,valid = tokenizeDialogues(valid,tokenizer=tokenizer)"
   ]
  },
  {
   "cell_type": "code",
   "execution_count": null,
   "metadata": {
    "colab": {
     "base_uri": "https://localhost:8080/",
     "height": 67
    },
    "id": "4eoLUYqtesFr",
    "outputId": "1288047e-7546-4def-80e7-090ad5eb333c"
   },
   "outputs": [
    {
     "name": "stdout",
     "output_type": "stream",
     "text": [
      "message: what date is tomorrow?\n",
      "tokens: [18, 101, 12, 22]\n",
      "readable tokens: ['what', 'date', 'is', 'tomorrow']\n"
     ]
    }
   ],
   "source": [
    "# example: tokens generated from a message\n",
    "print(\"message:\",train[0][\"turns\"][0][\"user_utterance\"][\"original_text\"])\n",
    "print(\"tokens:\",train[0][\"turns\"][0][\"user_utterance\"][\"tokens2\"])\n",
    "print(\"readable tokens:\",train[0][\"turns\"][0][\"user_utterance\"][\"tokens2_readable\"])"
   ]
  },
  {
   "cell_type": "code",
   "execution_count": null,
   "metadata": {
    "id": "0b-EONh2bBtv"
   },
   "outputs": [],
   "source": [
    "def flatten_nested_list(list0):\n",
    "  \"\"\"\n",
    "  Flatten the nested list's elements\n",
    "  Example:\n",
    "  [[1,2],[3]] => [1,2,3]\n",
    "  \"\"\"\n",
    "  return [element for nested in list0 for element in nested ]"
   ]
  },
  {
   "cell_type": "code",
   "execution_count": null,
   "metadata": {
    "colab": {
     "base_uri": "https://localhost:8080/",
     "height": 34
    },
    "id": "CBXlSlhRQs-k",
    "outputId": "08860201-dae4-402b-e227-4b9f6e3c1522"
   },
   "outputs": [
    {
     "data": {
      "text/plain": [
       "(10, 16297)"
      ]
     },
     "execution_count": 26,
     "metadata": {
      "tags": []
     },
     "output_type": "execute_result"
    }
   ],
   "source": [
    "# part of the train data converted to fix sized vectors\n",
    "example_train_data = tokenizer.sequences_to_matrix(flatten_nested_list(train_tokenized)[:10])\n",
    "# vectors with 16297 elements\n",
    "example_train_data.shape"
   ]
  },
  {
   "cell_type": "code",
   "execution_count": null,
   "metadata": {
    "colab": {
     "base_uri": "https://localhost:8080/",
     "height": 34
    },
    "id": "Nfs5NpGjVniH",
    "outputId": "da86c846-257d-4220-bd26-6cc998084da6"
   },
   "outputs": [
    {
     "name": "stdout",
     "output_type": "stream",
     "text": [
      "size of the dictionary: 16296\n"
     ]
    }
   ],
   "source": [
    "# size of the dictiorary:\n",
    "print(\"size of the dictionary:\",len(tokenizer.index_word))"
   ]
  },
  {
   "cell_type": "markdown",
   "metadata": {
    "id": "9wW5TqNGhoub"
   },
   "source": [
    "## Examples\n"
   ]
  },
  {
   "cell_type": "code",
   "execution_count": null,
   "metadata": {
    "id": "7CnIZnOfAH-5"
   },
   "outputs": [],
   "source": [
    "from dataflow.analysis import compute_data_statistics"
   ]
  },
  {
   "cell_type": "markdown",
   "metadata": {
    "id": "yxohpYsFiDLR"
   },
   "source": [
    "### Basic statistics"
   ]
  },
  {
   "cell_type": "code",
   "execution_count": null,
   "metadata": {
    "colab": {
     "base_uri": "https://localhost:8080/",
     "height": 50
    },
    "id": "WQK6Wslth9VA",
    "outputId": "078855d0-a45a-4aa1-e666-8a5331c0798e"
   },
   "outputs": [
    {
     "name": "stderr",
     "output_type": "stream",
     "text": [
      "Reading <class 'dataflow.core.dialogue.Dialogue'> from data/train.dataflow_dialogues.jsonl: 32647 dialogues [01:06, 490.64 dialogues/s]\n",
      "Reading <class 'dataflow.core.dialogue.Dialogue'> from data/valid.dataflow_dialogues.jsonl: 3649 dialogues [00:08, 454.53 dialogues/s]\n"
     ]
    }
   ],
   "source": [
    "compute_data_statistics.main(\"data\", ['train', 'valid'], \"output\")"
   ]
  },
  {
   "cell_type": "code",
   "execution_count": 41,
   "metadata": {
    "colab": {
     "base_uri": "https://localhost:8080/",
     "height": 118
    },
    "id": "Y5-XFaR9iBUu",
    "outputId": "67c857b0-8d59-4806-fae3-b614aef6056b"
   },
   "outputs": [
    {
     "name": "stdout",
     "output_type": "stream",
     "text": [
      "{'num_dialogues': 36296,\n",
      " 'num_kept_turns': 134699,\n",
      " 'num_refer_turns': 36555,\n",
      " 'num_revise_turns': 10367,\n",
      " 'num_skipped_turns': 13879,\n",
      " 'num_turns': 148578}\n"
     ]
    }
   ],
   "source": [
    "# print basic statistics about the full dataset\n",
    "with open('output/train-valid.basic_stats.json') as json_file:\n",
    "    data = json.load(json_file)\n",
    "    pprint.pprint(data)"
   ]
  },
  {
   "cell_type": "markdown",
   "metadata": {
    "id": "V_AVYLE0XDW2"
   },
   "source": [
    "## Target of the challenge\n",
    "The main target of the challenge is to create algorithms that are able to maintain and update conversation states stored as a program (or as a graph). The output for each user message should be a so called lispress string which is a representation of the stored agent program (see examples above).\n",
    "\n",
    "The predictions can be evaluated in [codalab](https://codalab.org/), using Microsoft's predefined scripts. Predictions need to be made for all the validation data, and submitted to the codalab platform, and the scripts will evaluate the accuracy. \n"
   ]
  },
  {
   "cell_type": "markdown",
   "metadata": {
    "id": "cz9QKt1GhgXz"
   },
   "source": [
    "## Roadmap\n",
    "Since the original article contains a baseline solution for this challenge, our first step will be to understand and reproduce the baseline solution to better understand the problem the article addresses.\n",
    "\n",
    "After that, with the deep analysis of the state of the art solutions, we will extend, or replace the baseline solution with our custom algorithm.\n",
    "\n",
    "Our final goal is to create a model whose prediction outperforms the baseline solution\n"
   ]
  },
  {
   "cell_type": "code",
   "execution_count": null,
   "metadata": {
    "id": "nJCJ8RO5XFx7"
   },
   "outputs": [],
   "source": []
  }
 ],
 "metadata": {
  "colab": {
   "collapsed_sections": [],
   "name": "DaDTeam_milestone_I.ipynb",
   "provenance": [],
   "toc_visible": true
  },
  "kernelspec": {
   "display_name": "Python 3",
   "language": "python",
   "name": "python3"
  },
  "language_info": {
   "codemirror_mode": {
    "name": "ipython",
    "version": 3
   },
   "file_extension": ".py",
   "mimetype": "text/x-python",
   "name": "python",
   "nbconvert_exporter": "python",
   "pygments_lexer": "ipython3",
   "version": "3.7.7"
  }
 },
 "nbformat": 4,
 "nbformat_minor": 1
}
