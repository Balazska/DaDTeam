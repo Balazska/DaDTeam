{
 "cells": [
  {
   "cell_type": "code",
   "execution_count": 1,
   "metadata": {},
   "outputs": [],
   "source": [
    "import matplotlib.pyplot as plt"
   ]
  },
  {
   "cell_type": "code",
   "execution_count": 2,
   "metadata": {},
   "outputs": [],
   "source": [
    "import json"
   ]
  },
  {
   "cell_type": "code",
   "execution_count": 16,
   "metadata": {},
   "outputs": [],
   "source": [
    "import pprint"
   ]
  },
  {
   "cell_type": "code",
   "execution_count": 30,
   "metadata": {},
   "outputs": [],
   "source": [
    "# github package: pip install git+https://github.com/microsoft/task_oriented_dialogue_as_dataflow_synthesis.git\n",
    "from dataflow.core import lispress"
   ]
  },
  {
   "cell_type": "markdown",
   "metadata": {},
   "source": [
    "## Helper functions"
   ]
  },
  {
   "cell_type": "code",
   "execution_count": 35,
   "metadata": {},
   "outputs": [],
   "source": [
    "class ConvWrapper:\n",
    "    def __init__(self,data):\n",
    "        self.data = data\n",
    "\n",
    "    def show_conv(self,showProgram=False):\n",
    "        for turn in self.data['turns']:\n",
    "            print('User> ',turn['user_utterance']['original_text'])\n",
    "            if(showProgram):\n",
    "                LisPress = lispress.parse_lispress(turn['lispress'])\n",
    "                print('PROGRAM: ')\n",
    "                print(lispress.render_pretty(LisPress))\n",
    "            print('Agent> ',turn['agent_utterance']['original_text'])\n",
    "    def print(self):\n",
    "        pprint.pprint(self.data)\n",
    "    "
   ]
  },
  {
   "cell_type": "code",
   "execution_count": 7,
   "metadata": {},
   "outputs": [],
   "source": [
    "train = []\n",
    "with open(\"data/train.dataflow_dialogues.jsonl\") as trainfile:\n",
    "    content = trainfile.read()\n",
    "    train = [json.loads(line) for line in content.splitlines()]"
   ]
  },
  {
   "cell_type": "code",
   "execution_count": 42,
   "metadata": {},
   "outputs": [
    {
     "name": "stdout",
     "output_type": "stream",
     "text": [
      "User>  what date is tomorrow?\n",
      "PROGRAM: \n",
      "(Yield :output (Tomorrow))\n",
      "Agent>  Tomorrow's date is February 5, 2019.\n",
      "User>  What day of the week is tomorrow?\n",
      "PROGRAM: \n",
      "(Yield :output (:dayOfWeek (Tomorrow)))\n",
      "Agent>  Tomorrow is Wednesday.\n",
      "User>  please help me\n",
      "PROGRAM: \n",
      "(PleasantryCalendar)\n",
      "Agent>  I can help you create, update, and delete events on your calendar. You can also ask me about your schedule.\n"
     ]
    }
   ],
   "source": [
    "example = ConvWrapper(train[0])\n",
    "example.show_conv(True)\n",
    "#example.print()"
   ]
  },
  {
   "cell_type": "code",
   "execution_count": 17,
   "metadata": {},
   "outputs": [
    {
     "name": "stdout",
     "output_type": "stream",
     "text": [
      "U>  I have a date this weekend\n",
      "A > Does one of these work?\n",
      "U>  Nevermind, I can't do it this weekend. make it for not on the weekend\n",
      "A > Does one of these work?\n",
      "U>  perfect, add gym time for the weekend\n",
      "A > I've put that on your calendar tomorrow from 1:00 to 1:30 PM. __BREAK Does one of these work?\n",
      "U>  not on the weekend please\n",
      "A > Does one of these work?\n",
      "U>  Schedule a forest adventure for this weekend.\n",
      "A > Does one of these work?\n",
      "U>  Actually no. I'm indecisive, and you serve me. So change it to not on the weekend.\n",
      "A > Does one of these work?\n"
     ]
    }
   ],
   "source": [
    "for turn in train[4]['turns']:\n",
    "    print('U> ',turn['user_utterance']['original_text'])\n",
    "    print('A >',turn['agent_utterance']['original_text'])"
   ]
  },
  {
   "cell_type": "code",
   "execution_count": 19,
   "metadata": {},
   "outputs": [],
   "source": [
    "valid = []\n",
    "with open(\"data/valid.dataflow_dialogues.jsonl\") as validfile:\n",
    "    content = validfile.read()\n",
    "    valid = [json.loads(line) for line in content.splitlines()]"
   ]
  },
  {
   "cell_type": "code",
   "execution_count": 20,
   "metadata": {},
   "outputs": [
    {
     "data": {
      "text/plain": [
       "{'dialogue_id': 'f40ad346-9cb4-46a2-8d6d-13926371cffd',\n",
       " 'turns': [{'agent_utterance': {'described_entities': ['entity@1135690515'],\n",
       "    'original_text': 'Is this good?',\n",
       "    'tokens': ['Is', 'this', 'good', '?']},\n",
       "   'lispress': '(Yield :output (CreateCommitEventWrapper :event (CreatePreflightEventWrapper :constraint (Constraint[Event] :attendees (andConstraint (AttendeeListHasRecipient :recipient (Execute :intension (refer (extensionConstraint (RecipientWithNameLike :constraint (Constraint[Recipient]) :name #(PersonName \"Jeff\")))))) (AttendeeListHasRecipient :recipient (Execute :intension (refer (extensionConstraint (RecipientWithNameLike :constraint (Constraint[Recipient]) :name #(PersonName \"John\"))))))) :duration (?= (toHours #(Number 1))) :location (?= #(LocationKeyphrase \"Conference Room B\")) :start (?= (DateAtTimeWithDefaults :date (NextDOW :dow #(DayOfWeek \"THURSDAY\")) :time (NumberPM :number #(Number 4)))) :subject (?= #(String \"discuss analytics\"))))))',\n",
       "   'program_execution_oracle': {'has_exception': True,\n",
       "    'refer_are_correct': True},\n",
       "   'skip': False,\n",
       "   'turn_index': 0,\n",
       "   'user_utterance': {'original_text': 'I need you to get Conference Room B booked for a meeting to discuss analytics on Thursday at 4PM for one hour - Jeff and John will be in the meeting.',\n",
       "    'tokens': ['I',\n",
       "     'need',\n",
       "     'you',\n",
       "     'to',\n",
       "     'get',\n",
       "     'Conference',\n",
       "     'Room',\n",
       "     'B',\n",
       "     'booked',\n",
       "     'for',\n",
       "     'a',\n",
       "     'meeting',\n",
       "     'to',\n",
       "     'discuss',\n",
       "     'analytics',\n",
       "     'on',\n",
       "     'Thursday',\n",
       "     'at',\n",
       "     '4',\n",
       "     'PM',\n",
       "     'for',\n",
       "     'one',\n",
       "     'hour',\n",
       "     '-',\n",
       "     'Jeff',\n",
       "     'and',\n",
       "     'John',\n",
       "     'will',\n",
       "     'be',\n",
       "     'in',\n",
       "     'the',\n",
       "     'meeting',\n",
       "     '.']}},\n",
       "  {'agent_utterance': {'described_entities': [],\n",
       "    'original_text': \"I've put that on your calendar.\",\n",
       "    'tokens': ['I', \"'ve\", 'put', 'that', 'on', 'your', 'calendar', '.']},\n",
       "   'lispress': '(Yield :output (Execute :intension (ConfirmAndReturnAction)))',\n",
       "   'program_execution_oracle': {'has_exception': False,\n",
       "    'refer_are_correct': True},\n",
       "   'skip': False,\n",
       "   'turn_index': 1,\n",
       "   'user_utterance': {'original_text': 'Yep.', 'tokens': ['Yep', '.']}},\n",
       "  {'agent_utterance': {'described_entities': ['entity@1426825340'],\n",
       "    'original_text': \"How's this?\",\n",
       "    'tokens': ['How', \"'s\", 'this', '?']},\n",
       "   'lispress': '(Yield :output (CreateCommitEventWrapper :event (CreatePreflightEventWrapper :constraint (Constraint[Event] :attendees (andConstraint (andConstraint (AttendeeListHasRecipient :recipient (Execute :intension (refer (extensionConstraint (RecipientWithNameLike :constraint (Constraint[Recipient]) :name #(PersonName \"Dennis\")))))) (AttendeeListHasRecipient :recipient (Execute :intension (refer (extensionConstraint (RecipientWithNameLike :constraint (Constraint[Recipient]) :name #(PersonName \"Gabriel\"))))))) (AttendeeListHasRecipient :recipient (Execute :intension (refer (extensionConstraint (RecipientWithNameLike :constraint (Constraint[Recipient]) :name #(PersonName \"Max\"))))))) :location (?= #(LocationKeyphrase \"Chili\\'s on 15th street\")) :start (?= (NextTime :time (HourMinutePm :hours #(Number 12) :minutes #(Number 15)))) :subject (?= #(String \"Lunch Meeting\"))))))',\n",
       "   'program_execution_oracle': {'has_exception': True,\n",
       "    'refer_are_correct': True},\n",
       "   'skip': False,\n",
       "   'turn_index': 2,\n",
       "   'user_utterance': {'original_text': \"Schedule a Lunch Meeting with Dennis, Gabriel, and Max at the Chili's on 15th street at 12:15 pm.\",\n",
       "    'tokens': ['Schedule',\n",
       "     'a',\n",
       "     'Lunch',\n",
       "     'Meeting',\n",
       "     'with',\n",
       "     'Dennis',\n",
       "     ',',\n",
       "     'Gabriel',\n",
       "     ',',\n",
       "     'and',\n",
       "     'Max',\n",
       "     'at',\n",
       "     'the',\n",
       "     'Chili',\n",
       "     \"'s\",\n",
       "     'on',\n",
       "     '15',\n",
       "     'th',\n",
       "     'street',\n",
       "     'at',\n",
       "     '12',\n",
       "     ':',\n",
       "     '15',\n",
       "     'pm',\n",
       "     '.']}},\n",
       "  {'agent_utterance': {'described_entities': [],\n",
       "    'original_text': \"I've put that on your calendar.\",\n",
       "    'tokens': ['I', \"'ve\", 'put', 'that', 'on', 'your', 'calendar', '.']},\n",
       "   'lispress': '(Yield :output (Execute :intension (ConfirmAndReturnAction)))',\n",
       "   'program_execution_oracle': {'has_exception': False,\n",
       "    'refer_are_correct': True},\n",
       "   'skip': False,\n",
       "   'turn_index': 3,\n",
       "   'user_utterance': {'original_text': 'That looks great.',\n",
       "    'tokens': ['That', 'looks', 'great', '.']}},\n",
       "  {'agent_utterance': {'described_entities': ['entity@2032914361'],\n",
       "    'original_text': \"Is this what you're looking for?\",\n",
       "    'tokens': ['Is', 'this', 'what', 'you', \"'re\", 'looking', 'for', '?']},\n",
       "   'lispress': '(Yield :output (CreateCommitEventWrapper :event (CreatePreflightEventWrapper :constraint (Constraint[Event] :attendees (AttendeeListHasRecipient :recipient (Execute :intension (refer (extensionConstraint (RecipientWithNameLike :constraint (Constraint[Recipient]) :name #(PersonName \"Jane\")))))) :location (?= #(LocationKeyphrase \"Chili\\'s on 15th street\")) :start (?= (DateAtTimeWithDefaults :date (MD :day #(Number 4) :month #(Month \"JUNE\")) :time (HourMinutePm :hours #(Number 12) :minutes #(Number 15)))) :subject (?= #(String \"Lunch\"))))))',\n",
       "   'program_execution_oracle': {'has_exception': True,\n",
       "    'refer_are_correct': True},\n",
       "   'skip': False,\n",
       "   'turn_index': 4,\n",
       "   'user_utterance': {'original_text': \"Thanks, also add Jane to Lunch meeting on Tuesday June 4 at 12:15 pm at Chili's on 15th street.\",\n",
       "    'tokens': ['Thanks',\n",
       "     ',',\n",
       "     'also',\n",
       "     'add',\n",
       "     'Jane',\n",
       "     'to',\n",
       "     'Lunch',\n",
       "     'meeting',\n",
       "     'on',\n",
       "     'Tuesday',\n",
       "     'June',\n",
       "     '4',\n",
       "     'at',\n",
       "     '12',\n",
       "     ':',\n",
       "     '15',\n",
       "     'pm',\n",
       "     'at',\n",
       "     'Chili',\n",
       "     \"'s\",\n",
       "     'on',\n",
       "     '15',\n",
       "     'th',\n",
       "     'street',\n",
       "     '.']}},\n",
       "  {'agent_utterance': {'described_entities': [],\n",
       "    'original_text': \"I've put that on your calendar.\",\n",
       "    'tokens': ['I', \"'ve\", 'put', 'that', 'on', 'your', 'calendar', '.']},\n",
       "   'lispress': '(Yield :output (Execute :intension (ConfirmAndReturnAction)))',\n",
       "   'program_execution_oracle': {'has_exception': False,\n",
       "    'refer_are_correct': True},\n",
       "   'skip': False,\n",
       "   'turn_index': 5,\n",
       "   'user_utterance': {'original_text': 'Yes, that is right.',\n",
       "    'tokens': ['Yes', ',', 'that', 'is', 'right', '.']}}]}"
      ]
     },
     "execution_count": 20,
     "metadata": {},
     "output_type": "execute_result"
    }
   ],
   "source": [
    "valid[0]"
   ]
  },
  {
   "cell_type": "code",
   "execution_count": 22,
   "metadata": {},
   "outputs": [],
   "source": [
    "import networkx"
   ]
  },
  {
   "cell_type": "code",
   "execution_count": 29,
   "metadata": {},
   "outputs": [],
   "source": []
  },
  {
   "cell_type": "code",
   "execution_count": null,
   "metadata": {},
   "outputs": [],
   "source": []
  }
 ],
 "metadata": {
  "kernelspec": {
   "display_name": "Python 3",
   "language": "python",
   "name": "python3"
  },
  "language_info": {
   "codemirror_mode": {
    "name": "ipython",
    "version": 3
   },
   "file_extension": ".py",
   "mimetype": "text/x-python",
   "name": "python",
   "nbconvert_exporter": "python",
   "pygments_lexer": "ipython3",
   "version": "3.7.7"
  }
 },
 "nbformat": 4,
 "nbformat_minor": 2
}
