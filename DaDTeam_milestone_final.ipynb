{
  "nbformat": 4,
  "nbformat_minor": 0,
  "metadata": {
    "accelerator": "GPU",
    "colab": {
      "name": "DaDTeam_milestone_base_new_BI_ATT.ipynb",
      "provenance": [],
      "collapsed_sections": [],
      "toc_visible": true
    },
    "kernelspec": {
      "display_name": "Python 3",
      "language": "python",
      "name": "python3"
    },
    "language_info": {
      "codemirror_mode": {
        "name": "ipython",
        "version": 3
      },
      "file_extension": ".py",
      "mimetype": "text/x-python",
      "name": "python",
      "nbconvert_exporter": "python",
      "pygments_lexer": "ipython3",
      "version": "3.6.9"
    }
  },
  "cells": [
    {
      "cell_type": "markdown",
      "metadata": {
        "id": "VCcXAM7RZlXz"
      },
      "source": [
        "# Milestone III.\n",
        "\n",
        "Basic training and evaluation process"
      ]
    },
    {
      "cell_type": "code",
      "metadata": {
        "id": "Oru06QvpZlXz"
      },
      "source": [
        "import matplotlib.pyplot as plt\n",
        "import tensorflow as tf\n",
        "#import seaborn as sns\n",
        "import numpy as np\n",
        "import json\n",
        "import pprint"
      ],
      "execution_count": 8,
      "outputs": []
    },
    {
      "cell_type": "code",
      "metadata": {
        "colab": {
          "base_uri": "https://localhost:8080/",
          "height": 52
        },
        "id": "yctb0xfDt-os",
        "outputId": "029c9053-6fce-4bd8-9a25-1641a95c738c"
      },
      "source": [
        "\"\"\"\n",
        "GLOVE DOWNLOAD (IF NECESSARY)\n",
        "\"\"\"\n",
        "# download glove (IT IS NOT NECESSARY IN THE DOCKER CONTAINER, GLOVE IS ALREADY DOWNLOADED THERE)\n",
        "#!wget \"http://nlp.stanford.edu/data/glove.6B.zip\" -O temp.zip\n",
        "#!unzip temp.zip -d glove\n",
        "#!rm temp.zip\n",
        "#root_path = ''\n",
        "\n",
        "\"\"\"\n",
        "ATTACH GLOVE FROM GOOGLE DRIVE (IF YOU HAVE IT)\n",
        "\"\"\"\n",
        "from google.colab import drive\n",
        "drive.mount('/content/drive/')\n",
        "root_path = 'drive/My Drive/Uni/msc_sem4/deeplearning'  #change dir to your project folder\n",
        "#root_path = 'drive/My Drive/msc/dl_hf/' \n",
        "\n",
        "\"\"\"\n",
        "IF GLOVE IS STORED IN THE GLOVE FOLDER\n",
        "\"\"\"\n",
        "# root_path = ''"
      ],
      "execution_count": 9,
      "outputs": [
        {
          "output_type": "stream",
          "text": [
            "Drive already mounted at /content/drive/; to attempt to forcibly remount, call drive.mount(\"/content/drive/\", force_remount=True).\n"
          ],
          "name": "stdout"
        },
        {
          "output_type": "execute_result",
          "data": {
            "application/vnd.google.colaboratory.intrinsic+json": {
              "type": "string"
            },
            "text/plain": [
              "'\\nIF GLOVE IS STORED IN THE GLOVE FOLDER\\n'"
            ]
          },
          "metadata": {
            "tags": []
          },
          "execution_count": 9
        }
      ]
    },
    {
      "cell_type": "code",
      "metadata": {
        "colab": {
          "base_uri": "https://localhost:8080/"
        },
        "id": "JG1rOu7tvha8",
        "outputId": "b04fc0da-2941-450b-9475-935ecdf26846"
      },
      "source": [
        "\"\"\"\n",
        "DOWNLOAD DATA\n",
        "\"\"\"\n",
        "!mkdir data\n",
        "!wget -c https://smresearchstorage.blob.core.windows.net/smcalflow-public/smcalflow.full.data.tgz -O - | tar -xz -C data"
      ],
      "execution_count": 10,
      "outputs": [
        {
          "output_type": "stream",
          "text": [
            "mkdir: cannot create directory ‘data’: File exists\n",
            "--2020-12-08 19:00:23--  https://smresearchstorage.blob.core.windows.net/smcalflow-public/smcalflow.full.data.tgz\n",
            "Resolving smresearchstorage.blob.core.windows.net (smresearchstorage.blob.core.windows.net)... 52.191.176.36\n",
            "Connecting to smresearchstorage.blob.core.windows.net (smresearchstorage.blob.core.windows.net)|52.191.176.36|:443... connected.\n",
            "HTTP request sent, awaiting response... 200 OK\n",
            "Length: 13703288 (13M) [application/x-gzip]\n",
            "Saving to: ‘STDOUT’\n",
            "\n",
            "-                   100%[===================>]  13.07M  7.18MB/s    in 1.8s    \n",
            "\n",
            "2020-12-08 19:00:25 (7.18 MB/s) - written to stdout [13703288/13703288]\n",
            "\n"
          ],
          "name": "stdout"
        }
      ]
    },
    {
      "cell_type": "code",
      "metadata": {
        "id": "bpqt1ioGsun8"
      },
      "source": [
        "#NOTEBOOK CONTROL VARIABLES\n",
        "\n",
        "# DO NOT MODIFY\n",
        "# Model types\n",
        "MODEL_BILSTM = \"bilstm\"\n",
        "MODEL_LSTM = \"lstm\"\n",
        "\n",
        "# Run mode\n",
        "RUN_TESTMODE = \"test\" # train in 20000 data\n",
        "RUN_FULLMODE = \"full\"\n",
        "# END DO NOT MODIFY\n",
        "\n",
        "# NOTEBOOK SETTINGS\n",
        "MODEL_TYPE=MODEL_LSTM\n",
        "RUN_MODE=RUN_FULLMODE\n",
        "\n",
        "# Attention layer, set true to include attention layer\n",
        "ATTENTION_LAYER = False\n",
        "\n",
        "HIDDEN_DIM = 8 # for lstm and bilstm mode\n",
        "# Model fit parameters\n",
        "BATCH_SIZE=32\n",
        "EPOCHS=3\n",
        "# Persist model\n",
        "PERSIST_MODEL_AS = None # add a filename if you want to save the model at the end\n",
        "# set False if the data needs to be downloaded\n",
        "DATA_EXISTS=True\n",
        "\n",
        "PARAMETER_REPLACEMENT=False"
      ],
      "execution_count": 11,
      "outputs": []
    },
    {
      "cell_type": "markdown",
      "metadata": {
        "id": "w-8wbfGRZlXz"
      },
      "source": [
        "## Data preprocessing"
      ]
    },
    {
      "cell_type": "code",
      "metadata": {
        "id": "Ub0mcf7cv04h"
      },
      "source": [
        "import json"
      ],
      "execution_count": 12,
      "outputs": []
    },
    {
      "cell_type": "code",
      "metadata": {
        "id": "z-8UTcSgZlXz"
      },
      "source": [
        "# load train dataset\n",
        "train = []\n",
        "with open(\"data/train.dataflow_dialogues.jsonl\") as trainfile:\n",
        "    content = trainfile.read()\n",
        "    train = [json.loads(line) for line in content.splitlines()]\n",
        "\n",
        "# load validation data\n",
        "valid = []\n",
        "with open(\"data/valid.dataflow_dialogues.jsonl\") as validfile:\n",
        "    content = validfile.read()\n",
        "    valid = [json.loads(line) for line in content.splitlines()]"
      ],
      "execution_count": 13,
      "outputs": []
    },
    {
      "cell_type": "markdown",
      "metadata": {
        "id": "A62dISrcZlX0"
      },
      "source": [
        "### Tokenization"
      ]
    },
    {
      "cell_type": "code",
      "metadata": {
        "id": "J0lh1GxBZlX0"
      },
      "source": [
        "from tensorflow.keras.preprocessing.text import Tokenizer\n",
        "# tokenized_lispress is an external function copied from \n",
        "# https://github.com/microsoft/task_oriented_dialogue_as_dataflow_synthesis\n",
        "# Lispress is the program code to evaluate the answer to a user utturance\n",
        "# The function tokenizes the lispress input string\n",
        "from lispress_tokenizer import tokenized_lispress"
      ],
      "execution_count": 14,
      "outputs": []
    },
    {
      "cell_type": "code",
      "metadata": {
        "id": "N8f_kCTxZlX0"
      },
      "source": [
        "# BOS and EOS indicate the beginning and ending of sentences\n",
        "def tokenizeLispressWithEndings(dataset):\n",
        "    '''\n",
        "    Tokenizes lispress of each turn in the given dataset.\n",
        "    The <bos> and <eos> tokens are appended to the token list.\n",
        "\n",
        "    Returns nothing since it modifies the dataset\n",
        "    '''\n",
        "    for dialog in dataset:\n",
        "        for turn in dialog[\"turns\"]:\n",
        "            turn['lispress_tokenized'] = ['<bos>'] + tokenized_lispress(turn['lispress']) + ['<eos>']"
      ],
      "execution_count": 15,
      "outputs": []
    },
    {
      "cell_type": "code",
      "metadata": {
        "id": "yekkT2T4t9ai"
      },
      "source": [
        "# separate Xpm Xam type string is user utterances"
      ],
      "execution_count": 16,
      "outputs": []
    },
    {
      "cell_type": "code",
      "metadata": {
        "colab": {
          "base_uri": "https://localhost:8080/"
        },
        "id": "2mcI86kHZlX0",
        "outputId": "0b4be63c-bb57-4e23-8e47-ca2c7e2901c1"
      },
      "source": [
        "# create a tokenizer and fit on the sentences of the train data dialogues\n",
        "tokenizer_user = Tokenizer()\n",
        "dialogue_sent = [turn['user_utterance']['original_text'] for dialog in train for turn in dialog['turns'] ]\n",
        "tokenizer_user.fit_on_texts(dialogue_sent)\n",
        "# index of \"the\"\n",
        "tokenizer_user.word_index[\"the\"]"
      ],
      "execution_count": 17,
      "outputs": [
        {
          "output_type": "execute_result",
          "data": {
            "text/plain": [
              "1"
            ]
          },
          "metadata": {
            "tags": []
          },
          "execution_count": 17
        }
      ]
    },
    {
      "cell_type": "code",
      "metadata": {
        "id": "VZNOOIC7ZlX0"
      },
      "source": [
        "# create a tokenizer and fit on the tokenized lispress answers of the train data dialogues\n",
        "lispress_tokenizer = Tokenizer()\n",
        "\n",
        "# Tokenize lispress in train and valid according to a predefined logic\n",
        "tokenizeLispressWithEndings(train)\n",
        "tokenizeLispressWithEndings(valid)\n",
        "\n",
        "# Tokenizer.fit_on_texts method can take list of list of strings as argument assuming the strings are tokens\n",
        "dialogue_sent_lispress = [turn['lispress_tokenized'] for dialog in train for turn in dialog['turns']]\n",
        "lispress_tokenizer.fit_on_texts(dialogue_sent_lispress)"
      ],
      "execution_count": 18,
      "outputs": []
    },
    {
      "cell_type": "code",
      "metadata": {
        "colab": {
          "base_uri": "https://localhost:8080/"
        },
        "id": "HpMnMKgcZlX0",
        "outputId": "0e05012c-b984-4daf-8680-6c65e0eaf3a5"
      },
      "source": [
        "# Example tokenized lispres\n",
        "print(dialogue_sent_lispress[1])\n",
        "print(lispress_tokenizer.word_counts['('])\n",
        "print(lispress_tokenizer.word_index[')'])\n"
      ],
      "execution_count": 19,
      "outputs": [
        {
          "output_type": "stream",
          "text": [
            "['<bos>', '(', 'Yield', ':output', '(', ':dayOfWeek', '(', 'Tomorrow', ')', ')', ')', '<eos>']\n",
            "1243286\n",
            "2\n"
          ],
          "name": "stdout"
        }
      ]
    },
    {
      "cell_type": "code",
      "metadata": {
        "id": "hJOds3CQauZy"
      },
      "source": [
        ""
      ],
      "execution_count": 19,
      "outputs": []
    },
    {
      "cell_type": "code",
      "metadata": {
        "id": "kUaSxENFZlX1"
      },
      "source": [
        "def tokenizeDialogues(dataset,tokenizer):\n",
        "    \"\"\"\n",
        "    Add a tokens2 attribute to the user_utterance in each turn with the token indexes\n",
        "    Add a tokens2_readable attribute to the user_utterance with the readable tokens\n",
        "    \"\"\"\n",
        "    for dialog in dataset:\n",
        "        for turn in dialog['turns']:\n",
        "            seq = tokenizer.texts_to_sequences([turn[\"user_utterance\"][\"original_text\"]])[0]\n",
        "            turn[\"user_utterance\"].update({\"tokens2\":seq,\"tokens2_readable\":[tokenizer.index_word[index] for index in seq]})\n",
        "            if \"tokens2_variable_readable\" in turn[\"user_utterance\"]:\n",
        "                del turn[\"user_utterance\"][\"tokens2_variable_readable\"]\n",
        "    tokenizedSet = [[ turn['user_utterance']['tokens2'] for turn in dialog['turns'] ]for dialog in dataset]\n",
        "    return tokenizedSet,dataset\n",
        "\n",
        "def tokenizeLispress(dataset,tokenizer):\n",
        "    \"\"\"\n",
        "    Adds lispress_tokens attribute in each turn which stores the indices of the lispress tokens\n",
        "    Adds lispress_tokens_readable attribute in each turn which stores the readable tokenized lispress\n",
        "    \"\"\"\n",
        "    for dialog in dataset:\n",
        "        for turn in dialog['turns']:\n",
        "            seq = tokenizer.texts_to_sequences([turn[\"lispress_tokenized\"]])[0]\n",
        "            turn.update({\"lispress_tokens\":seq,\"lispress_tokens_readable\":[tokenizer.index_word[index] for index in seq]})\n",
        "            if \"lispress_tokens_variable_readable\" in turn:\n",
        "                del turn[\"lispress_tokens_variable_readable\"]\n",
        "    tokenizedSet = [[ turn['lispress_tokens'] for turn in dialog['turns'] ]for dialog in dataset]\n",
        "    return tokenizedSet,dataset"
      ],
      "execution_count": 20,
      "outputs": []
    },
    {
      "cell_type": "code",
      "metadata": {
        "id": "nX8I5oXXZlX1"
      },
      "source": [
        "# Tokenize the user utterance (request) in train and validation set\n",
        "train_tokenized,train = tokenizeDialogues(train,tokenizer=tokenizer_user)\n",
        "valid_tokenized,valid = tokenizeDialogues(valid,tokenizer=tokenizer_user)"
      ],
      "execution_count": 21,
      "outputs": []
    },
    {
      "cell_type": "code",
      "metadata": {
        "id": "rGU8gfyqZlX1"
      },
      "source": [
        "# Tokenize the lispress (response) in train and validation set\n",
        "train_tokenized_lispress,train_lispress = tokenizeLispress(train,tokenizer=lispress_tokenizer)\n",
        "valid_tokenized_lispress,valid_lispress = tokenizeLispress(valid,tokenizer=lispress_tokenizer)"
      ],
      "execution_count": 22,
      "outputs": []
    },
    {
      "cell_type": "code",
      "metadata": {
        "id": "LsSxxa3oaxiA"
      },
      "source": [
        "def add_parameters(train,train_lispress):\n",
        "    variable_types = set()\n",
        "\n",
        "    for di,dialogue in enumerate(train_lispress):\n",
        "        for ti,turn in enumerate(dialogue[\"turns\"]):\n",
        "            var_idx={}\n",
        "            for i,token in enumerate(turn[\"lispress_tokens_readable\"]):\n",
        "                if not \"lispress_tokens_variable_readable\" in turn:\n",
        "                    turn.update({\"lispress_tokens_variable_readable\": list(turn[\"lispress_tokens_readable\"])})\n",
        "                if not \"tokens2_variable_readable\" in train[di][\"turns\"][ti][\"user_utterance\"]:\n",
        "                    train[di][\"turns\"][ti][\"user_utterance\"].update({\"tokens2_variable_readable\":list(train[di][\"turns\"][ti][\"user_utterance\"][\"tokens2_readable\"])})\n",
        "                if PARAMETER_REPLACEMENT==True and token == \"#\":\n",
        "                    variable_expression = turn[\"lispress_tokens_readable\"][i:turn[\"lispress_tokens_readable\"].index(')',i)+1]\n",
        "                    variable = []\n",
        "                    var_type = variable_expression[2]\n",
        "                    variable_types.add(var_type)\n",
        "                    first = 0\n",
        "                    last = -1\n",
        "                    try:\n",
        "                        first_index = variable_expression.index('\"')\n",
        "                        first = 4\n",
        "                        last = -2\n",
        "                    except:\n",
        "                        first = 3\n",
        "                        last=-1\n",
        "\n",
        "                    variable = variable_expression[first:last]\n",
        "\n",
        "                    for vi,var in enumerate(variable):\n",
        "                        if var_type == \"number\":\n",
        "                            try:\n",
        "                                var = str(int(float(var)))\n",
        "                            except Exception as e:\n",
        "                                print(e)\n",
        "                        # replace in user utterance\n",
        "                        if var in train[di][\"turns\"][ti][\"user_utterance\"][\"tokens2_readable\"]:\n",
        "                            if var_type not in var_idx:\n",
        "                                var_idx.update({var_type:0})\n",
        "                                placeholder = \"<\"+var_type+str(var_idx[var_type])+\">\"\n",
        "                                var_idx[var_type]+=1\n",
        "                                user_idx = train[di][\"turns\"][ti][\"user_utterance\"][\"tokens2_readable\"].index(var)\n",
        "                                train[di][\"turns\"][ti][\"user_utterance\"][\"tokens2_variable_readable\"][user_idx] = placeholder\n",
        "                                turn[\"lispress_tokens_variable_readable\"][i+first+vi] = placeholder\n",
        "                        else:\n",
        "                            if var_type == \"number\":\n",
        "                                for postfix in [\"pm\",\"am\",\"th\",\"st\",\"nd\"]:\n",
        "                                    if var+postfix in train[di][\"turns\"][ti][\"user_utterance\"][\"tokens2_readable\"]:\n",
        "                                        if var_type not in var_idx:\n",
        "                                            var_idx.update({var_type:0})\n",
        "                                            placeholder = \"<\"+var_type+str(var_idx[var_type])+\">\"\n",
        "                                            var_idx[var_type]+=1\n",
        "                                            user_idx = train[di][\"turns\"][ti][\"user_utterance\"][\"tokens2_readable\"].index(var+postfix)\n",
        "                                            train[di][\"turns\"][ti][\"user_utterance\"][\"tokens2_variable_readable\"][user_idx] = placeholder+postfix\n",
        "                                            turn[\"lispress_tokens_variable_readable\"][i+first+vi] = placeholder\n",
        "                            else:\n",
        "                              pass\n",
        "                                #print(\"not found in user utterance:\",var,var_type,train[di][\"turns\"][ti][\"user_utterance\"][\"tokens2_readable\"])\n",
        "                  #print(\"type:\",var_type,\"value:\",variable)\n",
        "                  #print(\"asd\")\n",
        "\n",
        "\n",
        "        #print(turn[\"lispress_tokens_variable_readable\"])\n",
        "        #print(train[di][\"turns\"][ti][\"user_utterance\"][\"tokens2_variable_readable\"])\n",
        "    return train, train_lispress, variable_types"
      ],
      "execution_count": 23,
      "outputs": []
    },
    {
      "cell_type": "code",
      "metadata": {
        "id": "Qt5o892JnmZv"
      },
      "source": [
        "train_params,train_lispress_params,variable_types = add_parameters(train,train_lispress)\n"
      ],
      "execution_count": 24,
      "outputs": []
    },
    {
      "cell_type": "code",
      "metadata": {
        "id": "tKnBmyL7i5Bj"
      },
      "source": [
        "valid_params, valid_lispress_params, _ = add_parameters(valid,valid_lispress)"
      ],
      "execution_count": 25,
      "outputs": []
    },
    {
      "cell_type": "code",
      "metadata": {
        "colab": {
          "base_uri": "https://localhost:8080/"
        },
        "id": "Y3zxrZRUZlX1",
        "outputId": "cefc7491-c7c7-469d-a970-df18d5c2570d"
      },
      "source": [
        "# example: tokens generated from a message\n",
        "print(\"message:\",train[0][\"turns\"][0][\"user_utterance\"][\"original_text\"])\n",
        "print(\"tokens:\",train[0][\"turns\"][0][\"user_utterance\"][\"tokens2\"])\n",
        "print(\"readable tokens:\",train[0][\"turns\"][0][\"user_utterance\"][\"tokens2_readable\"])\n",
        "print(\"lispress tokens:\",valid[0][\"turns\"][0][\"lispress_tokens\"])\n",
        "print(\"lispress tokens readable:\",valid[0][\"turns\"][2][\"lispress_tokens_readable\"])\n",
        "\n",
        "print(\"lispress tokens with variables readable:\",train_params[1][\"turns\"][0][\"lispress_tokens_readable\"])\n",
        "print(\"lispress tokens with variables readable:\",train_params[1][\"turns\"][0][\"lispress_tokens_variable_readable\"])\n",
        "\n",
        "print(\"lispress tokens with variables readable:\",train_params[1][\"turns\"][0][\"user_utterance\"][\"tokens2_readable\"])\n",
        "print(\"lispress tokens with variables readable:\",train_params[0][\"turns\"][0][\"user_utterance\"][\"tokens2_variable_readable\"])"
      ],
      "execution_count": 26,
      "outputs": [
        {
          "output_type": "stream",
          "text": [
            "message: what date is tomorrow?\n",
            "tokens: [18, 101, 12, 22]\n",
            "readable tokens: ['what', 'date', 'is', 'tomorrow']\n",
            "lispress tokens: [5, 1, 7, 8, 1, 29, 12, 1, 30, 10, 1, 9, 34, 1, 62, 1, 40, 33, 1, 14, 11, 1, 17, 1, 21, 1, 27, 10, 1, 25, 2, 26, 4, 1, 28, 3, 550, 3, 2, 2, 2, 2, 2, 2, 1, 40, 33, 1, 14, 11, 1, 17, 1, 21, 1, 27, 10, 1, 25, 2, 26, 4, 1, 28, 3, 191, 3, 2, 2, 2, 2, 2, 2, 2, 78, 1, 13, 1, 89, 4, 1, 15, 58, 2, 2, 2, 74, 1, 13, 4, 1, 59, 3, 211, 423, 1095, 3, 2, 2, 18, 1, 13, 1, 45, 16, 1, 44, 41, 4, 1, 38, 3, 122, 3, 2, 2, 22, 1, 42, 32, 4, 1, 15, 99, 2, 2, 2, 2, 19, 1, 13, 4, 1, 20, 3, 500, 3, 2, 2, 2, 2, 2, 2, 6]\n",
            "lispress tokens readable: ['<bos>', '(', 'yield', ':output', '(', 'createcommiteventwrapper', ':event', '(', 'createpreflighteventwrapper', ':constraint', '(', 'constraint[event]', ':attendees', '(', 'andconstraint', '(', 'andconstraint', '(', 'attendeelisthasrecipient', ':recipient', '(', 'execute', ':intension', '(', 'refer', '(', 'extensionconstraint', '(', 'recipientwithnamelike', ':constraint', '(', 'constraint[recipient]', ')', ':name', '#', '(', 'personname', '\"', 'dennis', '\"', ')', ')', ')', ')', ')', ')', '(', 'attendeelisthasrecipient', ':recipient', '(', 'execute', ':intension', '(', 'refer', '(', 'extensionconstraint', '(', 'recipientwithnamelike', ':constraint', '(', 'constraint[recipient]', ')', ':name', '#', '(', 'personname', '\"', 'gabriel', '\"', ')', ')', ')', ')', ')', ')', ')', '(', 'attendeelisthasrecipient', ':recipient', '(', 'execute', ':intension', '(', 'refer', '(', 'extensionconstraint', '(', 'recipientwithnamelike', ':constraint', '(', 'constraint[recipient]', ')', ':name', '#', '(', 'personname', '\"', 'max', '\"', ')', ')', ')', ')', ')', ')', ')', ':location', '(', '?=', '#', '(', 'locationkeyphrase', '\"', \"chili's\", 'on', '15th', 'street', '\"', ')', ')', ':start', '(', '?=', '(', 'nexttime', ':time', '(', 'hourminutepm', ':hours', '#', '(', 'number', '12', ')', ':minutes', '#', '(', 'number', '15', ')', ')', ')', ')', ':subject', '(', '?=', '#', '(', 'string', '\"', 'lunch', 'meeting', '\"', ')', ')', ')', ')', ')', ')', '<eos>']\n",
            "lispress tokens with variables readable: ['<bos>', '(', 'yield', ':output', '(', ':start', '(', 'singleton', '(', ':results', '(', 'findeventwrapperwithdefaults', ':constraint', '(', 'eventondate', ':date', '(', 'nextdow', ':dow', '#', '(', 'dayofweek', '\"', 'friday', '\"', ')', ')', ':event', '(', 'constraint[event]', ':attendees', '(', 'attendeelisthasrecipientconstraint', ':recipientconstraint', '(', 'recipientwithnamelike', ':constraint', '(', 'constraint[recipient]', ')', ':name', '#', '(', 'personname', '\"', 'jerri', 'skinner', '\"', ')', ')', ')', ')', ')', ')', ')', ')', ')', ')', '<eos>']\n",
            "lispress tokens with variables readable: ['<bos>', '(', 'yield', ':output', '(', ':start', '(', 'singleton', '(', ':results', '(', 'findeventwrapperwithdefaults', ':constraint', '(', 'eventondate', ':date', '(', 'nextdow', ':dow', '#', '(', 'dayofweek', '\"', 'friday', '\"', ')', ')', ':event', '(', 'constraint[event]', ':attendees', '(', 'attendeelisthasrecipientconstraint', ':recipientconstraint', '(', 'recipientwithnamelike', ':constraint', '(', 'constraint[recipient]', ')', ':name', '#', '(', 'personname', '\"', 'jerri', 'skinner', '\"', ')', ')', ')', ')', ')', ')', ')', ')', ')', ')', '<eos>']\n",
            "lispress tokens with variables readable: ['what', 'time', 'is', 'my', 'appointment', 'with', 'jerri', 'skinner', 'on', 'friday']\n",
            "lispress tokens with variables readable: ['what', 'date', 'is', 'tomorrow']\n"
          ],
          "name": "stdout"
        }
      ]
    },
    {
      "cell_type": "code",
      "metadata": {
        "id": "ewTh0sYXvDdw"
      },
      "source": [
        "# user tokenizer on the parameterized input\n",
        "user_tokenizer_params = Tokenizer()\n",
        "dialogue_sent = [turn['user_utterance']['tokens2_variable_readable'] for dialog in train_params for turn in dialog['turns'] ]\n",
        "user_tokenizer_params.fit_on_texts(dialogue_sent)\n",
        "# lispress tokenizer on the parameterized programs\n",
        "lispress_tokenizer_params = Tokenizer()\n",
        "dialogue_sent_lispress_params = [turn['lispress_tokens_variable_readable'] for dialog in train_params for turn in dialog['turns']]\n",
        "lispress_tokenizer_params.fit_on_texts(dialogue_sent_lispress_params)"
      ],
      "execution_count": 27,
      "outputs": []
    },
    {
      "cell_type": "code",
      "metadata": {
        "colab": {
          "base_uri": "https://localhost:8080/"
        },
        "id": "wb-4Bj5y7RYF",
        "outputId": "d34f445e-ac57-439b-f137-b7cd5aaefd7a"
      },
      "source": [
        "lispress_tokenizer_params.word_index[\"<bos>\"]"
      ],
      "execution_count": 28,
      "outputs": [
        {
          "output_type": "execute_result",
          "data": {
            "text/plain": [
              "5"
            ]
          },
          "metadata": {
            "tags": []
          },
          "execution_count": 28
        }
      ]
    },
    {
      "cell_type": "code",
      "metadata": {
        "id": "Z2HsSj0Xu1mn"
      },
      "source": [
        "def tokenizer_with_params(dataset,user_tokenizer,lispress_tokenizer):\n",
        "    for dialog in dataset:\n",
        "        for turn in dialog['turns']:\n",
        "            turn[\"user_utterance\"].update({\"tokens2_variable\":[user_tokenizer.word_index[word] if word in user_tokenizer.word_index else 0 for word in turn[\"user_utterance\"][\"tokens2_variable_readable\"]]})\n",
        "            turn.update({\"lispress_tokens_variable\":[lispress_tokenizer.word_index[word] if word in lispress_tokenizer.word_index else 0 for word in turn[\"lispress_tokens_variable_readable\"]]})\n",
        "    tokenized_train = [[ turn['user_utterance']['tokens2_variable'] for turn in dialog['turns'] ]for dialog in dataset]\n",
        "    tokenized_lispress = [[ turn['lispress_tokens_variable'] for turn in dialog['turns'] ]for dialog in dataset]\n",
        "    return tokenized_train,tokenized_lispress"
      ],
      "execution_count": 29,
      "outputs": []
    },
    {
      "cell_type": "code",
      "metadata": {
        "id": "4yC_nVuB6NYV"
      },
      "source": [
        "train_tokenized,train_tokenized_lispress = tokenizer_with_params(train_params,user_tokenizer_params,lispress_tokenizer_params)\n",
        "valid_tokenized,valid_tokenized_lispress = tokenizer_with_params(valid_params,user_tokenizer_params,lispress_tokenizer_params)"
      ],
      "execution_count": 30,
      "outputs": []
    },
    {
      "cell_type": "code",
      "metadata": {
        "id": "cl2YnjLbZlX2"
      },
      "source": [
        "def flatten_nested_list(list0):\n",
        "    \"\"\"\n",
        "    Flatten the nested list's elements\n",
        "    Example:\n",
        "    [[1,2],[3]] => [1,2,3]\n",
        "    \"\"\"\n",
        "    return [element for nested in list0 for element in nested ]"
      ],
      "execution_count": 31,
      "outputs": []
    },
    {
      "cell_type": "markdown",
      "metadata": {
        "id": "LuyPjf2GZlX2"
      },
      "source": [
        "### Create train,validation,test data"
      ]
    },
    {
      "cell_type": "code",
      "metadata": {
        "id": "YRNpNPq3ZlX2"
      },
      "source": [
        "if RUN_MODE == RUN_FULLMODE:\n",
        "\n",
        "    MAX_TRAIN_DATA=-1 #how many train data will be used from the training set\n",
        "    MAX_VALID_DATA=-1001 # the last 99 elements of the validation data will be used as test data\n",
        "    MAX_TEST_DATA=1000\n",
        "\n",
        "elif RUN_MODE == RUN_TESTMODE:\n",
        "    MAX_TRAIN_DATA=20000 #limited training mode with 10000 data\n",
        "    MAX_VALID_DATA=2000 # the last 99 elements of the validation data will be used as test data\n",
        "    MAX_TEST_DATA=99"
      ],
      "execution_count": 32,
      "outputs": []
    },
    {
      "cell_type": "code",
      "metadata": {
        "id": "YD79DsYJZlX2"
      },
      "source": [
        "from copy import deepcopy\n",
        "def create_previous_program_input(data):\n",
        "    \"\"\"\n",
        "    from each dealogue -> remove the last element, and add a 0 to the beginning\n",
        "    \"\"\"\n",
        "    data_tmp = deepcopy(data)\n",
        "    for seqs in data_tmp:\n",
        "        del seqs[-1]\n",
        "        seqs.insert(0,[0])\n",
        "    return data_tmp"
      ],
      "execution_count": 33,
      "outputs": []
    },
    {
      "cell_type": "code",
      "metadata": {
        "id": "bYDKDAsiZlX2"
      },
      "source": [
        "# the user messages\n",
        "train_data = flatten_nested_list(train_tokenized)[:MAX_TRAIN_DATA]\n",
        "valid_data = flatten_nested_list(valid_tokenized)[:MAX_VALID_DATA]\n",
        "test_data = flatten_nested_list(valid_tokenized)[MAX_VALID_DATA:MAX_VALID_DATA+MAX_TEST_DATA]\n",
        "\n",
        "#the program stored in the last dialogue turn -> currently they are not taken into account\n",
        "train_data_di = flatten_nested_list(create_previous_program_input(train_tokenized_lispress))[:MAX_TRAIN_DATA]\n",
        "valid_data_di = flatten_nested_list(create_previous_program_input(valid_tokenized_lispress))[:MAX_VALID_DATA]\n",
        "test_data_di = flatten_nested_list(create_previous_program_input(valid_tokenized_lispress))[MAX_VALID_DATA:MAX_VALID_DATA+MAX_TEST_DATA]\n",
        "\n",
        "#the current program\n",
        "train_data_y = flatten_nested_list(train_tokenized_lispress)[:MAX_TRAIN_DATA]\n",
        "valid_data_y = flatten_nested_list(valid_tokenized_lispress)[:MAX_VALID_DATA]\n",
        "test_data_y = flatten_nested_list(valid_tokenized_lispress)[MAX_VALID_DATA:MAX_VALID_DATA+MAX_TEST_DATA]\n"
      ],
      "execution_count": 34,
      "outputs": []
    },
    {
      "cell_type": "code",
      "metadata": {
        "colab": {
          "base_uri": "https://localhost:8080/",
          "height": 265
        },
        "id": "vTPBZfVPf8SX",
        "outputId": "c06e7095-522a-4cc5-9b0f-e661483e4446"
      },
      "source": [
        "lens = []\n",
        "for l in [50,100,150,200,250,600]:\n",
        "  lens.append(len([x for x in train_data_y if len(x) < l]))\n",
        "plt.plot([50,100,150,200,250,600],lens)\n",
        "\n",
        "train_ids = [idx for idx,x in enumerate(train_data_y) if len(x) < 100 ]\n",
        "valid_ids = [idx for idx,x in enumerate(valid_data_y) if len(x) < 100]\n",
        "test_ids = [idx for idx,x in enumerate(test_data_y) if len(x) < 100]"
      ],
      "execution_count": 35,
      "outputs": [
        {
          "output_type": "display_data",
          "data": {
            "image/png": "[encoded data removed]",
            "text/plain": [
              "<Figure size 432x288 with 1 Axes>"
            ]
          },
          "metadata": {
            "tags": [],
            "needs_background": "light"
          }
        }
      ]
    },
    {
      "cell_type": "code",
      "metadata": {
        "colab": {
          "base_uri": "https://localhost:8080/"
        },
        "id": "WzIu0aKZhYIR",
        "outputId": "48ae3180-e4e4-4c74-b1c4-bec903af8d1d"
      },
      "source": [
        "print(len(train_ids),len(valid_ids),len(test_ids))"
      ],
      "execution_count": 36,
      "outputs": [
        {
          "output_type": "stream",
          "text": [
            "129436 13291 973\n"
          ],
          "name": "stdout"
        }
      ]
    },
    {
      "cell_type": "code",
      "metadata": {
        "id": "WisaOUBYiXyA"
      },
      "source": [
        "train_data = [x for idx,x in enumerate(train_data) if idx in train_ids]\n",
        "valid_data = [x for idx,x in enumerate(valid_data) if idx in valid_ids]\n",
        "test_data = [x for idx,x in enumerate(test_data) if idx in test_ids]\n",
        "\n",
        "#the program stored in the last dialogue turn -> currently they are not taken into account\n",
        "train_data_di = [x for idx,x in enumerate(train_data_di) if idx in train_ids]\n",
        "valid_data_di = [x for idx,x in enumerate(valid_data_di) if idx in valid_ids]\n",
        "test_data_di = [x for idx,x in enumerate(test_data_di) if idx in test_ids]\n",
        "\n",
        "#the current program\n",
        "train_data_y = [x for idx,x in enumerate(train_data_y) if idx in train_ids]\n",
        "valid_data_y = [x for idx,x in enumerate(valid_data_y) if idx in valid_ids]\n",
        "test_data_y = [x for idx,x in enumerate(test_data_y) if idx in test_ids]"
      ],
      "execution_count": 37,
      "outputs": []
    },
    {
      "cell_type": "code",
      "metadata": {
        "colab": {
          "base_uri": "https://localhost:8080/"
        },
        "id": "verlxgr1cwsv",
        "outputId": "cabe2b88-043f-4b2c-812a-a8ffa68d2fe9"
      },
      "source": [
        "# the length of the decoder input and output\n",
        "MAX_LEN_DEC=max([len(i) for i in train_data_y])\n",
        "print(MAX_LEN_DEC)\n",
        "\n",
        "MAX_LEN_ENC=max([len(i) for i in train_data])\n",
        "print(MAX_LEN_ENC)"
      ],
      "execution_count": 38,
      "outputs": [
        {
          "output_type": "stream",
          "text": [
            "99\n",
            "104\n"
          ],
          "name": "stdout"
        }
      ]
    },
    {
      "cell_type": "code",
      "metadata": {
        "colab": {
          "base_uri": "https://localhost:8080/"
        },
        "id": "2bnKoznPkyk5",
        "outputId": "58b9448c-cbc8-4600-ed89-965dc619eb3f"
      },
      "source": [
        "len(test_data),len(test_data_y)"
      ],
      "execution_count": 39,
      "outputs": [
        {
          "output_type": "execute_result",
          "data": {
            "text/plain": [
              "(973, 973)"
            ]
          },
          "metadata": {
            "tags": []
          },
          "execution_count": 39
        }
      ]
    },
    {
      "cell_type": "code",
      "metadata": {
        "id": "73DiHUxAZlX2"
      },
      "source": [
        "\n",
        "\n",
        "# generate encoder input, decoder input and decoder target sequences\n",
        "def generate_dataset(encoder_input,previous_program,current_program):\n",
        "    \"\"\"\n",
        "    Creates the encoder input, decoder input and decoder output.\n",
        "    For each target program create len(program)-1 training data:\n",
        "    #   |Encoder input | Decoder input | Decoder output\n",
        "    1.  |input sequence 1 | current program 1 first token | current program 1 second token\n",
        "    2.  |input sequence 1 | current program 1 first two tokens | current program 1 2. and 3. tokens\n",
        "    ...\n",
        "    n.  |input sequence 1 | current program 1 n-MAX_LEN_DEC-1 -> n-1 tokens | current program 1 n-MAX_LEN_DEC -> n tokens\n",
        "    n+1.|input sequence 2 | ...\n",
        "    \n",
        "    Parameters:\n",
        "    encoder_input (list): list of input sequences\n",
        "    previous_program (list): list of previous programs\n",
        "    current_program (list): list of current programs (target)\n",
        "\n",
        "    Returns:\n",
        "    data: generated encoder input\n",
        "    data_di: generated decoder input\n",
        "    data_y: generated decoder output\n",
        "    \"\"\"\n",
        "    data,data_di,data_y = [],[],[]\n",
        "    for i,sent in enumerate(current_program):\n",
        "        data.append(encoder_input[i])\n",
        "        data_di.append(current_program[i])\n",
        "        data_y.append(current_program[i][1:])\n",
        "    return data,data_di,data_y"
      ],
      "execution_count": 40,
      "outputs": []
    },
    {
      "cell_type": "code",
      "metadata": {
        "id": "8_cnSL2iZlX2"
      },
      "source": [
        "train_data_new,train_data_new_di,train_data_new_y = None,None,None\n",
        "valid_data_new,valid_data_new_di,valid_data_new_y = None,None,None\n",
        "test_data_new,test_data_new_di,test_data_new_y = None,None,None"
      ],
      "execution_count": 41,
      "outputs": []
    },
    {
      "cell_type": "code",
      "metadata": {
        "id": "0Gjsf40jZlX2"
      },
      "source": [
        "# generate the training data\n",
        "train_data_new,train_data_new_di,train_data_new_y = generate_dataset(train_data,train_data_di,train_data_y)\n",
        "valid_data_new,valid_data_new_di,valid_data_new_y = generate_dataset(valid_data,valid_data_di,valid_data_y)\n",
        "test_data_new,test_data_new_di,test_data_new_y = generate_dataset(test_data,test_data_di,test_data_y)"
      ],
      "execution_count": 42,
      "outputs": []
    },
    {
      "cell_type": "code",
      "metadata": {
        "colab": {
          "base_uri": "https://localhost:8080/"
        },
        "id": "8HMckg0kL7-T",
        "outputId": "5e4794c6-b7a5-4b7e-90cd-fdeb488b067a"
      },
      "source": [
        "train_data_new[:10]"
      ],
      "execution_count": 43,
      "outputs": [
        {
          "output_type": "execute_result",
          "data": {
            "text/plain": [
              "[[18, 101, 12, 22],\n",
              " [18, 46, 41, 1, 40, 12, 22],\n",
              " [23, 163, 32],\n",
              " [18, 38, 12, 7, 31, 5, 488, 526, 8, 39],\n",
              " [14, 11, 25, 36, 31, 5, 488, 526, 6, 112, 34],\n",
              " [3, 37, 16, 2, 71, 54, 95],\n",
              " [44, 51],\n",
              " [14, 11, 1075, 47, 5, 374, 17, 204, 178],\n",
              " [949, 1, 496, 160, 33, 1284, 47, 17, 174, 374],\n",
              " [25, 544, 110, 5103, 3813, 2477, 640, 289, 470, 417]]"
            ]
          },
          "metadata": {
            "tags": []
          },
          "execution_count": 43
        }
      ]
    },
    {
      "cell_type": "code",
      "metadata": {
        "colab": {
          "base_uri": "https://localhost:8080/"
        },
        "id": "aBfxqNFYMB62",
        "outputId": "3da28e91-7923-4e38-a35d-b7320a378a18"
      },
      "source": [
        "train_data_new_di[:1]"
      ],
      "execution_count": 44,
      "outputs": [
        {
          "output_type": "execute_result",
          "data": {
            "text/plain": [
              "[[5, 1, 7, 8, 1, 60, 2, 2, 6]]"
            ]
          },
          "metadata": {
            "tags": []
          },
          "execution_count": 44
        }
      ]
    },
    {
      "cell_type": "code",
      "metadata": {
        "colab": {
          "base_uri": "https://localhost:8080/"
        },
        "id": "4FC4KZ93daGf",
        "outputId": "73841d34-65ca-4b76-a979-17b043905fec"
      },
      "source": [
        "train_data_new_y[:1]"
      ],
      "execution_count": 45,
      "outputs": [
        {
          "output_type": "execute_result",
          "data": {
            "text/plain": [
              "[[1, 7, 8, 1, 60, 2, 2, 6]]"
            ]
          },
          "metadata": {
            "tags": []
          },
          "execution_count": 45
        }
      ]
    },
    {
      "cell_type": "markdown",
      "metadata": {
        "id": "FqUUiOoxZlX2"
      },
      "source": [
        "### Padding encoder and decoder inputs, and decoder output"
      ]
    },
    {
      "cell_type": "code",
      "metadata": {
        "id": "ia1L6mQyZlX2"
      },
      "source": [
        "from tensorflow.keras.preprocessing.sequence import pad_sequences"
      ],
      "execution_count": 46,
      "outputs": []
    },
    {
      "cell_type": "code",
      "metadata": {
        "id": "JIVIj5oEZlX2"
      },
      "source": [
        "MAX_LEN=MAX_LEN_ENC # length of the encoder input\n",
        "\n",
        "# padding the encoder, and decoder inputs\n",
        "# padding will be added to the end of the encoder input (if needed)\n",
        "# padding will be added to the begining of the decoder inputs and outputs (if needed)\n",
        "\n",
        "encoder_train = pad_sequences(train_data_new,maxlen=MAX_LEN_ENC,dtype=\"int32\",padding='post', truncating='post')\n",
        "decoder_train = pad_sequences(train_data_new_y,maxlen=MAX_LEN_DEC,dtype=\"int32\",padding='post', truncating='post')\n",
        "decoder_train_input = pad_sequences(train_data_new_di,maxlen=MAX_LEN_DEC,dtype=\"int32\",padding='post', truncating='post')\n",
        "\n",
        "encoder_valid = pad_sequences(valid_data_new,maxlen=MAX_LEN_ENC,dtype=\"int32\",padding='post', truncating='post')\n",
        "decoder_valid = pad_sequences(valid_data_new_y,maxlen=MAX_LEN_DEC,dtype=\"int32\",padding='post', truncating='post')\n",
        "decoder_valid_input = pad_sequences(valid_data_new_di,maxlen=MAX_LEN_DEC,dtype=\"int32\",padding='post', truncating='post')\n",
        "\n",
        "encoder_test = pad_sequences(test_data_new,maxlen=MAX_LEN_ENC,dtype=\"int32\",padding='post', truncating='post')\n",
        "decoder_test = pad_sequences(test_data_new_y,maxlen=MAX_LEN_DEC,dtype=\"int32\",padding='post', truncating='post')\n",
        "decoder_test_input = pad_sequences(test_data_new_di,maxlen=MAX_LEN_DEC,dtype=\"int32\",padding='post', truncating='post')"
      ],
      "execution_count": 47,
      "outputs": []
    },
    {
      "cell_type": "markdown",
      "metadata": {
        "id": "f2CT4l-FZlX2"
      },
      "source": [
        "### Create embedding matrices for the embedding layers"
      ]
    },
    {
      "cell_type": "code",
      "metadata": {
        "id": "BS5qXSMFwdLn"
      },
      "source": [
        "import os\n",
        "import numpy as np"
      ],
      "execution_count": 48,
      "outputs": []
    },
    {
      "cell_type": "code",
      "metadata": {
        "id": "TvTxNVDBZlX2"
      },
      "source": [
        "# load the glove vector representations\n",
        "GLOVE_DIR=\"glove\"\n",
        "embeddings_index = {}\n",
        "with open(os.path.join(root_path,GLOVE_DIR,\"glove.6B.100d.txt\"),'rb') as f:\n",
        "    for line in f.readlines():\n",
        "        values = line.split()\n",
        "        word = str(values[0],encoding=\"utf8\")\n",
        "        coefs = np.asanyarray(values[1:], dtype=\"float32\")\n",
        "        embeddings_index[word] = coefs"
      ],
      "execution_count": 49,
      "outputs": []
    },
    {
      "cell_type": "code",
      "metadata": {
        "id": "KnzcCgZoZlX2"
      },
      "source": [
        "# create embedding matrix for the encoder\n",
        "embedding_dimension = 100\n",
        "DECODING_DEPTH = len(lispress_tokenizer.word_index)+1\n",
        "embedding_matrix_encoder = np.zeros((len(tokenizer_user.word_index)+1,embedding_dimension))\n",
        "for word, i in tokenizer_user.word_index.items():\n",
        "    embedding_vector = embeddings_index.get(word)\n",
        "    if embedding_vector is not None:\n",
        "        embedding_matrix_encoder[i] = embedding_vector\n",
        "\n",
        "# create embedding matrix for the decoder\n",
        "embedding_matrix_decoder = np.zeros((DECODING_DEPTH,embedding_dimension))\n",
        "for word, i in lispress_tokenizer.word_index.items():\n",
        "    embedding_vector = embeddings_index.get(word)\n",
        "    if embedding_vector is not None and i < DECODING_DEPTH:\n",
        "        embedding_matrix_decoder[i] = embedding_vector"
      ],
      "execution_count": 50,
      "outputs": []
    },
    {
      "cell_type": "code",
      "metadata": {
        "id": "nBnsh0CgZlX2"
      },
      "source": [
        "def decoder_output_creater(decoder_input_data, num_samples, MAX_LEN, VOCAB_SIZE):  \n",
        "    \"\"\"\n",
        "    Creates the one hot encoded version of the data\n",
        "    \"\"\"\n",
        "    decoder_output_data = np.zeros((num_samples, MAX_LEN, VOCAB_SIZE), dtype=\"float32\")\n",
        "\n",
        "    for i, seqs in enumerate(decoder_input_data):\n",
        "        for j, seq in enumerate(seqs):\n",
        "            if j > 0 and seq < VOCAB_SIZE:\n",
        "                decoder_output_data[i][j][seq] = 1.\n",
        "\n",
        "    return decoder_output_data"
      ],
      "execution_count": 51,
      "outputs": []
    },
    {
      "cell_type": "markdown",
      "metadata": {
        "id": "BjYxUIeiZlX3"
      },
      "source": [
        "### Create seq2seq model\n",
        "\n",
        "Simple sequence to sequence model with LSTM encoder and decoder"
      ]
    },
    {
      "cell_type": "code",
      "metadata": {
        "id": "jxQqPzbTZlX3"
      },
      "source": [
        "from tensorflow.keras.layers import TimeDistributed\n",
        "from tensorflow.keras.models import Sequential,Model\n",
        "from tensorflow.keras.layers import Embedding,Dense,Activation,Concatenate,Bidirectional\n",
        "from tensorflow.keras.layers import Input, LSTM, Dense, BatchNormalization"
      ],
      "execution_count": 52,
      "outputs": []
    },
    {
      "cell_type": "code",
      "metadata": {
        "id": "Y6VY1lwcJDhU"
      },
      "source": [
        "from tensorflow.keras import backend as K\n",
        "from tensorflow.keras.layers import Layer\n",
        "from tensorflow.keras import initializers, regularizers, constraints\n",
        "\n",
        "\n",
        "\n",
        "class Attention(Layer):\n",
        "    def __init__(self, step_dim,\n",
        "                 W_regularizer=None, b_regularizer=None,\n",
        "                 W_constraint=None, b_constraint=None,\n",
        "                 bias=True, **kwargs):\n",
        "        self.supports_masking = True\n",
        "        self.init = initializers.get('glorot_uniform')\n",
        "\n",
        "        self.W_regularizer = regularizers.get(W_regularizer)\n",
        "        self.b_regularizer = regularizers.get(b_regularizer)\n",
        "        self.W_constraint = constraints.get(W_constraint)\n",
        "        self.b_constraint = constraints.get(b_constraint)\n",
        "        \n",
        "        self.bias = bias\n",
        "        self.step_dim = step_dim\n",
        "        self.features_dim = 0\n",
        "        super(Attention, self).__init__(**kwargs)\n",
        "\n",
        "    def build(self, input_shape):\n",
        "        assert len(input_shape) == 3\n",
        "        self.W = self.add_weight(shape=(input_shape[-1],),\n",
        "                                 name='{}_W'.format(self.name),\n",
        "                                 initializer=self.init,\n",
        "                                 regularizer=self.W_regularizer,\n",
        "                                 constraint=self.W_constraint)\n",
        "        self.features_dim = input_shape[-1]\n",
        "        if self.bias:\n",
        "            self.b = self.add_weight(shape=(input_shape[1],),\n",
        "                                     name='{}_b'.format(self.name),\n",
        "                                     initializer='zero',\n",
        "                                     regularizer=self.b_regularizer,\n",
        "                                     constraint=self.b_constraint)\n",
        "        else:\n",
        "            self.b = None\n",
        "        self.built = True\n",
        "\n",
        "    def compute_mask(self, input, input_mask=None):\n",
        "        return None\n",
        "\n",
        "    def call(self, x, mask=None):\n",
        "        features_dim = self.features_dim\n",
        "        step_dim = self.step_dim\n",
        "        eij = K.reshape(K.dot(K.reshape(x, (-1, features_dim)), K.reshape(self.W, (features_dim, 1))), (-1, step_dim))\n",
        "        if self.bias:\n",
        "            eij += self.b\n",
        "        eij = K.tanh(eij)\n",
        "        a = K.exp(eij)\n",
        "        if mask is not None:\n",
        "            a *= K.cast(mask, K.floatx())\n",
        "        a /= K.cast(K.sum(a, axis=1, keepdims=True) + K.epsilon(), K.floatx())\n",
        "        a = K.expand_dims(a)\n",
        "        weighted_input = x * a\n",
        "        return weighted_input\n",
        "\n",
        "    def compute_output_shape(self, input_shape):\n",
        "        return input_shape[0], input_shape[1],input_shape[-1]"
      ],
      "execution_count": 53,
      "outputs": []
    },
    {
      "cell_type": "code",
      "metadata": {
        "id": "y3nhnjJnE5o3"
      },
      "source": [
        "def dot_product(x, kernel):\n",
        "   if K.backend() == 'tensorflow':\n",
        "       return K.squeeze(K.dot(x, K.expand_dims(kernel)),axis=-1)\n",
        "   else:\n",
        "       return K.dot(x, kernel)\n",
        "\n",
        "class AttentionWithContext(Layer):\n",
        "    \"\"\"\n",
        "Attention operation, with a context/query vector, for temporal data.\n",
        "\n",
        "\"Hierarchical Attention Networks for Document Classification\"\n",
        "by using a context vector to assist the attention\n",
        "# Input shape\n",
        "    3D tensor with shape: (samples, steps, features).\n",
        "# Output shape\n",
        "    2D tensor with shape: (samples, features).\n",
        "     \"\"\"\n",
        "\n",
        "def __init__(self,\n",
        "             W_regularizer=None, u_regularizer=None, b_regularizer=None,\n",
        "             W_constraint=None, u_constraint=None, b_constraint=None,\n",
        "             bias=True, **kwargs):\n",
        "\n",
        "    self.supports_masking = True\n",
        "    self.init = initializers.get('glorot_uniform')\n",
        "\n",
        "    self.W_regularizer = regularizers.get(W_regularizer)\n",
        "    self.u_regularizer = regularizers.get(u_regularizer)\n",
        "    self.b_regularizer = regularizers.get(b_regularizer)\n",
        "\n",
        "    self.W_constraint = constraints.get(W_constraint)\n",
        "    self.u_constraint = constraints.get(u_constraint)\n",
        "    self.b_constraint = constraints.get(b_constraint)\n",
        "\n",
        "    self.bias = bias\n",
        "    super(AttentionWithContext, self).__init__(**kwargs)\n",
        "\n",
        "def build(self, input_shape):\n",
        "    assert len(input_shape) == 3\n",
        "\n",
        "    self.W = self.add_weight((input_shape[-1], input_shape[-1],),\n",
        "                             initializer=self.init,\n",
        "                             name='{}_W'.format(self.name),\n",
        "                             regularizer=self.W_regularizer,\n",
        "                             constraint=self.W_constraint)\n",
        "    if self.bias:\n",
        "        self.b = self.add_weight((input_shape[-1],),\n",
        "                                 initializer='zero',\n",
        "                                 name='{}_b'.format(self.name),\n",
        "                                 regularizer=self.b_regularizer,\n",
        "                                 constraint=self.b_constraint)\n",
        "\n",
        "    self.u = self.add_weight((input_shape[-1],),\n",
        "                             initializer=self.init,\n",
        "                             name='{}_u'.format(self.name),\n",
        "                             regularizer=self.u_regularizer,\n",
        "                             constraint=self.u_constraint)\n",
        "\n",
        "    super(AttentionWithContext, self).build(input_shape)\n",
        "\n",
        "def compute_mask(self, input, input_mask=None):\n",
        "    return None\n",
        "\n",
        "def call(self, x, mask=None):\n",
        "    uit = dot_product(x, self.W)\n",
        "\n",
        "    if self.bias:\n",
        "        uit += self.b\n",
        "\n",
        "    uit = K.tanh(uit)\n",
        "    ait = dot_product(uit, self.u)\n",
        "\n",
        "    a = K.exp(ait)\n",
        "\n",
        "    if mask is not None:\n",
        "        a *= K.cast(mask, K.floatx())\n",
        "\n",
        "    a /= K.cast(K.sum(a, axis=1, keepdims=True) + K.epsilon(), K.floatx())\n",
        "\n",
        "    a = K.expand_dims(a)\n",
        "    weighted_input = x * a\n",
        "    return K.sum(weighted_input, axis=1)\n",
        "\n",
        "def compute_output_shape(self, input_shape):\n",
        "    return input_shape[0], input_shape[-1]"
      ],
      "execution_count": 54,
      "outputs": []
    },
    {
      "cell_type": "code",
      "metadata": {
        "id": "Jw3UnZVz0C53"
      },
      "source": [
        "def create_lstm_model(hidden_dim=128):\n",
        "    embedding_dimension=100\n",
        "\n",
        "    #create encoder embedding layer\n",
        "    encoder_inputs = Input(shape=(MAX_LEN_ENC, ),dtype=\"int32\")\n",
        "    encoder_embedding = Embedding(input_dim = num_encoder_tokens,\n",
        "                                output_dim = embedding_dimension,\n",
        "                                input_length = MAX_LEN_ENC,\n",
        "                                weights = [embedding_matrix_encoder],\n",
        "                              trainable = False)(encoder_inputs)\n",
        "    #create encoder lstm layer\n",
        "    encoder_LSTM = LSTM(hidden_dim, return_state=True)\n",
        "    encoder_outputs, state_h, state_c = encoder_LSTM(encoder_embedding)\n",
        "\n",
        "    #create decoder embedding layer\n",
        "    decoder_inputs = Input(shape=(MAX_LEN_DEC, ),dtype=\"int32\")\n",
        "    decoder_embedding = Embedding(input_dim = DECODING_DEPTH,\n",
        "                                output_dim = embedding_dimension,\n",
        "                                input_length = MAX_LEN_DEC,\n",
        "                                weights = [embedding_matrix_decoder],\n",
        "                              trainable = False)(decoder_inputs)\n",
        "    #create decoder LSTM layer using the encoder states\n",
        "    decoder_LSTM = LSTM(hidden_dim, return_state=True, return_sequences=True)(decoder_embedding, initial_state=[state_h, state_c])\n",
        "\n",
        "    if ATTENTION_LAYER:\n",
        "      decoder_outputs = AttentionWithContext(MAX_LEN_DEC)(decoder_LSTM[0])\n",
        "    else:\n",
        "      decoder_outputs, _, _ = decoder_LSTM\n",
        "\n",
        "    #output time distributed dense layer with softmax activation\n",
        "    outputs = TimeDistributed(Dense(DECODING_DEPTH, activation='softmax'))(decoder_outputs)\n",
        "    model = Model([encoder_inputs, decoder_inputs], outputs)\n",
        "\n",
        "    return model\n",
        "\n",
        "def create_bilstm_model(hidden_dim=128):\n",
        "    embedding_dimension=100\n",
        "\n",
        "    #create encoder embedding layer\n",
        "    encoder_inputs = Input(shape=(MAX_LEN_ENC, ),dtype=\"int32\")\n",
        "    encoder_embedding = Embedding(input_dim = num_encoder_tokens,\n",
        "                                output_dim = embedding_dimension,\n",
        "                                input_length = MAX_LEN_ENC,\n",
        "                                weights = [embedding_matrix_encoder],\n",
        "                              trainable = False)(encoder_inputs)\n",
        "    \n",
        "    encoder_LSTM = Bidirectional(LSTM(hidden_dim, return_state=True), merge_mode=\"concat\")\n",
        "\n",
        "    encoder_outputs, forward_h, forward_c, backward_c, backward_h = encoder_LSTM(encoder_embedding)\n",
        "    state_h = Concatenate()([forward_h, backward_h])\n",
        "    state_c = Concatenate()([forward_c, backward_c])\n",
        "    encoder_states = [forward_h, forward_c, backward_h, backward_c]\n",
        "    #create encoder lstm layer\n",
        "    #encoder_LSTM = LSTM(hidden_dim, return_state=True)\n",
        "    #encoder_outputs, state_h, state_c = encoder_LSTM(encoder_embedding)\n",
        "\n",
        "    #create decoder embedding layer\n",
        "    decoder_inputs = Input(shape=(MAX_LEN_DEC, ),dtype=\"int32\")\n",
        "    decoder_embedding = Embedding(input_dim = DECODING_DEPTH,\n",
        "                                output_dim = embedding_dimension,\n",
        "                                input_length = MAX_LEN_DEC,\n",
        "                                weights = [embedding_matrix_decoder],\n",
        "                              trainable = False)(decoder_inputs)\n",
        "\n",
        "    decoder_LSTM = LSTM(hidden_dim*2, return_state=True, return_sequences=True)(decoder_embedding, initial_state=[state_h, state_c])\n",
        "    print(decoder_LSTM[0])    \n",
        "\n",
        "    if ATTENTION_LAYER:\n",
        "      decoder_outputs = AttentionWithContext(MAX_LEN_DEC)(decoder_LSTM[0])\n",
        "    else:\n",
        "      decoder_outputs, _, _ = decoder_LSTM\n",
        "\n",
        "    #output time distributed dense layer with softmax activation\n",
        "    outputs = TimeDistributed(Dense(DECODING_DEPTH, activation='softmax'))(decoder_outputs)\n",
        "    model = Model([encoder_inputs, decoder_inputs], outputs)\n",
        "\n",
        "    return model"
      ],
      "execution_count": 55,
      "outputs": []
    },
    {
      "cell_type": "code",
      "metadata": {
        "id": "DXrVbdtY8KlO"
      },
      "source": [
        "num_encoder_tokens = len(tokenizer_user.word_index)+1\n",
        "num_decoder_tokens = len(lispress_tokenizer.word_index)+1"
      ],
      "execution_count": 56,
      "outputs": []
    },
    {
      "cell_type": "code",
      "metadata": {
        "id": "E49hVcwCZlX3"
      },
      "source": [
        "if MODEL_TYPE == MODEL_LSTM:\n",
        "    model = create_lstm_model(HIDDEN_DIM)\n",
        "elif MODEL_TYPE == MODEL_BILSTM:\n",
        "    model = create_bilstm_model(HIDDEN_DIM)"
      ],
      "execution_count": 57,
      "outputs": []
    },
    {
      "cell_type": "code",
      "metadata": {
        "colab": {
          "base_uri": "https://localhost:8080/"
        },
        "id": "nBhqH9uWZlX3",
        "outputId": "a5883d46-c2c8-41a6-aa4c-ee2cd5c4ee43"
      },
      "source": [
        "model.summary()"
      ],
      "execution_count": 58,
      "outputs": [
        {
          "output_type": "stream",
          "text": [
            "Model: \"functional_1\"\n",
            "__________________________________________________________________________________________________\n",
            "Layer (type)                    Output Shape         Param #     Connected to                     \n",
            "==================================================================================================\n",
            "input_1 (InputLayer)            [(None, 104)]        0                                            \n",
            "__________________________________________________________________________________________________\n",
            "input_2 (InputLayer)            [(None, 99)]         0                                            \n",
            "__________________________________________________________________________________________________\n",
            "embedding (Embedding)           (None, 104, 100)     1629700     input_1[0][0]                    \n",
            "__________________________________________________________________________________________________\n",
            "embedding_1 (Embedding)         (None, 99, 100)      1260700     input_2[0][0]                    \n",
            "__________________________________________________________________________________________________\n",
            "lstm (LSTM)                     [(None, 8), (None, 8 3488        embedding[0][0]                  \n",
            "__________________________________________________________________________________________________\n",
            "lstm_1 (LSTM)                   [(None, 99, 8), (Non 3488        embedding_1[0][0]                \n",
            "                                                                 lstm[0][1]                       \n",
            "                                                                 lstm[0][2]                       \n",
            "__________________________________________________________________________________________________\n",
            "time_distributed (TimeDistribut (None, 99, 12607)    113463      lstm_1[0][0]                     \n",
            "==================================================================================================\n",
            "Total params: 3,010,839\n",
            "Trainable params: 120,439\n",
            "Non-trainable params: 2,890,400\n",
            "__________________________________________________________________________________________________\n"
          ],
          "name": "stdout"
        }
      ]
    },
    {
      "cell_type": "code",
      "metadata": {
        "id": "_VNJxodZGEUT"
      },
      "source": [
        "from tensorflow.keras.utils import plot_model\n",
        "import tensorflow as tf"
      ],
      "execution_count": 59,
      "outputs": []
    },
    {
      "cell_type": "code",
      "metadata": {
        "colab": {
          "base_uri": "https://localhost:8080/",
          "height": 466
        },
        "id": "kitU_G7E8V9U",
        "outputId": "70940858-4815-47f8-81d0-f1e917cd45ca"
      },
      "source": [
        "plot_model(model,show_layer_names=True)"
      ],
      "execution_count": 60,
      "outputs": [
        {
          "output_type": "execute_result",
          "data": {
            "image/png": "[encoded data removed]",
            "text/plain": [
              "<IPython.core.display.Image object>"
            ]
          },
          "metadata": {
            "tags": []
          },
          "execution_count": 60
        }
      ]
    },
    {
      "cell_type": "code",
      "metadata": {
        "id": "kgZ3B2gxZlX3"
      },
      "source": [
        "model.compile(optimizer=\"adam\",loss=\"categorical_crossentropy\",metrics=[\"accuracy\"])"
      ],
      "execution_count": 61,
      "outputs": []
    },
    {
      "cell_type": "markdown",
      "metadata": {
        "id": "ENR1rDjMZlX3"
      },
      "source": [
        "## Training"
      ]
    },
    {
      "cell_type": "code",
      "metadata": {
        "id": "5HAbKEYrZlX3"
      },
      "source": [
        "# data generator for the training\n",
        "class DataGenerator(tf.keras.utils.Sequence):\n",
        "    def __init__(self, input, batch_size=32, num_classes=None, shuffle=False):\n",
        "        self.batch_size = batch_size\n",
        "        self.input = input\n",
        "        self.indices = list(range(len(input[0])))\n",
        "        self.num_classes = num_classes\n",
        "        self.shuffle = shuffle\n",
        "        self.on_epoch_end()\n",
        "\n",
        "    def __len__(self):\n",
        "        return len(self.indices) // self.batch_size\n",
        "\n",
        "    def __getitem__(self, index):\n",
        "        index = self.index[index * self.batch_size:(index + 1) * self.batch_size]\n",
        "        batch = [self.indices[k] for k in index]\n",
        "        \n",
        "        X, y = self.__get_data(batch)\n",
        "        return X, y\n",
        "\n",
        "    def on_epoch_end(self):\n",
        "        self.index = np.arange(len(self.indices))\n",
        "        if self.shuffle == True:\n",
        "            np.random.shuffle(self.index)\n",
        "\n",
        "    def __get_data(self, batch):\n",
        "        #print(batch[0],batch[-1])\n",
        "        encoder = np.array(self.input[0][batch[0]:batch[-1]+1])\n",
        "        decoder = np.array(self.input[1][batch[0]:batch[-1]+1])\n",
        "        X = [encoder,decoder]\n",
        "        #print(X)\n",
        "        y = decoder_output_creater(self.input[2][batch[0]:batch[-1]+1],len(batch),MAX_LEN_DEC,DECODING_DEPTH)\n",
        "\n",
        "        return X, y\n"
      ],
      "execution_count": 62,
      "outputs": []
    },
    {
      "cell_type": "code",
      "metadata": {
        "colab": {
          "base_uri": "https://localhost:8080/"
        },
        "id": "hUtRzMUFOtsR",
        "outputId": "f24dbbc7-3364-4cd1-b352-470cc5e7829a"
      },
      "source": [
        "len(encoder_train)"
      ],
      "execution_count": 63,
      "outputs": [
        {
          "output_type": "execute_result",
          "data": {
            "text/plain": [
              "129436"
            ]
          },
          "metadata": {
            "tags": []
          },
          "execution_count": 63
        }
      ]
    },
    {
      "cell_type": "code",
      "metadata": {
        "colab": {
          "base_uri": "https://localhost:8080/"
        },
        "id": "6CiSGfkgZlX3",
        "outputId": "7d640e93-72e5-4609-cc44-7439bb7fdc91"
      },
      "source": [
        "batch_size = BATCH_SIZE\n",
        "\n",
        "model.fit(DataGenerator([encoder_train,decoder_train_input,decoder_train],batch_size=batch_size),\n",
        "         batch_size=batch_size,epochs=EPOCHS,validation_data=DataGenerator([encoder_valid,decoder_valid_input,decoder_valid],batch_size=batch_size))"
      ],
      "execution_count": 64,
      "outputs": [
        {
          "output_type": "stream",
          "text": [
            "Epoch 1/3\n",
            "4044/4044 [==============================] - 589s 146ms/step - loss: 1.8540 - accuracy: 0.6983 - val_loss: 0.8760 - val_accuracy: 0.8131\n",
            "Epoch 2/3\n",
            "4044/4044 [==============================] - 592s 146ms/step - loss: 0.7236 - accuracy: 0.8341 - val_loss: 0.6147 - val_accuracy: 0.8506\n",
            "Epoch 3/3\n",
            "4044/4044 [==============================] - 592s 146ms/step - loss: 0.5827 - accuracy: 0.8525 - val_loss: 0.5434 - val_accuracy: 0.8603\n"
          ],
          "name": "stdout"
        },
        {
          "output_type": "execute_result",
          "data": {
            "text/plain": [
              "<tensorflow.python.keras.callbacks.History at 0x7f5f702ada20>"
            ]
          },
          "metadata": {
            "tags": []
          },
          "execution_count": 64
        }
      ]
    },
    {
      "cell_type": "code",
      "metadata": {
        "id": "l3DXt8_6UWJn"
      },
      "source": [
        "#if PERSIST_MODEL_AS is not None:\n",
        "#    model.save(os.path.join(\"models\",PERSIST_MODEL_AS))"
      ],
      "execution_count": 65,
      "outputs": []
    },
    {
      "cell_type": "code",
      "metadata": {
        "id": "6tUwHc62ZlX3"
      },
      "source": [
        "def extract_lispress_from_pred(pred,tokenizer):\n",
        "    \"\"\"\n",
        "    Returns the lispress program and lispress token codes from the prediction\n",
        "    \"\"\"\n",
        "    lines = []\n",
        "    codes = []\n",
        "    for p in pred:\n",
        "        line = [tokenizer.index_word[np.argmax(vec)] if np.argmax(vec) > 0 else \"UNKNOWN\" for vec in p ]\n",
        "        code = [np.argmax(vec) for vec in p ]\n",
        "        #print(codes)\n",
        "        lines.append(line)\n",
        "        codes.append(code)\n",
        "    return lines,codes"
      ],
      "execution_count": 66,
      "outputs": []
    },
    {
      "cell_type": "code",
      "metadata": {
        "id": "2qiGVY7VZlX3"
      },
      "source": [
        "def make_prediction(sent,program,user_tokenizer,lispress_tokenizer,model,isText=True):\n",
        "    \"\"\"\n",
        "    Makes prediction for a given sentence\n",
        "    \n",
        "    Method: the input of the encoder will be the given sentence in each turn; the decoder input will be first a <bos> token,\n",
        "    we apply padding to shift the <bos> token to the end of the decoder input. Then we make a prediction, and concat the last token of the\n",
        "    prediction to the previous decoder input. We repeat this until we gets an <eos> token or we reach the max length\n",
        "    \n",
        "    Parameters:\n",
        "    sent (string|list): input code sequence or input text\n",
        "    program: not used\n",
        "    user_tokenizer\n",
        "    lispress_tokenizer\n",
        "    model\n",
        "    isText (boolean): True if the input is text False else\n",
        "    \n",
        "    Returns the predicted lispress program (token codes)\n",
        "    \"\"\"\n",
        "    if isText:\n",
        "        seq = user_tokenizer.texts_to_sequences([sent])[0]\n",
        "    else:\n",
        "        seq = sent\n",
        "    print(\"Question:\", [user_tokenizer.index_word[code] if code in user_tokenizer.index_word else \"unknown\" for code in seq])\n",
        "    decoder = [\"<bos>\"]\n",
        "    length = 0\n",
        "    MAX_LENGTH = 100\n",
        "    decoder_seq = [lispress_tokenizer.word_index[word] for word in decoder]\n",
        "\n",
        "    seq_pad = pad_sequences([seq],maxlen=MAX_LEN,dtype=\"int32\",padding='post', truncating='post')[0]\n",
        "    decoder_pad = pad_sequences([decoder_seq],maxlen=MAX_LEN_DEC,dtype=\"int32\",padding='pre', truncating='pre')[0]\n",
        "\n",
        "    line = [[\"asd\"]]\n",
        "\n",
        "    while length < MAX_LENGTH and line[0][-1] != '<eos>':\n",
        "        pred = model.predict([np.array([seq_pad]),np.array([decoder_pad])])[0]\n",
        "        line,code = extract_lispress_from_pred([pred],lispress_tokenizer)\n",
        "        decoder_seq.append(code[0][-1])\n",
        "        decoder_pad = pad_sequences([decoder_seq],maxlen=MAX_LEN_DEC,dtype=\"int32\",padding='pre', truncating='pre')[0]\n",
        "        length += 1\n",
        "\n",
        "    print(\"Program:\",[lispress_tokenizer.index_word[code0] if code0>0 else \"UNKNOWN\" for code0 in decoder_seq])  \n",
        "\n",
        "    return decoder_seq"
      ],
      "execution_count": 67,
      "outputs": []
    },
    {
      "cell_type": "code",
      "metadata": {
        "id": "joEMucswPbig"
      },
      "source": [
        "def make_prediction2(sent,program,user_tokenizer,lispress_tokenizer,model,isText=True):\n",
        "    \"\"\"\n",
        "    Makes prediction for a given sentence\n",
        "    \n",
        "    Method: the input of the encoder will be the given sentence in each turn; the decoder input will be first a <bos> token,\n",
        "    we apply padding to shift the <bos> token to the end of the decoder input. Then we make a prediction, and concat the last token of the\n",
        "    prediction to the previous decoder input. We repeat this until we gets an <eos> token or we reach the max length\n",
        "    \n",
        "    Parameters:\n",
        "    sent (string|list): input code sequence or input text\n",
        "    program: not used\n",
        "    user_tokenizer\n",
        "    lispress_tokenizer\n",
        "    model\n",
        "    isText (boolean): True if the input is text False else\n",
        "    \n",
        "    Returns the predicted lispress program (token codes)\n",
        "    \"\"\"\n",
        "    if isText:\n",
        "        seq = user_tokenizer.texts_to_sequences([sent])[0]\n",
        "    else:\n",
        "        seq = sent\n",
        "    print(\"Question:\", [user_tokenizer.index_word[code] if code in user_tokenizer.index_word else \"unknown\" for code in seq])\n",
        "    decoder = [\"<bos>\",\"(\",\"yield\",\":output\"]\n",
        "    length = 4\n",
        "    MAX_LENGTH = MAX_LEN_DEC\n",
        "    decoder_seq = [lispress_tokenizer.word_index[word] for word in decoder]\n",
        "    next_index = 3\n",
        "    seq_pad = pad_sequences([seq],maxlen=MAX_LEN,dtype=\"int32\",padding='post', truncating='post')[0]\n",
        "    decoder_pad = pad_sequences([decoder_seq],maxlen=MAX_LEN_DEC,dtype=\"int32\",padding='post', truncating='post')[0]\n",
        "\n",
        "    line = [[\"asd\",\"asd\",\"asd\",\"asd\"]]\n",
        "    last_token=\"asd\"\n",
        "    while length < MAX_LENGTH and last_token != '<eos>':\n",
        "        #print(next_index)\n",
        "        #print(length)\n",
        "        pred = model.predict([np.array([seq_pad]),np.array([decoder_pad])])[0]\n",
        "        line,code = extract_lispress_from_pred([pred],lispress_tokenizer)\n",
        "        #print(line[0])\n",
        "        decoder_seq.append(code[0][next_index])\n",
        "        last_token = line[0][next_index]\n",
        "        #decoder_seq.append(code[0][-1])\n",
        "        #print(decoder_seq)\n",
        "        if code[0][next_index] == 0:\n",
        "            break\n",
        "        next_index+=1\n",
        "        \n",
        "        decoder_pad = pad_sequences([decoder_seq],maxlen=MAX_LEN_DEC,dtype=\"int32\",padding='post', truncating='post')[0]\n",
        "        length += 1\n",
        "        #print(\" \".join([lispress_tokenizer.index_word[code] for code in decoder_seq]))\n",
        "\n",
        "    print(\"Program:\",[lispress_tokenizer.index_word[code0] if code0>0 else \"UNKNOWN\" for code0 in decoder_seq])  \n",
        "\n",
        "    return decoder_seq"
      ],
      "execution_count": 68,
      "outputs": []
    },
    {
      "cell_type": "code",
      "metadata": {
        "id": "4NU2DWuVw1v9"
      },
      "source": [
        "import math"
      ],
      "execution_count": 69,
      "outputs": []
    },
    {
      "cell_type": "code",
      "metadata": {
        "id": "vBb7OhHmnbF2"
      },
      "source": [
        "def make_prediction3(sents,program,user_tokenizer,lispress_tokenizer,model,isText=True):\n",
        "    \"\"\"\n",
        "    Makes prediction for a given sentence\n",
        "    \n",
        "    Method: the input of the encoder will be the given sentence in each turn; the decoder input will be first a <bos> token,\n",
        "    we apply padding to shift the <bos> token to the end of the decoder input. Then we make a prediction, and concat the last token of the\n",
        "    prediction to the previous decoder input. We repeat this until we gets an <eos> token or we reach the max length\n",
        "    \n",
        "    Parameters:\n",
        "    sent (string|list): input code sequence or input text\n",
        "    program: not used\n",
        "    user_tokenizer\n",
        "    lispress_tokenizer\n",
        "    model\n",
        "    isText (boolean): True if the input is text False else\n",
        "    \n",
        "    Returns the predicted lispress program (token codes)\n",
        "    \"\"\"\n",
        "    if isText:\n",
        "        seqs = user_tokenizer.texts_to_sequences(sents)\n",
        "    else:\n",
        "        seqs = sents\n",
        "    #print(\"Question:\", [user_tokenizer.index_word[code] if code in user_tokenizer.index_word else \"unknown\" for code in seq])\n",
        "    decoder = [\"<bos>\",\"(\"]\n",
        "    length = 2\n",
        "    MAX_LENGTH = MAX_LEN_DEC\n",
        "    decoder_seqs = [[lispress_tokenizer.word_index[word] for word in decoder] for x in seqs]\n",
        "    next_index = 1\n",
        "    seq_pads = pad_sequences(seqs,maxlen=MAX_LEN,dtype=\"int32\",padding='post', truncating='post')\n",
        "    decoder_pads = pad_sequences(decoder_seqs,maxlen=MAX_LEN_DEC,dtype=\"int32\",padding='post', truncating='post')\n",
        "\n",
        "    batch_size=30\n",
        "    while length <= MAX_LENGTH:\n",
        "        #print(next_index)\n",
        "        #print(length)\n",
        "        print(\"next index\",next_index)\n",
        "        for batch in range(0,math.ceil(len(seq_pads)/batch_size)):\n",
        "          start = batch*batch_size\n",
        "          end = (batch+1)*batch_size\n",
        "          #print(start,end)\n",
        "          preds = model.predict([np.array(seq_pads[start:end]),np.array(decoder_pads[start:end])])\n",
        "          #print(preds[:2])\n",
        "          lines,codes = extract_lispress_from_pred(preds,lispress_tokenizer)\n",
        "          #print(line[0])\n",
        "          for idx,seq in enumerate(decoder_seqs[start:end]):\n",
        "            seq.append(codes[idx][next_index])\n",
        "        #last_token = line[0][next_index]\n",
        "        #decoder_seq.append(code[0][-1])\n",
        "        #print(decoder_seq)\n",
        "        #if code[0][next_index] == 0:\n",
        "        #    break\n",
        "        next_index+=1\n",
        "        \n",
        "        decoder_pads = pad_sequences(decoder_seqs,maxlen=MAX_LEN_DEC,dtype=\"int32\",padding='post', truncating='post')\n",
        "        length += 1\n",
        "        #print(\" \".join([lispress_tokenizer.index_word[code] for code in decoder_seq]))\n",
        "\n",
        "    #print(\"Program:\",[lispress_tokenizer.index_word[code0] if code0>0 else \"UNKNOWN\" for code0 in decoder_seq])  \n",
        "    return decoder_seqs"
      ],
      "execution_count": 84,
      "outputs": []
    },
    {
      "cell_type": "code",
      "metadata": {
        "id": "ZK8G4EV8ZlX3"
      },
      "source": [
        "from tensorflow.keras.models import load_model"
      ],
      "execution_count": 85,
      "outputs": []
    },
    {
      "cell_type": "code",
      "metadata": {
        "id": "ztmCkTEKZlX3"
      },
      "source": [
        "# load a model trained on the first 1 million data (if you want to skip the training part)\n",
        "#model = load_model('models/model20201121_newtokenizer_50-50-1M.h5')\n",
        "#model.save(root_path+\"/model20201208_parameterized_length100_e6_b32_bilstm_attention.h5\")"
      ],
      "execution_count": 86,
      "outputs": []
    },
    {
      "cell_type": "markdown",
      "metadata": {
        "id": "S4G0j1STZlX3"
      },
      "source": [
        "## Evaluation"
      ]
    },
    {
      "cell_type": "code",
      "metadata": {
        "colab": {
          "base_uri": "https://localhost:8080/"
        },
        "id": "9HuBcWiNpECW",
        "outputId": "abfb227e-c4ec-4842-9f23-7fefa83c0c56"
      },
      "source": [
        "preds = make_prediction3(test_data[:],[],user_tokenizer=user_tokenizer_params,lispress_tokenizer=lispress_tokenizer_params,model=model,isText=False)"
      ],
      "execution_count": 87,
      "outputs": [
        {
          "output_type": "stream",
          "text": [
            "next index 1\n",
            "next index 2\n",
            "next index 3\n",
            "next index 4\n",
            "next index 5\n",
            "next index 6\n",
            "next index 7\n",
            "next index 8\n",
            "next index 9\n",
            "next index 10\n",
            "next index 11\n",
            "next index 12\n",
            "next index 13\n",
            "next index 14\n",
            "next index 15\n",
            "next index 16\n",
            "next index 17\n",
            "next index 18\n",
            "next index 19\n",
            "next index 20\n",
            "next index 21\n",
            "next index 22\n",
            "next index 23\n",
            "next index 24\n",
            "next index 25\n",
            "next index 26\n",
            "next index 27\n",
            "next index 28\n",
            "next index 29\n",
            "next index 30\n",
            "next index 31\n",
            "next index 32\n",
            "next index 33\n",
            "next index 34\n",
            "next index 35\n",
            "next index 36\n",
            "next index 37\n",
            "next index 38\n",
            "next index 39\n",
            "next index 40\n",
            "next index 41\n",
            "next index 42\n",
            "next index 43\n",
            "next index 44\n",
            "next index 45\n",
            "next index 46\n",
            "next index 47\n",
            "next index 48\n",
            "next index 49\n",
            "next index 50\n",
            "next index 51\n",
            "next index 52\n",
            "next index 53\n",
            "next index 54\n",
            "next index 55\n",
            "next index 56\n",
            "next index 57\n",
            "next index 58\n",
            "next index 59\n",
            "next index 60\n",
            "next index 61\n",
            "next index 62\n",
            "next index 63\n",
            "next index 64\n",
            "next index 65\n",
            "next index 66\n",
            "next index 67\n",
            "next index 68\n",
            "next index 69\n",
            "next index 70\n",
            "next index 71\n",
            "next index 72\n",
            "next index 73\n",
            "next index 74\n",
            "next index 75\n",
            "next index 76\n",
            "next index 77\n",
            "next index 78\n",
            "next index 79\n",
            "next index 80\n",
            "next index 81\n",
            "next index 82\n",
            "next index 83\n",
            "next index 84\n",
            "next index 85\n",
            "next index 86\n",
            "next index 87\n",
            "next index 88\n",
            "next index 89\n",
            "next index 90\n",
            "next index 91\n",
            "next index 92\n",
            "next index 93\n",
            "next index 94\n",
            "next index 95\n",
            "next index 96\n",
            "next index 97\n",
            "next index 98\n"
          ],
          "name": "stdout"
        }
      ]
    },
    {
      "cell_type": "code",
      "metadata": {
        "id": "WAGCB1qqrYM3"
      },
      "source": [
        "ALL=0\n",
        "TP=0\n",
        "for i,pred_ in enumerate(preds):\n",
        "  #print(pred_.index(lispress_tokenizer_params.word_index[\"<eos>\"]))\n",
        "  pred0 = pred_[:pred_.index(lispress_tokenizer_params.word_index[\"<eos>\"])+1 if lispress_tokenizer_params.word_index[\"<eos>\"] in pred_ else -1]\n",
        "  ALL+=1\n",
        "  if len(pred0) == len(test_data_y[i]) and np.sum([ 0 if pred == expected else 1 for pred,expected in zip(pred0,test_data_y[i])] ) == 0:\n",
        "    TP+=1"
      ],
      "execution_count": 93,
      "outputs": []
    },
    {
      "cell_type": "code",
      "metadata": {
        "id": "D_pHxOxbOcBo",
        "colab": {
          "base_uri": "https://localhost:8080/"
        },
        "outputId": "7f2e5ee9-da80-4c9a-c91a-b52418942fd0"
      },
      "source": [
        "print(\"Accuracy:\",TP/ALL)"
      ],
      "execution_count": 94,
      "outputs": [
        {
          "output_type": "stream",
          "text": [
            "Accuracy: 0.0\n"
          ],
          "name": "stdout"
        }
      ]
    },
    {
      "cell_type": "code",
      "metadata": {
        "colab": {
          "base_uri": "https://localhost:8080/"
        },
        "id": "YDakri-V336x",
        "outputId": "aee4b3b5-e77c-44bc-d9af-429075a22d5b"
      },
      "source": [
        "first_error = []\n",
        "for i,pred in enumerate(preds[:]):\n",
        "  max_len = min(len(pred),len(test_data_y[i]))\n",
        "  error_indexes = [ j for j,(pred_,expected) in enumerate(zip(pred[:max_len],test_data_y[i][:max_len])) if pred_ != expected]\n",
        "  if len(error_indexes) > 0:\n",
        "    first_error.append(error_indexes[0])\n",
        "print(len(first_error))"
      ],
      "execution_count": 90,
      "outputs": [
        {
          "output_type": "stream",
          "text": [
            "973\n"
          ],
          "name": "stdout"
        }
      ]
    },
    {
      "cell_type": "code",
      "metadata": {
        "colab": {
          "base_uri": "https://localhost:8080/",
          "height": 937
        },
        "id": "tN4IhKCUYHVp",
        "outputId": "4ab692ff-7f47-4037-da8b-020f0ecaf584"
      },
      "source": [
        "plt.hist([e for e in first_error if e < 20],bins=range(0,20))\n",
        "plt.xticks(range(0,20),range(0,20))"
      ],
      "execution_count": 91,
      "outputs": [
        {
          "output_type": "execute_result",
          "data": {
            "text/plain": [
              "([<matplotlib.axis.XTick at 0x7f5e75176b00>,\n",
              "  <matplotlib.axis.XTick at 0x7f5e74fc6860>,\n",
              "  <matplotlib.axis.XTick at 0x7f5e7518d978>,\n",
              "  <matplotlib.axis.XTick at 0x7f5e74ee6e10>,\n",
              "  <matplotlib.axis.XTick at 0x7f5e74ee65c0>,\n",
              "  <matplotlib.axis.XTick at 0x7f5e74d41a58>,\n",
              "  <matplotlib.axis.XTick at 0x7f5e74d41470>,\n",
              "  <matplotlib.axis.XTick at 0x7f5e74d41128>,\n",
              "  <matplotlib.axis.XTick at 0x7f5e74fa59e8>,\n",
              "  <matplotlib.axis.XTick at 0x7f5e74cd5588>,\n",
              "  <matplotlib.axis.XTick at 0x7f5e74cd5630>,\n",
              "  <matplotlib.axis.XTick at 0x7f5e7505ccc0>,\n",
              "  <matplotlib.axis.XTick at 0x7f5e7505c0b8>,\n",
              "  <matplotlib.axis.XTick at 0x7f5e74d58320>,\n",
              "  <matplotlib.axis.XTick at 0x7f5e74d58b70>,\n",
              "  <matplotlib.axis.XTick at 0x7f5e74d58ac8>,\n",
              "  <matplotlib.axis.XTick at 0x7f5e74ce0278>,\n",
              "  <matplotlib.axis.XTick at 0x7f5e74d58940>,\n",
              "  <matplotlib.axis.XTick at 0x7f5e7505ce80>,\n",
              "  <matplotlib.axis.XTick at 0x7f5e74cd5f98>],\n",
              " [Text(0, 0, '0'),\n",
              "  Text(0, 0, '1'),\n",
              "  Text(0, 0, '2'),\n",
              "  Text(0, 0, '3'),\n",
              "  Text(0, 0, '4'),\n",
              "  Text(0, 0, '5'),\n",
              "  Text(0, 0, '6'),\n",
              "  Text(0, 0, '7'),\n",
              "  Text(0, 0, '8'),\n",
              "  Text(0, 0, '9'),\n",
              "  Text(0, 0, '10'),\n",
              "  Text(0, 0, '11'),\n",
              "  Text(0, 0, '12'),\n",
              "  Text(0, 0, '13'),\n",
              "  Text(0, 0, '14'),\n",
              "  Text(0, 0, '15'),\n",
              "  Text(0, 0, '16'),\n",
              "  Text(0, 0, '17'),\n",
              "  Text(0, 0, '18'),\n",
              "  Text(0, 0, '19')])"
            ]
          },
          "metadata": {
            "tags": []
          },
          "execution_count": 91
        },
        {
          "output_type": "display_data",
          "data": {
            "image/png": "[encoded data removed]",
            "text/plain": [
              "<Figure size 432x288 with 1 Axes>"
            ]
          },
          "metadata": {
            "tags": [],
            "needs_background": "light"
          }
        }
      ]
    },
    {
      "cell_type": "code",
      "metadata": {
        "colab": {
          "base_uri": "https://localhost:8080/"
        },
        "id": "4RpulLVfaD_A",
        "outputId": "365fb30b-af58-4d75-e128-c22f49deb987"
      },
      "source": [
        "print(set([lispress_tokenizer_params.index_word[x[2]] for x in test_data_y]))"
      ],
      "execution_count": 92,
      "outputs": [
        {
          "output_type": "stream",
          "text": [
            "{'fencescope', 'fenceother', 'execute', 'do', 'fenceattendee', 'let', 'fencemultiaction', 'fencespecify', 'fenceaggregation', 'userpauseresponse', 'fencerecurring', 'fencegibberish', 'pleasantrycalendar', 'pleasantryanythingelsecombined', 'genericpleasantry', 'fenceconferenceroom', 'fencereminder', 'donotconfirm', 'yield', 'fencepeopleqa', 'fencedatetime', 'fenceweather'}\n"
          ],
          "name": "stdout"
        }
      ]
    },
    {
      "cell_type": "code",
      "metadata": {
        "colab": {
          "base_uri": "https://localhost:8080/"
        },
        "id": "K3OwcZeQd4to",
        "outputId": "ce78043e-74ae-410c-8e7f-85c936054dfc"
      },
      "source": [
        "print(set([lispress_tokenizer_params.index_word[x[5]] for x in test_data_y if len(x)>5]))"
      ],
      "execution_count": 79,
      "outputs": [
        {
          "output_type": "stream",
          "text": [
            "{'weatherqueryapi', 'israiny', ':organizer', 'reviseconstraint', ':duration', ':officelocation', 'willsnow', 'findeventwrapperwithdefaults', 'joineventcommand', 'findlastevent', '>', 'personfromrecipient', 'incelsius', '(', 'createcommiteventwrapper', 'execute', ':emailaddress', '==', 'placehasfeature', 'attendeeswithnotresponse', 'iswindy', '<', 'singleton', 'isfree', 'weatheraggregate', ':output', ':location', ':start', ':rating', 'updatecommiteventwrapper', 'size', 'now', 'deletecommiteventwrapper', ':price', 'eventattendance', 'findnumnextevent', 'findmanager', 'today', 'placedescribablelocation', '#', 'attendeeswithresponse', ':phonenumber', ':constraint', 'currentuser', ':end', 'willrain'}\n"
          ],
          "name": "stdout"
        }
      ]
    },
    {
      "cell_type": "code",
      "metadata": {
        "id": "o-cRufMjgMvL"
      },
      "source": [
        ""
      ],
      "execution_count": 79,
      "outputs": []
    }
  ]
}