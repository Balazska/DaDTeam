{
  "nbformat": 4,
  "nbformat_minor": 0,
  "metadata": {
    "colab": {
      "name": "DaDTeam_milestone_I _biLSTM.ipynb",
      "provenance": [],
      "collapsed_sections": [],
      "toc_visible": true
    },
    "kernelspec": {
      "display_name": "Python 3",
      "language": "python",
      "name": "python3"
    },
    "language_info": {
      "codemirror_mode": {
        "name": "ipython",
        "version": 3
      },
      "file_extension": ".py",
      "mimetype": "text/x-python",
      "name": "python",
      "nbconvert_exporter": "python",
      "pygments_lexer": "ipython3",
      "version": "3.7.7"
    },
    "accelerator": "GPU"
  },
  "cells": [
    {
      "cell_type": "markdown",
      "metadata": {
        "id": "3zxWncqxfSe3"
      },
      "source": [
        "# <center> We are the DaDTeam! </center>\n",
        "<center> Balazs Fodor, Hodvogner Szilvia, Gergely Dobreff </center>\n",
        "\n",
        "## Goal\n",
        "We choose topic NLP2 (ChatBot based on deep learning) for the Deep Learning Course's homework. Our goal is to build a Neural Network for the [SMCalFlow challenge](https://microsoft.github.io/task_oriented_dialogue_as_dataflow_synthesis/). This competition was announced by Microsoft Semantic Machine, the motivation for this competition is that one of the central challenges in conversational AI is the design of a dialogue state representation that agents can use to reason about the information and actions available to them. They have developed a new representational framework for dialogue that enables efficient machine learning of complex conversations.\n",
        "\n",
        "## Dataset\n",
        "SMCalFlow is a large English-language dialogue dataset, featuring natural conversations about tasks involving calendars, weather, places, and people. It has 41,517 conversations annotated with dataflow programs. In contrast to existing dialogue datasets, this dialogue collection was not based on pre-specified scripts, and participants were not restricted in terms of what they could ask for and how they should accomplish their tasks. As a result, SMCalFlow is qualitatively different from existing dialogue datasets, featuring explicit discussion about agent capabilities, multi-turn error recovery, and complex goals.\n",
        "\n",
        "## Reference\n",
        "The original scientific paper about the framework, the dataset and their baseline solution can be found [here](https://www.mitpressjournals.org/doi/10.1162/tacl_a_00333), a shorter summary in the form of a blog post can be found [at this link](https://www.microsoft.com/en-us/research/blog/dialogue-as-dataflow-a-new-approach-to-conversational-ai/). \n",
        "\n",
        "Microsoft also opensourced a [github repository](https://github.com/microsoft/task_oriented_dialogue_as_dataflow_synthesis) containing codes to reproduce their results in the article. The library can be installed with pip using the following command:\n",
        "```sh\n",
        "pip install git+https://github.com/microsoft/task_oriented_dialogue_as_dataflow_synthesis.git\n",
        "```\n",
        "\n",
        "---\n",
        "\n",
        "In the following, we present this dataset and our preliminary solution proposals."
      ]
    },
    {
      "cell_type": "code",
      "metadata": {
        "id": "mxckoC6rAH-Q"
      },
      "source": [
        "import matplotlib.pyplot as plt\n",
        "import tensorflow as tf\n",
        "import seaborn as sns\n",
        "import numpy as np\n",
        "import json\n",
        "import pprint"
      ],
      "execution_count": 1,
      "outputs": []
    },
    {
      "cell_type": "code",
      "metadata": {
        "id": "zHJD8WvPAH-b",
        "colab": {
          "base_uri": "https://localhost:8080/",
          "height": 1000
        },
        "outputId": "90f78b2e-df6c-4cf6-e49f-add9ef9f008b"
      },
      "source": [
        "# import or install and import the github library related to the original article\n",
        "try:\n",
        "    from dataflow.core import lispress\n",
        "except ImportError as error:\n",
        "    !pip install git+https://github.com/microsoft/task_oriented_dialogue_as_dataflow_synthesis.git\n",
        "    print(error)\n",
        "    from dataflow.core import lispress"
      ],
      "execution_count": 2,
      "outputs": [
        {
          "output_type": "stream",
          "text": [
            "Collecting git+https://github.com/microsoft/task_oriented_dialogue_as_dataflow_synthesis.git\n",
            "  Cloning https://github.com/microsoft/task_oriented_dialogue_as_dataflow_synthesis.git to /tmp/pip-req-build-12gkyzwm\n",
            "  Running command git clone -q https://github.com/microsoft/task_oriented_dialogue_as_dataflow_synthesis.git /tmp/pip-req-build-12gkyzwm\n",
            "Collecting jsons==0.10.1\n",
            "\u001b[?25l  Downloading https://files.pythonhosted.org/packages/67/c8/a30abafcc69a3f513226a4b7a95d186ff80239974b3d2dec2e10f1aa5483/jsons-0.10.1-py3-none-any.whl (43kB)\n",
            "\u001b[K     |████████████████████████████████| 51kB 4.2MB/s \n",
            "\u001b[?25hCollecting pydantic==1.4\n",
            "\u001b[?25l  Downloading https://files.pythonhosted.org/packages/be/9a/a2d9613a70051615a84df6e9d697aad9787ba978bdeb4ad46c754457b3e1/pydantic-1.4-cp36-cp36m-manylinux2010_x86_64.whl (7.5MB)\n",
            "\u001b[K     |████████████████████████████████| 7.5MB 4.9MB/s \n",
            "\u001b[?25hCollecting more-itertools==8.2.0\n",
            "\u001b[?25l  Downloading https://files.pythonhosted.org/packages/72/96/4297306cc270eef1e3461da034a3bebe7c84eff052326b130824e98fc3fb/more_itertools-8.2.0-py3-none-any.whl (43kB)\n",
            "\u001b[K     |████████████████████████████████| 51kB 9.6MB/s \n",
            "\u001b[?25hCollecting sexpdata==0.0.3\n",
            "  Downloading https://files.pythonhosted.org/packages/33/ec/ad3ac2dcf4d5c3034e8af612c9fae76a70ae330446f47b7d29ff3deaefc7/sexpdata-0.0.3.tar.gz\n",
            "Collecting pandas==1.0.0\n",
            "\u001b[?25l  Downloading https://files.pythonhosted.org/packages/12/d1/a6502c2f5c15b50f5dd579fc1c52b47edf6f2e9f682aed917dd7565b3e60/pandas-1.0.0-cp36-cp36m-manylinux1_x86_64.whl (10.1MB)\n",
            "\u001b[K     |████████████████████████████████| 10.1MB 28.0MB/s \n",
            "\u001b[?25hCollecting spacy==2.2.1\n",
            "\u001b[?25l  Downloading https://files.pythonhosted.org/packages/a1/b4/1c82c2d19332471243685e4756e46e4d792c63dc3a9c1634313532ea4088/spacy-2.2.1-cp36-cp36m-manylinux1_x86_64.whl (10.2MB)\n",
            "\u001b[K     |████████████████████████████████| 10.2MB 25.4MB/s \n",
            "\u001b[?25hCollecting statsmodels==0.11.1\n",
            "\u001b[?25l  Downloading https://files.pythonhosted.org/packages/cb/83/540fd83238a18abe6c2d280fa8e489ac5fcefa1f370f0ca1acd16ae1b860/statsmodels-0.11.1-cp36-cp36m-manylinux1_x86_64.whl (8.7MB)\n",
            "\u001b[K     |████████████████████████████████| 8.7MB 57.6MB/s \n",
            "\u001b[?25hRequirement already satisfied: dataclasses>=0.6; python_version < \"3.7\" in /usr/local/lib/python3.6/dist-packages (from pydantic==1.4->sm-dataflow==0.1) (0.7)\n",
            "Requirement already satisfied: pytz>=2017.2 in /usr/local/lib/python3.6/dist-packages (from pandas==1.0.0->sm-dataflow==0.1) (2018.9)\n",
            "Requirement already satisfied: numpy>=1.13.3 in /usr/local/lib/python3.6/dist-packages (from pandas==1.0.0->sm-dataflow==0.1) (1.18.5)\n",
            "Requirement already satisfied: python-dateutil>=2.6.1 in /usr/local/lib/python3.6/dist-packages (from pandas==1.0.0->sm-dataflow==0.1) (2.8.1)\n",
            "Collecting thinc<7.2.0,>=7.1.1\n",
            "\u001b[?25l  Downloading https://files.pythonhosted.org/packages/4c/60/cbe7c1ca0d05e9861375fc9fe73f5c6828666bb994e193a80bce554c4004/thinc-7.1.1-cp36-cp36m-manylinux1_x86_64.whl (2.1MB)\n",
            "\u001b[K     |████████████████████████████████| 2.1MB 46.2MB/s \n",
            "\u001b[?25hRequirement already satisfied: blis<0.5.0,>=0.4.0 in /usr/local/lib/python3.6/dist-packages (from spacy==2.2.1->sm-dataflow==0.1) (0.4.1)\n",
            "Requirement already satisfied: preshed<3.1.0,>=3.0.2 in /usr/local/lib/python3.6/dist-packages (from spacy==2.2.1->sm-dataflow==0.1) (3.0.2)\n",
            "Requirement already satisfied: murmurhash<1.1.0,>=0.28.0 in /usr/local/lib/python3.6/dist-packages (from spacy==2.2.1->sm-dataflow==0.1) (1.0.3)\n",
            "Collecting plac<1.0.0,>=0.9.6\n",
            "  Downloading https://files.pythonhosted.org/packages/9e/9b/62c60d2f5bc135d2aa1d8c8a86aaf84edb719a59c7f11a4316259e61a298/plac-0.9.6-py2.py3-none-any.whl\n",
            "Requirement already satisfied: cymem<2.1.0,>=2.0.2 in /usr/local/lib/python3.6/dist-packages (from spacy==2.2.1->sm-dataflow==0.1) (2.0.4)\n",
            "Requirement already satisfied: srsly<1.1.0,>=0.1.0 in /usr/local/lib/python3.6/dist-packages (from spacy==2.2.1->sm-dataflow==0.1) (1.0.2)\n",
            "Requirement already satisfied: requests<3.0.0,>=2.13.0 in /usr/local/lib/python3.6/dist-packages (from spacy==2.2.1->sm-dataflow==0.1) (2.23.0)\n",
            "Requirement already satisfied: wasabi<1.1.0,>=0.2.0 in /usr/local/lib/python3.6/dist-packages (from spacy==2.2.1->sm-dataflow==0.1) (0.8.0)\n",
            "Requirement already satisfied: patsy>=0.5 in /usr/local/lib/python3.6/dist-packages (from statsmodels==0.11.1->sm-dataflow==0.1) (0.5.1)\n",
            "Requirement already satisfied: scipy>=1.0 in /usr/local/lib/python3.6/dist-packages (from statsmodels==0.11.1->sm-dataflow==0.1) (1.4.1)\n",
            "Requirement already satisfied: six>=1.5 in /usr/local/lib/python3.6/dist-packages (from python-dateutil>=2.6.1->pandas==1.0.0->sm-dataflow==0.1) (1.15.0)\n",
            "Requirement already satisfied: tqdm<5.0.0,>=4.10.0 in /usr/local/lib/python3.6/dist-packages (from thinc<7.2.0,>=7.1.1->spacy==2.2.1->sm-dataflow==0.1) (4.41.1)\n",
            "Requirement already satisfied: urllib3!=1.25.0,!=1.25.1,<1.26,>=1.21.1 in /usr/local/lib/python3.6/dist-packages (from requests<3.0.0,>=2.13.0->spacy==2.2.1->sm-dataflow==0.1) (1.24.3)\n",
            "Requirement already satisfied: chardet<4,>=3.0.2 in /usr/local/lib/python3.6/dist-packages (from requests<3.0.0,>=2.13.0->spacy==2.2.1->sm-dataflow==0.1) (3.0.4)\n",
            "Requirement already satisfied: idna<3,>=2.5 in /usr/local/lib/python3.6/dist-packages (from requests<3.0.0,>=2.13.0->spacy==2.2.1->sm-dataflow==0.1) (2.10)\n",
            "Requirement already satisfied: certifi>=2017.4.17 in /usr/local/lib/python3.6/dist-packages (from requests<3.0.0,>=2.13.0->spacy==2.2.1->sm-dataflow==0.1) (2020.6.20)\n",
            "Building wheels for collected packages: sm-dataflow, sexpdata\n",
            "  Building wheel for sm-dataflow (setup.py) ... \u001b[?25l\u001b[?25hdone\n",
            "  Created wheel for sm-dataflow: filename=sm_dataflow-0.1-cp36-none-any.whl size=74037 sha256=1d575886923bf3b5243cf91b761019b7e59e6ded28e18bf4345a7d550d9b3e00\n",
            "  Stored in directory: /tmp/pip-ephem-wheel-cache-cy5_rgv7/wheels/29/56/7d/e4f971aa5ccc90cf2913a8e38b90001ff65429eb0e0697804f\n",
            "  Building wheel for sexpdata (setup.py) ... \u001b[?25l\u001b[?25hdone\n",
            "  Created wheel for sexpdata: filename=sexpdata-0.0.3-cp36-none-any.whl size=7209 sha256=ad7e304fb1095a9a10532be6dad64e30b18b8aa94d0679073d5f64e07cc90344\n",
            "  Stored in directory: /root/.cache/pip/wheels/50/e2/b7/383340b36582e816bd6ff0df9ba4d77db0e2685a9b2d3b8edf\n",
            "Successfully built sm-dataflow sexpdata\n",
            "\u001b[31mERROR: google-colab 1.0.0 has requirement pandas~=1.1.0; python_version >= \"3.0\", but you'll have pandas 1.0.0 which is incompatible.\u001b[0m\n",
            "\u001b[31mERROR: fbprophet 0.7.1 has requirement pandas>=1.0.4, but you'll have pandas 1.0.0 which is incompatible.\u001b[0m\n",
            "\u001b[31mERROR: en-core-web-sm 2.2.5 has requirement spacy>=2.2.2, but you'll have spacy 2.2.1 which is incompatible.\u001b[0m\n",
            "\u001b[31mERROR: datascience 0.10.6 has requirement folium==0.2.1, but you'll have folium 0.8.3 which is incompatible.\u001b[0m\n",
            "Installing collected packages: jsons, pydantic, more-itertools, sexpdata, pandas, plac, thinc, spacy, statsmodels, sm-dataflow\n",
            "  Found existing installation: more-itertools 8.6.0\n",
            "    Uninstalling more-itertools-8.6.0:\n",
            "      Successfully uninstalled more-itertools-8.6.0\n",
            "  Found existing installation: pandas 1.1.4\n",
            "    Uninstalling pandas-1.1.4:\n",
            "      Successfully uninstalled pandas-1.1.4\n",
            "  Found existing installation: plac 1.1.3\n",
            "    Uninstalling plac-1.1.3:\n",
            "      Successfully uninstalled plac-1.1.3\n",
            "  Found existing installation: thinc 7.4.0\n",
            "    Uninstalling thinc-7.4.0:\n",
            "      Successfully uninstalled thinc-7.4.0\n",
            "  Found existing installation: spacy 2.2.4\n",
            "    Uninstalling spacy-2.2.4:\n",
            "      Successfully uninstalled spacy-2.2.4\n",
            "  Found existing installation: statsmodels 0.10.2\n",
            "    Uninstalling statsmodels-0.10.2:\n",
            "      Successfully uninstalled statsmodels-0.10.2\n",
            "Successfully installed jsons-0.10.1 more-itertools-8.2.0 pandas-1.0.0 plac-0.9.6 pydantic-1.4 sexpdata-0.0.3 sm-dataflow-0.1 spacy-2.2.1 statsmodels-0.11.1 thinc-7.1.1\n"
          ],
          "name": "stdout"
        },
        {
          "output_type": "display_data",
          "data": {
            "application/vnd.colab-display-data+json": {
              "pip_warning": {
                "packages": [
                  "pandas",
                  "statsmodels"
                ]
              }
            }
          },
          "metadata": {
            "tags": []
          }
        },
        {
          "output_type": "stream",
          "text": [
            "No module named 'dataflow'\n"
          ],
          "name": "stdout"
        }
      ]
    },
    {
      "cell_type": "code",
      "metadata": {
        "id": "gAcxCaEcfHh0"
      },
      "source": [
        ""
      ],
      "execution_count": 2,
      "outputs": []
    },
    {
      "cell_type": "markdown",
      "metadata": {
        "id": "IvWyc_cPY7Nk"
      },
      "source": [
        "Download dataset and extract it"
      ]
    },
    {
      "cell_type": "code",
      "metadata": {
        "id": "MwmpT8frY_nC",
        "colab": {
          "base_uri": "https://localhost:8080/"
        },
        "outputId": "bcbc0351-8872-441c-8a7c-8146ec1923d7"
      },
      "source": [
        "!mkdir data\n",
        "!wget -c https://smresearchstorage.blob.core.windows.net/smcalflow-public/smcalflow.full.data.tgz -O - | tar -xz -C data"
      ],
      "execution_count": 3,
      "outputs": [
        {
          "output_type": "stream",
          "text": [
            "--2020-11-18 10:44:02--  https://smresearchstorage.blob.core.windows.net/smcalflow-public/smcalflow.full.data.tgz\n",
            "Resolving smresearchstorage.blob.core.windows.net (smresearchstorage.blob.core.windows.net)... 52.191.176.36\n",
            "Connecting to smresearchstorage.blob.core.windows.net (smresearchstorage.blob.core.windows.net)|52.191.176.36|:443... connected.\n",
            "HTTP request sent, awaiting response... 200 OK\n",
            "Length: 13703288 (13M) [application/x-gzip]\n",
            "Saving to: ‘STDOUT’\n",
            "\n",
            "-                   100%[===================>]  13.07M  17.1MB/s    in 0.8s    \n",
            "\n",
            "2020-11-18 10:44:03 (17.1 MB/s) - written to stdout [13703288/13703288]\n",
            "\n"
          ],
          "name": "stdout"
        }
      ]
    },
    {
      "cell_type": "markdown",
      "metadata": {
        "id": "CThfS-Z4AH-e"
      },
      "source": [
        "## Dataset analysis and preparation"
      ]
    },
    {
      "cell_type": "code",
      "metadata": {
        "id": "D0Vq9FZrAH-e"
      },
      "source": [
        "# wrapper class for displaying the conversations in the dataset\n",
        "class ConvWrapper:\n",
        "    def __init__(self,data):\n",
        "        self.data = data\n",
        "\n",
        "    def show_conv(self,showProgram=False):\n",
        "        for turn in self.data['turns']:\n",
        "            print('User> ',turn['user_utterance']['original_text'])\n",
        "            if(showProgram):\n",
        "                LisPress = lispress.parse_lispress(turn['lispress'])\n",
        "                print('PROGRAM: ')\n",
        "                print(lispress.render_pretty(LisPress))\n",
        "            print('Agent> ',turn['agent_utterance']['original_text'])\n",
        "    def print(self):\n",
        "        pprint.pprint(self.data)\n",
        "    "
      ],
      "execution_count": 4,
      "outputs": []
    },
    {
      "cell_type": "code",
      "metadata": {
        "id": "YsUpEmiCAH-h"
      },
      "source": [
        "# load train dataset\n",
        "train = []\n",
        "with open(\"data/train.dataflow_dialogues.jsonl\") as trainfile:\n",
        "    content = trainfile.read()\n",
        "    train = [json.loads(line) for line in content.splitlines()]"
      ],
      "execution_count": 5,
      "outputs": []
    },
    {
      "cell_type": "code",
      "metadata": {
        "id": "ICHUnem0AH-k",
        "colab": {
          "base_uri": "https://localhost:8080/"
        },
        "outputId": "8d52c6be-f34a-4f2a-b485-31ddec6b947a"
      },
      "source": [
        "# display the first training conversation\n",
        "example = ConvWrapper(train[0])\n",
        "example.show_conv()"
      ],
      "execution_count": 6,
      "outputs": [
        {
          "output_type": "stream",
          "text": [
            "User>  what date is tomorrow?\n",
            "Agent>  Tomorrow's date is February 5, 2019.\n",
            "User>  What day of the week is tomorrow?\n",
            "Agent>  Tomorrow is Wednesday.\n",
            "User>  please help me\n",
            "Agent>  I can help you create, update, and delete events on your calendar. You can also ask me about your schedule.\n"
          ],
          "name": "stdout"
        }
      ]
    },
    {
      "cell_type": "code",
      "metadata": {
        "id": "00Lq0PVzEbrq",
        "colab": {
          "base_uri": "https://localhost:8080/"
        },
        "outputId": "34f70f9c-4b6f-4c5a-dd1f-244567ed8217"
      },
      "source": [
        "# display the first two training conversations with the corresponding lispress programs (the inner representation of the dialogue state) at each turn\n",
        "example = ConvWrapper(train[0])\n",
        "example.show_conv(True)\n",
        "print('\\n-----------------------------------------------------------------------------------\\n')\n",
        "example = ConvWrapper(train[1])\n",
        "example.show_conv(True)"
      ],
      "execution_count": 7,
      "outputs": [
        {
          "output_type": "stream",
          "text": [
            "User>  what date is tomorrow?\n",
            "PROGRAM: \n",
            "(Yield :output (Tomorrow))\n",
            "Agent>  Tomorrow's date is February 5, 2019.\n",
            "User>  What day of the week is tomorrow?\n",
            "PROGRAM: \n",
            "(Yield :output (:dayOfWeek (Tomorrow)))\n",
            "Agent>  Tomorrow is Wednesday.\n",
            "User>  please help me\n",
            "PROGRAM: \n",
            "(PleasantryCalendar)\n",
            "Agent>  I can help you create, update, and delete events on your calendar. You can also ask me about your schedule.\n",
            "\n",
            "-----------------------------------------------------------------------------------\n",
            "\n",
            "User>  What time is my appointment with Jerri Skinner on Friday?\n",
            "PROGRAM: \n",
            "(Yield\n",
            "  :output (:start\n",
            "    (singleton\n",
            "      (:results\n",
            "        (FindEventWrapperWithDefaults\n",
            "          :constraint (EventOnDate\n",
            "            :date (NextDOW :dow #(DayOfWeek \"FRIDAY\"))\n",
            "            :event (Constraint[Event]\n",
            "              :attendees (AttendeeListHasRecipientConstraint\n",
            "                :recipientConstraint (RecipientWithNameLike\n",
            "                  :constraint (Constraint[Recipient])\n",
            "                  :name #(PersonName \"Jerri Skinner\"))))))))))\n",
            "Agent>  I didn't find any events with Jerri Skinner.\n",
            "User>  Can you add an appointment with Jerri Skinner at 9 am?\n",
            "PROGRAM: \n",
            "(Yield\n",
            "  :output (CreateCommitEventWrapper\n",
            "    :event (CreatePreflightEventWrapper\n",
            "      :constraint (Constraint[Event]\n",
            "        :attendees (AttendeeListHasRecipient\n",
            "          :recipient (Execute\n",
            "            :intension (refer\n",
            "              (extensionConstraint\n",
            "                (RecipientWithNameLike\n",
            "                  :constraint (Constraint[Recipient])\n",
            "                  :name #(PersonName \"Jerri Skinner\"))))))\n",
            "        :start (?= (NextTime :time (NumberAM :number #(Number 9))))))))\n",
            "Agent>  Is this good?\n",
            "User>  I need it to last 2 hours.\n",
            "PROGRAM: \n",
            "(Yield\n",
            "  :output (Execute\n",
            "    :intension (ReviseConstraint\n",
            "      :rootLocation (roleConstraint #(Path \"output\"))\n",
            "      :oldLocation (Constraint[Constraint[Event]])\n",
            "      :new (Constraint[Event] :duration (?= (toHours #(Number 2)))))))\n",
            "Agent>  How's this?\n",
            "User>  good, thanks.\n",
            "PROGRAM: \n",
            "(Yield\n",
            "  :output (Execute :intension (ConfirmAndReturnAction)))\n",
            "Agent>  I've put that on your calendar.\n"
          ],
          "name": "stdout"
        }
      ]
    },
    {
      "cell_type": "code",
      "metadata": {
        "id": "Qa737LXIFXKm",
        "colab": {
          "base_uri": "https://localhost:8080/"
        },
        "outputId": "2492a5fb-5105-4954-ed92-b149aac74dff"
      },
      "source": [
        "# display one training data with all fields:\n",
        "example = ConvWrapper(train[0])\n",
        "example.print()"
      ],
      "execution_count": 8,
      "outputs": [
        {
          "output_type": "stream",
          "text": [
            "{'dialogue_id': '8c112de4-0c61-43b1-b437-8e176fed39b6',\n",
            " 'turns': [{'agent_utterance': {'described_entities': [],\n",
            "                                'original_text': \"Tomorrow's date is February \"\n",
            "                                                 '5, 2019.',\n",
            "                                'tokens': ['Tomorrow',\n",
            "                                           \"'s\",\n",
            "                                           'date',\n",
            "                                           'is',\n",
            "                                           'February',\n",
            "                                           '5',\n",
            "                                           ',',\n",
            "                                           '2019',\n",
            "                                           '.']},\n",
            "            'lispress': '(Yield :output (Tomorrow))',\n",
            "            'program_execution_oracle': {'has_exception': False,\n",
            "                                         'refer_are_correct': True},\n",
            "            'skip': True,\n",
            "            'turn_index': 0,\n",
            "            'user_utterance': {'original_text': 'what date is tomorrow?',\n",
            "                               'tokens': ['what',\n",
            "                                          'date',\n",
            "                                          'is',\n",
            "                                          'tomorrow',\n",
            "                                          '?']}},\n",
            "           {'agent_utterance': {'described_entities': [],\n",
            "                                'original_text': 'Tomorrow is Wednesday.',\n",
            "                                'tokens': ['Tomorrow', 'is', 'Wednesday', '.']},\n",
            "            'lispress': '(Yield :output (:dayOfWeek (Tomorrow)))',\n",
            "            'program_execution_oracle': {'has_exception': False,\n",
            "                                         'refer_are_correct': True},\n",
            "            'skip': True,\n",
            "            'turn_index': 1,\n",
            "            'user_utterance': {'original_text': 'What day of the week is '\n",
            "                                                'tomorrow?',\n",
            "                               'tokens': ['What',\n",
            "                                          'day',\n",
            "                                          'of',\n",
            "                                          'the',\n",
            "                                          'week',\n",
            "                                          'is',\n",
            "                                          'tomorrow',\n",
            "                                          '?']}},\n",
            "           {'agent_utterance': {'described_entities': ['entity@102333225'],\n",
            "                                'original_text': 'I can help you create, '\n",
            "                                                 'update, and delete events on '\n",
            "                                                 'your calendar. You can also '\n",
            "                                                 'ask me about your schedule.',\n",
            "                                'tokens': ['I',\n",
            "                                           'can',\n",
            "                                           'help',\n",
            "                                           'you',\n",
            "                                           'create',\n",
            "                                           ',',\n",
            "                                           'update',\n",
            "                                           ',',\n",
            "                                           'and',\n",
            "                                           'delete',\n",
            "                                           'events',\n",
            "                                           'on',\n",
            "                                           'your',\n",
            "                                           'calendar',\n",
            "                                           '.',\n",
            "                                           'You',\n",
            "                                           'can',\n",
            "                                           'also',\n",
            "                                           'ask',\n",
            "                                           'me',\n",
            "                                           'about',\n",
            "                                           'your',\n",
            "                                           'schedule',\n",
            "                                           '.']},\n",
            "            'lispress': '(PleasantryCalendar)',\n",
            "            'program_execution_oracle': {'has_exception': False,\n",
            "                                         'refer_are_correct': True},\n",
            "            'skip': True,\n",
            "            'turn_index': 2,\n",
            "            'user_utterance': {'original_text': 'please help me',\n",
            "                               'tokens': ['please', 'help', 'me']}}]}\n"
          ],
          "name": "stdout"
        }
      ]
    },
    {
      "cell_type": "markdown",
      "metadata": {
        "id": "AoDF6piaFvgV"
      },
      "source": [
        "The training data contains an id and the turns of the dialogue, each turn consists the user message, and the agent response, with the following important meta information:\n",
        "\n",
        "\n",
        "*   tokens and original text for both the user message and the agent response\n",
        "*   turn_index: the sequence number of that turn\n",
        "*   lispress\n",
        "    * the program that stores the inner state of the conversation\n",
        "    * the agent should generate a response based on this\n",
        "\n",
        "---\n",
        "\n"
      ]
    },
    {
      "cell_type": "code",
      "metadata": {
        "id": "rxZ7N12yAH-u"
      },
      "source": [
        "# load validation data\n",
        "valid = []\n",
        "with open(\"data/valid.dataflow_dialogues.jsonl\") as validfile:\n",
        "    content = validfile.read()\n",
        "    valid = [json.loads(line) for line in content.splitlines()]"
      ],
      "execution_count": 9,
      "outputs": []
    },
    {
      "cell_type": "code",
      "metadata": {
        "id": "E4HoMEL8AH-x",
        "scrolled": false,
        "colab": {
          "base_uri": "https://localhost:8080/"
        },
        "outputId": "c6722f7c-3d3f-4854-acb1-792d7fff931b"
      },
      "source": [
        "# print an example\n",
        "valid_example = ConvWrapper(valid[0])\n",
        "valid_example.print()"
      ],
      "execution_count": 10,
      "outputs": [
        {
          "output_type": "stream",
          "text": [
            "{'dialogue_id': 'f40ad346-9cb4-46a2-8d6d-13926371cffd',\n",
            " 'turns': [{'agent_utterance': {'described_entities': ['entity@1135690515'],\n",
            "                                'original_text': 'Is this good?',\n",
            "                                'tokens': ['Is', 'this', 'good', '?']},\n",
            "            'lispress': '(Yield :output (CreateCommitEventWrapper :event '\n",
            "                        '(CreatePreflightEventWrapper :constraint '\n",
            "                        '(Constraint[Event] :attendees (andConstraint '\n",
            "                        '(AttendeeListHasRecipient :recipient (Execute '\n",
            "                        ':intension (refer (extensionConstraint '\n",
            "                        '(RecipientWithNameLike :constraint '\n",
            "                        '(Constraint[Recipient]) :name #(PersonName '\n",
            "                        '\"Jeff\")))))) (AttendeeListHasRecipient :recipient '\n",
            "                        '(Execute :intension (refer (extensionConstraint '\n",
            "                        '(RecipientWithNameLike :constraint '\n",
            "                        '(Constraint[Recipient]) :name #(PersonName '\n",
            "                        '\"John\"))))))) :duration (?= (toHours #(Number 1))) '\n",
            "                        ':location (?= #(LocationKeyphrase \"Conference Room '\n",
            "                        'B\")) :start (?= (DateAtTimeWithDefaults :date '\n",
            "                        '(NextDOW :dow #(DayOfWeek \"THURSDAY\")) :time '\n",
            "                        '(NumberPM :number #(Number 4)))) :subject (?= '\n",
            "                        '#(String \"discuss analytics\"))))))',\n",
            "            'program_execution_oracle': {'has_exception': True,\n",
            "                                         'refer_are_correct': True},\n",
            "            'skip': False,\n",
            "            'turn_index': 0,\n",
            "            'user_utterance': {'original_text': 'I need you to get Conference '\n",
            "                                                'Room B booked for a meeting '\n",
            "                                                'to discuss analytics on '\n",
            "                                                'Thursday at 4PM for one hour '\n",
            "                                                '- Jeff and John will be in '\n",
            "                                                'the meeting.',\n",
            "                               'tokens': ['I',\n",
            "                                          'need',\n",
            "                                          'you',\n",
            "                                          'to',\n",
            "                                          'get',\n",
            "                                          'Conference',\n",
            "                                          'Room',\n",
            "                                          'B',\n",
            "                                          'booked',\n",
            "                                          'for',\n",
            "                                          'a',\n",
            "                                          'meeting',\n",
            "                                          'to',\n",
            "                                          'discuss',\n",
            "                                          'analytics',\n",
            "                                          'on',\n",
            "                                          'Thursday',\n",
            "                                          'at',\n",
            "                                          '4',\n",
            "                                          'PM',\n",
            "                                          'for',\n",
            "                                          'one',\n",
            "                                          'hour',\n",
            "                                          '-',\n",
            "                                          'Jeff',\n",
            "                                          'and',\n",
            "                                          'John',\n",
            "                                          'will',\n",
            "                                          'be',\n",
            "                                          'in',\n",
            "                                          'the',\n",
            "                                          'meeting',\n",
            "                                          '.']}},\n",
            "           {'agent_utterance': {'described_entities': [],\n",
            "                                'original_text': \"I've put that on your \"\n",
            "                                                 'calendar.',\n",
            "                                'tokens': ['I',\n",
            "                                           \"'ve\",\n",
            "                                           'put',\n",
            "                                           'that',\n",
            "                                           'on',\n",
            "                                           'your',\n",
            "                                           'calendar',\n",
            "                                           '.']},\n",
            "            'lispress': '(Yield :output (Execute :intension '\n",
            "                        '(ConfirmAndReturnAction)))',\n",
            "            'program_execution_oracle': {'has_exception': False,\n",
            "                                         'refer_are_correct': True},\n",
            "            'skip': False,\n",
            "            'turn_index': 1,\n",
            "            'user_utterance': {'original_text': 'Yep.',\n",
            "                               'tokens': ['Yep', '.']}},\n",
            "           {'agent_utterance': {'described_entities': ['entity@1426825340'],\n",
            "                                'original_text': \"How's this?\",\n",
            "                                'tokens': ['How', \"'s\", 'this', '?']},\n",
            "            'lispress': '(Yield :output (CreateCommitEventWrapper :event '\n",
            "                        '(CreatePreflightEventWrapper :constraint '\n",
            "                        '(Constraint[Event] :attendees (andConstraint '\n",
            "                        '(andConstraint (AttendeeListHasRecipient :recipient '\n",
            "                        '(Execute :intension (refer (extensionConstraint '\n",
            "                        '(RecipientWithNameLike :constraint '\n",
            "                        '(Constraint[Recipient]) :name #(PersonName '\n",
            "                        '\"Dennis\")))))) (AttendeeListHasRecipient :recipient '\n",
            "                        '(Execute :intension (refer (extensionConstraint '\n",
            "                        '(RecipientWithNameLike :constraint '\n",
            "                        '(Constraint[Recipient]) :name #(PersonName '\n",
            "                        '\"Gabriel\"))))))) (AttendeeListHasRecipient :recipient '\n",
            "                        '(Execute :intension (refer (extensionConstraint '\n",
            "                        '(RecipientWithNameLike :constraint '\n",
            "                        '(Constraint[Recipient]) :name #(PersonName '\n",
            "                        '\"Max\"))))))) :location (?= #(LocationKeyphrase '\n",
            "                        '\"Chili\\'s on 15th street\")) :start (?= (NextTime '\n",
            "                        ':time (HourMinutePm :hours #(Number 12) :minutes '\n",
            "                        '#(Number 15)))) :subject (?= #(String \"Lunch '\n",
            "                        'Meeting\"))))))',\n",
            "            'program_execution_oracle': {'has_exception': True,\n",
            "                                         'refer_are_correct': True},\n",
            "            'skip': False,\n",
            "            'turn_index': 2,\n",
            "            'user_utterance': {'original_text': 'Schedule a Lunch Meeting with '\n",
            "                                                'Dennis, Gabriel, and Max at '\n",
            "                                                \"the Chili's on 15th street at \"\n",
            "                                                '12:15 pm.',\n",
            "                               'tokens': ['Schedule',\n",
            "                                          'a',\n",
            "                                          'Lunch',\n",
            "                                          'Meeting',\n",
            "                                          'with',\n",
            "                                          'Dennis',\n",
            "                                          ',',\n",
            "                                          'Gabriel',\n",
            "                                          ',',\n",
            "                                          'and',\n",
            "                                          'Max',\n",
            "                                          'at',\n",
            "                                          'the',\n",
            "                                          'Chili',\n",
            "                                          \"'s\",\n",
            "                                          'on',\n",
            "                                          '15',\n",
            "                                          'th',\n",
            "                                          'street',\n",
            "                                          'at',\n",
            "                                          '12',\n",
            "                                          ':',\n",
            "                                          '15',\n",
            "                                          'pm',\n",
            "                                          '.']}},\n",
            "           {'agent_utterance': {'described_entities': [],\n",
            "                                'original_text': \"I've put that on your \"\n",
            "                                                 'calendar.',\n",
            "                                'tokens': ['I',\n",
            "                                           \"'ve\",\n",
            "                                           'put',\n",
            "                                           'that',\n",
            "                                           'on',\n",
            "                                           'your',\n",
            "                                           'calendar',\n",
            "                                           '.']},\n",
            "            'lispress': '(Yield :output (Execute :intension '\n",
            "                        '(ConfirmAndReturnAction)))',\n",
            "            'program_execution_oracle': {'has_exception': False,\n",
            "                                         'refer_are_correct': True},\n",
            "            'skip': False,\n",
            "            'turn_index': 3,\n",
            "            'user_utterance': {'original_text': 'That looks great.',\n",
            "                               'tokens': ['That', 'looks', 'great', '.']}},\n",
            "           {'agent_utterance': {'described_entities': ['entity@2032914361'],\n",
            "                                'original_text': \"Is this what you're looking \"\n",
            "                                                 'for?',\n",
            "                                'tokens': ['Is',\n",
            "                                           'this',\n",
            "                                           'what',\n",
            "                                           'you',\n",
            "                                           \"'re\",\n",
            "                                           'looking',\n",
            "                                           'for',\n",
            "                                           '?']},\n",
            "            'lispress': '(Yield :output (CreateCommitEventWrapper :event '\n",
            "                        '(CreatePreflightEventWrapper :constraint '\n",
            "                        '(Constraint[Event] :attendees '\n",
            "                        '(AttendeeListHasRecipient :recipient (Execute '\n",
            "                        ':intension (refer (extensionConstraint '\n",
            "                        '(RecipientWithNameLike :constraint '\n",
            "                        '(Constraint[Recipient]) :name #(PersonName '\n",
            "                        '\"Jane\")))))) :location (?= #(LocationKeyphrase '\n",
            "                        '\"Chili\\'s on 15th street\")) :start (?= '\n",
            "                        '(DateAtTimeWithDefaults :date (MD :day #(Number 4) '\n",
            "                        ':month #(Month \"JUNE\")) :time (HourMinutePm :hours '\n",
            "                        '#(Number 12) :minutes #(Number 15)))) :subject (?= '\n",
            "                        '#(String \"Lunch\"))))))',\n",
            "            'program_execution_oracle': {'has_exception': True,\n",
            "                                         'refer_are_correct': True},\n",
            "            'skip': False,\n",
            "            'turn_index': 4,\n",
            "            'user_utterance': {'original_text': 'Thanks, also add Jane to '\n",
            "                                                'Lunch meeting on Tuesday June '\n",
            "                                                \"4 at 12:15 pm at Chili's on \"\n",
            "                                                '15th street.',\n",
            "                               'tokens': ['Thanks',\n",
            "                                          ',',\n",
            "                                          'also',\n",
            "                                          'add',\n",
            "                                          'Jane',\n",
            "                                          'to',\n",
            "                                          'Lunch',\n",
            "                                          'meeting',\n",
            "                                          'on',\n",
            "                                          'Tuesday',\n",
            "                                          'June',\n",
            "                                          '4',\n",
            "                                          'at',\n",
            "                                          '12',\n",
            "                                          ':',\n",
            "                                          '15',\n",
            "                                          'pm',\n",
            "                                          'at',\n",
            "                                          'Chili',\n",
            "                                          \"'s\",\n",
            "                                          'on',\n",
            "                                          '15',\n",
            "                                          'th',\n",
            "                                          'street',\n",
            "                                          '.']}},\n",
            "           {'agent_utterance': {'described_entities': [],\n",
            "                                'original_text': \"I've put that on your \"\n",
            "                                                 'calendar.',\n",
            "                                'tokens': ['I',\n",
            "                                           \"'ve\",\n",
            "                                           'put',\n",
            "                                           'that',\n",
            "                                           'on',\n",
            "                                           'your',\n",
            "                                           'calendar',\n",
            "                                           '.']},\n",
            "            'lispress': '(Yield :output (Execute :intension '\n",
            "                        '(ConfirmAndReturnAction)))',\n",
            "            'program_execution_oracle': {'has_exception': False,\n",
            "                                         'refer_are_correct': True},\n",
            "            'skip': False,\n",
            "            'turn_index': 5,\n",
            "            'user_utterance': {'original_text': 'Yes, that is right.',\n",
            "                               'tokens': ['Yes',\n",
            "                                          ',',\n",
            "                                          'that',\n",
            "                                          'is',\n",
            "                                          'right',\n",
            "                                          '.']}}]}\n"
          ],
          "name": "stdout"
        }
      ]
    },
    {
      "cell_type": "markdown",
      "metadata": {
        "id": "Yj6wbVirHnWE"
      },
      "source": [
        "The validation data consists the same structure of dialogues"
      ]
    },
    {
      "cell_type": "markdown",
      "metadata": {
        "id": "SeTb9VuAEkRS"
      },
      "source": [
        "### Start and end tags for decoder input"
      ]
    },
    {
      "cell_type": "code",
      "metadata": {
        "id": "9NsZpdpkEkRS"
      },
      "source": [
        "for dialog in train:\n",
        "    for turn in dialog[\"turns\"]:\n",
        "        turn.update({\"lispress_cleaned\":\"<begin> \"+turn[\"lispress\"]+\" <eos>\"})\n",
        "\n",
        "for dialog in valid:\n",
        "    for turn in dialog[\"turns\"]:\n",
        "        turn.update({\"lispress_cleaned\":\"<begin> \"+turn[\"lispress\"]+\" <eos>\"})"
      ],
      "execution_count": 11,
      "outputs": []
    },
    {
      "cell_type": "code",
      "metadata": {
        "id": "zEgRw_f_EkRV",
        "colab": {
          "base_uri": "https://localhost:8080/",
          "height": 177
        },
        "outputId": "9a35ad3b-8b8a-4bae-adac-0d5fe4f947b8"
      },
      "source": [
        "valid[0][\"turns\"][0][\"lispress_cleaned\"]"
      ],
      "execution_count": 12,
      "outputs": [
        {
          "output_type": "execute_result",
          "data": {
            "application/vnd.google.colaboratory.intrinsic+json": {
              "type": "string"
            },
            "text/plain": [
              "'<begin> (Yield :output (CreateCommitEventWrapper :event (CreatePreflightEventWrapper :constraint (Constraint[Event] :attendees (andConstraint (AttendeeListHasRecipient :recipient (Execute :intension (refer (extensionConstraint (RecipientWithNameLike :constraint (Constraint[Recipient]) :name #(PersonName \"Jeff\")))))) (AttendeeListHasRecipient :recipient (Execute :intension (refer (extensionConstraint (RecipientWithNameLike :constraint (Constraint[Recipient]) :name #(PersonName \"John\"))))))) :duration (?= (toHours #(Number 1))) :location (?= #(LocationKeyphrase \"Conference Room B\")) :start (?= (DateAtTimeWithDefaults :date (NextDOW :dow #(DayOfWeek \"THURSDAY\")) :time (NumberPM :number #(Number 4)))) :subject (?= #(String \"discuss analytics\")))))) <eos>'"
            ]
          },
          "metadata": {
            "tags": []
          },
          "execution_count": 12
        }
      ]
    },
    {
      "cell_type": "markdown",
      "metadata": {
        "id": "I_nn7DGyc6oW"
      },
      "source": [
        "### Tokenize texts\n",
        "Although the train and validation data are tokenized (contain a field with the tokens), but the tokens are not converted to lowercase and special characters are also included, so further data cleaning is necessary"
      ]
    },
    {
      "cell_type": "code",
      "metadata": {
        "id": "FbRF1gCzIobM"
      },
      "source": [
        "from tensorflow.keras.preprocessing.text import Tokenizer"
      ],
      "execution_count": 13,
      "outputs": []
    },
    {
      "cell_type": "code",
      "metadata": {
        "id": "0mILq2KPIuZ0",
        "colab": {
          "base_uri": "https://localhost:8080/"
        },
        "outputId": "dc7a865c-8c58-4f79-89e7-86b03d4bde54"
      },
      "source": [
        "# create a tokenizer and fit on the sentences of the train data dialogues\n",
        "tokenizer_user = Tokenizer()\n",
        "dialogue_sent = [turn['user_utterance']['original_text'] for dialog in train for turn in dialog['turns'] ]\n",
        "tokenizer_user.fit_on_texts(dialogue_sent)\n",
        "# index of \"the\"\n",
        "tokenizer_user.word_index[\"the\"]"
      ],
      "execution_count": 14,
      "outputs": [
        {
          "output_type": "execute_result",
          "data": {
            "text/plain": [
              "1"
            ]
          },
          "metadata": {
            "tags": []
          },
          "execution_count": 14
        }
      ]
    },
    {
      "cell_type": "code",
      "metadata": {
        "id": "3zUQozM0EkRf"
      },
      "source": [
        "# create a tokenizer and fit on the sentences of the train data dialogues\n",
        "lispress_tokenizer = Tokenizer()\n",
        "dialogue_sent_lispress = [turn['lispress_cleaned'] for dialog in train for turn in dialog['turns'] ]\n",
        "lispress_tokenizer.fit_on_texts(dialogue_sent_lispress)\n"
      ],
      "execution_count": 15,
      "outputs": []
    },
    {
      "cell_type": "code",
      "metadata": {
        "id": "uJjQknEOh4-p",
        "colab": {
          "base_uri": "https://localhost:8080/"
        },
        "outputId": "01982641-b267-4aa7-e9a6-ddc4d2502531"
      },
      "source": [
        "lispress_tokenizer.word_index[\"begin\"]"
      ],
      "execution_count": 16,
      "outputs": [
        {
          "output_type": "execute_result",
          "data": {
            "text/plain": [
              "3"
            ]
          },
          "metadata": {
            "tags": []
          },
          "execution_count": 16
        }
      ]
    },
    {
      "cell_type": "code",
      "metadata": {
        "id": "kqZUy98iMDtp",
        "colab": {
          "base_uri": "https://localhost:8080/"
        },
        "outputId": "cdb53d49-755e-466e-b2d5-f81911d0255f"
      },
      "source": [
        "# example: tokens of the first two sentences\n",
        "[[tokenizer_user.index_word[code] for code in seq] for seq in tokenizer_user.texts_to_sequences(dialogue_sent[:2]) ]"
      ],
      "execution_count": 17,
      "outputs": [
        {
          "output_type": "execute_result",
          "data": {
            "text/plain": [
              "[['what', 'date', 'is', 'tomorrow'],\n",
              " ['what', 'day', 'of', 'the', 'week', 'is', 'tomorrow']]"
            ]
          },
          "metadata": {
            "tags": []
          },
          "execution_count": 17
        }
      ]
    },
    {
      "cell_type": "code",
      "metadata": {
        "id": "sdyWjL1hdAb9"
      },
      "source": [
        "def tokenizeDialogues(dataset,tokenizer):\n",
        "    \"\"\"\n",
        "    Add a tokens2 attribute to the user_utterance in each turn with the token indexes\n",
        "    Add a tokens2_readable attribute to the user_utterance with the readable tokens\n",
        "    \"\"\"\n",
        "    for dialog in dataset:\n",
        "        for turn in dialog['turns']:\n",
        "            seq = tokenizer.texts_to_sequences([turn[\"user_utterance\"][\"original_text\"]])[0]\n",
        "            turn[\"user_utterance\"].update({\"tokens2\":seq,\"tokens2_readable\":[tokenizer.index_word[index] for index in seq]})\n",
        "    tokenizedSet = [[ turn['user_utterance']['tokens2'] for turn in dialog['turns'] ]for dialog in dataset]\n",
        "    return tokenizedSet,dataset\n",
        "\n",
        "def tokenizeLispress(dataset,tokenizer):\n",
        "    \"\"\"\n",
        "    Add a tokens2 attribute to the user_utterance in each turn with the token indexes\n",
        "    Add a tokens2_readable attribute to the user_utterance with the readable tokens\n",
        "    \"\"\"\n",
        "    for dialog in dataset:\n",
        "        for turn in dialog['turns']:\n",
        "            seq = tokenizer.texts_to_sequences([turn[\"lispress_cleaned\"]])[0]\n",
        "            turn.update({\"lispress_tokens\":seq,\"lispress_tokens_readable\":[tokenizer.index_word[index] for index in seq]})\n",
        "    tokenizedSet = [[ turn['lispress_tokens'] for turn in dialog['turns'] ]for dialog in dataset]\n",
        "    return tokenizedSet,dataset"
      ],
      "execution_count": 18,
      "outputs": []
    },
    {
      "cell_type": "code",
      "metadata": {
        "id": "1MXRnQeeefn8"
      },
      "source": [
        "train_tokenized,train = tokenizeDialogues(train,tokenizer=tokenizer_user)\n",
        "valid_tokenized,valid = tokenizeDialogues(valid,tokenizer=tokenizer_user)"
      ],
      "execution_count": 19,
      "outputs": []
    },
    {
      "cell_type": "code",
      "metadata": {
        "id": "CCNQ3YHoEkRo"
      },
      "source": [
        "train_tokenized_lispress,train_lispress = tokenizeLispress(train,tokenizer=lispress_tokenizer)\n",
        "valid_tokenized_lispress,valid_lispress = tokenizeLispress(valid,tokenizer=lispress_tokenizer)"
      ],
      "execution_count": 20,
      "outputs": []
    },
    {
      "cell_type": "code",
      "metadata": {
        "id": "4eoLUYqtesFr",
        "colab": {
          "base_uri": "https://localhost:8080/"
        },
        "outputId": "61489848-ab83-4b2d-b3c2-649a6ed4ae9e"
      },
      "source": [
        "# example: tokens generated from a message\n",
        "print(\"message:\",train[0][\"turns\"][0][\"user_utterance\"][\"original_text\"])\n",
        "print(\"tokens:\",train[0][\"turns\"][0][\"user_utterance\"][\"tokens2\"])\n",
        "print(\"readable tokens:\",train[0][\"turns\"][0][\"user_utterance\"][\"tokens2_readable\"])\n",
        "print(\"lispress tokens:\",train[0][\"turns\"][0][\"lispress_tokens\"])\n",
        "print(\"lispress tokens:\",train[0][\"turns\"][0][\"lispress_tokens_readable\"])"
      ],
      "execution_count": 21,
      "outputs": [
        {
          "output_type": "stream",
          "text": [
            "message: what date is tomorrow?\n",
            "tokens: [18, 101, 12, 22]\n",
            "readable tokens: ['what', 'date', 'is', 'tomorrow']\n",
            "lispress tokens: [3, 6, 5, 52, 4]\n",
            "lispress tokens: ['begin', 'yield', 'output', 'tomorrow', 'eos']\n"
          ],
          "name": "stdout"
        }
      ]
    },
    {
      "cell_type": "code",
      "metadata": {
        "id": "0b-EONh2bBtv"
      },
      "source": [
        "def flatten_nested_list(list0):\n",
        "    \"\"\"\n",
        "    Flatten the nested list's elements\n",
        "    Example:\n",
        "    [[1,2],[3]] => [1,2,3]\n",
        "    \"\"\"\n",
        "    return [element for nested in list0 for element in nested ]"
      ],
      "execution_count": 22,
      "outputs": []
    },
    {
      "cell_type": "code",
      "metadata": {
        "id": "CBXlSlhRQs-k",
        "colab": {
          "base_uri": "https://localhost:8080/"
        },
        "outputId": "55d0a586-1603-407d-e5aa-5d015eebcb41"
      },
      "source": [
        "# part of the train data converted to fix sized vectors\n",
        "example_train_data = tokenizer_user.sequences_to_matrix(flatten_nested_list(train_tokenized)[:10])\n",
        "# vectors with 16297 elements\n",
        "example_train_data.shape"
      ],
      "execution_count": 23,
      "outputs": [
        {
          "output_type": "execute_result",
          "data": {
            "text/plain": [
              "(10, 16297)"
            ]
          },
          "metadata": {
            "tags": []
          },
          "execution_count": 23
        }
      ]
    },
    {
      "cell_type": "code",
      "metadata": {
        "id": "Nfs5NpGjVniH",
        "scrolled": true,
        "colab": {
          "base_uri": "https://localhost:8080/"
        },
        "outputId": "c9db0bb7-6149-4c07-b800-959532db4905"
      },
      "source": [
        "# size of the dictiorary:\n",
        "print(\"size of the dictionary:\",len(tokenizer_user.index_word))"
      ],
      "execution_count": 24,
      "outputs": [
        {
          "output_type": "stream",
          "text": [
            "size of the dictionary: 16296\n"
          ],
          "name": "stdout"
        }
      ]
    },
    {
      "cell_type": "markdown",
      "metadata": {
        "id": "lJkL4ErCEkR0"
      },
      "source": [
        "## Data analysis"
      ]
    },
    {
      "cell_type": "code",
      "metadata": {
        "id": "7s2W809VEkR1"
      },
      "source": [
        "def calculate_freq_list(item_list):\n",
        "    \"\"\"\n",
        "    Calculate item frequencies in the given list\n",
        "    \"\"\"\n",
        "    freq_list = {}\n",
        "    for item in item_list:\n",
        "        if item in freq_list:\n",
        "            freq_list[item] += 1\n",
        "        else:\n",
        "            freq_list[item] = 1\n",
        "\n",
        "    sorted_freq_list = {k: v for k, v in sorted(freq_list.items(), key=lambda item: item[1], reverse=True)}\n",
        "    return sorted_freq_list"
      ],
      "execution_count": null,
      "outputs": []
    },
    {
      "cell_type": "code",
      "metadata": {
        "id": "BiS5_tH0EkR3"
      },
      "source": [
        "def calculate_ngrams_and_freq(tokenized_dataset, ngram_size):\n",
        "    \"\"\"\n",
        "    Create the list of all ngrams, n is given as parameter called ngram_size\n",
        "    Calculate the frequencies of the ngrams\n",
        "    \"\"\"\n",
        "    token_sequences_ngrams = flatten_nested_list([tf.strings.ngrams(seq, ngram_size).numpy() for seq in tokenized_dataset])\n",
        "    token_sequences_ngrams = [x.decode('utf-8') for x in token_sequences_ngrams]    \n",
        "    sorted_ngram_freq = calculate_freq_list(token_sequences_ngrams)\n",
        "    return token_sequences_ngrams, sorted_ngram_freq"
      ],
      "execution_count": null,
      "outputs": []
    },
    {
      "cell_type": "markdown",
      "metadata": {
        "id": "mWFSonnDEkR5"
      },
      "source": [
        "### User utterances"
      ]
    },
    {
      "cell_type": "code",
      "metadata": {
        "id": "NEpSj4LEEkR7",
        "colab": {
          "base_uri": "https://localhost:8080/",
          "height": 624
        },
        "outputId": "24d201be-a81b-4188-9702-114b4a4f76b8"
      },
      "source": [
        "user_utteraces = [str(turn['user_utterance']['tokens2_readable']) for dialog in train for turn in dialog['turns']]\n",
        "user_utt_freq = calculate_freq_list(user_utteraces)\n",
        "\n",
        "plt.figure(figsize=(3,10))\n",
        "plt.title(\"Most frequent user utterances\")\n",
        "sns.barplot(x=list(user_utt_freq.values())[:50], y=list(user_utt_freq.keys())[:50], orient=\"h\")"
      ],
      "execution_count": null,
      "outputs": [
        {
          "output_type": "execute_result",
          "data": {
            "text/plain": [
              "<matplotlib.axes._subplots.AxesSubplot at 0x7f2da1d274e0>"
            ]
          },
          "metadata": {
            "tags": []
          },
          "execution_count": 26
        },
        {
          "output_type": "display_data",
          "data": {
            "image/png": "[encoded data removed]",
            "text/plain": [
              "<Figure size 216x720 with 1 Axes>"
            ]
          },
          "metadata": {
            "tags": [],
            "needs_background": "light"
          }
        }
      ]
    },
    {
      "cell_type": "code",
      "metadata": {
        "scrolled": false,
        "id": "Ffc4sY2XEkR_",
        "colab": {
          "base_uri": "https://localhost:8080/",
          "height": 406
        },
        "outputId": "55f81813-33ae-4fce-b4e9-115b0042fca7"
      },
      "source": [
        "x = [key for key in list(tokenizer_user.index_word.values())[:50]]\n",
        "y = [tokenizer_user.word_counts[key] for key in x]\n",
        "\n",
        "plt.figure(figsize=(15,5))\n",
        "plt.xticks(rotation=90)\n",
        "plt.title(\"Most frequent words by users\")\n",
        "sns.barplot(x=x, y=y, palette=\"Blues\")"
      ],
      "execution_count": null,
      "outputs": [
        {
          "output_type": "execute_result",
          "data": {
            "text/plain": [
              "<matplotlib.axes._subplots.AxesSubplot at 0x7f2da4136f98>"
            ]
          },
          "metadata": {
            "tags": []
          },
          "execution_count": 27
        },
        {
          "output_type": "display_data",
          "data": {
            "image/png": "[encoded data removed]",
            "text/plain": [
              "<Figure size 1080x360 with 1 Axes>"
            ]
          },
          "metadata": {
            "tags": [],
            "needs_background": "light"
          }
        }
      ]
    },
    {
      "cell_type": "code",
      "metadata": {
        "id": "eNxf5MsfEkSB",
        "colab": {
          "base_uri": "https://localhost:8080/",
          "height": 337
        },
        "outputId": "c38bc187-90b6-46ee-a37a-6f7fb807a9a3"
      },
      "source": [
        "token_sequences = [turn['user_utterance']['tokens2_readable'] for dialog in train for turn in dialog['turns']]\n",
        "token_sequences_ngrams, sorted_ngram_freq = calculate_ngrams_and_freq(token_sequences, 2)\n",
        "print(\"Number of unique bigrams:\", len(sorted_ngram_freq))"
      ],
      "execution_count": null,
      "outputs": [
        {
          "output_type": "error",
          "ename": "KeyboardInterrupt",
          "evalue": "ignored",
          "traceback": [
            "\u001b[0;31m---------------------------------------------------------------------------\u001b[0m",
            "\u001b[0;31mKeyboardInterrupt\u001b[0m                         Traceback (most recent call last)",
            "\u001b[0;32m<ipython-input-28-2e28bb7217c2>\u001b[0m in \u001b[0;36m<module>\u001b[0;34m()\u001b[0m\n\u001b[1;32m      1\u001b[0m \u001b[0mtoken_sequences\u001b[0m \u001b[0;34m=\u001b[0m \u001b[0;34m[\u001b[0m\u001b[0mturn\u001b[0m\u001b[0;34m[\u001b[0m\u001b[0;34m'user_utterance'\u001b[0m\u001b[0;34m]\u001b[0m\u001b[0;34m[\u001b[0m\u001b[0;34m'tokens2_readable'\u001b[0m\u001b[0;34m]\u001b[0m \u001b[0;32mfor\u001b[0m \u001b[0mdialog\u001b[0m \u001b[0;32min\u001b[0m \u001b[0mtrain\u001b[0m \u001b[0;32mfor\u001b[0m \u001b[0mturn\u001b[0m \u001b[0;32min\u001b[0m \u001b[0mdialog\u001b[0m\u001b[0;34m[\u001b[0m\u001b[0;34m'turns'\u001b[0m\u001b[0;34m]\u001b[0m\u001b[0;34m]\u001b[0m\u001b[0;34m\u001b[0m\u001b[0;34m\u001b[0m\u001b[0m\n\u001b[0;32m----> 2\u001b[0;31m \u001b[0mtoken_sequences_ngrams\u001b[0m\u001b[0;34m,\u001b[0m \u001b[0msorted_ngram_freq\u001b[0m \u001b[0;34m=\u001b[0m \u001b[0mcalculate_ngrams_and_freq\u001b[0m\u001b[0;34m(\u001b[0m\u001b[0mtoken_sequences\u001b[0m\u001b[0;34m,\u001b[0m \u001b[0;36m2\u001b[0m\u001b[0;34m)\u001b[0m\u001b[0;34m\u001b[0m\u001b[0;34m\u001b[0m\u001b[0m\n\u001b[0m\u001b[1;32m      3\u001b[0m \u001b[0mprint\u001b[0m\u001b[0;34m(\u001b[0m\u001b[0;34m\"Number of unique bigrams:\"\u001b[0m\u001b[0;34m,\u001b[0m \u001b[0mlen\u001b[0m\u001b[0;34m(\u001b[0m\u001b[0msorted_ngram_freq\u001b[0m\u001b[0;34m)\u001b[0m\u001b[0;34m)\u001b[0m\u001b[0;34m\u001b[0m\u001b[0;34m\u001b[0m\u001b[0m\n",
            "\u001b[0;32m<ipython-input-25-f8a7925fb781>\u001b[0m in \u001b[0;36mcalculate_ngrams_and_freq\u001b[0;34m(tokenized_dataset, ngram_size)\u001b[0m\n\u001b[1;32m      4\u001b[0m     \u001b[0mCalculate\u001b[0m \u001b[0mthe\u001b[0m \u001b[0mfrequencies\u001b[0m \u001b[0mof\u001b[0m \u001b[0mthe\u001b[0m \u001b[0mngrams\u001b[0m\u001b[0;34m\u001b[0m\u001b[0;34m\u001b[0m\u001b[0m\n\u001b[1;32m      5\u001b[0m     \"\"\"\n\u001b[0;32m----> 6\u001b[0;31m     \u001b[0mtoken_sequences_ngrams\u001b[0m \u001b[0;34m=\u001b[0m \u001b[0mflatten_nested_list\u001b[0m\u001b[0;34m(\u001b[0m\u001b[0;34m[\u001b[0m\u001b[0mtf\u001b[0m\u001b[0;34m.\u001b[0m\u001b[0mstrings\u001b[0m\u001b[0;34m.\u001b[0m\u001b[0mngrams\u001b[0m\u001b[0;34m(\u001b[0m\u001b[0mseq\u001b[0m\u001b[0;34m,\u001b[0m \u001b[0mngram_size\u001b[0m\u001b[0;34m)\u001b[0m\u001b[0;34m.\u001b[0m\u001b[0mnumpy\u001b[0m\u001b[0;34m(\u001b[0m\u001b[0;34m)\u001b[0m \u001b[0;32mfor\u001b[0m \u001b[0mseq\u001b[0m \u001b[0;32min\u001b[0m \u001b[0mtokenized_dataset\u001b[0m\u001b[0;34m]\u001b[0m\u001b[0;34m)\u001b[0m\u001b[0;34m\u001b[0m\u001b[0;34m\u001b[0m\u001b[0m\n\u001b[0m\u001b[1;32m      7\u001b[0m     \u001b[0mtoken_sequences_ngrams\u001b[0m \u001b[0;34m=\u001b[0m \u001b[0;34m[\u001b[0m\u001b[0mx\u001b[0m\u001b[0;34m.\u001b[0m\u001b[0mdecode\u001b[0m\u001b[0;34m(\u001b[0m\u001b[0;34m'utf-8'\u001b[0m\u001b[0;34m)\u001b[0m \u001b[0;32mfor\u001b[0m \u001b[0mx\u001b[0m \u001b[0;32min\u001b[0m \u001b[0mtoken_sequences_ngrams\u001b[0m\u001b[0;34m]\u001b[0m\u001b[0;34m\u001b[0m\u001b[0;34m\u001b[0m\u001b[0m\n\u001b[1;32m      8\u001b[0m     \u001b[0msorted_ngram_freq\u001b[0m \u001b[0;34m=\u001b[0m \u001b[0mcalculate_freq_list\u001b[0m\u001b[0;34m(\u001b[0m\u001b[0mtoken_sequences_ngrams\u001b[0m\u001b[0;34m)\u001b[0m\u001b[0;34m\u001b[0m\u001b[0;34m\u001b[0m\u001b[0m\n",
            "\u001b[0;32m<ipython-input-25-f8a7925fb781>\u001b[0m in \u001b[0;36m<listcomp>\u001b[0;34m(.0)\u001b[0m\n\u001b[1;32m      4\u001b[0m     \u001b[0mCalculate\u001b[0m \u001b[0mthe\u001b[0m \u001b[0mfrequencies\u001b[0m \u001b[0mof\u001b[0m \u001b[0mthe\u001b[0m \u001b[0mngrams\u001b[0m\u001b[0;34m\u001b[0m\u001b[0;34m\u001b[0m\u001b[0m\n\u001b[1;32m      5\u001b[0m     \"\"\"\n\u001b[0;32m----> 6\u001b[0;31m     \u001b[0mtoken_sequences_ngrams\u001b[0m \u001b[0;34m=\u001b[0m \u001b[0mflatten_nested_list\u001b[0m\u001b[0;34m(\u001b[0m\u001b[0;34m[\u001b[0m\u001b[0mtf\u001b[0m\u001b[0;34m.\u001b[0m\u001b[0mstrings\u001b[0m\u001b[0;34m.\u001b[0m\u001b[0mngrams\u001b[0m\u001b[0;34m(\u001b[0m\u001b[0mseq\u001b[0m\u001b[0;34m,\u001b[0m \u001b[0mngram_size\u001b[0m\u001b[0;34m)\u001b[0m\u001b[0;34m.\u001b[0m\u001b[0mnumpy\u001b[0m\u001b[0;34m(\u001b[0m\u001b[0;34m)\u001b[0m \u001b[0;32mfor\u001b[0m \u001b[0mseq\u001b[0m \u001b[0;32min\u001b[0m \u001b[0mtokenized_dataset\u001b[0m\u001b[0;34m]\u001b[0m\u001b[0;34m)\u001b[0m\u001b[0;34m\u001b[0m\u001b[0;34m\u001b[0m\u001b[0m\n\u001b[0m\u001b[1;32m      7\u001b[0m     \u001b[0mtoken_sequences_ngrams\u001b[0m \u001b[0;34m=\u001b[0m \u001b[0;34m[\u001b[0m\u001b[0mx\u001b[0m\u001b[0;34m.\u001b[0m\u001b[0mdecode\u001b[0m\u001b[0;34m(\u001b[0m\u001b[0;34m'utf-8'\u001b[0m\u001b[0;34m)\u001b[0m \u001b[0;32mfor\u001b[0m \u001b[0mx\u001b[0m \u001b[0;32min\u001b[0m \u001b[0mtoken_sequences_ngrams\u001b[0m\u001b[0;34m]\u001b[0m\u001b[0;34m\u001b[0m\u001b[0;34m\u001b[0m\u001b[0m\n\u001b[1;32m      8\u001b[0m     \u001b[0msorted_ngram_freq\u001b[0m \u001b[0;34m=\u001b[0m \u001b[0mcalculate_freq_list\u001b[0m\u001b[0;34m(\u001b[0m\u001b[0mtoken_sequences_ngrams\u001b[0m\u001b[0;34m)\u001b[0m\u001b[0;34m\u001b[0m\u001b[0;34m\u001b[0m\u001b[0m\n",
            "\u001b[0;32m/usr/local/lib/python3.6/dist-packages/tensorflow/python/util/dispatch.py\u001b[0m in \u001b[0;36mwrapper\u001b[0;34m(*args, **kwargs)\u001b[0m\n\u001b[1;32m    199\u001b[0m     \u001b[0;34m\"\"\"Call target, and fall back on dispatchers if there is a TypeError.\"\"\"\u001b[0m\u001b[0;34m\u001b[0m\u001b[0;34m\u001b[0m\u001b[0m\n\u001b[1;32m    200\u001b[0m     \u001b[0;32mtry\u001b[0m\u001b[0;34m:\u001b[0m\u001b[0;34m\u001b[0m\u001b[0;34m\u001b[0m\u001b[0m\n\u001b[0;32m--> 201\u001b[0;31m       \u001b[0;32mreturn\u001b[0m \u001b[0mtarget\u001b[0m\u001b[0;34m(\u001b[0m\u001b[0;34m*\u001b[0m\u001b[0margs\u001b[0m\u001b[0;34m,\u001b[0m \u001b[0;34m**\u001b[0m\u001b[0mkwargs\u001b[0m\u001b[0;34m)\u001b[0m\u001b[0;34m\u001b[0m\u001b[0;34m\u001b[0m\u001b[0m\n\u001b[0m\u001b[1;32m    202\u001b[0m     \u001b[0;32mexcept\u001b[0m \u001b[0;34m(\u001b[0m\u001b[0mTypeError\u001b[0m\u001b[0;34m,\u001b[0m \u001b[0mValueError\u001b[0m\u001b[0;34m)\u001b[0m\u001b[0;34m:\u001b[0m\u001b[0;34m\u001b[0m\u001b[0;34m\u001b[0m\u001b[0m\n\u001b[1;32m    203\u001b[0m       \u001b[0;31m# Note: convert_to_eager_tensor currently raises a ValueError, not a\u001b[0m\u001b[0;34m\u001b[0m\u001b[0;34m\u001b[0m\u001b[0;34m\u001b[0m\u001b[0m\n",
            "\u001b[0;32m/usr/local/lib/python3.6/dist-packages/tensorflow/python/ops/ragged/ragged_string_ops.py\u001b[0m in \u001b[0;36mngrams\u001b[0;34m(data, ngram_width, separator, pad_values, padding_width, preserve_short_sequences, name)\u001b[0m\n\u001b[1;32m    780\u001b[0m             data, [0], validate=False)\n\u001b[1;32m    781\u001b[0m         return ngrams(rt, ngram_width, separator, pad_values, padding_width,\n\u001b[0;32m--> 782\u001b[0;31m                       preserve_short_sequences, name)[0]\n\u001b[0m\u001b[1;32m    783\u001b[0m       \u001b[0;32melse\u001b[0m\u001b[0;34m:\u001b[0m\u001b[0;34m\u001b[0m\u001b[0;34m\u001b[0m\u001b[0m\n\u001b[1;32m    784\u001b[0m         data = ragged_tensor.RaggedTensor.from_tensor(\n",
            "\u001b[0;32m/usr/local/lib/python3.6/dist-packages/tensorflow/python/ops/ragged/ragged_getitem.py\u001b[0m in \u001b[0;36mragged_tensor_getitem\u001b[0;34m(self, key)\u001b[0m\n\u001b[1;32m    101\u001b[0m     \u001b[0mkey\u001b[0m \u001b[0;34m=\u001b[0m \u001b[0;34m[\u001b[0m\u001b[0mkey\u001b[0m\u001b[0;34m]\u001b[0m\u001b[0;34m\u001b[0m\u001b[0;34m\u001b[0m\u001b[0m\n\u001b[1;32m    102\u001b[0m   \u001b[0;32mwith\u001b[0m \u001b[0mops\u001b[0m\u001b[0;34m.\u001b[0m\u001b[0mname_scope\u001b[0m\u001b[0;34m(\u001b[0m\u001b[0;32mNone\u001b[0m\u001b[0;34m,\u001b[0m \u001b[0;34m\"RaggedGetItem\"\u001b[0m\u001b[0;34m,\u001b[0m \u001b[0mscope_tensors\u001b[0m\u001b[0;34m)\u001b[0m\u001b[0;34m:\u001b[0m\u001b[0;34m\u001b[0m\u001b[0;34m\u001b[0m\u001b[0m\n\u001b[0;32m--> 103\u001b[0;31m     \u001b[0;32mreturn\u001b[0m \u001b[0m_ragged_getitem\u001b[0m\u001b[0;34m(\u001b[0m\u001b[0mself\u001b[0m\u001b[0;34m,\u001b[0m \u001b[0mkey\u001b[0m\u001b[0;34m)\u001b[0m\u001b[0;34m\u001b[0m\u001b[0;34m\u001b[0m\u001b[0m\n\u001b[0m\u001b[1;32m    104\u001b[0m \u001b[0;34m\u001b[0m\u001b[0m\n\u001b[1;32m    105\u001b[0m \u001b[0;34m\u001b[0m\u001b[0m\n",
            "\u001b[0;32m/usr/local/lib/python3.6/dist-packages/tensorflow/python/ops/ragged/ragged_getitem.py\u001b[0m in \u001b[0;36m_ragged_getitem\u001b[0;34m(rt_input, key_list)\u001b[0m\n\u001b[1;32m    184\u001b[0m       \u001b[0;32mexcept\u001b[0m \u001b[0;34m(\u001b[0m\u001b[0mTypeError\u001b[0m\u001b[0;34m,\u001b[0m \u001b[0mValueError\u001b[0m\u001b[0;34m)\u001b[0m\u001b[0;34m:\u001b[0m\u001b[0;34m\u001b[0m\u001b[0;34m\u001b[0m\u001b[0m\n\u001b[1;32m    185\u001b[0m         \u001b[0;32mpass\u001b[0m\u001b[0;34m\u001b[0m\u001b[0;34m\u001b[0m\u001b[0m\n\u001b[0;32m--> 186\u001b[0;31m     \u001b[0mrow\u001b[0m \u001b[0;34m=\u001b[0m \u001b[0mrt_input\u001b[0m\u001b[0;34m.\u001b[0m\u001b[0mvalues\u001b[0m\u001b[0;34m[\u001b[0m\u001b[0mstarts\u001b[0m\u001b[0;34m[\u001b[0m\u001b[0mrow_key\u001b[0m\u001b[0;34m]\u001b[0m\u001b[0;34m:\u001b[0m\u001b[0mlimits\u001b[0m\u001b[0;34m[\u001b[0m\u001b[0mrow_key\u001b[0m\u001b[0;34m]\u001b[0m\u001b[0;34m]\u001b[0m\u001b[0;34m\u001b[0m\u001b[0;34m\u001b[0m\u001b[0m\n\u001b[0m\u001b[1;32m    187\u001b[0m     \u001b[0;32mreturn\u001b[0m \u001b[0mrow\u001b[0m\u001b[0;34m.\u001b[0m\u001b[0m__getitem__\u001b[0m\u001b[0;34m(\u001b[0m\u001b[0minner_keys\u001b[0m\u001b[0;34m)\u001b[0m\u001b[0;34m\u001b[0m\u001b[0;34m\u001b[0m\u001b[0m\n\u001b[1;32m    188\u001b[0m \u001b[0;34m\u001b[0m\u001b[0m\n",
            "\u001b[0;32m/usr/local/lib/python3.6/dist-packages/tensorflow/python/util/dispatch.py\u001b[0m in \u001b[0;36mwrapper\u001b[0;34m(*args, **kwargs)\u001b[0m\n\u001b[1;32m    199\u001b[0m     \u001b[0;34m\"\"\"Call target, and fall back on dispatchers if there is a TypeError.\"\"\"\u001b[0m\u001b[0;34m\u001b[0m\u001b[0;34m\u001b[0m\u001b[0m\n\u001b[1;32m    200\u001b[0m     \u001b[0;32mtry\u001b[0m\u001b[0;34m:\u001b[0m\u001b[0;34m\u001b[0m\u001b[0;34m\u001b[0m\u001b[0m\n\u001b[0;32m--> 201\u001b[0;31m       \u001b[0;32mreturn\u001b[0m \u001b[0mtarget\u001b[0m\u001b[0;34m(\u001b[0m\u001b[0;34m*\u001b[0m\u001b[0margs\u001b[0m\u001b[0;34m,\u001b[0m \u001b[0;34m**\u001b[0m\u001b[0mkwargs\u001b[0m\u001b[0;34m)\u001b[0m\u001b[0;34m\u001b[0m\u001b[0;34m\u001b[0m\u001b[0m\n\u001b[0m\u001b[1;32m    202\u001b[0m     \u001b[0;32mexcept\u001b[0m \u001b[0;34m(\u001b[0m\u001b[0mTypeError\u001b[0m\u001b[0;34m,\u001b[0m \u001b[0mValueError\u001b[0m\u001b[0;34m)\u001b[0m\u001b[0;34m:\u001b[0m\u001b[0;34m\u001b[0m\u001b[0;34m\u001b[0m\u001b[0m\n\u001b[1;32m    203\u001b[0m       \u001b[0;31m# Note: convert_to_eager_tensor currently raises a ValueError, not a\u001b[0m\u001b[0;34m\u001b[0m\u001b[0;34m\u001b[0m\u001b[0;34m\u001b[0m\u001b[0m\n",
            "\u001b[0;32m/usr/local/lib/python3.6/dist-packages/tensorflow/python/ops/array_ops.py\u001b[0m in \u001b[0;36m_slice_helper\u001b[0;34m(tensor, slice_spec, var)\u001b[0m\n\u001b[1;32m   1007\u001b[0m           \u001b[0mpacked_end\u001b[0m \u001b[0;34m=\u001b[0m \u001b[0mgen_math_ops\u001b[0m\u001b[0;34m.\u001b[0m\u001b[0mcast\u001b[0m\u001b[0;34m(\u001b[0m\u001b[0mpacked_end\u001b[0m\u001b[0;34m,\u001b[0m \u001b[0mdtypes\u001b[0m\u001b[0;34m.\u001b[0m\u001b[0mint64\u001b[0m\u001b[0;34m)\u001b[0m\u001b[0;34m\u001b[0m\u001b[0;34m\u001b[0m\u001b[0m\n\u001b[1;32m   1008\u001b[0m         \u001b[0;32mif\u001b[0m \u001b[0mpacked_strides\u001b[0m\u001b[0;34m.\u001b[0m\u001b[0mdtype\u001b[0m \u001b[0;34m!=\u001b[0m \u001b[0mdtypes\u001b[0m\u001b[0;34m.\u001b[0m\u001b[0mint64\u001b[0m\u001b[0;34m:\u001b[0m\u001b[0;34m\u001b[0m\u001b[0;34m\u001b[0m\u001b[0m\n\u001b[0;32m-> 1009\u001b[0;31m           \u001b[0mpacked_strides\u001b[0m \u001b[0;34m=\u001b[0m \u001b[0mgen_math_ops\u001b[0m\u001b[0;34m.\u001b[0m\u001b[0mcast\u001b[0m\u001b[0;34m(\u001b[0m\u001b[0mpacked_strides\u001b[0m\u001b[0;34m,\u001b[0m \u001b[0mdtypes\u001b[0m\u001b[0;34m.\u001b[0m\u001b[0mint64\u001b[0m\u001b[0;34m)\u001b[0m\u001b[0;34m\u001b[0m\u001b[0;34m\u001b[0m\u001b[0m\n\u001b[0m\u001b[1;32m   1010\u001b[0m     \u001b[0;32melse\u001b[0m\u001b[0;34m:\u001b[0m\u001b[0;34m\u001b[0m\u001b[0;34m\u001b[0m\u001b[0m\n\u001b[1;32m   1011\u001b[0m       \u001b[0mvar_empty\u001b[0m \u001b[0;34m=\u001b[0m \u001b[0mconstant\u001b[0m\u001b[0;34m(\u001b[0m\u001b[0;34m[\u001b[0m\u001b[0;34m]\u001b[0m\u001b[0;34m,\u001b[0m \u001b[0mdtype\u001b[0m\u001b[0;34m=\u001b[0m\u001b[0mdtypes\u001b[0m\u001b[0;34m.\u001b[0m\u001b[0mint32\u001b[0m\u001b[0;34m)\u001b[0m\u001b[0;34m\u001b[0m\u001b[0;34m\u001b[0m\u001b[0m\n",
            "\u001b[0;32m/usr/local/lib/python3.6/dist-packages/tensorflow/python/ops/gen_math_ops.py\u001b[0m in \u001b[0;36mcast\u001b[0;34m(x, DstT, Truncate, name)\u001b[0m\n\u001b[1;32m   1853\u001b[0m       _result = pywrap_tfe.TFE_Py_FastPathExecute(\n\u001b[1;32m   1854\u001b[0m         \u001b[0m_ctx\u001b[0m\u001b[0;34m.\u001b[0m\u001b[0m_context_handle\u001b[0m\u001b[0;34m,\u001b[0m \u001b[0mtld\u001b[0m\u001b[0;34m.\u001b[0m\u001b[0mdevice_name\u001b[0m\u001b[0;34m,\u001b[0m \u001b[0;34m\"Cast\"\u001b[0m\u001b[0;34m,\u001b[0m \u001b[0mname\u001b[0m\u001b[0;34m,\u001b[0m \u001b[0mtld\u001b[0m\u001b[0;34m.\u001b[0m\u001b[0mop_callbacks\u001b[0m\u001b[0;34m,\u001b[0m\u001b[0;34m\u001b[0m\u001b[0;34m\u001b[0m\u001b[0m\n\u001b[0;32m-> 1855\u001b[0;31m         x, \"DstT\", DstT, \"Truncate\", Truncate)\n\u001b[0m\u001b[1;32m   1856\u001b[0m       \u001b[0;32mreturn\u001b[0m \u001b[0m_result\u001b[0m\u001b[0;34m\u001b[0m\u001b[0;34m\u001b[0m\u001b[0m\n\u001b[1;32m   1857\u001b[0m     \u001b[0;32mexcept\u001b[0m \u001b[0m_core\u001b[0m\u001b[0;34m.\u001b[0m\u001b[0m_NotOkStatusException\u001b[0m \u001b[0;32mas\u001b[0m \u001b[0me\u001b[0m\u001b[0;34m:\u001b[0m\u001b[0;34m\u001b[0m\u001b[0;34m\u001b[0m\u001b[0m\n",
            "\u001b[0;31mKeyboardInterrupt\u001b[0m: "
          ]
        }
      ]
    },
    {
      "cell_type": "code",
      "metadata": {
        "id": "rNvh0kHNEkSD"
      },
      "source": [
        "plt.figure(figsize=(15,5))\n",
        "plt.xticks(rotation=90)\n",
        "plt.title(\"Most frequent bigrams by users\")\n",
        "sns.barplot(x=list(sorted_ngram_freq.keys())[:50], y = list(sorted_ngram_freq.values())[:50], palette=\"Blues\")"
      ],
      "execution_count": null,
      "outputs": []
    },
    {
      "cell_type": "code",
      "metadata": {
        "id": "KnqAMnIZEkSG"
      },
      "source": [
        "token_sequences_ngrams, sorted_ngram_freq = calculate_ngrams_and_freq(token_sequences, 3)\n",
        "print(\"Number of unique 3grams:\", len(sorted_ngram_freq))"
      ],
      "execution_count": null,
      "outputs": []
    },
    {
      "cell_type": "code",
      "metadata": {
        "scrolled": false,
        "id": "1woYNDhKEkSJ"
      },
      "source": [
        "plt.figure(figsize=(15,5))\n",
        "plt.xticks(rotation=90)\n",
        "plt.title(\"Most frequent 3grams by users\")\n",
        "sns.barplot(x=list(sorted_ngram_freq.keys())[:50], y = list(sorted_ngram_freq.values())[:50], palette=\"flare\")"
      ],
      "execution_count": null,
      "outputs": []
    },
    {
      "cell_type": "markdown",
      "metadata": {
        "id": "IBsWzOX5EkSO"
      },
      "source": [
        "### Agent utterances"
      ]
    },
    {
      "cell_type": "code",
      "metadata": {
        "id": "6AJcKJ-CEkSP"
      },
      "source": [
        "dialogue_agent = [turn['agent_utterance']['original_text'] for dialog in train for turn in dialog['turns']]\n",
        "tokenizer = Tokenizer()\n",
        "tokenizer.fit_on_texts(dialogue_agent)"
      ],
      "execution_count": null,
      "outputs": []
    },
    {
      "cell_type": "code",
      "metadata": {
        "scrolled": false,
        "id": "UOxnTxsxEkSR"
      },
      "source": [
        "x = [key for key in list(tokenizer.index_word.values())[:50]]\n",
        "y = [tokenizer.word_counts[key] for key in x]\n",
        "\n",
        "plt.figure(figsize=(15,5))\n",
        "plt.xticks(rotation=90)\n",
        "plt.title(\"Most frequent words by the agent\")\n",
        "sns.barplot(x=x, y=y, palette=\"flare\")"
      ],
      "execution_count": null,
      "outputs": []
    },
    {
      "cell_type": "code",
      "metadata": {
        "id": "z6ISkPuvEkSU"
      },
      "source": [
        "sorted_ans_freq = calculate_freq_list(dialogue_agent)\n",
        "\n",
        "plt.figure(figsize=(3,10))\n",
        "plt.title(\"Most frequent agent utterances\")\n",
        "sns.barplot(x=list(sorted_ans_freq.values())[:30], y=list(sorted_ans_freq.keys())[:30], orient=\"h\")"
      ],
      "execution_count": null,
      "outputs": []
    },
    {
      "cell_type": "markdown",
      "metadata": {
        "id": "h5GSqV9MEkSX"
      },
      "source": [
        "### Code"
      ]
    },
    {
      "cell_type": "code",
      "metadata": {
        "scrolled": true,
        "id": "Lsfzf83pEkSY"
      },
      "source": [
        "codes = [turn['lispress'] for dialog in train for turn in dialog['turns']]\n",
        "sorted_code_freq = calculate_freq_list(codes)\n",
        "code_lengths = [len(code) for code in sorted_code_freq.keys()]\n",
        "print(\"Avarage code length (chars):\", np.mean(code_lengths))"
      ],
      "execution_count": null,
      "outputs": []
    },
    {
      "cell_type": "code",
      "metadata": {
        "scrolled": false,
        "id": "F_7yIfgCEkSa"
      },
      "source": [
        "key_list = list(sorted_code_freq.keys())\n",
        "value_list = list(sorted_code_freq.values())\n",
        "for i in range(20):\n",
        "    print(\"Frequency:\", value_list[i])\n",
        "    print(\"Code:\")\n",
        "    print(key_list[i])\n",
        "    print()"
      ],
      "execution_count": null,
      "outputs": []
    },
    {
      "cell_type": "code",
      "metadata": {
        "id": "8fioHUzXEkSc"
      },
      "source": [
        "lispress_tokens = [str(turn['lispress_tokens_readable']) for dialog in train for turn in dialog['turns']]\n",
        "lispress_tokens_freq = calculate_freq_list(lispress_tokens)\n",
        "\n",
        "plt.figure(figsize=(3,10))\n",
        "plt.title(\"Most frequent lispress commands\")\n",
        "sns.barplot(x=list(lispress_tokens_freq.values())[:50], y=list(lispress_tokens_freq.keys())[:50], orient=\"h\")"
      ],
      "execution_count": null,
      "outputs": []
    },
    {
      "cell_type": "code",
      "metadata": {
        "id": "rUuJkijWEkSe"
      },
      "source": [
        "x = [key for key in list(lispress_tokenizer.index_word.values())[:50]]\n",
        "y = [lispress_tokenizer.word_counts[key] for key in x]\n",
        "\n",
        "plt.figure(figsize=(15,5))\n",
        "plt.xticks(rotation=90)\n",
        "plt.title(\"Most frequent words by the agent\")\n",
        "sns.barplot(x=x, y=y, palette=\"Blues\")"
      ],
      "execution_count": null,
      "outputs": []
    },
    {
      "cell_type": "markdown",
      "metadata": {
        "id": "9wW5TqNGhoub"
      },
      "source": [
        "## Examples\n"
      ]
    },
    {
      "cell_type": "code",
      "metadata": {
        "id": "7CnIZnOfAH-5"
      },
      "source": [
        "from dataflow.analysis import compute_data_statistics"
      ],
      "execution_count": 25,
      "outputs": []
    },
    {
      "cell_type": "markdown",
      "metadata": {
        "id": "yxohpYsFiDLR"
      },
      "source": [
        "### Basic statistics"
      ]
    },
    {
      "cell_type": "code",
      "metadata": {
        "id": "WQK6Wslth9VA"
      },
      "source": [
        "compute_data_statistics.main(\"data\", ['train', 'valid'], \"output\")"
      ],
      "execution_count": null,
      "outputs": []
    },
    {
      "cell_type": "code",
      "metadata": {
        "id": "Y5-XFaR9iBUu",
        "scrolled": true
      },
      "source": [
        "# print basic statistics about the full dataset\n",
        "with open('output/train-valid.basic_stats.json') as json_file:\n",
        "    data = json.load(json_file)\n",
        "    pprint.pprint(data)"
      ],
      "execution_count": null,
      "outputs": []
    },
    {
      "cell_type": "markdown",
      "metadata": {
        "id": "V_AVYLE0XDW2"
      },
      "source": [
        "## Target of the challenge\n",
        "The main target of the challenge is to create algorithms that are able to maintain and update conversation states stored as a program (or as a graph). The output for each user message should be a so called lispress string which is a representation of the stored agent program (see examples above).\n",
        "\n",
        "The predictions can be evaluated in [codalab](https://codalab.org/), using Microsoft's predefined scripts. Predictions need to be made for all the validation data, and submitted to the codalab platform, and the scripts will evaluate the accuracy. \n"
      ]
    },
    {
      "cell_type": "markdown",
      "metadata": {
        "id": "cz9QKt1GhgXz"
      },
      "source": [
        "## Roadmap\n",
        "Since the original article contains a baseline solution for this challenge, our first step will be to understand and reproduce the baseline solution to better understand the problem the article addresses.\n",
        "\n",
        "After that, with the deep analysis of the state of the art solutions, we will extend, or replace the baseline solution with our custom algorithm.\n",
        "\n",
        "Our final goal is to create a model whose prediction outperforms the baseline solution\n"
      ]
    },
    {
      "cell_type": "markdown",
      "metadata": {
        "id": "nJCJ8RO5XFx7"
      },
      "source": [
        "# Work"
      ]
    },
    {
      "cell_type": "code",
      "metadata": {
        "id": "BjnNLWC-EkSt"
      },
      "source": [
        "from tensorflow.keras.models import Sequential,Model\n",
        "from tensorflow.keras.layers import Embedding,Dense,Activation\n",
        "from tensorflow.keras.layers import Input, LSTM, Dense"
      ],
      "execution_count": 26,
      "outputs": []
    },
    {
      "cell_type": "markdown",
      "metadata": {
        "id": "96T1xoE5EkSx"
      },
      "source": [
        "## Create train and test data"
      ]
    },
    {
      "cell_type": "code",
      "metadata": {
        "id": "69lipbJgEkSy"
      },
      "source": [
        "MAX_TRAIN_DATA=-1\n",
        "MAX_VALID_DATA=-100\n",
        "MAX_TEST_DATA=99"
      ],
      "execution_count": 27,
      "outputs": []
    },
    {
      "cell_type": "code",
      "metadata": {
        "id": "o6SgqCGNjlYI"
      },
      "source": [
        "from copy import deepcopy\n",
        "def create_decoder_input(data):\n",
        "  \"\"\"\n",
        "  from each dealogue -> remove the last element, and add a 0 to the beginning\n",
        "  \"\"\"\n",
        "  data_tmp = deepcopy(data)\n",
        "  for seqs in data_tmp:\n",
        "    del seqs[-1]\n",
        "    seqs.insert(0,[0])\n",
        "  return data_tmp"
      ],
      "execution_count": 28,
      "outputs": []
    },
    {
      "cell_type": "code",
      "metadata": {
        "id": "zwaBrZBQi0pt"
      },
      "source": [
        "demo = train_tokenized[:4]\n",
        "\n",
        "demo2 = create_decoder_input(demo)"
      ],
      "execution_count": 29,
      "outputs": []
    },
    {
      "cell_type": "code",
      "metadata": {
        "id": "SFGyoaTmk6Nj",
        "colab": {
          "base_uri": "https://localhost:8080/"
        },
        "outputId": "79c511d0-85ed-4158-d057-71b83db2056b"
      },
      "source": [
        "print(demo)\n",
        "print(demo2)"
      ],
      "execution_count": 30,
      "outputs": [
        {
          "output_type": "stream",
          "text": [
            "[[[18, 101, 12, 22], [18, 46, 41, 1, 40, 12, 22], [23, 163, 32]], [[18, 38, 12, 7, 31, 5, 488, 526, 8, 39], [14, 11, 25, 36, 31, 5, 488, 526, 6, 112, 34], [3, 37, 16, 2, 71, 54, 95], [44, 51]], [[14, 11, 1075, 47, 5, 374, 17, 204, 178], [949, 1, 496, 160, 33, 1284, 47, 17, 174, 374], [25, 544, 110, 5103, 3813, 2477, 640, 289, 470, 417], [39, 128, 1653, 2078, 43, 1, 38, 2, 121, 4356, 126, 5104, 23], [113, 18, 3, 37, 51, 17, 267, 863, 4, 1, 47]], [[25, 455, 8, 64, 2000, 86, 62, 34, 2, 65, 62, 19], [11, 167, 18, 1556, 1654, 939, 342, 239, 130, 16, 6, 86, 61], [43, 1, 245, 2, 455, 46], [153, 105], [153, 44]]]\n",
            "[[[0], [18, 101, 12, 22], [18, 46, 41, 1, 40, 12, 22]], [[0], [18, 38, 12, 7, 31, 5, 488, 526, 8, 39], [14, 11, 25, 36, 31, 5, 488, 526, 6, 112, 34], [3, 37, 16, 2, 71, 54, 95]], [[0], [14, 11, 1075, 47, 5, 374, 17, 204, 178], [949, 1, 496, 160, 33, 1284, 47, 17, 174, 374], [25, 544, 110, 5103, 3813, 2477, 640, 289, 470, 417], [39, 128, 1653, 2078, 43, 1, 38, 2, 121, 4356, 126, 5104, 23]], [[0], [25, 455, 8, 64, 2000, 86, 62, 34, 2, 65, 62, 19], [11, 167, 18, 1556, 1654, 939, 342, 239, 130, 16, 6, 86, 61], [43, 1, 245, 2, 455, 46], [153, 105]]]\n"
          ],
          "name": "stdout"
        }
      ]
    },
    {
      "cell_type": "code",
      "metadata": {
        "id": "1tJ9QT7xxduE",
        "colab": {
          "base_uri": "https://localhost:8080/"
        },
        "outputId": "e269d005-d6e4-488c-c0e9-531aa8eb0f20"
      },
      "source": [
        "len(flatten_nested_list(train_tokenized))"
      ],
      "execution_count": 31,
      "outputs": [
        {
          "output_type": "execute_result",
          "data": {
            "text/plain": [
              "133821"
            ]
          },
          "metadata": {
            "tags": []
          },
          "execution_count": 31
        }
      ]
    },
    {
      "cell_type": "code",
      "metadata": {
        "id": "1rUNlt91EkS2"
      },
      "source": [
        "train_data = flatten_nested_list(train_tokenized)[:MAX_TRAIN_DATA]\n",
        "valid_data = flatten_nested_list(valid_tokenized)[:MAX_VALID_DATA]\n",
        "test_data = flatten_nested_list(valid_tokenized)[MAX_VALID_DATA:MAX_VALID_DATA+MAX_TEST_DATA]\n",
        "\n",
        "train_data_di = flatten_nested_list(create_decoder_input(train_tokenized_lispress))[:MAX_TRAIN_DATA]\n",
        "valid_data_di = flatten_nested_list(create_decoder_input(valid_tokenized_lispress))[:MAX_VALID_DATA]\n",
        "test_data_di = flatten_nested_list(create_decoder_input(valid_tokenized_lispress))[MAX_VALID_DATA:MAX_VALID_DATA+MAX_TEST_DATA]\n",
        "\n",
        "train_data_y = flatten_nested_list(train_tokenized_lispress)[:MAX_TRAIN_DATA]\n",
        "valid_data_y = flatten_nested_list(valid_tokenized_lispress)[:MAX_VALID_DATA]\n",
        "test_data_y = flatten_nested_list(valid_tokenized_lispress)[MAX_VALID_DATA:MAX_VALID_DATA+MAX_TEST_DATA]\n"
      ],
      "execution_count": 32,
      "outputs": []
    },
    {
      "cell_type": "markdown",
      "metadata": {
        "id": "4KnuZvavEkS6"
      },
      "source": [
        "## Padding encoder and decoder input\n",
        "\n",
        "[Towardsdatascience - seq2seq +preprocess ](https://towardsdatascience.com/how-to-implement-seq2seq-lstm-model-in-keras-shortcutnlp-6f355f3e5639)"
      ]
    },
    {
      "cell_type": "code",
      "metadata": {
        "id": "f5mRSXBaEkS6"
      },
      "source": [
        "from keras.preprocessing.sequence import pad_sequences"
      ],
      "execution_count": 33,
      "outputs": []
    },
    {
      "cell_type": "code",
      "metadata": {
        "id": "00qM5fwLEkS9"
      },
      "source": [
        "MAX_LEN=50\n",
        "\n",
        "encoder_train = pad_sequences(train_data,maxlen=MAX_LEN,dtype=\"int32\",padding='post', truncating='post')\n",
        "decoder_train = pad_sequences(train_data_y,maxlen=MAX_LEN,dtype=\"int32\",padding='post', truncating='post')\n",
        "decoder_train_input = pad_sequences(train_data_di,maxlen=MAX_LEN,dtype=\"int32\",padding='post', truncating='post')\n",
        "\n",
        "encoder_valid = pad_sequences(valid_data,maxlen=MAX_LEN,dtype=\"int32\",padding='post', truncating='post')\n",
        "decoder_valid = pad_sequences(valid_data_y,maxlen=MAX_LEN,dtype=\"int32\",padding='post', truncating='post')\n",
        "decoder_valid_input = pad_sequences(valid_data_di,maxlen=MAX_LEN,dtype=\"int32\",padding='post', truncating='post')\n",
        "\n",
        "encoder_test = pad_sequences(test_data,maxlen=MAX_LEN,dtype=\"int32\",padding='post', truncating='post')\n",
        "decoder_test = pad_sequences(test_data_y,maxlen=MAX_LEN,dtype=\"int32\",padding='post', truncating='post')\n",
        "decoder_test_input = pad_sequences(test_data_di,maxlen=MAX_LEN,dtype=\"int32\",padding='post', truncating='post')"
      ],
      "execution_count": 34,
      "outputs": []
    },
    {
      "cell_type": "code",
      "metadata": {
        "id": "OcQyop0cEkTB",
        "colab": {
          "base_uri": "https://localhost:8080/"
        },
        "outputId": "dac6e1c2-88ca-4b66-e17f-5e966a351bf6"
      },
      "source": [
        "decoder_train_input[0]"
      ],
      "execution_count": 35,
      "outputs": [
        {
          "output_type": "execute_result",
          "data": {
            "text/plain": [
              "array([0, 0, 0, 0, 0, 0, 0, 0, 0, 0, 0, 0, 0, 0, 0, 0, 0, 0, 0, 0, 0, 0,\n",
              "       0, 0, 0, 0, 0, 0, 0, 0, 0, 0, 0, 0, 0, 0, 0, 0, 0, 0, 0, 0, 0, 0,\n",
              "       0, 0, 0, 0, 0, 0], dtype=int32)"
            ]
          },
          "metadata": {
            "tags": []
          },
          "execution_count": 35
        }
      ]
    },
    {
      "cell_type": "markdown",
      "metadata": {
        "id": "Wusi9n2wEkTG"
      },
      "source": [
        "## Word Embedding with Glove"
      ]
    },
    {
      "cell_type": "code",
      "metadata": {
        "id": "jMUknwmwEkTH"
      },
      "source": [
        "import os"
      ],
      "execution_count": 36,
      "outputs": []
    },
    {
      "cell_type": "code",
      "metadata": {
        "id": "o7pWoIcsEkTJ",
        "colab": {
          "base_uri": "https://localhost:8080/"
        },
        "outputId": "c1a38e63-b47a-4089-c2f3-9f4d561618e4"
      },
      "source": [
        "\n",
        "# !wget \"http://nlp.stanford.edu/data/glove.6B.zip\" -O temp.zip\n",
        "# !unzip temp.zip -d glove\n",
        "# !rm temp.zip"
      ],
      "execution_count": null,
      "outputs": [
        {
          "output_type": "stream",
          "text": [
            "--2020-11-17 21:42:38--  http://nlp.stanford.edu/data/glove.6B.zip\n",
            "Resolving nlp.stanford.edu (nlp.stanford.edu)... 171.64.67.140\n",
            "Connecting to nlp.stanford.edu (nlp.stanford.edu)|171.64.67.140|:80... connected.\n",
            "HTTP request sent, awaiting response... 302 Found\n",
            "Location: https://nlp.stanford.edu/data/glove.6B.zip [following]\n",
            "--2020-11-17 21:42:38--  https://nlp.stanford.edu/data/glove.6B.zip\n",
            "Connecting to nlp.stanford.edu (nlp.stanford.edu)|171.64.67.140|:443... connected.\n",
            "HTTP request sent, awaiting response... 301 Moved Permanently\n",
            "Location: http://downloads.cs.stanford.edu/nlp/data/glove.6B.zip [following]\n",
            "--2020-11-17 21:42:38--  http://downloads.cs.stanford.edu/nlp/data/glove.6B.zip\n",
            "Resolving downloads.cs.stanford.edu (downloads.cs.stanford.edu)... 171.64.64.22\n",
            "Connecting to downloads.cs.stanford.edu (downloads.cs.stanford.edu)|171.64.64.22|:80... connected.\n",
            "HTTP request sent, awaiting response... 200 OK\n",
            "Length: 862182613 (822M) [application/zip]\n",
            "Saving to: ‘temp.zip’\n",
            "\n",
            "temp.zip            100%[===================>] 822.24M  2.01MB/s    in 6m 28s  \n",
            "\n",
            "2020-11-17 21:49:07 (2.12 MB/s) - ‘temp.zip’ saved [862182613/862182613]\n",
            "\n",
            "Archive:  temp.zip\n",
            "  inflating: glove/glove.6B.50d.txt  \n",
            "  inflating: glove/glove.6B.100d.txt  \n",
            "  inflating: glove/glove.6B.200d.txt  \n",
            "  inflating: glove/glove.6B.300d.txt  \n"
          ],
          "name": "stdout"
        }
      ]
    },
    {
      "cell_type": "code",
      "metadata": {
        "id": "dlGJjjegcPrl",
        "colab": {
          "base_uri": "https://localhost:8080/"
        },
        "outputId": "014352aa-d173-498e-ac6c-ca1241b9e951"
      },
      "source": [
        "from google.colab import drive\n",
        "drive.mount('/content/drive/')\n",
        "root_path = 'drive/My Drive/msc/dl_hf/'  #change dir to your project folder"
      ],
      "execution_count": 38,
      "outputs": [
        {
          "output_type": "stream",
          "text": [
            "Mounted at /content/drive/\n"
          ],
          "name": "stdout"
        }
      ]
    },
    {
      "cell_type": "code",
      "metadata": {
        "id": "2_IWTz2CEkTO"
      },
      "source": [
        "GLOVE_DIR=\"glove\"\n",
        "embeddings_index = {}\n",
        "with open(os.path.join(root_path,GLOVE_DIR,\"glove.6B.100d.txt\"),'rb') as f:\n",
        "    for line in f.readlines():\n",
        "        values = line.split()\n",
        "        word = str(values[0],encoding=\"utf8\")\n",
        "        coefs = np.asanyarray(values[1:], dtype=\"float32\")\n",
        "        embeddings_index[word] = coefs\n"
      ],
      "execution_count": 39,
      "outputs": []
    },
    {
      "cell_type": "code",
      "metadata": {
        "id": "aPBRnw4hEkTQ"
      },
      "source": [
        "# create embedding matrix for the encoder\n",
        "embedding_dimension = 100\n",
        "DECODING_DEPTH = len(lispress_tokenizer.word_index)+1\n",
        "embedding_matrix_encoder = np.zeros((len(tokenizer_user.word_index)+1,embedding_dimension))\n",
        "for word, i in tokenizer_user.word_index.items():\n",
        "    embedding_vector = embeddings_index.get(word)\n",
        "    if embedding_vector is not None:\n",
        "        embedding_matrix_encoder[i] = embedding_vector\n",
        "\n",
        "# create embedding matrix for the decoder\n",
        "embedding_matrix_decoder = np.zeros((DECODING_DEPTH,embedding_dimension))\n",
        "for word, i in lispress_tokenizer.word_index.items():\n",
        "    embedding_vector = embeddings_index.get(word)\n",
        "    if embedding_vector is not None and i < DECODING_DEPTH:\n",
        "        embedding_matrix_decoder[i] = embedding_vector"
      ],
      "execution_count": 40,
      "outputs": []
    },
    {
      "cell_type": "code",
      "metadata": {
        "id": "yXO6XsvvEkTS",
        "colab": {
          "base_uri": "https://localhost:8080/"
        },
        "outputId": "fde5ef65-ecf4-410a-84bb-8fdd395df30d"
      },
      "source": [
        "embedding_matrix_encoder[1]"
      ],
      "execution_count": 41,
      "outputs": [
        {
          "output_type": "execute_result",
          "data": {
            "text/plain": [
              "array([-0.038194  , -0.24487001,  0.72812003, -0.39961001,  0.083172  ,\n",
              "        0.043953  , -0.39140999,  0.3344    , -0.57545   ,  0.087459  ,\n",
              "        0.28786999, -0.06731   ,  0.30906001, -0.26383999, -0.13231   ,\n",
              "       -0.20757   ,  0.33395001, -0.33848   , -0.31742999, -0.48335999,\n",
              "        0.1464    , -0.37303999,  0.34577   ,  0.052041  ,  0.44946   ,\n",
              "       -0.46970999,  0.02628   , -0.54154998, -0.15518001, -0.14106999,\n",
              "       -0.039722  ,  0.28277001,  0.14393   ,  0.23464   , -0.31020999,\n",
              "        0.086173  ,  0.20397   ,  0.52623999,  0.17163999, -0.082378  ,\n",
              "       -0.71787   , -0.41531   ,  0.20334999, -0.12763   ,  0.41367   ,\n",
              "        0.55186999,  0.57907999, -0.33476999, -0.36559001, -0.54856998,\n",
              "       -0.062892  ,  0.26583999,  0.30204999,  0.99774998, -0.80480999,\n",
              "       -3.0243001 ,  0.01254   , -0.36941999,  2.21670008,  0.72201002,\n",
              "       -0.24978   ,  0.92136002,  0.034514  ,  0.46744999,  1.10790002,\n",
              "       -0.19358   , -0.074575  ,  0.23353   , -0.052062  , -0.22044   ,\n",
              "        0.057162  , -0.15806   , -0.30798   , -0.41624999,  0.37972   ,\n",
              "        0.15006   , -0.53211999, -0.20550001, -1.25259995,  0.071624  ,\n",
              "        0.70564997,  0.49744001, -0.42063001,  0.26148   , -1.53799999,\n",
              "       -0.30223   , -0.073438  , -0.28312001,  0.37103999, -0.25217   ,\n",
              "        0.016215  , -0.017099  , -0.38984001,  0.87423998, -0.72569001,\n",
              "       -0.51058   , -0.52028   , -0.1459    ,  0.82779998,  0.27061999])"
            ]
          },
          "metadata": {
            "tags": []
          },
          "execution_count": 41
        }
      ]
    },
    {
      "cell_type": "code",
      "metadata": {
        "id": "xk_pYdBNEkTV"
      },
      "source": [
        "def decoder_output_creater(decoder_input_data, num_samples, MAX_LEN, VOCAB_SIZE):  \n",
        "    decoder_output_data = np.zeros((num_samples, MAX_LEN, VOCAB_SIZE), dtype=\"float32\")\n",
        "\n",
        "    for i, seqs in enumerate(decoder_input_data):\n",
        "        for j, seq in enumerate(seqs):\n",
        "            if j > 0 and seq < VOCAB_SIZE:\n",
        "                decoder_output_data[i][j][seq] = 1.\n",
        "    #print(decoder_output_data.shape)\n",
        "\n",
        "    return decoder_output_data"
      ],
      "execution_count": 42,
      "outputs": []
    },
    {
      "cell_type": "code",
      "metadata": {
        "id": "0bdiG-MsrDw_"
      },
      "source": [
        "from sklearn.preprocessing import OneHotEncoder\n",
        "\n",
        "def decoder_output_creator(decoder_input_data, num_samples, MAX_LEN, VOCAB_SIZE):\n",
        "  enc = OneHotEncoder(categories=list(range(VOCAB_SIZE)))\n",
        "  print(enc.categories_)\n",
        "  return enc.fit_transform(decoder_input_data)"
      ],
      "execution_count": 43,
      "outputs": []
    },
    {
      "cell_type": "code",
      "metadata": {
        "id": "oUSMAOd4sFR4"
      },
      "source": [
        ""
      ],
      "execution_count": null,
      "outputs": []
    },
    {
      "cell_type": "markdown",
      "metadata": {
        "id": "j04vBLvHEkTY"
      },
      "source": [
        "## Simple Embedding\n",
        "\n",
        "[keras lstm seq2seq](https://blog.keras.io/a-ten-minute-introduction-to-sequence-to-sequence-learning-in-keras.html)"
      ]
    },
    {
      "cell_type": "code",
      "metadata": {
        "id": "KkTOxGZdMTYX"
      },
      "source": [
        "from keras.layers import Bidirectional, Concatenate"
      ],
      "execution_count": 44,
      "outputs": []
    },
    {
      "cell_type": "markdown",
      "metadata": {
        "id": "baHhk4wROtV0"
      },
      "source": [
        "## Model -> Both bidirectional  -> more layers\n"
      ]
    },
    {
      "cell_type": "code",
      "metadata": {
        "colab": {
          "base_uri": "https://localhost:8080/"
        },
        "id": "Oeksm3pyO3yu",
        "outputId": "07d8bef7-6d5d-404f-852d-b5b7ceb03110"
      },
      "source": [
        "num_encoder_tokens = len(tokenizer_user.word_index)+1\n",
        "num_decoder_tokens = len(lispress_tokenizer.word_index)+1\n",
        "HIDDEN_DIM = 128\n",
        "\n",
        "print(\"encoder tokens\",num_encoder_tokens)\n",
        "\n",
        "# Define an input sequence and process it.\n",
        "embedding_dimension=100\n",
        "encoder_inputs = Input(shape=(MAX_LEN, ),dtype=\"int32\")\n",
        "encoder_embedding = Embedding(input_dim = num_encoder_tokens,\n",
        "                            output_dim = embedding_dimension,\n",
        "                            input_length = MAX_LEN,\n",
        "                            weights = [embedding_matrix_encoder],\n",
        "                           trainable = False)(encoder_inputs)\n",
        "\n",
        "encoder_LSTM = Bidirectional(LSTM(HIDDEN_DIM, return_state=True), merge_mode=\"concat\")\n",
        "encoder_outputs, forward_h, forward_c, backward_c, backward_h = encoder_LSTM(encoder_embedding)\n",
        "state_h = Concatenate()([forward_h, backward_h])\n",
        "state_c = Concatenate()([forward_c, backward_c])\n",
        "encoder_states = [forward_h, forward_c, backward_h, backward_c]\n",
        "\n",
        "\n",
        "# Set up the decoder, using `encoder_states` as initial state.\n",
        "decoder_inputs = Input(shape=(MAX_LEN, ),dtype=\"int32\")\n",
        "decoder_embedding = Embedding(input_dim = DECODING_DEPTH,\n",
        "                            output_dim = embedding_dimension,\n",
        "                            input_length = MAX_LEN,\n",
        "                            weights = [embedding_matrix_decoder],\n",
        "                           trainable = False)(decoder_inputs)\n",
        "decoder_LSTM_1 = Bidirectional(LSTM(HIDDEN_DIM, return_state=False, return_sequences=True), merge_mode=\"concat\")(decoder_embedding, initial_state=encoder_states)\n",
        "decoder_LSTM_2 = Bidirectional(LSTM(HIDDEN_DIM, return_state=False, return_sequences=True), merge_mode=\"concat\")\n",
        "\n",
        "decoder_outputs = decoder_LSTM_2(decoder_LSTM_1)\n",
        "\n",
        "outputs = Dense(DECODING_DEPTH, activation='softmax')(decoder_outputs)\n",
        "model = Model([encoder_inputs, decoder_inputs], outputs)"
      ],
      "execution_count": 59,
      "outputs": [
        {
          "output_type": "stream",
          "text": [
            "encoder tokens 16297\n"
          ],
          "name": "stdout"
        }
      ]
    },
    {
      "cell_type": "markdown",
      "metadata": {
        "id": "70_WyvnKpRGi"
      },
      "source": [
        "## Model -> Both the encoder and the decoder are bidirectional"
      ]
    },
    {
      "cell_type": "code",
      "metadata": {
        "id": "0BiIlX4ZEkTZ",
        "colab": {
          "base_uri": "https://localhost:8080/"
        },
        "outputId": "ad1324cf-2398-47af-c239-fdb26cb38d1d"
      },
      "source": [
        "# num_encoder_tokens = len(tokenizer_user.word_index)+1\n",
        "# num_decoder_tokens = len(lispress_tokenizer.word_index)+1\n",
        "# HIDDEN_DIM = 128\n",
        "\n",
        "# print(\"encoder tokens\",num_encoder_tokens)\n",
        "\n",
        "# # Define an input sequence and process it.\n",
        "# embedding_dimension=100\n",
        "# encoder_inputs = Input(shape=(MAX_LEN, ),dtype=\"int32\")\n",
        "# encoder_embedding = Embedding(input_dim = num_encoder_tokens,\n",
        "#                             output_dim = embedding_dimension,\n",
        "#                             input_length = MAX_LEN,\n",
        "#                             weights = [embedding_matrix_encoder],\n",
        "#                            trainable = False)(encoder_inputs)\n",
        "\n",
        "# encoder_LSTM = Bidirectional(LSTM(HIDDEN_DIM, return_state=True), merge_mode=\"concat\")\n",
        "# encoder_outputs, forward_h, forward_c, backward_c, backward_h = encoder_LSTM(encoder_embedding)\n",
        "# state_h = Concatenate()([forward_h, backward_h])\n",
        "# state_c = Concatenate()([forward_c, backward_c])\n",
        "# encoder_states = [forward_h, forward_c, backward_h, backward_c]\n",
        "\n",
        "\n",
        "# # Set up the decoder, using `encoder_states` as initial state.\n",
        "# decoder_inputs = Input(shape=(MAX_LEN, ),dtype=\"int32\")\n",
        "# decoder_embedding = Embedding(input_dim = DECODING_DEPTH,\n",
        "#                             output_dim = embedding_dimension,\n",
        "#                             input_length = MAX_LEN,\n",
        "#                             weights = [embedding_matrix_decoder],\n",
        "#                            trainable = False)(decoder_inputs)\n",
        "# decoder_LSTM = Bidirectional(LSTM(HIDDEN_DIM, return_state=False, return_sequences=True), merge_mode=\"concat\")\n",
        "\n",
        "\n",
        "# decoder_outputs = decoder_LSTM(decoder_embedding, initial_state=encoder_states)\n",
        "\n",
        "# outputs = Dense(DECODING_DEPTH, activation='softmax')(decoder_outputs)\n",
        "# model = Model([encoder_inputs, decoder_inputs], outputs)"
      ],
      "execution_count": 45,
      "outputs": [
        {
          "output_type": "stream",
          "text": [
            "encoder tokens 16297\n"
          ],
          "name": "stdout"
        }
      ]
    },
    {
      "cell_type": "markdown",
      "metadata": {
        "id": "qKxWBAp2pZGv"
      },
      "source": [
        "## Model -> Only Encoder is bidirectional, decoder is not"
      ]
    },
    {
      "cell_type": "code",
      "metadata": {
        "id": "cxlcSvFhpXmv"
      },
      "source": [
        "# num_encoder_tokens = len(tokenizer_user.word_index)+1\n",
        "# num_decoder_tokens = len(lispress_tokenizer.word_index)+1\n",
        "# HIDDEN_DIM = 128\n",
        "\n",
        "# print(\"encoder tokens\",num_encoder_tokens)\n",
        "\n",
        "# # Define an input sequence and process it.\n",
        "# embedding_dimension=100\n",
        "# encoder_inputs = Input(shape=(MAX_LEN, ),dtype=\"int32\")\n",
        "# encoder_embedding = Embedding(input_dim = num_encoder_tokens,\n",
        "#                             output_dim = embedding_dimension,\n",
        "#                             input_length = MAX_LEN,\n",
        "#                             weights = [embedding_matrix_encoder],\n",
        "#                            trainable = False)(encoder_inputs)\n",
        "\n",
        "# encoder_LSTM = Bidirectional(LSTM(HIDDEN_DIM, return_state=True), merge_mode=\"concat\")\n",
        "# encoder_outputs, forward_h, forward_c, backward_c, backward_h = encoder_LSTM(encoder_embedding)\n",
        "# state_h = Concatenate()([forward_h, backward_h])\n",
        "# state_c = Concatenate()([forward_c, backward_c])\n",
        "\n",
        "\n",
        "# # Set up the decoder, using `encoder_states` as initial state.\n",
        "# decoder_inputs = Input(shape=(MAX_LEN, ),dtype=\"int32\")\n",
        "# decoder_embedding = Embedding(input_dim = DECODING_DEPTH,\n",
        "#                             output_dim = embedding_dimension,\n",
        "#                             input_length = MAX_LEN,\n",
        "#                             weights = [embedding_matrix_decoder],\n",
        "#                            trainable = False)(decoder_inputs)\n",
        "\n",
        "# decoder_LSTM = LSTM(HIDDEN_DIM*2, return_state=True, return_sequences=True)\n",
        "\n",
        "\n",
        "# decoder_outputs, _, _ = decoder_LSTM(decoder_embedding, initial_state=[state_h, state_c])\n",
        "\n",
        "# outputs = Dense(DECODING_DEPTH, activation='softmax')(decoder_outputs)\n",
        "# model = Model([encoder_inputs, decoder_inputs], outputs)"
      ],
      "execution_count": null,
      "outputs": []
    },
    {
      "cell_type": "code",
      "metadata": {
        "id": "fptmKlxHEkTc",
        "colab": {
          "base_uri": "https://localhost:8080/"
        },
        "outputId": "4c1e5b3a-2523-494d-a0bf-124cc1cf84c2"
      },
      "source": [
        "model.summary()"
      ],
      "execution_count": 60,
      "outputs": [
        {
          "output_type": "stream",
          "text": [
            "Model: \"functional_3\"\n",
            "__________________________________________________________________________________________________\n",
            "Layer (type)                    Output Shape         Param #     Connected to                     \n",
            "==================================================================================================\n",
            "input_3 (InputLayer)            [(None, 50)]         0                                            \n",
            "__________________________________________________________________________________________________\n",
            "input_4 (InputLayer)            [(None, 50)]         0                                            \n",
            "__________________________________________________________________________________________________\n",
            "embedding_2 (Embedding)         (None, 50, 100)      1629700     input_3[0][0]                    \n",
            "__________________________________________________________________________________________________\n",
            "embedding_3 (Embedding)         (None, 50, 100)      1193200     input_4[0][0]                    \n",
            "__________________________________________________________________________________________________\n",
            "bidirectional_2 (Bidirectional) [(None, 256), (None, 234496      embedding_2[0][0]                \n",
            "__________________________________________________________________________________________________\n",
            "bidirectional_3 (Bidirectional) (None, 50, 256)      234496      embedding_3[0][0]                \n",
            "                                                                 bidirectional_2[0][1]            \n",
            "                                                                 bidirectional_2[0][2]            \n",
            "                                                                 bidirectional_2[0][4]            \n",
            "                                                                 bidirectional_2[0][3]            \n",
            "__________________________________________________________________________________________________\n",
            "bidirectional_4 (Bidirectional) (None, 50, 256)      394240      bidirectional_3[0][0]            \n",
            "__________________________________________________________________________________________________\n",
            "dense_1 (Dense)                 (None, 50, 11932)    3066524     bidirectional_4[0][0]            \n",
            "==================================================================================================\n",
            "Total params: 6,752,656\n",
            "Trainable params: 3,929,756\n",
            "Non-trainable params: 2,822,900\n",
            "__________________________________________________________________________________________________\n"
          ],
          "name": "stdout"
        }
      ]
    },
    {
      "cell_type": "code",
      "metadata": {
        "id": "VYQckyUKEkTf"
      },
      "source": [
        "model.compile(optimizer=\"adam\",loss=\"categorical_crossentropy\")"
      ],
      "execution_count": 72,
      "outputs": []
    },
    {
      "cell_type": "code",
      "metadata": {
        "id": "Nxb68hvlhLCg"
      },
      "source": [
        "decoder_train_data = None\n",
        "decoder_valid_data = None\n",
        "decoder_test_data = None"
      ],
      "execution_count": 62,
      "outputs": []
    },
    {
      "cell_type": "code",
      "metadata": {
        "id": "r_nU1y8dsMr-"
      },
      "source": [
        "class DataGenerator(tf.keras.utils.Sequence):\n",
        "    def __init__(self, input, batch_size=32, num_classes=None, shuffle=False):\n",
        "        self.batch_size = batch_size\n",
        "        self.input = input\n",
        "        self.indices = list(range(len(input[0])))\n",
        "        self.num_classes = num_classes\n",
        "        self.shuffle = shuffle\n",
        "        self.on_epoch_end()\n",
        "\n",
        "    def __len__(self):\n",
        "        return len(self.indices) // self.batch_size\n",
        "\n",
        "    def __getitem__(self, index):\n",
        "        index = self.index[index * self.batch_size:(index + 1) * self.batch_size]\n",
        "        batch = [self.indices[k] for k in index]\n",
        "        \n",
        "        X, y = self.__get_data(batch)\n",
        "        return X, y\n",
        "\n",
        "    def on_epoch_end(self):\n",
        "        self.index = np.arange(len(self.indices))\n",
        "        if self.shuffle == True:\n",
        "            np.random.shuffle(self.index)\n",
        "\n",
        "    def __get_data(self, batch):\n",
        "        #print(batch[0],batch[-1])\n",
        "        encoder = np.array(self.input[0][batch[0]:batch[-1]+1])\n",
        "        decoder = np.array(self.input[1][batch[0]:batch[-1]+1])\n",
        "        X = [encoder,decoder]\n",
        "        #print(X)\n",
        "        y = decoder_output_creater(self.input[2][batch[0]:batch[-1]+1],len(batch),MAX_LEN,DECODING_DEPTH)\n",
        "\n",
        "        return X, y\n"
      ],
      "execution_count": 63,
      "outputs": []
    },
    {
      "cell_type": "code",
      "metadata": {
        "id": "id1wHIsPEkTi"
      },
      "source": [
        "#encoder_train_data = decoder_output_creater(encoder_train,10,MAX_LEN,num_encoder_tokens)\n",
        "\n",
        "\n",
        "#decoder_train_data = decoder_output_creater(decoder_train,len(decoder_train),MAX_LEN,DECODING_DEPTH)\n",
        "\n",
        "#encoder_valid_data = decoder_output_creater(encoder_valid,10,MAX_LEN,num_encoder_tokens)\n",
        "#decoder_valid_data = decoder_output_creater(decoder_valid,len(decoder_valid),MAX_LEN,DECODING_DEPTH)\n",
        "\n",
        "decoder_test_data = decoder_output_creater(decoder_test,len(decoder_test),MAX_LEN,DECODING_DEPTH)"
      ],
      "execution_count": 64,
      "outputs": []
    },
    {
      "cell_type": "code",
      "metadata": {
        "id": "YUbBPHeS1UFw",
        "colab": {
          "base_uri": "https://localhost:8080/"
        },
        "outputId": "699a61b0-2631-4980-da6d-afc799462f15"
      },
      "source": [
        "import sys\n",
        "sys.getsizeof(decoder_train_data)/1024/1024/1024\n"
      ],
      "execution_count": 65,
      "outputs": [
        {
          "output_type": "execute_result",
          "data": {
            "text/plain": [
              "1.4901161193847656e-08"
            ]
          },
          "metadata": {
            "tags": []
          },
          "execution_count": 65
        }
      ]
    },
    {
      "cell_type": "code",
      "metadata": {
        "id": "uZPSdmeUEkTl",
        "colab": {
          "base_uri": "https://localhost:8080/"
        },
        "outputId": "46037984-0fd2-4ce9-8d3e-dced283e87fa"
      },
      "source": [
        "#model.fit([encoder_train,decoder_train_input],decoder_train_data,\n",
        "#         batch_size=3,epochs=10,validation_data=([encoder_valid,decoder_valid_input],decoder_valid_data))\n",
        "batch_size = 100\n",
        "\n",
        "model.fit(DataGenerator([encoder_train,decoder_train_input,decoder_train],batch_size=batch_size),\n",
        "         batch_size=batch_size,epochs=20,validation_data=DataGenerator([encoder_valid,decoder_valid_input,decoder_valid],batch_size=batch_size))"
      ],
      "execution_count": 73,
      "outputs": [
        {
          "output_type": "stream",
          "text": [
            "Epoch 1/20\n",
            "1338/1338 [==============================] - 335s 250ms/step - loss: 0.6382 - val_loss: 0.6918\n",
            "Epoch 2/20\n",
            "1338/1338 [==============================] - 329s 246ms/step - loss: 0.6116 - val_loss: 0.6819\n",
            "Epoch 3/20\n",
            "1338/1338 [==============================] - 323s 241ms/step - loss: 0.5908 - val_loss: 0.6685\n",
            "Epoch 4/20\n",
            "1338/1338 [==============================] - 327s 244ms/step - loss: 0.5691 - val_loss: 0.6606\n",
            "Epoch 5/20\n",
            "1338/1338 [==============================] - 324s 242ms/step - loss: 0.5521 - val_loss: 0.6617\n",
            "Epoch 6/20\n",
            "1338/1338 [==============================] - 323s 242ms/step - loss: 0.5367 - val_loss: 0.6642\n",
            "Epoch 7/20\n",
            "1338/1338 [==============================] - 326s 243ms/step - loss: 0.5231 - val_loss: 0.6479\n",
            "Epoch 8/20\n",
            "1338/1338 [==============================] - 327s 245ms/step - loss: 0.5078 - val_loss: 0.6572\n",
            "Epoch 9/20\n",
            "1338/1338 [==============================] - 327s 245ms/step - loss: 0.4973 - val_loss: 0.6563\n",
            "Epoch 10/20\n",
            "1338/1338 [==============================] - 326s 243ms/step - loss: 0.4834 - val_loss: 0.6465\n",
            "Epoch 11/20\n",
            "1338/1338 [==============================] - 329s 246ms/step - loss: 0.4709 - val_loss: 0.6523\n",
            "Epoch 12/20\n",
            "1338/1338 [==============================] - 330s 247ms/step - loss: 0.4589 - val_loss: 0.6577\n",
            "Epoch 13/20\n",
            "1338/1338 [==============================] - 330s 246ms/step - loss: 0.4492 - val_loss: 0.6457\n",
            "Epoch 14/20\n",
            "1338/1338 [==============================] - 329s 246ms/step - loss: 0.4387 - val_loss: 0.6532\n",
            "Epoch 15/20\n",
            "1338/1338 [==============================] - 331s 247ms/step - loss: 0.4315 - val_loss: 0.6570\n",
            "Epoch 16/20\n",
            "1338/1338 [==============================] - 332s 248ms/step - loss: 0.4224 - val_loss: 0.6695\n",
            "Epoch 17/20\n",
            "1338/1338 [==============================] - 331s 247ms/step - loss: 0.4174 - val_loss: 0.6529\n",
            "Epoch 18/20\n",
            "1338/1338 [==============================] - 330s 246ms/step - loss: 0.4049 - val_loss: 0.6529\n",
            "Epoch 19/20\n",
            "1338/1338 [==============================] - 331s 247ms/step - loss: 0.3994 - val_loss: 0.6605\n",
            "Epoch 20/20\n",
            "1338/1338 [==============================] - 329s 246ms/step - loss: 0.3930 - val_loss: 0.6835\n"
          ],
          "name": "stdout"
        },
        {
          "output_type": "execute_result",
          "data": {
            "text/plain": [
              "<tensorflow.python.keras.callbacks.History at 0x7f10b586c4e0>"
            ]
          },
          "metadata": {
            "tags": []
          },
          "execution_count": 73
        }
      ]
    },
    {
      "cell_type": "code",
      "metadata": {
        "id": "ZhRtWniqEkTn"
      },
      "source": [
        "pred = model.predict(([encoder_test,decoder_test_input],decoder_test))"
      ],
      "execution_count": 74,
      "outputs": []
    },
    {
      "cell_type": "code",
      "metadata": {
        "id": "SEY3YaDlKuun",
        "colab": {
          "base_uri": "https://localhost:8080/",
          "height": 36
        },
        "outputId": "019ce72c-65fb-40c0-bb24-733d1340cdf0"
      },
      "source": [
        "lispress_tokenizer.index_word[np.argmax(pred[0][0])]"
      ],
      "execution_count": 75,
      "outputs": [
        {
          "output_type": "execute_result",
          "data": {
            "application/vnd.google.colaboratory.intrinsic+json": {
              "type": "string"
            },
            "text/plain": [
              "'yield'"
            ]
          },
          "metadata": {
            "tags": []
          },
          "execution_count": 75
        }
      ]
    },
    {
      "cell_type": "code",
      "metadata": {
        "id": "TNwD9sDuLHhZ"
      },
      "source": [
        "def extract_lispress_from_pred(pred,tokenizer):\n",
        "  lines = []\n",
        "  for p in pred:\n",
        "    line = [tokenizer.index_word[np.argmax(vec)] if np.argmax(vec) > 0 else \"UNKNOWN\" for vec in p ]\n",
        "    #codes = line = [np.argmax(vec) for vec in p ]\n",
        "    #print(codes)\n",
        "    lines.append(line)\n",
        "  return lines\n",
        "  "
      ],
      "execution_count": 77,
      "outputs": []
    },
    {
      "cell_type": "code",
      "metadata": {
        "id": "QUEhugmRL66R"
      },
      "source": [
        "programs = extract_lispress_from_pred(pred,lispress_tokenizer)"
      ],
      "execution_count": 78,
      "outputs": []
    },
    {
      "cell_type": "code",
      "metadata": {
        "id": "5Sj3jqhEL_HW",
        "colab": {
          "base_uri": "https://localhost:8080/"
        },
        "outputId": "18544380-11e2-4682-c49d-5cea9b798253"
      },
      "source": [
        "for pred,truesent in zip(programs[:][:20],extract_lispress_from_pred(decoder_test_data,lispress_tokenizer)[:][:20]):\n",
        "  for pred_word, true_word in zip(pred,truesent):\n",
        "    print(pred_word,true_word)\n",
        "  print(\"----------------------\")"
      ],
      "execution_count": 79,
      "outputs": [
        {
          "output_type": "stream",
          "text": [
            "yield UNKNOWN\n",
            "yield yield\n",
            "output output\n",
            "findeventwrapperwithdefaults findeventwrapperwithdefaults\n",
            "constraint constraint\n",
            "constraint constraint\n",
            "event event\n",
            "eos eos\n",
            "UNKNOWN UNKNOWN\n",
            "UNKNOWN UNKNOWN\n",
            "UNKNOWN UNKNOWN\n",
            "UNKNOWN UNKNOWN\n",
            "UNKNOWN UNKNOWN\n",
            "UNKNOWN UNKNOWN\n",
            "UNKNOWN UNKNOWN\n",
            "UNKNOWN UNKNOWN\n",
            "UNKNOWN UNKNOWN\n",
            "UNKNOWN UNKNOWN\n",
            "UNKNOWN UNKNOWN\n",
            "UNKNOWN UNKNOWN\n",
            "UNKNOWN UNKNOWN\n",
            "UNKNOWN UNKNOWN\n",
            "UNKNOWN UNKNOWN\n",
            "UNKNOWN UNKNOWN\n",
            "UNKNOWN UNKNOWN\n",
            "UNKNOWN UNKNOWN\n",
            "UNKNOWN UNKNOWN\n",
            "UNKNOWN UNKNOWN\n",
            "UNKNOWN UNKNOWN\n",
            "UNKNOWN UNKNOWN\n",
            "UNKNOWN UNKNOWN\n",
            "UNKNOWN UNKNOWN\n",
            "UNKNOWN UNKNOWN\n",
            "UNKNOWN UNKNOWN\n",
            "UNKNOWN UNKNOWN\n",
            "UNKNOWN UNKNOWN\n",
            "UNKNOWN UNKNOWN\n",
            "UNKNOWN UNKNOWN\n",
            "UNKNOWN UNKNOWN\n",
            "UNKNOWN UNKNOWN\n",
            "UNKNOWN UNKNOWN\n",
            "UNKNOWN UNKNOWN\n",
            "UNKNOWN UNKNOWN\n",
            "UNKNOWN UNKNOWN\n",
            "UNKNOWN UNKNOWN\n",
            "UNKNOWN UNKNOWN\n",
            "UNKNOWN UNKNOWN\n",
            "UNKNOWN UNKNOWN\n",
            "UNKNOWN UNKNOWN\n",
            "UNKNOWN UNKNOWN\n",
            "----------------------\n",
            "yield UNKNOWN\n",
            "yield yield\n",
            "output output\n",
            "nextholidayfromtoday findeventwrapperwithdefaults\n",
            "eos constraint\n",
            "UNKNOWN constraint\n",
            "event event\n",
            "eos eos\n",
            "UNKNOWN UNKNOWN\n",
            "UNKNOWN UNKNOWN\n",
            "UNKNOWN UNKNOWN\n",
            "UNKNOWN UNKNOWN\n",
            "UNKNOWN UNKNOWN\n",
            "UNKNOWN UNKNOWN\n",
            "UNKNOWN UNKNOWN\n",
            "UNKNOWN UNKNOWN\n",
            "UNKNOWN UNKNOWN\n",
            "UNKNOWN UNKNOWN\n",
            "UNKNOWN UNKNOWN\n",
            "UNKNOWN UNKNOWN\n",
            "UNKNOWN UNKNOWN\n",
            "UNKNOWN UNKNOWN\n",
            "UNKNOWN UNKNOWN\n",
            "UNKNOWN UNKNOWN\n",
            "UNKNOWN UNKNOWN\n",
            "UNKNOWN UNKNOWN\n",
            "UNKNOWN UNKNOWN\n",
            "UNKNOWN UNKNOWN\n",
            "UNKNOWN UNKNOWN\n",
            "UNKNOWN UNKNOWN\n",
            "UNKNOWN UNKNOWN\n",
            "UNKNOWN UNKNOWN\n",
            "UNKNOWN UNKNOWN\n",
            "UNKNOWN UNKNOWN\n",
            "UNKNOWN UNKNOWN\n",
            "UNKNOWN UNKNOWN\n",
            "UNKNOWN UNKNOWN\n",
            "UNKNOWN UNKNOWN\n",
            "UNKNOWN UNKNOWN\n",
            "UNKNOWN UNKNOWN\n",
            "UNKNOWN UNKNOWN\n",
            "UNKNOWN UNKNOWN\n",
            "UNKNOWN UNKNOWN\n",
            "UNKNOWN UNKNOWN\n",
            "UNKNOWN UNKNOWN\n",
            "UNKNOWN UNKNOWN\n",
            "UNKNOWN UNKNOWN\n",
            "UNKNOWN UNKNOWN\n",
            "UNKNOWN UNKNOWN\n",
            "UNKNOWN UNKNOWN\n",
            "----------------------\n",
            "yield UNKNOWN\n",
            "yield yield\n",
            "output output\n",
            "createcommiteventwrapper createcommiteventwrapper\n",
            "event event\n",
            "createpreflighteventwrapper createpreflighteventwrapper\n",
            "constraint constraint\n",
            "constraint constraint\n",
            "event event\n",
            "start start\n",
            "nexttime nexttime\n",
            "time time\n",
            "numberam numberpm\n",
            "number number\n",
            "number number\n",
            "number 6\n",
            "0 eos\n",
            "UNKNOWN UNKNOWN\n",
            "UNKNOWN UNKNOWN\n",
            "UNKNOWN UNKNOWN\n",
            "UNKNOWN UNKNOWN\n",
            "UNKNOWN UNKNOWN\n",
            "UNKNOWN UNKNOWN\n",
            "UNKNOWN UNKNOWN\n",
            "UNKNOWN UNKNOWN\n",
            "UNKNOWN UNKNOWN\n",
            "UNKNOWN UNKNOWN\n",
            "UNKNOWN UNKNOWN\n",
            "UNKNOWN UNKNOWN\n",
            "UNKNOWN UNKNOWN\n",
            "UNKNOWN UNKNOWN\n",
            "UNKNOWN UNKNOWN\n",
            "UNKNOWN UNKNOWN\n",
            "UNKNOWN UNKNOWN\n",
            "UNKNOWN UNKNOWN\n",
            "UNKNOWN UNKNOWN\n",
            "UNKNOWN UNKNOWN\n",
            "UNKNOWN UNKNOWN\n",
            "UNKNOWN UNKNOWN\n",
            "UNKNOWN UNKNOWN\n",
            "UNKNOWN UNKNOWN\n",
            "UNKNOWN UNKNOWN\n",
            "UNKNOWN UNKNOWN\n",
            "UNKNOWN UNKNOWN\n",
            "UNKNOWN UNKNOWN\n",
            "UNKNOWN UNKNOWN\n",
            "UNKNOWN UNKNOWN\n",
            "UNKNOWN UNKNOWN\n",
            "UNKNOWN UNKNOWN\n",
            "UNKNOWN UNKNOWN\n",
            "----------------------\n",
            "yield UNKNOWN\n",
            "yield yield\n",
            "output output\n",
            "execute execute\n",
            "intension intension\n",
            "reviseconstraint reviseconstraint\n",
            "rootlocation rootlocation\n",
            "roleconstraint roleconstraint\n",
            "path path\n",
            "output output\n",
            "oldlocation oldlocation\n",
            "constraint constraint\n",
            "constraint constraint\n",
            "event event\n",
            "new new\n",
            "constraint constraint\n",
            "event event\n",
            "end start\n",
            "constraint constraint\n",
            "datetime datetime\n",
            "time time\n",
            "numberpm numberpm\n",
            "number number\n",
            "number number\n",
            "11 9\n",
            "eos eos\n",
            "UNKNOWN UNKNOWN\n",
            "UNKNOWN UNKNOWN\n",
            "UNKNOWN UNKNOWN\n",
            "UNKNOWN UNKNOWN\n",
            "UNKNOWN UNKNOWN\n",
            "UNKNOWN UNKNOWN\n",
            "UNKNOWN UNKNOWN\n",
            "UNKNOWN UNKNOWN\n",
            "UNKNOWN UNKNOWN\n",
            "UNKNOWN UNKNOWN\n",
            "UNKNOWN UNKNOWN\n",
            "UNKNOWN UNKNOWN\n",
            "UNKNOWN UNKNOWN\n",
            "UNKNOWN UNKNOWN\n",
            "UNKNOWN UNKNOWN\n",
            "UNKNOWN UNKNOWN\n",
            "UNKNOWN UNKNOWN\n",
            "UNKNOWN UNKNOWN\n",
            "UNKNOWN UNKNOWN\n",
            "UNKNOWN UNKNOWN\n",
            "UNKNOWN UNKNOWN\n",
            "UNKNOWN UNKNOWN\n",
            "UNKNOWN UNKNOWN\n",
            "UNKNOWN UNKNOWN\n",
            "----------------------\n",
            "yield UNKNOWN\n",
            "yield yield\n",
            "output output\n",
            "execute execute\n",
            "intension intension\n",
            "reviseconstraint reviseconstraint\n",
            "rootlocation rootlocation\n",
            "roleconstraint roleconstraint\n",
            "path path\n",
            "output output\n",
            "oldlocation oldlocation\n",
            "constraint constraint\n",
            "constraint constraint\n",
            "event event\n",
            "new new\n",
            "constraint constraint\n",
            "event event\n",
            "start start\n",
            "constraint constraint\n",
            "datetime datetime\n",
            "time time\n",
            "numberam numberpm\n",
            "number number\n",
            "number number\n",
            "10 10\n",
            "0 0\n",
            "eos eos\n",
            "UNKNOWN UNKNOWN\n",
            "UNKNOWN UNKNOWN\n",
            "UNKNOWN UNKNOWN\n",
            "UNKNOWN UNKNOWN\n",
            "UNKNOWN UNKNOWN\n",
            "UNKNOWN UNKNOWN\n",
            "UNKNOWN UNKNOWN\n",
            "UNKNOWN UNKNOWN\n",
            "UNKNOWN UNKNOWN\n",
            "UNKNOWN UNKNOWN\n",
            "UNKNOWN UNKNOWN\n",
            "UNKNOWN UNKNOWN\n",
            "UNKNOWN UNKNOWN\n",
            "UNKNOWN UNKNOWN\n",
            "UNKNOWN UNKNOWN\n",
            "UNKNOWN UNKNOWN\n",
            "UNKNOWN UNKNOWN\n",
            "UNKNOWN UNKNOWN\n",
            "UNKNOWN UNKNOWN\n",
            "UNKNOWN UNKNOWN\n",
            "UNKNOWN UNKNOWN\n",
            "UNKNOWN UNKNOWN\n",
            "UNKNOWN UNKNOWN\n",
            "----------------------\n",
            "yield UNKNOWN\n",
            "yield yield\n",
            "output output\n",
            "execute execute\n",
            "intension intension\n",
            "reviseconstraint reviseconstraint\n",
            "rootlocation rootlocation\n",
            "roleconstraint roleconstraint\n",
            "path path\n",
            "output output\n",
            "oldlocation oldlocation\n",
            "constraint constraint\n",
            "constraint constraint\n",
            "event event\n",
            "new new\n",
            "constraint constraint\n",
            "event event\n",
            "start end\n",
            "constraint constraint\n",
            "datetime datetime\n",
            "time time\n",
            "numberpm numberpm\n",
            "number number\n",
            "number number\n",
            "intension 11\n",
            "refer eos\n",
            "UNKNOWN UNKNOWN\n",
            "UNKNOWN UNKNOWN\n",
            "UNKNOWN UNKNOWN\n",
            "UNKNOWN UNKNOWN\n",
            "UNKNOWN UNKNOWN\n",
            "UNKNOWN UNKNOWN\n",
            "UNKNOWN UNKNOWN\n",
            "UNKNOWN UNKNOWN\n",
            "UNKNOWN UNKNOWN\n",
            "UNKNOWN UNKNOWN\n",
            "UNKNOWN UNKNOWN\n",
            "UNKNOWN UNKNOWN\n",
            "UNKNOWN UNKNOWN\n",
            "UNKNOWN UNKNOWN\n",
            "UNKNOWN UNKNOWN\n",
            "UNKNOWN UNKNOWN\n",
            "UNKNOWN UNKNOWN\n",
            "UNKNOWN UNKNOWN\n",
            "UNKNOWN UNKNOWN\n",
            "UNKNOWN UNKNOWN\n",
            "UNKNOWN UNKNOWN\n",
            "UNKNOWN UNKNOWN\n",
            "UNKNOWN UNKNOWN\n",
            "UNKNOWN UNKNOWN\n",
            "----------------------\n",
            "let UNKNOWN\n",
            "let let\n",
            "x0 x0\n",
            "nextdow nextdow\n",
            "dow dow\n",
            "dayofweek dayofweek\n",
            "friday thursday\n",
            "week yield\n",
            "output output\n",
            "createcommiteventwrapper createcommiteventwrapper\n",
            "event event\n",
            "createcommiteventwrapper createpreflighteventwrapper\n",
            "constraint constraint\n",
            "createpreflighteventwrapper eventalldayfordaterange\n",
            "constraint daterange\n",
            "eventalldayfordaterange dateandconstraint\n",
            "dateandconstraint date1\n",
            "dateandconstraint x0\n",
            "date1 date2\n",
            "date1 nextdayofweek\n",
            "date2 x0\n",
            "nextdayofweek dayofweek\n",
            "nextdayofweek monday\n",
            "dayofweek event\n",
            "event constraint\n",
            "event event\n",
            "constraint subject\n",
            "event string\n",
            "subject visit\n",
            "string from\n",
            "UNKNOWN my\n",
            "UNKNOWN in\n",
            "UNKNOWN laws\n",
            "UNKNOWN eos\n",
            "UNKNOWN UNKNOWN\n",
            "UNKNOWN UNKNOWN\n",
            "UNKNOWN UNKNOWN\n",
            "UNKNOWN UNKNOWN\n",
            "UNKNOWN UNKNOWN\n",
            "UNKNOWN UNKNOWN\n",
            "UNKNOWN UNKNOWN\n",
            "UNKNOWN UNKNOWN\n",
            "UNKNOWN UNKNOWN\n",
            "UNKNOWN UNKNOWN\n",
            "UNKNOWN UNKNOWN\n",
            "UNKNOWN UNKNOWN\n",
            "UNKNOWN UNKNOWN\n",
            "UNKNOWN UNKNOWN\n",
            "UNKNOWN UNKNOWN\n",
            "UNKNOWN UNKNOWN\n",
            "----------------------\n",
            "do UNKNOWN\n",
            "yield yield\n",
            "output output\n",
            "execute execute\n",
            "intension intension\n",
            "confirmandreturnaction confirmandreturnaction\n",
            "eos eos\n",
            "UNKNOWN UNKNOWN\n",
            "UNKNOWN UNKNOWN\n",
            "UNKNOWN UNKNOWN\n",
            "UNKNOWN UNKNOWN\n",
            "UNKNOWN UNKNOWN\n",
            "UNKNOWN UNKNOWN\n",
            "UNKNOWN UNKNOWN\n",
            "UNKNOWN UNKNOWN\n",
            "UNKNOWN UNKNOWN\n",
            "UNKNOWN UNKNOWN\n",
            "UNKNOWN UNKNOWN\n",
            "UNKNOWN UNKNOWN\n",
            "UNKNOWN UNKNOWN\n",
            "UNKNOWN UNKNOWN\n",
            "UNKNOWN UNKNOWN\n",
            "UNKNOWN UNKNOWN\n",
            "UNKNOWN UNKNOWN\n",
            "UNKNOWN UNKNOWN\n",
            "UNKNOWN UNKNOWN\n",
            "UNKNOWN UNKNOWN\n",
            "UNKNOWN UNKNOWN\n",
            "UNKNOWN UNKNOWN\n",
            "UNKNOWN UNKNOWN\n",
            "UNKNOWN UNKNOWN\n",
            "UNKNOWN UNKNOWN\n",
            "UNKNOWN UNKNOWN\n",
            "UNKNOWN UNKNOWN\n",
            "UNKNOWN UNKNOWN\n",
            "UNKNOWN UNKNOWN\n",
            "UNKNOWN UNKNOWN\n",
            "UNKNOWN UNKNOWN\n",
            "UNKNOWN UNKNOWN\n",
            "UNKNOWN UNKNOWN\n",
            "UNKNOWN UNKNOWN\n",
            "UNKNOWN UNKNOWN\n",
            "UNKNOWN UNKNOWN\n",
            "UNKNOWN UNKNOWN\n",
            "UNKNOWN UNKNOWN\n",
            "UNKNOWN UNKNOWN\n",
            "UNKNOWN UNKNOWN\n",
            "UNKNOWN UNKNOWN\n",
            "UNKNOWN UNKNOWN\n",
            "UNKNOWN UNKNOWN\n",
            "----------------------\n",
            "yield UNKNOWN\n",
            "yield yield\n",
            "output output\n",
            "createcommiteventwrapper createcommiteventwrapper\n",
            "event event\n",
            "createpreflighteventwrapper createpreflighteventwrapper\n",
            "constraint constraint\n",
            "eventalldaystartingdateforperiod eventalldaystartingdateforperiod\n",
            "event event\n",
            "constraint constraint\n",
            "event event\n",
            "period period\n",
            "todays todays\n",
            "number number\n",
            "3 10\n",
            "startdate 0\n",
            "number startdate\n",
            "tomorrow tomorrow\n",
            "UNKNOWN eos\n",
            "UNKNOWN UNKNOWN\n",
            "UNKNOWN UNKNOWN\n",
            "UNKNOWN UNKNOWN\n",
            "UNKNOWN UNKNOWN\n",
            "UNKNOWN UNKNOWN\n",
            "UNKNOWN UNKNOWN\n",
            "UNKNOWN UNKNOWN\n",
            "UNKNOWN UNKNOWN\n",
            "UNKNOWN UNKNOWN\n",
            "UNKNOWN UNKNOWN\n",
            "UNKNOWN UNKNOWN\n",
            "UNKNOWN UNKNOWN\n",
            "UNKNOWN UNKNOWN\n",
            "UNKNOWN UNKNOWN\n",
            "UNKNOWN UNKNOWN\n",
            "UNKNOWN UNKNOWN\n",
            "UNKNOWN UNKNOWN\n",
            "UNKNOWN UNKNOWN\n",
            "UNKNOWN UNKNOWN\n",
            "UNKNOWN UNKNOWN\n",
            "UNKNOWN UNKNOWN\n",
            "UNKNOWN UNKNOWN\n",
            "UNKNOWN UNKNOWN\n",
            "UNKNOWN UNKNOWN\n",
            "UNKNOWN UNKNOWN\n",
            "UNKNOWN UNKNOWN\n",
            "UNKNOWN UNKNOWN\n",
            "UNKNOWN UNKNOWN\n",
            "UNKNOWN UNKNOWN\n",
            "UNKNOWN UNKNOWN\n",
            "UNKNOWN UNKNOWN\n",
            "----------------------\n",
            "yield UNKNOWN\n",
            "yield yield\n",
            "output output\n",
            "execute execute\n",
            "intension intension\n",
            "reviseconstraint reviseconstraint\n",
            "rootlocation rootlocation\n",
            "roleconstraint roleconstraint\n",
            "path path\n",
            "output output\n",
            "oldlocation oldlocation\n",
            "constraint constraint\n",
            "constraint constraint\n",
            "event event\n",
            "new new\n",
            "eventalldaystartingdateforperiod eventalldaystartingdateforperiod\n",
            "event event\n",
            "start constraint\n",
            "constraint event\n",
            "period period\n",
            "todays todays\n",
            "period number\n",
            "todays 7\n",
            "startdate startdate\n",
            "execute execute\n",
            "intension intension\n",
            "refer refer\n",
            "extensionconstraint andconstraint\n",
            "UNKNOWN roleconstraint\n",
            "append append\n",
            "list list\n",
            "path path\n",
            "path path\n",
            "start start\n",
            "UNKNOWN extensionconstraint\n",
            "UNKNOWN constraint\n",
            "UNKNOWN date\n",
            "UNKNOWN eos\n",
            "UNKNOWN UNKNOWN\n",
            "UNKNOWN UNKNOWN\n",
            "UNKNOWN UNKNOWN\n",
            "UNKNOWN UNKNOWN\n",
            "UNKNOWN UNKNOWN\n",
            "UNKNOWN UNKNOWN\n",
            "UNKNOWN UNKNOWN\n",
            "UNKNOWN UNKNOWN\n",
            "UNKNOWN UNKNOWN\n",
            "UNKNOWN UNKNOWN\n",
            "UNKNOWN UNKNOWN\n",
            "UNKNOWN UNKNOWN\n",
            "----------------------\n",
            "yield UNKNOWN\n",
            "yield yield\n",
            "output output\n",
            "execute execute\n",
            "intension intension\n",
            "confirmandreturnaction confirmandreturnaction\n",
            "eos eos\n",
            "UNKNOWN UNKNOWN\n",
            "UNKNOWN UNKNOWN\n",
            "UNKNOWN UNKNOWN\n",
            "UNKNOWN UNKNOWN\n",
            "UNKNOWN UNKNOWN\n",
            "UNKNOWN UNKNOWN\n",
            "UNKNOWN UNKNOWN\n",
            "UNKNOWN UNKNOWN\n",
            "UNKNOWN UNKNOWN\n",
            "UNKNOWN UNKNOWN\n",
            "UNKNOWN UNKNOWN\n",
            "UNKNOWN UNKNOWN\n",
            "UNKNOWN UNKNOWN\n",
            "UNKNOWN UNKNOWN\n",
            "UNKNOWN UNKNOWN\n",
            "UNKNOWN UNKNOWN\n",
            "UNKNOWN UNKNOWN\n",
            "UNKNOWN UNKNOWN\n",
            "UNKNOWN UNKNOWN\n",
            "UNKNOWN UNKNOWN\n",
            "UNKNOWN UNKNOWN\n",
            "UNKNOWN UNKNOWN\n",
            "UNKNOWN UNKNOWN\n",
            "UNKNOWN UNKNOWN\n",
            "UNKNOWN UNKNOWN\n",
            "UNKNOWN UNKNOWN\n",
            "UNKNOWN UNKNOWN\n",
            "UNKNOWN UNKNOWN\n",
            "UNKNOWN UNKNOWN\n",
            "UNKNOWN UNKNOWN\n",
            "UNKNOWN UNKNOWN\n",
            "UNKNOWN UNKNOWN\n",
            "UNKNOWN UNKNOWN\n",
            "UNKNOWN UNKNOWN\n",
            "UNKNOWN UNKNOWN\n",
            "UNKNOWN UNKNOWN\n",
            "UNKNOWN UNKNOWN\n",
            "UNKNOWN UNKNOWN\n",
            "UNKNOWN UNKNOWN\n",
            "UNKNOWN UNKNOWN\n",
            "UNKNOWN UNKNOWN\n",
            "UNKNOWN UNKNOWN\n",
            "UNKNOWN UNKNOWN\n",
            "----------------------\n",
            "yield UNKNOWN\n",
            "yield yield\n",
            "output output\n",
            "createcommiteventwrapper createcommiteventwrapper\n",
            "event event\n",
            "createpreflighteventwrapper createpreflighteventwrapper\n",
            "constraint constraint\n",
            "constraint constraint\n",
            "event event\n",
            "start start\n",
            "dateattimewithdefaults dateattimewithdefaults\n",
            "date date\n",
            "nextdow nextdow\n",
            "dow dow\n",
            "dayofweek dayofweek\n",
            "saturday friday\n",
            "time time\n",
            "numberpm numberpm\n",
            "number number\n",
            "number number\n",
            "7 8\n",
            "subject subject\n",
            "number string\n",
            "comedy fortnite\n",
            "subject battle\n",
            "string royale\n",
            "string contest\n",
            "eos eos\n",
            "UNKNOWN UNKNOWN\n",
            "UNKNOWN UNKNOWN\n",
            "UNKNOWN UNKNOWN\n",
            "UNKNOWN UNKNOWN\n",
            "UNKNOWN UNKNOWN\n",
            "UNKNOWN UNKNOWN\n",
            "UNKNOWN UNKNOWN\n",
            "UNKNOWN UNKNOWN\n",
            "UNKNOWN UNKNOWN\n",
            "UNKNOWN UNKNOWN\n",
            "UNKNOWN UNKNOWN\n",
            "UNKNOWN UNKNOWN\n",
            "UNKNOWN UNKNOWN\n",
            "UNKNOWN UNKNOWN\n",
            "UNKNOWN UNKNOWN\n",
            "UNKNOWN UNKNOWN\n",
            "UNKNOWN UNKNOWN\n",
            "UNKNOWN UNKNOWN\n",
            "UNKNOWN UNKNOWN\n",
            "UNKNOWN UNKNOWN\n",
            "UNKNOWN UNKNOWN\n",
            "UNKNOWN UNKNOWN\n",
            "----------------------\n",
            "yield UNKNOWN\n",
            "yield yield\n",
            "output output\n",
            "execute execute\n",
            "intension intension\n",
            "confirmandreturnaction confirmandreturnaction\n",
            "eos eos\n",
            "UNKNOWN UNKNOWN\n",
            "UNKNOWN UNKNOWN\n",
            "UNKNOWN UNKNOWN\n",
            "UNKNOWN UNKNOWN\n",
            "UNKNOWN UNKNOWN\n",
            "UNKNOWN UNKNOWN\n",
            "UNKNOWN UNKNOWN\n",
            "UNKNOWN UNKNOWN\n",
            "UNKNOWN UNKNOWN\n",
            "UNKNOWN UNKNOWN\n",
            "UNKNOWN UNKNOWN\n",
            "UNKNOWN UNKNOWN\n",
            "UNKNOWN UNKNOWN\n",
            "UNKNOWN UNKNOWN\n",
            "UNKNOWN UNKNOWN\n",
            "UNKNOWN UNKNOWN\n",
            "UNKNOWN UNKNOWN\n",
            "UNKNOWN UNKNOWN\n",
            "UNKNOWN UNKNOWN\n",
            "UNKNOWN UNKNOWN\n",
            "UNKNOWN UNKNOWN\n",
            "UNKNOWN UNKNOWN\n",
            "UNKNOWN UNKNOWN\n",
            "UNKNOWN UNKNOWN\n",
            "UNKNOWN UNKNOWN\n",
            "UNKNOWN UNKNOWN\n",
            "UNKNOWN UNKNOWN\n",
            "UNKNOWN UNKNOWN\n",
            "UNKNOWN UNKNOWN\n",
            "UNKNOWN UNKNOWN\n",
            "UNKNOWN UNKNOWN\n",
            "UNKNOWN UNKNOWN\n",
            "UNKNOWN UNKNOWN\n",
            "UNKNOWN UNKNOWN\n",
            "UNKNOWN UNKNOWN\n",
            "UNKNOWN UNKNOWN\n",
            "UNKNOWN UNKNOWN\n",
            "UNKNOWN UNKNOWN\n",
            "UNKNOWN UNKNOWN\n",
            "UNKNOWN UNKNOWN\n",
            "UNKNOWN UNKNOWN\n",
            "UNKNOWN UNKNOWN\n",
            "UNKNOWN UNKNOWN\n",
            "----------------------\n",
            "pleasantryanythingelsecombined UNKNOWN\n",
            "pleasantryanythingelsecombined pleasantryanythingelsecombined\n",
            "eos eos\n",
            "UNKNOWN UNKNOWN\n",
            "UNKNOWN UNKNOWN\n",
            "UNKNOWN UNKNOWN\n",
            "UNKNOWN UNKNOWN\n",
            "UNKNOWN UNKNOWN\n",
            "UNKNOWN UNKNOWN\n",
            "UNKNOWN UNKNOWN\n",
            "UNKNOWN UNKNOWN\n",
            "UNKNOWN UNKNOWN\n",
            "UNKNOWN UNKNOWN\n",
            "UNKNOWN UNKNOWN\n",
            "UNKNOWN UNKNOWN\n",
            "UNKNOWN UNKNOWN\n",
            "UNKNOWN UNKNOWN\n",
            "UNKNOWN UNKNOWN\n",
            "UNKNOWN UNKNOWN\n",
            "UNKNOWN UNKNOWN\n",
            "UNKNOWN UNKNOWN\n",
            "UNKNOWN UNKNOWN\n",
            "UNKNOWN UNKNOWN\n",
            "UNKNOWN UNKNOWN\n",
            "UNKNOWN UNKNOWN\n",
            "UNKNOWN UNKNOWN\n",
            "UNKNOWN UNKNOWN\n",
            "UNKNOWN UNKNOWN\n",
            "UNKNOWN UNKNOWN\n",
            "UNKNOWN UNKNOWN\n",
            "UNKNOWN UNKNOWN\n",
            "UNKNOWN UNKNOWN\n",
            "UNKNOWN UNKNOWN\n",
            "UNKNOWN UNKNOWN\n",
            "UNKNOWN UNKNOWN\n",
            "UNKNOWN UNKNOWN\n",
            "UNKNOWN UNKNOWN\n",
            "UNKNOWN UNKNOWN\n",
            "UNKNOWN UNKNOWN\n",
            "UNKNOWN UNKNOWN\n",
            "UNKNOWN UNKNOWN\n",
            "UNKNOWN UNKNOWN\n",
            "UNKNOWN UNKNOWN\n",
            "UNKNOWN UNKNOWN\n",
            "UNKNOWN UNKNOWN\n",
            "UNKNOWN UNKNOWN\n",
            "UNKNOWN UNKNOWN\n",
            "UNKNOWN UNKNOWN\n",
            "UNKNOWN UNKNOWN\n",
            "UNKNOWN UNKNOWN\n",
            "----------------------\n",
            "pleasantryanythingelsecombined UNKNOWN\n",
            "pleasantryanythingelsecombined pleasantryanythingelsecombined\n",
            "eos eos\n",
            "UNKNOWN UNKNOWN\n",
            "UNKNOWN UNKNOWN\n",
            "UNKNOWN UNKNOWN\n",
            "UNKNOWN UNKNOWN\n",
            "UNKNOWN UNKNOWN\n",
            "UNKNOWN UNKNOWN\n",
            "UNKNOWN UNKNOWN\n",
            "UNKNOWN UNKNOWN\n",
            "UNKNOWN UNKNOWN\n",
            "UNKNOWN UNKNOWN\n",
            "UNKNOWN UNKNOWN\n",
            "UNKNOWN UNKNOWN\n",
            "UNKNOWN UNKNOWN\n",
            "UNKNOWN UNKNOWN\n",
            "UNKNOWN UNKNOWN\n",
            "UNKNOWN UNKNOWN\n",
            "UNKNOWN UNKNOWN\n",
            "UNKNOWN UNKNOWN\n",
            "UNKNOWN UNKNOWN\n",
            "UNKNOWN UNKNOWN\n",
            "UNKNOWN UNKNOWN\n",
            "UNKNOWN UNKNOWN\n",
            "UNKNOWN UNKNOWN\n",
            "UNKNOWN UNKNOWN\n",
            "UNKNOWN UNKNOWN\n",
            "UNKNOWN UNKNOWN\n",
            "UNKNOWN UNKNOWN\n",
            "UNKNOWN UNKNOWN\n",
            "UNKNOWN UNKNOWN\n",
            "UNKNOWN UNKNOWN\n",
            "UNKNOWN UNKNOWN\n",
            "UNKNOWN UNKNOWN\n",
            "UNKNOWN UNKNOWN\n",
            "UNKNOWN UNKNOWN\n",
            "UNKNOWN UNKNOWN\n",
            "UNKNOWN UNKNOWN\n",
            "UNKNOWN UNKNOWN\n",
            "UNKNOWN UNKNOWN\n",
            "UNKNOWN UNKNOWN\n",
            "UNKNOWN UNKNOWN\n",
            "UNKNOWN UNKNOWN\n",
            "UNKNOWN UNKNOWN\n",
            "UNKNOWN UNKNOWN\n",
            "UNKNOWN UNKNOWN\n",
            "UNKNOWN UNKNOWN\n",
            "UNKNOWN UNKNOWN\n",
            "UNKNOWN UNKNOWN\n",
            "----------------------\n",
            "yield UNKNOWN\n",
            "yield yield\n",
            "output output\n",
            "start start\n",
            "findlastevent findlastevent\n",
            "constraint constraint\n",
            "eventondate eventondate\n",
            "date date\n",
            "nextdow nextdow\n",
            "dow dow\n",
            "dayofweek dayofweek\n",
            "event sunday\n",
            "event event\n",
            "constraint constraint\n",
            "event event\n",
            "eos eos\n",
            "UNKNOWN UNKNOWN\n",
            "UNKNOWN UNKNOWN\n",
            "UNKNOWN UNKNOWN\n",
            "UNKNOWN UNKNOWN\n",
            "UNKNOWN UNKNOWN\n",
            "UNKNOWN UNKNOWN\n",
            "UNKNOWN UNKNOWN\n",
            "UNKNOWN UNKNOWN\n",
            "UNKNOWN UNKNOWN\n",
            "UNKNOWN UNKNOWN\n",
            "UNKNOWN UNKNOWN\n",
            "UNKNOWN UNKNOWN\n",
            "UNKNOWN UNKNOWN\n",
            "UNKNOWN UNKNOWN\n",
            "UNKNOWN UNKNOWN\n",
            "UNKNOWN UNKNOWN\n",
            "UNKNOWN UNKNOWN\n",
            "UNKNOWN UNKNOWN\n",
            "UNKNOWN UNKNOWN\n",
            "UNKNOWN UNKNOWN\n",
            "UNKNOWN UNKNOWN\n",
            "UNKNOWN UNKNOWN\n",
            "UNKNOWN UNKNOWN\n",
            "UNKNOWN UNKNOWN\n",
            "UNKNOWN UNKNOWN\n",
            "UNKNOWN UNKNOWN\n",
            "UNKNOWN UNKNOWN\n",
            "UNKNOWN UNKNOWN\n",
            "UNKNOWN UNKNOWN\n",
            "UNKNOWN UNKNOWN\n",
            "UNKNOWN UNKNOWN\n",
            "UNKNOWN UNKNOWN\n",
            "UNKNOWN UNKNOWN\n",
            "UNKNOWN UNKNOWN\n",
            "----------------------\n",
            "yield UNKNOWN\n",
            "yield yield\n",
            "output output\n",
            "createcommiteventwrapper createcommiteventwrapper\n",
            "event event\n",
            "createpreflighteventwrapper createpreflighteventwrapper\n",
            "constraint constraint\n",
            "constraint constraint\n",
            "event event\n",
            "start start\n",
            "adjustbyperiodduration adjustbyperiodduration\n",
            "end end\n",
            "execute execute\n",
            "intension intension\n",
            "refer refer\n",
            "extensionconstraint extensionconstraint\n",
            "constraint constraint\n",
            "event event\n",
            "periodduration periodduration\n",
            "periodduration duration\n",
            "number tominutes\n",
            "30 number\n",
            "subject 30\n",
            "string 0\n",
            "string subject\n",
            "string string\n",
            "string meditation\n",
            "UNKNOWN session\n",
            "UNKNOWN eos\n",
            "UNKNOWN UNKNOWN\n",
            "UNKNOWN UNKNOWN\n",
            "UNKNOWN UNKNOWN\n",
            "UNKNOWN UNKNOWN\n",
            "UNKNOWN UNKNOWN\n",
            "UNKNOWN UNKNOWN\n",
            "UNKNOWN UNKNOWN\n",
            "UNKNOWN UNKNOWN\n",
            "UNKNOWN UNKNOWN\n",
            "UNKNOWN UNKNOWN\n",
            "UNKNOWN UNKNOWN\n",
            "UNKNOWN UNKNOWN\n",
            "UNKNOWN UNKNOWN\n",
            "UNKNOWN UNKNOWN\n",
            "UNKNOWN UNKNOWN\n",
            "UNKNOWN UNKNOWN\n",
            "UNKNOWN UNKNOWN\n",
            "UNKNOWN UNKNOWN\n",
            "UNKNOWN UNKNOWN\n",
            "UNKNOWN UNKNOWN\n",
            "UNKNOWN UNKNOWN\n",
            "----------------------\n",
            "do UNKNOWN\n",
            "do do\n",
            "yield yield\n",
            "output output\n",
            "execute execute\n",
            "intension intension\n",
            "confirmandreturnaction confirmandreturnaction\n",
            "yield yield\n",
            "output output\n",
            "start findlastevent\n",
            "event constraint\n",
            "constraint eventondate\n",
            "event date\n",
            "constraint tomorrow\n",
            "event event\n",
            "UNKNOWN constraint\n",
            "UNKNOWN event\n",
            "UNKNOWN eos\n",
            "UNKNOWN UNKNOWN\n",
            "UNKNOWN UNKNOWN\n",
            "UNKNOWN UNKNOWN\n",
            "UNKNOWN UNKNOWN\n",
            "UNKNOWN UNKNOWN\n",
            "UNKNOWN UNKNOWN\n",
            "UNKNOWN UNKNOWN\n",
            "UNKNOWN UNKNOWN\n",
            "UNKNOWN UNKNOWN\n",
            "UNKNOWN UNKNOWN\n",
            "UNKNOWN UNKNOWN\n",
            "UNKNOWN UNKNOWN\n",
            "UNKNOWN UNKNOWN\n",
            "UNKNOWN UNKNOWN\n",
            "UNKNOWN UNKNOWN\n",
            "UNKNOWN UNKNOWN\n",
            "UNKNOWN UNKNOWN\n",
            "UNKNOWN UNKNOWN\n",
            "UNKNOWN UNKNOWN\n",
            "UNKNOWN UNKNOWN\n",
            "UNKNOWN UNKNOWN\n",
            "UNKNOWN UNKNOWN\n",
            "UNKNOWN UNKNOWN\n",
            "UNKNOWN UNKNOWN\n",
            "UNKNOWN UNKNOWN\n",
            "UNKNOWN UNKNOWN\n",
            "UNKNOWN UNKNOWN\n",
            "UNKNOWN UNKNOWN\n",
            "UNKNOWN UNKNOWN\n",
            "UNKNOWN UNKNOWN\n",
            "UNKNOWN UNKNOWN\n",
            "UNKNOWN UNKNOWN\n",
            "----------------------\n",
            "yield UNKNOWN\n",
            "yield yield\n",
            "output output\n",
            "deletecommiteventwrapper deletecommiteventwrapper\n",
            "event event\n",
            "deletepreflighteventwrapper deletepreflighteventwrapper\n",
            "id id\n",
            "id id\n",
            "findlastevent findlastevent\n",
            "constraint constraint\n",
            "eventondate eventondate\n",
            "date date\n",
            "tomorrow tomorrow\n",
            "event event\n",
            "eos constraint\n",
            "event event\n",
            "UNKNOWN eos\n",
            "UNKNOWN UNKNOWN\n",
            "UNKNOWN UNKNOWN\n",
            "UNKNOWN UNKNOWN\n",
            "UNKNOWN UNKNOWN\n",
            "UNKNOWN UNKNOWN\n",
            "UNKNOWN UNKNOWN\n",
            "UNKNOWN UNKNOWN\n",
            "UNKNOWN UNKNOWN\n",
            "UNKNOWN UNKNOWN\n",
            "UNKNOWN UNKNOWN\n",
            "UNKNOWN UNKNOWN\n",
            "UNKNOWN UNKNOWN\n",
            "UNKNOWN UNKNOWN\n",
            "UNKNOWN UNKNOWN\n",
            "UNKNOWN UNKNOWN\n",
            "UNKNOWN UNKNOWN\n",
            "UNKNOWN UNKNOWN\n",
            "UNKNOWN UNKNOWN\n",
            "UNKNOWN UNKNOWN\n",
            "UNKNOWN UNKNOWN\n",
            "UNKNOWN UNKNOWN\n",
            "UNKNOWN UNKNOWN\n",
            "UNKNOWN UNKNOWN\n",
            "UNKNOWN UNKNOWN\n",
            "UNKNOWN UNKNOWN\n",
            "UNKNOWN UNKNOWN\n",
            "UNKNOWN UNKNOWN\n",
            "UNKNOWN UNKNOWN\n",
            "UNKNOWN UNKNOWN\n",
            "UNKNOWN UNKNOWN\n",
            "UNKNOWN UNKNOWN\n",
            "UNKNOWN UNKNOWN\n",
            "UNKNOWN UNKNOWN\n",
            "----------------------\n",
            "yield UNKNOWN\n",
            "yield yield\n",
            "output output\n",
            "deletecommiteventwrapper execute\n",
            "intension intension\n",
            "confirmandreturnaction confirmandreturnaction\n",
            "eos eos\n",
            "UNKNOWN UNKNOWN\n",
            "UNKNOWN UNKNOWN\n",
            "UNKNOWN UNKNOWN\n",
            "UNKNOWN UNKNOWN\n",
            "UNKNOWN UNKNOWN\n",
            "UNKNOWN UNKNOWN\n",
            "UNKNOWN UNKNOWN\n",
            "UNKNOWN UNKNOWN\n",
            "UNKNOWN UNKNOWN\n",
            "UNKNOWN UNKNOWN\n",
            "UNKNOWN UNKNOWN\n",
            "UNKNOWN UNKNOWN\n",
            "UNKNOWN UNKNOWN\n",
            "UNKNOWN UNKNOWN\n",
            "UNKNOWN UNKNOWN\n",
            "UNKNOWN UNKNOWN\n",
            "UNKNOWN UNKNOWN\n",
            "UNKNOWN UNKNOWN\n",
            "UNKNOWN UNKNOWN\n",
            "UNKNOWN UNKNOWN\n",
            "UNKNOWN UNKNOWN\n",
            "UNKNOWN UNKNOWN\n",
            "UNKNOWN UNKNOWN\n",
            "UNKNOWN UNKNOWN\n",
            "UNKNOWN UNKNOWN\n",
            "UNKNOWN UNKNOWN\n",
            "UNKNOWN UNKNOWN\n",
            "UNKNOWN UNKNOWN\n",
            "UNKNOWN UNKNOWN\n",
            "UNKNOWN UNKNOWN\n",
            "UNKNOWN UNKNOWN\n",
            "UNKNOWN UNKNOWN\n",
            "UNKNOWN UNKNOWN\n",
            "UNKNOWN UNKNOWN\n",
            "UNKNOWN UNKNOWN\n",
            "UNKNOWN UNKNOWN\n",
            "UNKNOWN UNKNOWN\n",
            "UNKNOWN UNKNOWN\n",
            "UNKNOWN UNKNOWN\n",
            "UNKNOWN UNKNOWN\n",
            "UNKNOWN UNKNOWN\n",
            "UNKNOWN UNKNOWN\n",
            "UNKNOWN UNKNOWN\n",
            "----------------------\n"
          ],
          "name": "stdout"
        }
      ]
    },
    {
      "cell_type": "code",
      "metadata": {
        "id": "dhRJXIdmMckK"
      },
      "source": [
        "model.save(root_path+'model20201116_bothbilstm_2lstm_100_20.h5')"
      ],
      "execution_count": 80,
      "outputs": []
    },
    {
      "cell_type": "code",
      "metadata": {
        "id": "aieWOBNYnDwa",
        "colab": {
          "base_uri": "https://localhost:8080/",
          "height": 35
        },
        "outputId": "e9ec3272-a17e-48cf-f65e-67f86c7e2b9e"
      },
      "source": [
        "root_path"
      ],
      "execution_count": null,
      "outputs": [
        {
          "output_type": "execute_result",
          "data": {
            "application/vnd.google.colaboratory.intrinsic+json": {
              "type": "string"
            },
            "text/plain": [
              "''"
            ]
          },
          "metadata": {
            "tags": []
          },
          "execution_count": 85
        }
      ]
    }
  ]
}